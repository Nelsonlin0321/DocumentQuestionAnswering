{
 "cells": [
  {
   "cell_type": "markdown",
   "metadata": {
    "id": "MoZ-3s0mN4JG"
   },
   "source": [
    "# Fine Tune AlBERT For Question And Answering on SQUAD\n",
    "Author: Nelson LIN (nelsonlin0321@outlook.com)"
   ]
  },
  {
   "cell_type": "code",
   "execution_count": 1,
   "metadata": {
    "executionInfo": {
     "elapsed": 6418,
     "status": "ok",
     "timestamp": 1643771423679,
     "user": {
      "displayName": "Nelson L.",
      "photoUrl": "https://lh3.googleusercontent.com/a-/AOh14GipnVJXi8Vo7o6qBMpdgcfZB2j9TYnsly5vDf6nig=s64",
      "userId": "03694478629413699942"
     },
     "user_tz": -480
    },
    "id": "drMVKL8eN5oS"
   },
   "outputs": [],
   "source": [
    "# import libaries\n",
    "import torch\n",
    "from torch import cuda\n",
    "from torch.utils.data import Dataset,DataLoader"
   ]
  },
  {
   "cell_type": "code",
   "execution_count": 2,
   "metadata": {
    "executionInfo": {
     "elapsed": 954,
     "status": "ok",
     "timestamp": 1643771637869,
     "user": {
      "displayName": "Nelson L.",
      "photoUrl": "https://lh3.googleusercontent.com/a-/AOh14GipnVJXi8Vo7o6qBMpdgcfZB2j9TYnsly5vDf6nig=s64",
      "userId": "03694478629413699942"
     },
     "user_tz": -480
    },
    "id": "fTq-NCOvOFFD"
   },
   "outputs": [],
   "source": [
    "import os\n",
    "import json\n",
    "import random\n",
    "import pandas as pd\n",
    "from sklearn.utils import shuffle\n",
    "from collections import Counter"
   ]
  },
  {
   "cell_type": "code",
   "execution_count": 3,
   "metadata": {
    "colab": {
     "base_uri": "https://localhost:8080/"
    },
    "executionInfo": {
     "elapsed": 8713,
     "status": "ok",
     "timestamp": 1643771648120,
     "user": {
      "displayName": "Nelson L.",
      "photoUrl": "https://lh3.googleusercontent.com/a-/AOh14GipnVJXi8Vo7o6qBMpdgcfZB2j9TYnsly5vDf6nig=s64",
      "userId": "03694478629413699942"
     },
     "user_tz": -480
    },
    "id": "Eyjlx0JdOX2n",
    "outputId": "c2cba465-111d-4aa9-969c-d789db97b5f0"
   },
   "outputs": [],
   "source": [
    "# !pip install transformers"
   ]
  },
  {
   "cell_type": "code",
   "execution_count": 4,
   "metadata": {
    "executionInfo": {
     "elapsed": 2392,
     "status": "ok",
     "timestamp": 1643771655009,
     "user": {
      "displayName": "Nelson L.",
      "photoUrl": "https://lh3.googleusercontent.com/a-/AOh14GipnVJXi8Vo7o6qBMpdgcfZB2j9TYnsly5vDf6nig=s64",
      "userId": "03694478629413699942"
     },
     "user_tz": -480
    },
    "id": "qiBbyLVoON3Y"
   },
   "outputs": [],
   "source": [
    "from transformers import AutoTokenizer\n",
    "from transformers import default_data_collator"
   ]
  },
  {
   "cell_type": "code",
   "execution_count": 5,
   "metadata": {
    "executionInfo": {
     "elapsed": 9,
     "status": "ok",
     "timestamp": 1643771655010,
     "user": {
      "displayName": "Nelson L.",
      "photoUrl": "https://lh3.googleusercontent.com/a-/AOh14GipnVJXi8Vo7o6qBMpdgcfZB2j9TYnsly5vDf6nig=s64",
      "userId": "03694478629413699942"
     },
     "user_tz": -480
    },
    "id": "G4uhX374OVlZ"
   },
   "outputs": [],
   "source": [
    "device = \"cuda\" if cuda.is_available() else \"cpu\""
   ]
  },
  {
   "cell_type": "code",
   "execution_count": 6,
   "metadata": {
    "executionInfo": {
     "elapsed": 8,
     "status": "ok",
     "timestamp": 1643771655011,
     "user": {
      "displayName": "Nelson L.",
      "photoUrl": "https://lh3.googleusercontent.com/a-/AOh14GipnVJXi8Vo7o6qBMpdgcfZB2j9TYnsly5vDf6nig=s64",
      "userId": "03694478629413699942"
     },
     "user_tz": -480
    },
    "id": "6V0arb4xkvG-"
   },
   "outputs": [],
   "source": [
    "model_name =  \"albert-base-v2\""
   ]
  },
  {
   "cell_type": "markdown",
   "metadata": {
    "id": "wQyjnbikOrKD"
   },
   "source": [
    "## 1) Import Data\n",
    "\n"
   ]
  },
  {
   "cell_type": "code",
   "execution_count": 7,
   "metadata": {
    "executionInfo": {
     "elapsed": 8,
     "status": "ok",
     "timestamp": 1643771683599,
     "user": {
      "displayName": "Nelson L.",
      "photoUrl": "https://lh3.googleusercontent.com/a-/AOh14GipnVJXi8Vo7o6qBMpdgcfZB2j9TYnsly5vDf6nig=s64",
      "userId": "03694478629413699942"
     },
     "user_tz": -480
    },
    "id": "DFr9bUauQwhh"
   },
   "outputs": [],
   "source": [
    "def read_qnli_data(file_name, data_dir):\n",
    "    path = os.path.join(data_dir, file_name)\n",
    "    with open(path, encoding='utf-8-sig') as f:\n",
    "        text = f.readlines()\n",
    "\n",
    "    header = text[0].strip().split(\"\\t\")\n",
    "    lines = [line.strip().split(\"\\t\") for line in text[1:]]\n",
    "\n",
    "    df = pd.DataFrame(lines, columns=header)\n",
    "    return df\n",
    "\n",
    "\n",
    "def get_qnli_pandas_dataframe(data_dir):\n",
    "    qnli_train_df = read_qnli_data(\"train.tsv\",data_dir)\n",
    "    qnli_dev_df = read_qnli_data(\"dev.tsv\",data_dir)\n",
    "    qnli_train_df['label'] = np.where(\n",
    "        qnli_train_df['label'] == 'entailment', 1, 0)\n",
    "    qnli_dev_df['label'] = np.where(qnli_dev_df['label'] == 'entailment', 1, 0)\n",
    "\n",
    "    qnli_dev_df['question'] = qnli_dev_df['question'].apply(lambda x: x.strip())\n",
    "    qnli_dev_df['sentence'] = qnli_dev_df['sentence'].apply(lambda x: x.strip()) \n",
    "\n",
    "    qnli_train_df['question'] = qnli_train_df['question'].apply(lambda x: x.strip())\n",
    "    qnli_train_df['sentence'] = qnli_train_df['sentence'].apply(lambda x: x.strip()) \n",
    "\n",
    "    return qnli_dev_df, qnli_train_df\n",
    "\n",
    "\n",
    "def read_document_to_list(document_path):\n",
    "    with open(document_path, encoding='utf-8-sig') as f:\n",
    "        document = f.readlines()\n",
    "        sentence_list = [line.strip()\n",
    "                         for line in document if len(line.strip()) != 0]\n",
    "        return sentence_list\n",
    "\n",
    "\n",
    "def read_document_dict(document_dir):\n",
    "\n",
    "    document_dict = {}\n",
    "\n",
    "    for document_file_name in os.listdir(document_dir):\n",
    "        if document_file_name.endswith(\".txt\"):\n",
    "            document_name = document_file_name.replace(\n",
    "                \".txt\", \"\").replace(\"_\", \" \")\n",
    "            document_path = os.path.join(document_dir, document_file_name)\n",
    "            document_dict[document_name] = read_document_to_list(document_path)\n",
    "\n",
    "    return document_dict\n",
    "\n",
    "\n",
    "def read_json(file_path):\n",
    "    with open(file_path) as f:\n",
    "        json_f = json.load(f)\n",
    "    data = json_f['data']\n",
    "    return data\n",
    "\n",
    "\n",
    "def get_random_index(List):\n",
    "    return random.sample(range(len(List)), 1)[0]\n",
    "\n",
    "\n",
    "def load_data(data_path, load_impossible_answer=False):\n",
    "\n",
    "    data = read_json(data_path)\n",
    "\n",
    "    data_dict = {}\n",
    "    title_list = []\n",
    "    context_list = []\n",
    "    question_list = []\n",
    "    id_list = []\n",
    "    answer_text_list = []\n",
    "    answer_start_list = []\n",
    "    is_impossible_list = []\n",
    "\n",
    "    for paragraphs in data:\n",
    "        title = paragraphs['title']\n",
    "        context_qas_list = paragraphs['paragraphs']\n",
    "\n",
    "        for context_qas in context_qas_list:\n",
    "            context = context_qas['context']\n",
    "            qas_list = context_qas['qas']\n",
    "\n",
    "            for qas in qas_list:\n",
    "                title_list.append(title)\n",
    "                context_list.append(context)\n",
    "\n",
    "                is_impossible = qas['is_impossible']\n",
    "                is_impossible_list.append(is_impossible)\n",
    "\n",
    "                id_ = qas['id']\n",
    "                id_list.append(id_)\n",
    "                question = qas['question']\n",
    "                question_list.append(question)\n",
    "\n",
    "                if not is_impossible:\n",
    "                    answer_list = qas['answers']\n",
    "                    idx = get_random_index(answer_list)\n",
    "                    answer_text = answer_list[idx]['text']\n",
    "                    answer_start = answer_list[idx]['answer_start']\n",
    "\n",
    "                    answer_text_list.append(answer_text)\n",
    "                    answer_start_list.append(answer_start)\n",
    "                else:\n",
    "                    if load_impossible_answer:\n",
    "                        answer_list = qas['plausible_answers']\n",
    "                        idx = get_random_index(answer_list)\n",
    "                        answer_text = answer_list[idx]['text']\n",
    "                        answer_start = answer_list[idx]['answer_start']\n",
    "                        answer_text_list.append(answer_text)\n",
    "                        answer_start_list.append(answer_start)\n",
    "                    else:\n",
    "                        answer_text_list.append(\"\")\n",
    "                        answer_start_list.append(-1)\n",
    "\n",
    "    data_dict['id'] = id_list\n",
    "    data_dict['title'] = title_list\n",
    "    data_dict['context'] = context_list\n",
    "    data_dict['question'] = question_list\n",
    "    data_dict['answer_text'] = answer_text_list\n",
    "    data_dict['answer_start'] = answer_start_list\n",
    "    data_dict['is_impossible'] = is_impossible_list\n",
    "\n",
    "    return data_dict\n",
    "\n",
    "\n",
    "def get_squad_v2_pandas_dataframe(squad_v2_dir,include_impossible=False, load_impossible_answer=False):\n",
    "    # download from https://rajpurkar.github.io/SQuAD-explorer/\n",
    "    train_data_path = os.path.join(squad_v2_dir, \"train-v2.0.json\")\n",
    "    dev_data_path = os.path.join(squad_v2_dir, 'dev-v2.0.json')\n",
    "\n",
    "    train_data_dict = load_data(train_data_path, load_impossible_answer)\n",
    "    dev_data_dict = load_data(dev_data_path, load_impossible_answer)\n",
    "\n",
    "    train_data_df = pd.DataFrame(train_data_dict)\n",
    "    dev_data_df = pd.DataFrame(dev_data_dict)\n",
    "\n",
    "    if not include_impossible:\n",
    "        train_data_df = train_data_df[train_data_df['is_impossible'] == False]\n",
    "        dev_data_df = dev_data_df[dev_data_df['is_impossible'] == False]\n",
    "\n",
    "    train_data_df['question'] = train_data_df['question'].apply(lambda x: x.strip())\n",
    "    train_data_df['context'] = train_data_df['context'].apply(lambda x: x.strip()) \n",
    "\n",
    "    dev_data_df['question'] = dev_data_df['question'].apply(lambda x: x.strip())\n",
    "    dev_data_df['context'] = dev_data_df['context'].apply(lambda x: x.strip()) \n",
    "\n",
    "    return train_data_df, dev_data_df\n"
   ]
  },
  {
   "cell_type": "code",
   "execution_count": 10,
   "metadata": {},
   "outputs": [
    {
     "name": "stdout",
     "output_type": "stream",
     "text": [
      "dev-v2.0.json  evaluate.py  __pycache__  train-v2.0.json\n"
     ]
    }
   ],
   "source": [
    "!ls /data/SQUAD2"
   ]
  },
  {
   "cell_type": "code",
   "execution_count": 11,
   "metadata": {},
   "outputs": [],
   "source": [
    "squad_v2_dir = \"/data/SQUAD2\""
   ]
  },
  {
   "cell_type": "code",
   "execution_count": 12,
   "metadata": {},
   "outputs": [],
   "source": [
    "train_data_df, dev_data_df = get_squad_v2_pandas_dataframe(squad_v2_dir,include_impossible=True, load_impossible_answer=False)"
   ]
  },
  {
   "cell_type": "code",
   "execution_count": 13,
   "metadata": {
    "colab": {
     "base_uri": "https://localhost:8080/",
     "height": 319
    },
    "executionInfo": {
     "elapsed": 46,
     "status": "ok",
     "timestamp": 1643771689768,
     "user": {
      "displayName": "Nelson L.",
      "photoUrl": "https://lh3.googleusercontent.com/a-/AOh14GipnVJXi8Vo7o6qBMpdgcfZB2j9TYnsly5vDf6nig=s64",
      "userId": "03694478629413699942"
     },
     "user_tz": -480
    },
    "id": "trc2dP2oW0xX",
    "outputId": "39282602-8961-4ba2-9432-4633193a13f6"
   },
   "outputs": [
    {
     "data": {
      "text/html": [
       "<div>\n",
       "<style scoped>\n",
       "    .dataframe tbody tr th:only-of-type {\n",
       "        vertical-align: middle;\n",
       "    }\n",
       "\n",
       "    .dataframe tbody tr th {\n",
       "        vertical-align: top;\n",
       "    }\n",
       "\n",
       "    .dataframe thead th {\n",
       "        text-align: right;\n",
       "    }\n",
       "</style>\n",
       "<table border=\"1\" class=\"dataframe\">\n",
       "  <thead>\n",
       "    <tr style=\"text-align: right;\">\n",
       "      <th></th>\n",
       "      <th>id</th>\n",
       "      <th>title</th>\n",
       "      <th>context</th>\n",
       "      <th>question</th>\n",
       "      <th>answer_text</th>\n",
       "      <th>answer_start</th>\n",
       "      <th>is_impossible</th>\n",
       "    </tr>\n",
       "  </thead>\n",
       "  <tbody>\n",
       "    <tr>\n",
       "      <th>0</th>\n",
       "      <td>56be85543aeaaa14008c9063</td>\n",
       "      <td>Beyoncé</td>\n",
       "      <td>Beyoncé Giselle Knowles-Carter (/biːˈjɒnseɪ/ b...</td>\n",
       "      <td>When did Beyonce start becoming popular?</td>\n",
       "      <td>in the late 1990s</td>\n",
       "      <td>269</td>\n",
       "      <td>False</td>\n",
       "    </tr>\n",
       "    <tr>\n",
       "      <th>1</th>\n",
       "      <td>56be85543aeaaa14008c9065</td>\n",
       "      <td>Beyoncé</td>\n",
       "      <td>Beyoncé Giselle Knowles-Carter (/biːˈjɒnseɪ/ b...</td>\n",
       "      <td>What areas did Beyonce compete in when she was...</td>\n",
       "      <td>singing and dancing</td>\n",
       "      <td>207</td>\n",
       "      <td>False</td>\n",
       "    </tr>\n",
       "    <tr>\n",
       "      <th>2</th>\n",
       "      <td>56be85543aeaaa14008c9066</td>\n",
       "      <td>Beyoncé</td>\n",
       "      <td>Beyoncé Giselle Knowles-Carter (/biːˈjɒnseɪ/ b...</td>\n",
       "      <td>When did Beyonce leave Destiny's Child and bec...</td>\n",
       "      <td>2003</td>\n",
       "      <td>526</td>\n",
       "      <td>False</td>\n",
       "    </tr>\n",
       "    <tr>\n",
       "      <th>3</th>\n",
       "      <td>56bf6b0f3aeaaa14008c9601</td>\n",
       "      <td>Beyoncé</td>\n",
       "      <td>Beyoncé Giselle Knowles-Carter (/biːˈjɒnseɪ/ b...</td>\n",
       "      <td>In what city and state did Beyonce  grow up?</td>\n",
       "      <td>Houston, Texas</td>\n",
       "      <td>166</td>\n",
       "      <td>False</td>\n",
       "    </tr>\n",
       "    <tr>\n",
       "      <th>4</th>\n",
       "      <td>56bf6b0f3aeaaa14008c9602</td>\n",
       "      <td>Beyoncé</td>\n",
       "      <td>Beyoncé Giselle Knowles-Carter (/biːˈjɒnseɪ/ b...</td>\n",
       "      <td>In which decade did Beyonce become famous?</td>\n",
       "      <td>late 1990s</td>\n",
       "      <td>276</td>\n",
       "      <td>False</td>\n",
       "    </tr>\n",
       "  </tbody>\n",
       "</table>\n",
       "</div>"
      ],
      "text/plain": [
       "                         id    title  \\\n",
       "0  56be85543aeaaa14008c9063  Beyoncé   \n",
       "1  56be85543aeaaa14008c9065  Beyoncé   \n",
       "2  56be85543aeaaa14008c9066  Beyoncé   \n",
       "3  56bf6b0f3aeaaa14008c9601  Beyoncé   \n",
       "4  56bf6b0f3aeaaa14008c9602  Beyoncé   \n",
       "\n",
       "                                             context  \\\n",
       "0  Beyoncé Giselle Knowles-Carter (/biːˈjɒnseɪ/ b...   \n",
       "1  Beyoncé Giselle Knowles-Carter (/biːˈjɒnseɪ/ b...   \n",
       "2  Beyoncé Giselle Knowles-Carter (/biːˈjɒnseɪ/ b...   \n",
       "3  Beyoncé Giselle Knowles-Carter (/biːˈjɒnseɪ/ b...   \n",
       "4  Beyoncé Giselle Knowles-Carter (/biːˈjɒnseɪ/ b...   \n",
       "\n",
       "                                            question          answer_text  \\\n",
       "0           When did Beyonce start becoming popular?    in the late 1990s   \n",
       "1  What areas did Beyonce compete in when she was...  singing and dancing   \n",
       "2  When did Beyonce leave Destiny's Child and bec...                 2003   \n",
       "3       In what city and state did Beyonce  grow up?       Houston, Texas   \n",
       "4         In which decade did Beyonce become famous?           late 1990s   \n",
       "\n",
       "   answer_start  is_impossible  \n",
       "0           269          False  \n",
       "1           207          False  \n",
       "2           526          False  \n",
       "3           166          False  \n",
       "4           276          False  "
      ]
     },
     "execution_count": 13,
     "metadata": {},
     "output_type": "execute_result"
    }
   ],
   "source": [
    "train_data_df.head()"
   ]
  },
  {
   "cell_type": "code",
   "execution_count": 14,
   "metadata": {
    "colab": {
     "base_uri": "https://localhost:8080/"
    },
    "executionInfo": {
     "elapsed": 44,
     "status": "ok",
     "timestamp": 1643771689770,
     "user": {
      "displayName": "Nelson L.",
      "photoUrl": "https://lh3.googleusercontent.com/a-/AOh14GipnVJXi8Vo7o6qBMpdgcfZB2j9TYnsly5vDf6nig=s64",
      "userId": "03694478629413699942"
     },
     "user_tz": -480
    },
    "id": "tF8zakotCpPF",
    "outputId": "65b3ba17-d4fe-490a-e040-fe3adb1fffb4"
   },
   "outputs": [
    {
     "data": {
      "text/plain": [
       "130319"
      ]
     },
     "execution_count": 14,
     "metadata": {},
     "output_type": "execute_result"
    }
   ],
   "source": [
    "len(train_data_df)"
   ]
  },
  {
   "cell_type": "markdown",
   "metadata": {
    "id": "xazR7eZpXcZs"
   },
   "source": [
    "## 2) Label Preparation / Feature Engineering"
   ]
  },
  {
   "cell_type": "code",
   "execution_count": 15,
   "metadata": {
    "executionInfo": {
     "elapsed": 35,
     "status": "ok",
     "timestamp": 1643771689771,
     "user": {
      "displayName": "Nelson L.",
      "photoUrl": "https://lh3.googleusercontent.com/a-/AOh14GipnVJXi8Vo7o6qBMpdgcfZB2j9TYnsly5vDf6nig=s64",
      "userId": "03694478629413699942"
     },
     "user_tz": -480
    },
    "id": "N61l98MhbURZ"
   },
   "outputs": [],
   "source": [
    "max_length = 512"
   ]
  },
  {
   "cell_type": "code",
   "execution_count": 16,
   "metadata": {
    "colab": {
     "base_uri": "https://localhost:8080/",
     "height": 113,
     "referenced_widgets": [
      "89494b73f38d4fb7a18422a09d527acb",
      "aebfe33e55014e29b74c0c6094afc744",
      "ff84a363af124346ab5b122307e2f81e",
      "364b6b27a35a46029bc86a30241761cb",
      "f76404686ced4b798a8c12c878f81a86",
      "2db95a5cf5bc4d92a93d4ad75be0e33d",
      "a721e29abf6d40b6ab2d706b5284c0bd",
      "40069b641be54058bcb75985f8419dd9",
      "1d6698d4ab1c44388d544ae051dbc71e",
      "feecab6385ae4ef1ae029fdc6eac588e",
      "0800fa4435cc4c17906dc6ec43a98b46",
      "e327fcba9a49488d9bd22245a4af76f8",
      "899d17e38848474bb6946b98716549b5",
      "7861a34adaac44ff9ca47af111fd9737",
      "4429e76886d7454ea671b52b3c74c956",
      "997d62d9f55f485a99c449064e02c0e9",
      "08e57e69affe4576a34c029838c168ba",
      "778facb3d7424c0da904c05b5c50b394",
      "a22b07f634c644aeb62dbd0844363b9d",
      "d02aecb149014aadb2968baa56518dfc",
      "6c64dcbef6ca455a9c2021107bb4cbdf",
      "7b105cc320ee442e804a09fae4530872",
      "cd41a0c99a384b34bfa193baf5989e37",
      "09b197fee6094235996f917f046a3b2f",
      "520e810a881b4be9a77f1d8c11eee43b",
      "53ac8e96c57d4e788040f4a96778f6f8",
      "6525adc76d0b460e94b7d93f30e6c39f",
      "80a8b6b5c9d54627807398769af41086",
      "99d94f9f1073416db60afbd4de86f907",
      "6c5819ac670744e8875b66a9c9c987fb",
      "936feb82b08f4bd495105f87c26b1259",
      "37cda379e2e045698cd7a7785d6a6d36",
      "aecf98c0678b4e7fb76caf4b69d2f504"
     ]
    },
    "executionInfo": {
     "elapsed": 5201,
     "status": "ok",
     "timestamp": 1643771695967,
     "user": {
      "displayName": "Nelson L.",
      "photoUrl": "https://lh3.googleusercontent.com/a-/AOh14GipnVJXi8Vo7o6qBMpdgcfZB2j9TYnsly5vDf6nig=s64",
      "userId": "03694478629413699942"
     },
     "user_tz": -480
    },
    "id": "e5DLd3b3aqde",
    "outputId": "b9c5bf81-3276-4ee7-917a-ae0675534ee8"
   },
   "outputs": [],
   "source": [
    "tokenizer = AutoTokenizer.from_pretrained(model_name)"
   ]
  },
  {
   "cell_type": "code",
   "execution_count": 17,
   "metadata": {
    "executionInfo": {
     "elapsed": 356,
     "status": "ok",
     "timestamp": 1643772945051,
     "user": {
      "displayName": "Nelson L.",
      "photoUrl": "https://lh3.googleusercontent.com/a-/AOh14GipnVJXi8Vo7o6qBMpdgcfZB2j9TYnsly5vDf6nig=s64",
      "userId": "03694478629413699942"
     },
     "user_tz": -480
    },
    "id": "UQ3INq7LXkgN"
   },
   "outputs": [],
   "source": [
    "# function to search the start and end position for labeling\n",
    "\n",
    "def search_start_end_position(tokenized_inputs,start_char,answer_text):\n",
    "\n",
    "    end_char = start_char + len(answer_text)\n",
    "\n",
    "    offsets = tokenized_inputs.pop(\"offset_mapping\")\n",
    "    token_type_ids = tokenized_inputs['token_type_ids']\n",
    "    \n",
    "    content_token_start_index = token_type_ids.index(1)\n",
    "    # print(content_token_start_index)\n",
    "    content_token_end_index  = len(token_type_ids) - 1 - token_type_ids[::-1].index(1)\n",
    "    content_token_end_index -=1\n",
    "\n",
    "\n",
    "    answer_token_start_index = content_token_start_index\n",
    "    answer_token_end_index = content_token_end_index\n",
    "\n",
    "    \n",
    "    if (offsets[content_token_start_index][0]) <= start_char and (offsets[content_token_end_index][1] >= end_char):\n",
    "        while answer_token_start_index<len(offsets) and offsets[answer_token_start_index][0] <= start_char:\n",
    "            answer_token_start_index += 1\n",
    "        \n",
    "        answer_token_start_index-=1\n",
    "\n",
    "        while offsets[answer_token_end_index][1] >= end_char:\n",
    "            answer_token_end_index -= 1\n",
    "        \n",
    "        answer_token_end_index +=1\n",
    "\n",
    "        return answer_token_start_index,answer_token_end_index\n",
    "\n",
    "    return -1,-1\n",
    "\n"
   ]
  },
  {
   "cell_type": "code",
   "execution_count": 18,
   "metadata": {
    "executionInfo": {
     "elapsed": 6,
     "status": "ok",
     "timestamp": 1643772947791,
     "user": {
      "displayName": "Nelson L.",
      "photoUrl": "https://lh3.googleusercontent.com/a-/AOh14GipnVJXi8Vo7o6qBMpdgcfZB2j9TYnsly5vDf6nig=s64",
      "userId": "03694478629413699942"
     },
     "user_tz": -480
    },
    "id": "ITS3R3yWZjO7"
   },
   "outputs": [],
   "source": [
    "\"\"\"test\"\"\"\n",
    "example_id = 0\n",
    "example = train_data_df.iloc[example_id]\n",
    "\n",
    "context = example['context']\n",
    "question = example['question']\n",
    "answer_text = example['answer_text']\n",
    "start_char = example['answer_start']"
   ]
  },
  {
   "cell_type": "code",
   "execution_count": 19,
   "metadata": {
    "executionInfo": {
     "elapsed": 7,
     "status": "ok",
     "timestamp": 1643772947793,
     "user": {
      "displayName": "Nelson L.",
      "photoUrl": "https://lh3.googleusercontent.com/a-/AOh14GipnVJXi8Vo7o6qBMpdgcfZB2j9TYnsly5vDf6nig=s64",
      "userId": "03694478629413699942"
     },
     "user_tz": -480
    },
    "id": "vrYFR1sKdlbg"
   },
   "outputs": [],
   "source": [
    "cls_token_id = tokenizer.cls_token_id\n",
    "\n",
    "sep_token_id = tokenizer.sep_token_id"
   ]
  },
  {
   "cell_type": "code",
   "execution_count": 20,
   "metadata": {
    "executionInfo": {
     "elapsed": 7,
     "status": "ok",
     "timestamp": 1643772947794,
     "user": {
      "displayName": "Nelson L.",
      "photoUrl": "https://lh3.googleusercontent.com/a-/AOh14GipnVJXi8Vo7o6qBMpdgcfZB2j9TYnsly5vDf6nig=s64",
      "userId": "03694478629413699942"
     },
     "user_tz": -480
    },
    "id": "wDPnc4gcakSo"
   },
   "outputs": [],
   "source": [
    "tokenized_inputs = tokenizer(\n",
    "    text = question,\n",
    "    text_pair = context,\n",
    "    truncation = \"only_second\",\n",
    "    add_special_tokens = True,\n",
    "    max_length = max_length,\n",
    "    padding = \"max_length\",\n",
    "    return_offsets_mapping = True,\n",
    ")"
   ]
  },
  {
   "cell_type": "code",
   "execution_count": 21,
   "metadata": {
    "executionInfo": {
     "elapsed": 11,
     "status": "ok",
     "timestamp": 1643772947798,
     "user": {
      "displayName": "Nelson L.",
      "photoUrl": "https://lh3.googleusercontent.com/a-/AOh14GipnVJXi8Vo7o6qBMpdgcfZB2j9TYnsly5vDf6nig=s64",
      "userId": "03694478629413699942"
     },
     "user_tz": -480
    },
    "id": "MEzPB3fodwBh"
   },
   "outputs": [],
   "source": [
    "# tokenized_inputs['attention_mask']\n"
   ]
  },
  {
   "cell_type": "code",
   "execution_count": 22,
   "metadata": {
    "executionInfo": {
     "elapsed": 3,
     "status": "ok",
     "timestamp": 1643772948373,
     "user": {
      "displayName": "Nelson L.",
      "photoUrl": "https://lh3.googleusercontent.com/a-/AOh14GipnVJXi8Vo7o6qBMpdgcfZB2j9TYnsly5vDf6nig=s64",
      "userId": "03694478629413699942"
     },
     "user_tz": -480
    },
    "id": "jOZwaUSnbZFw"
   },
   "outputs": [],
   "source": [
    "start_pos,end_pos = search_start_end_position(tokenized_inputs,start_char,answer_text)"
   ]
  },
  {
   "cell_type": "code",
   "execution_count": 23,
   "metadata": {
    "colab": {
     "base_uri": "https://localhost:8080/"
    },
    "executionInfo": {
     "elapsed": 12,
     "status": "ok",
     "timestamp": 1643772949333,
     "user": {
      "displayName": "Nelson L.",
      "photoUrl": "https://lh3.googleusercontent.com/a-/AOh14GipnVJXi8Vo7o6qBMpdgcfZB2j9TYnsly5vDf6nig=s64",
      "userId": "03694478629413699942"
     },
     "user_tz": -480
    },
    "id": "R7InfXcvdvAt",
    "outputId": "a44b59ae-b007-422e-f495-b7d55bf5c7b5"
   },
   "outputs": [
    {
     "data": {
      "text/plain": [
       "(77, 81)"
      ]
     },
     "execution_count": 23,
     "metadata": {},
     "output_type": "execute_result"
    }
   ],
   "source": [
    "start_pos,end_pos"
   ]
  },
  {
   "cell_type": "code",
   "execution_count": 24,
   "metadata": {
    "colab": {
     "base_uri": "https://localhost:8080/",
     "height": 35
    },
    "executionInfo": {
     "elapsed": 9,
     "status": "ok",
     "timestamp": 1643772949334,
     "user": {
      "displayName": "Nelson L.",
      "photoUrl": "https://lh3.googleusercontent.com/a-/AOh14GipnVJXi8Vo7o6qBMpdgcfZB2j9TYnsly5vDf6nig=s64",
      "userId": "03694478629413699942"
     },
     "user_tz": -480
    },
    "id": "JBQAWs_qc-1g",
    "outputId": "e981244d-0617-406a-e60e-9cd6c2724f55"
   },
   "outputs": [
    {
     "data": {
      "text/plain": [
       "'in the late 1990s'"
      ]
     },
     "execution_count": 24,
     "metadata": {},
     "output_type": "execute_result"
    }
   ],
   "source": [
    "answer_text"
   ]
  },
  {
   "cell_type": "code",
   "execution_count": 25,
   "metadata": {
    "colab": {
     "base_uri": "https://localhost:8080/"
    },
    "executionInfo": {
     "elapsed": 7,
     "status": "ok",
     "timestamp": 1643772949748,
     "user": {
      "displayName": "Nelson L.",
      "photoUrl": "https://lh3.googleusercontent.com/a-/AOh14GipnVJXi8Vo7o6qBMpdgcfZB2j9TYnsly5vDf6nig=s64",
      "userId": "03694478629413699942"
     },
     "user_tz": -480
    },
    "id": "h_Hb8XT2c8Ly",
    "outputId": "28e6d780-e874-4171-9932-7c3a4607ad78"
   },
   "outputs": [
    {
     "name": "stdout",
     "output_type": "stream",
     "text": [
      "in the late 1990s\n"
     ]
    }
   ],
   "source": [
    "print(tokenizer.decode(tokenized_inputs['input_ids'][start_pos:end_pos+1]))"
   ]
  },
  {
   "cell_type": "code",
   "execution_count": 26,
   "metadata": {
    "executionInfo": {
     "elapsed": 4,
     "status": "ok",
     "timestamp": 1643772949748,
     "user": {
      "displayName": "Nelson L.",
      "photoUrl": "https://lh3.googleusercontent.com/a-/AOh14GipnVJXi8Vo7o6qBMpdgcfZB2j9TYnsly5vDf6nig=s64",
      "userId": "03694478629413699942"
     },
     "user_tz": -480
    },
    "id": "_mU8Jpb9dH1S"
   },
   "outputs": [],
   "source": [
    "# prepare feature for model feeding\n",
    "\n",
    "def prepare_feature(example):\n",
    "    context = example['context']\n",
    "    question = example['question']\n",
    "    answer_text = example['answer_text']\n",
    "    start_char = example['answer_start']\n",
    "\n",
    "    tokenized_inputs = tokenizer(\n",
    "        text = question,\n",
    "        text_pair = context,\n",
    "        truncation = \"only_second\",\n",
    "        add_special_tokens = True,\n",
    "        max_length = max_length,\n",
    "        padding = \"max_length\",\n",
    "        return_offsets_mapping = True,\n",
    "    )\n",
    "\n",
    "    cls_index = tokenized_inputs['input_ids'].index(tokenizer.cls_token_id)\n",
    "\n",
    "    if start_char ==-1:\n",
    "        tokenized_inputs['start_positions'] = cls_index\n",
    "        tokenized_inputs['end_positions'] = cls_index\n",
    "        _ = tokenized_inputs.pop(\"offset_mapping\")\n",
    "    else:\n",
    "        start_pos,end_pos = search_start_end_position(tokenized_inputs,start_char,answer_text)\n",
    "        if start_pos!=-1 and end_pos!=-1:\n",
    "            tokenized_inputs['start_positions'] = start_pos\n",
    "            tokenized_inputs['end_positions'] = end_pos\n",
    "        else:\n",
    "            tokenized_inputs['start_positions'] = cls_index\n",
    "            tokenized_inputs['end_positions'] = cls_index\n",
    "\n",
    "    return tokenized_inputs\n",
    "\n",
    "\n"
   ]
  },
  {
   "cell_type": "code",
   "execution_count": 27,
   "metadata": {
    "colab": {
     "base_uri": "https://localhost:8080/"
    },
    "executionInfo": {
     "elapsed": 13,
     "status": "ok",
     "timestamp": 1643772951003,
     "user": {
      "displayName": "Nelson L.",
      "photoUrl": "https://lh3.googleusercontent.com/a-/AOh14GipnVJXi8Vo7o6qBMpdgcfZB2j9TYnsly5vDf6nig=s64",
      "userId": "03694478629413699942"
     },
     "user_tz": -480
    },
    "id": "EKsvzQ1Pey0x",
    "outputId": "6a5f1e2b-abf3-4a0f-e65b-02816a55ae8d"
   },
   "outputs": [
    {
     "data": {
      "text/plain": [
       "{'input_ids': [2, 76, 144, 24809, 799, 1535, 844, 60, 3, 24809, 16004, 3745, 143, 1355, 8, 1367, 815, 13, 5, 118, 2161, 1, 728, 1, 23157, 1, 118, 12092, 8, 7370, 8, 6366, 6, 13, 5, 381, 299, 268, 15, 2229, 6, 25, 40, 189, 1377, 15, 7815, 15, 571, 1421, 17, 2182, 9, 386, 17, 1127, 19, 4187, 15, 1338, 15, 39, 986, 19, 617, 3385, 17, 4626, 5868, 28, 21, 850, 15, 17, 1092, 20, 2720, 19, 14, 456, 961, 18, 28, 672, 1377, 16, 761, 1569, 220, 695, 8, 8024, 11271, 22, 18, 850, 9, 1471, 34, 36, 321, 15, 17677, 143, 1355, 15, 14, 214, 178, 53, 16, 14, 126, 22, 18, 246, 8, 10033, 695, 1170, 16, 65, 85, 9, 66, 16436, 441, 14, 830, 16, 24809, 22, 18, 893, 244, 15, 23853, 19, 339, 13, 5, 3325, 6, 15, 56, 613, 36, 28, 21, 2046, 1169, 3497, 15, 1931, 355, 8877, 1160, 17, 1070, 14, 3304, 1047, 808, 234, 8, 849, 2391, 13, 7, 23282, 19, 339, 7, 17, 13, 7, 12152, 883, 7, 9, 3, 0, 0, 0, 0, 0, 0, 0, 0, 0, 0, 0, 0, 0, 0, 0, 0, 0, 0, 0, 0, 0, 0, 0, 0, 0, 0, 0, 0, 0, 0, 0, 0, 0, 0, 0, 0, 0, 0, 0, 0, 0, 0, 0, 0, 0, 0, 0, 0, 0, 0, 0, 0, 0, 0, 0, 0, 0, 0, 0, 0, 0, 0, 0, 0, 0, 0, 0, 0, 0, 0, 0, 0, 0, 0, 0, 0, 0, 0, 0, 0, 0, 0, 0, 0, 0, 0, 0, 0, 0, 0, 0, 0, 0, 0, 0, 0, 0, 0, 0, 0, 0, 0, 0, 0, 0, 0, 0, 0, 0, 0, 0, 0, 0, 0, 0, 0, 0, 0, 0, 0, 0, 0, 0, 0, 0, 0, 0, 0, 0, 0, 0, 0, 0, 0, 0, 0, 0, 0, 0, 0, 0, 0, 0, 0, 0, 0, 0, 0, 0, 0, 0, 0, 0, 0, 0, 0, 0, 0, 0, 0, 0, 0, 0, 0, 0, 0, 0, 0, 0, 0, 0, 0, 0, 0, 0, 0, 0, 0, 0, 0, 0, 0, 0, 0, 0, 0, 0, 0, 0, 0, 0, 0, 0, 0, 0, 0, 0, 0, 0, 0, 0, 0, 0, 0, 0, 0, 0, 0, 0, 0, 0, 0, 0, 0, 0, 0, 0, 0, 0, 0, 0, 0, 0, 0, 0, 0, 0, 0, 0, 0, 0, 0, 0, 0, 0, 0, 0, 0, 0, 0, 0, 0, 0, 0, 0, 0, 0, 0, 0, 0, 0, 0, 0, 0, 0, 0, 0, 0, 0, 0, 0, 0, 0, 0, 0, 0, 0, 0, 0, 0, 0, 0, 0, 0, 0, 0, 0, 0, 0, 0, 0, 0, 0, 0, 0, 0, 0, 0, 0, 0, 0, 0, 0, 0, 0, 0, 0, 0, 0, 0, 0, 0, 0, 0, 0, 0, 0, 0, 0, 0, 0, 0, 0, 0, 0, 0, 0, 0, 0, 0, 0, 0, 0, 0, 0, 0, 0, 0, 0, 0, 0], 'token_type_ids': [0, 0, 0, 0, 0, 0, 0, 0, 0, 1, 1, 1, 1, 1, 1, 1, 1, 1, 1, 1, 1, 1, 1, 1, 1, 1, 1, 1, 1, 1, 1, 1, 1, 1, 1, 1, 1, 1, 1, 1, 1, 1, 1, 1, 1, 1, 1, 1, 1, 1, 1, 1, 1, 1, 1, 1, 1, 1, 1, 1, 1, 1, 1, 1, 1, 1, 1, 1, 1, 1, 1, 1, 1, 1, 1, 1, 1, 1, 1, 1, 1, 1, 1, 1, 1, 1, 1, 1, 1, 1, 1, 1, 1, 1, 1, 1, 1, 1, 1, 1, 1, 1, 1, 1, 1, 1, 1, 1, 1, 1, 1, 1, 1, 1, 1, 1, 1, 1, 1, 1, 1, 1, 1, 1, 1, 1, 1, 1, 1, 1, 1, 1, 1, 1, 1, 1, 1, 1, 1, 1, 1, 1, 1, 1, 1, 1, 1, 1, 1, 1, 1, 1, 1, 1, 1, 1, 1, 1, 1, 1, 1, 1, 1, 1, 1, 1, 1, 1, 1, 1, 1, 1, 1, 1, 1, 1, 1, 1, 1, 1, 1, 0, 0, 0, 0, 0, 0, 0, 0, 0, 0, 0, 0, 0, 0, 0, 0, 0, 0, 0, 0, 0, 0, 0, 0, 0, 0, 0, 0, 0, 0, 0, 0, 0, 0, 0, 0, 0, 0, 0, 0, 0, 0, 0, 0, 0, 0, 0, 0, 0, 0, 0, 0, 0, 0, 0, 0, 0, 0, 0, 0, 0, 0, 0, 0, 0, 0, 0, 0, 0, 0, 0, 0, 0, 0, 0, 0, 0, 0, 0, 0, 0, 0, 0, 0, 0, 0, 0, 0, 0, 0, 0, 0, 0, 0, 0, 0, 0, 0, 0, 0, 0, 0, 0, 0, 0, 0, 0, 0, 0, 0, 0, 0, 0, 0, 0, 0, 0, 0, 0, 0, 0, 0, 0, 0, 0, 0, 0, 0, 0, 0, 0, 0, 0, 0, 0, 0, 0, 0, 0, 0, 0, 0, 0, 0, 0, 0, 0, 0, 0, 0, 0, 0, 0, 0, 0, 0, 0, 0, 0, 0, 0, 0, 0, 0, 0, 0, 0, 0, 0, 0, 0, 0, 0, 0, 0, 0, 0, 0, 0, 0, 0, 0, 0, 0, 0, 0, 0, 0, 0, 0, 0, 0, 0, 0, 0, 0, 0, 0, 0, 0, 0, 0, 0, 0, 0, 0, 0, 0, 0, 0, 0, 0, 0, 0, 0, 0, 0, 0, 0, 0, 0, 0, 0, 0, 0, 0, 0, 0, 0, 0, 0, 0, 0, 0, 0, 0, 0, 0, 0, 0, 0, 0, 0, 0, 0, 0, 0, 0, 0, 0, 0, 0, 0, 0, 0, 0, 0, 0, 0, 0, 0, 0, 0, 0, 0, 0, 0, 0, 0, 0, 0, 0, 0, 0, 0, 0, 0, 0, 0, 0, 0, 0, 0, 0, 0, 0, 0, 0, 0, 0, 0, 0, 0, 0, 0, 0, 0, 0, 0, 0, 0, 0, 0, 0, 0, 0, 0, 0, 0, 0, 0, 0, 0, 0, 0, 0, 0, 0, 0, 0, 0, 0, 0, 0, 0, 0, 0, 0, 0, 0, 0], 'attention_mask': [1, 1, 1, 1, 1, 1, 1, 1, 1, 1, 1, 1, 1, 1, 1, 1, 1, 1, 1, 1, 1, 1, 1, 1, 1, 1, 1, 1, 1, 1, 1, 1, 1, 1, 1, 1, 1, 1, 1, 1, 1, 1, 1, 1, 1, 1, 1, 1, 1, 1, 1, 1, 1, 1, 1, 1, 1, 1, 1, 1, 1, 1, 1, 1, 1, 1, 1, 1, 1, 1, 1, 1, 1, 1, 1, 1, 1, 1, 1, 1, 1, 1, 1, 1, 1, 1, 1, 1, 1, 1, 1, 1, 1, 1, 1, 1, 1, 1, 1, 1, 1, 1, 1, 1, 1, 1, 1, 1, 1, 1, 1, 1, 1, 1, 1, 1, 1, 1, 1, 1, 1, 1, 1, 1, 1, 1, 1, 1, 1, 1, 1, 1, 1, 1, 1, 1, 1, 1, 1, 1, 1, 1, 1, 1, 1, 1, 1, 1, 1, 1, 1, 1, 1, 1, 1, 1, 1, 1, 1, 1, 1, 1, 1, 1, 1, 1, 1, 1, 1, 1, 1, 1, 1, 1, 1, 1, 1, 1, 1, 1, 1, 0, 0, 0, 0, 0, 0, 0, 0, 0, 0, 0, 0, 0, 0, 0, 0, 0, 0, 0, 0, 0, 0, 0, 0, 0, 0, 0, 0, 0, 0, 0, 0, 0, 0, 0, 0, 0, 0, 0, 0, 0, 0, 0, 0, 0, 0, 0, 0, 0, 0, 0, 0, 0, 0, 0, 0, 0, 0, 0, 0, 0, 0, 0, 0, 0, 0, 0, 0, 0, 0, 0, 0, 0, 0, 0, 0, 0, 0, 0, 0, 0, 0, 0, 0, 0, 0, 0, 0, 0, 0, 0, 0, 0, 0, 0, 0, 0, 0, 0, 0, 0, 0, 0, 0, 0, 0, 0, 0, 0, 0, 0, 0, 0, 0, 0, 0, 0, 0, 0, 0, 0, 0, 0, 0, 0, 0, 0, 0, 0, 0, 0, 0, 0, 0, 0, 0, 0, 0, 0, 0, 0, 0, 0, 0, 0, 0, 0, 0, 0, 0, 0, 0, 0, 0, 0, 0, 0, 0, 0, 0, 0, 0, 0, 0, 0, 0, 0, 0, 0, 0, 0, 0, 0, 0, 0, 0, 0, 0, 0, 0, 0, 0, 0, 0, 0, 0, 0, 0, 0, 0, 0, 0, 0, 0, 0, 0, 0, 0, 0, 0, 0, 0, 0, 0, 0, 0, 0, 0, 0, 0, 0, 0, 0, 0, 0, 0, 0, 0, 0, 0, 0, 0, 0, 0, 0, 0, 0, 0, 0, 0, 0, 0, 0, 0, 0, 0, 0, 0, 0, 0, 0, 0, 0, 0, 0, 0, 0, 0, 0, 0, 0, 0, 0, 0, 0, 0, 0, 0, 0, 0, 0, 0, 0, 0, 0, 0, 0, 0, 0, 0, 0, 0, 0, 0, 0, 0, 0, 0, 0, 0, 0, 0, 0, 0, 0, 0, 0, 0, 0, 0, 0, 0, 0, 0, 0, 0, 0, 0, 0, 0, 0, 0, 0, 0, 0, 0, 0, 0, 0, 0, 0, 0, 0, 0, 0, 0, 0, 0, 0, 0, 0, 0, 0, 0, 0, 0, 0, 0, 0, 0, 0], 'start_positions': 77, 'end_positions': 81}"
      ]
     },
     "execution_count": 27,
     "metadata": {},
     "output_type": "execute_result"
    }
   ],
   "source": [
    "prepare_feature(example)"
   ]
  },
  {
   "cell_type": "code",
   "execution_count": 28,
   "metadata": {
    "colab": {
     "base_uri": "https://localhost:8080/",
     "height": 35
    },
    "executionInfo": {
     "elapsed": 13,
     "status": "ok",
     "timestamp": 1643772951004,
     "user": {
      "displayName": "Nelson L.",
      "photoUrl": "https://lh3.googleusercontent.com/a-/AOh14GipnVJXi8Vo7o6qBMpdgcfZB2j9TYnsly5vDf6nig=s64",
      "userId": "03694478629413699942"
     },
     "user_tz": -480
    },
    "id": "4JaHtpqEgN0p",
    "outputId": "b9eb8d19-ff7e-414e-d7ac-2dd928bf7ab9"
   },
   "outputs": [
    {
     "data": {
      "text/plain": [
       "'Test'"
      ]
     },
     "execution_count": 28,
     "metadata": {},
     "output_type": "execute_result"
    }
   ],
   "source": [
    "\"\"\"Test\"\"\""
   ]
  },
  {
   "cell_type": "code",
   "execution_count": 29,
   "metadata": {
    "executionInfo": {
     "elapsed": 12,
     "status": "ok",
     "timestamp": 1643772951005,
     "user": {
      "displayName": "Nelson L.",
      "photoUrl": "https://lh3.googleusercontent.com/a-/AOh14GipnVJXi8Vo7o6qBMpdgcfZB2j9TYnsly5vDf6nig=s64",
      "userId": "03694478629413699942"
     },
     "user_tz": -480
    },
    "id": "l40V3DyLgpJJ"
   },
   "outputs": [],
   "source": [
    "sample_train_data_df  = train_data_df.head(5)\n",
    "train_features_temp = sample_train_data_df.apply(lambda df:prepare_feature(df),axis = 1)"
   ]
  },
  {
   "cell_type": "code",
   "execution_count": 30,
   "metadata": {
    "executionInfo": {
     "elapsed": 13,
     "status": "ok",
     "timestamp": 1643772951007,
     "user": {
      "displayName": "Nelson L.",
      "photoUrl": "https://lh3.googleusercontent.com/a-/AOh14GipnVJXi8Vo7o6qBMpdgcfZB2j9TYnsly5vDf6nig=s64",
      "userId": "03694478629413699942"
     },
     "user_tz": -480
    },
    "id": "KhbhHGWUg654"
   },
   "outputs": [],
   "source": [
    "\n",
    "sample = pd.DataFrame(list(train_features_temp))"
   ]
  },
  {
   "cell_type": "code",
   "execution_count": 31,
   "metadata": {
    "colab": {
     "base_uri": "https://localhost:8080/",
     "height": 206
    },
    "executionInfo": {
     "elapsed": 6,
     "status": "ok",
     "timestamp": 1643772952498,
     "user": {
      "displayName": "Nelson L.",
      "photoUrl": "https://lh3.googleusercontent.com/a-/AOh14GipnVJXi8Vo7o6qBMpdgcfZB2j9TYnsly5vDf6nig=s64",
      "userId": "03694478629413699942"
     },
     "user_tz": -480
    },
    "id": "_GQjlTUFg4VZ",
    "outputId": "86d2fbd7-8b03-458c-8e09-43c764e85c4b"
   },
   "outputs": [
    {
     "data": {
      "text/html": [
       "<div>\n",
       "<style scoped>\n",
       "    .dataframe tbody tr th:only-of-type {\n",
       "        vertical-align: middle;\n",
       "    }\n",
       "\n",
       "    .dataframe tbody tr th {\n",
       "        vertical-align: top;\n",
       "    }\n",
       "\n",
       "    .dataframe thead th {\n",
       "        text-align: right;\n",
       "    }\n",
       "</style>\n",
       "<table border=\"1\" class=\"dataframe\">\n",
       "  <thead>\n",
       "    <tr style=\"text-align: right;\">\n",
       "      <th></th>\n",
       "      <th>attention_mask</th>\n",
       "      <th>end_positions</th>\n",
       "      <th>input_ids</th>\n",
       "      <th>start_positions</th>\n",
       "      <th>token_type_ids</th>\n",
       "    </tr>\n",
       "  </thead>\n",
       "  <tbody>\n",
       "    <tr>\n",
       "      <th>0</th>\n",
       "      <td>[1, 1, 1, 1, 1, 1, 1, 1, 1, 1, 1, 1, 1, 1, 1, ...</td>\n",
       "      <td>81</td>\n",
       "      <td>[2, 76, 144, 24809, 799, 1535, 844, 60, 3, 248...</td>\n",
       "      <td>77</td>\n",
       "      <td>[0, 0, 0, 0, 0, 0, 0, 0, 0, 1, 1, 1, 1, 1, 1, ...</td>\n",
       "    </tr>\n",
       "    <tr>\n",
       "      <th>1</th>\n",
       "      <td>[1, 1, 1, 1, 1, 1, 1, 1, 1, 1, 1, 1, 1, 1, 1, ...</td>\n",
       "      <td>72</td>\n",
       "      <td>[2, 98, 924, 144, 24809, 3975, 19, 76, 39, 23,...</td>\n",
       "      <td>70</td>\n",
       "      <td>[0, 0, 0, 0, 0, 0, 0, 0, 0, 0, 0, 0, 0, 0, 1, ...</td>\n",
       "    </tr>\n",
       "    <tr>\n",
       "      <th>2</th>\n",
       "      <td>[1, 1, 1, 1, 1, 1, 1, 1, 1, 1, 1, 1, 1, 1, 1, ...</td>\n",
       "      <td>148</td>\n",
       "      <td>[2, 76, 144, 24809, 767, 11271, 22, 18, 850, 1...</td>\n",
       "      <td>148</td>\n",
       "      <td>[0, 0, 0, 0, 0, 0, 0, 0, 0, 0, 0, 0, 0, 0, 0, ...</td>\n",
       "    </tr>\n",
       "    <tr>\n",
       "      <th>3</th>\n",
       "      <td>[1, 1, 1, 1, 1, 1, 1, 1, 1, 1, 1, 1, 1, 1, 1, ...</td>\n",
       "      <td>62</td>\n",
       "      <td>[2, 19, 98, 136, 17, 146, 144, 24809, 3213, 71...</td>\n",
       "      <td>60</td>\n",
       "      <td>[0, 0, 0, 0, 0, 0, 0, 0, 0, 0, 0, 0, 1, 1, 1, ...</td>\n",
       "    </tr>\n",
       "    <tr>\n",
       "      <th>4</th>\n",
       "      <td>[1, 1, 1, 1, 1, 1, 1, 1, 1, 1, 1, 1, 1, 1, 1, ...</td>\n",
       "      <td>82</td>\n",
       "      <td>[2, 19, 56, 3953, 144, 24809, 533, 1561, 60, 3...</td>\n",
       "      <td>80</td>\n",
       "      <td>[0, 0, 0, 0, 0, 0, 0, 0, 0, 0, 1, 1, 1, 1, 1, ...</td>\n",
       "    </tr>\n",
       "  </tbody>\n",
       "</table>\n",
       "</div>"
      ],
      "text/plain": [
       "                                      attention_mask  end_positions  \\\n",
       "0  [1, 1, 1, 1, 1, 1, 1, 1, 1, 1, 1, 1, 1, 1, 1, ...             81   \n",
       "1  [1, 1, 1, 1, 1, 1, 1, 1, 1, 1, 1, 1, 1, 1, 1, ...             72   \n",
       "2  [1, 1, 1, 1, 1, 1, 1, 1, 1, 1, 1, 1, 1, 1, 1, ...            148   \n",
       "3  [1, 1, 1, 1, 1, 1, 1, 1, 1, 1, 1, 1, 1, 1, 1, ...             62   \n",
       "4  [1, 1, 1, 1, 1, 1, 1, 1, 1, 1, 1, 1, 1, 1, 1, ...             82   \n",
       "\n",
       "                                           input_ids  start_positions  \\\n",
       "0  [2, 76, 144, 24809, 799, 1535, 844, 60, 3, 248...               77   \n",
       "1  [2, 98, 924, 144, 24809, 3975, 19, 76, 39, 23,...               70   \n",
       "2  [2, 76, 144, 24809, 767, 11271, 22, 18, 850, 1...              148   \n",
       "3  [2, 19, 98, 136, 17, 146, 144, 24809, 3213, 71...               60   \n",
       "4  [2, 19, 56, 3953, 144, 24809, 533, 1561, 60, 3...               80   \n",
       "\n",
       "                                      token_type_ids  \n",
       "0  [0, 0, 0, 0, 0, 0, 0, 0, 0, 1, 1, 1, 1, 1, 1, ...  \n",
       "1  [0, 0, 0, 0, 0, 0, 0, 0, 0, 0, 0, 0, 0, 0, 1, ...  \n",
       "2  [0, 0, 0, 0, 0, 0, 0, 0, 0, 0, 0, 0, 0, 0, 0, ...  \n",
       "3  [0, 0, 0, 0, 0, 0, 0, 0, 0, 0, 0, 0, 1, 1, 1, ...  \n",
       "4  [0, 0, 0, 0, 0, 0, 0, 0, 0, 0, 1, 1, 1, 1, 1, ...  "
      ]
     },
     "execution_count": 31,
     "metadata": {},
     "output_type": "execute_result"
    }
   ],
   "source": [
    "sample"
   ]
  },
  {
   "cell_type": "code",
   "execution_count": 32,
   "metadata": {
    "executionInfo": {
     "elapsed": 3,
     "status": "ok",
     "timestamp": 1643772952860,
     "user": {
      "displayName": "Nelson L.",
      "photoUrl": "https://lh3.googleusercontent.com/a-/AOh14GipnVJXi8Vo7o6qBMpdgcfZB2j9TYnsly5vDf6nig=s64",
      "userId": "03694478629413699942"
     },
     "user_tz": -480
    },
    "id": "ekosjUMnhA5M"
   },
   "outputs": [],
   "source": [
    "def decode_answer(df):\n",
    "    return tokenizer.decode(df[\"input_ids\"][df['start_positions']:df['end_positions']+1])"
   ]
  },
  {
   "cell_type": "code",
   "execution_count": 33,
   "metadata": {
    "executionInfo": {
     "elapsed": 2,
     "status": "ok",
     "timestamp": 1643772954756,
     "user": {
      "displayName": "Nelson L.",
      "photoUrl": "https://lh3.googleusercontent.com/a-/AOh14GipnVJXi8Vo7o6qBMpdgcfZB2j9TYnsly5vDf6nig=s64",
      "userId": "03694478629413699942"
     },
     "user_tz": -480
    },
    "id": "XP94u-bWhS5S"
   },
   "outputs": [],
   "source": [
    "answer = sample.apply(lambda x:decode_answer(x),axis = 1)"
   ]
  },
  {
   "cell_type": "code",
   "execution_count": 34,
   "metadata": {
    "colab": {
     "base_uri": "https://localhost:8080/"
    },
    "executionInfo": {
     "elapsed": 14,
     "status": "ok",
     "timestamp": 1643772955180,
     "user": {
      "displayName": "Nelson L.",
      "photoUrl": "https://lh3.googleusercontent.com/a-/AOh14GipnVJXi8Vo7o6qBMpdgcfZB2j9TYnsly5vDf6nig=s64",
      "userId": "03694478629413699942"
     },
     "user_tz": -480
    },
    "id": "0_b15WgYhjJw",
    "outputId": "d702eb83-e6c1-4fa6-d314-91cca0ee4697"
   },
   "outputs": [
    {
     "data": {
      "text/plain": [
       "0      in the late 1990s\n",
       "1    singing and dancing\n",
       "2                   2003\n",
       "3         houston, texas\n",
       "4             late 1990s\n",
       "dtype: object"
      ]
     },
     "execution_count": 34,
     "metadata": {},
     "output_type": "execute_result"
    }
   ],
   "source": [
    "answer"
   ]
  },
  {
   "cell_type": "code",
   "execution_count": 35,
   "metadata": {
    "colab": {
     "base_uri": "https://localhost:8080/"
    },
    "executionInfo": {
     "elapsed": 9,
     "status": "ok",
     "timestamp": 1643772956800,
     "user": {
      "displayName": "Nelson L.",
      "photoUrl": "https://lh3.googleusercontent.com/a-/AOh14GipnVJXi8Vo7o6qBMpdgcfZB2j9TYnsly5vDf6nig=s64",
      "userId": "03694478629413699942"
     },
     "user_tz": -480
    },
    "id": "afper71bhoUW",
    "outputId": "aee3ef60-e28a-4c29-e93a-993e30a1b891"
   },
   "outputs": [
    {
     "data": {
      "text/plain": [
       "0      in the late 1990s\n",
       "1    singing and dancing\n",
       "2                   2003\n",
       "3         Houston, Texas\n",
       "4             late 1990s\n",
       "Name: answer_text, dtype: object"
      ]
     },
     "execution_count": 35,
     "metadata": {},
     "output_type": "execute_result"
    }
   ],
   "source": [
    "sample_train_data_df['answer_text']"
   ]
  },
  {
   "cell_type": "code",
   "execution_count": 36,
   "metadata": {
    "executionInfo": {
     "elapsed": 4,
     "status": "ok",
     "timestamp": 1643772956801,
     "user": {
      "displayName": "Nelson L.",
      "photoUrl": "https://lh3.googleusercontent.com/a-/AOh14GipnVJXi8Vo7o6qBMpdgcfZB2j9TYnsly5vDf6nig=s64",
      "userId": "03694478629413699942"
     },
     "user_tz": -480
    },
    "id": "RCdyJJoRhsyu"
   },
   "outputs": [],
   "source": [
    "#### convert to data frame dataset"
   ]
  },
  {
   "cell_type": "code",
   "execution_count": 37,
   "metadata": {
    "executionInfo": {
     "elapsed": 48325,
     "status": "ok",
     "timestamp": 1643773006514,
     "user": {
      "displayName": "Nelson L.",
      "photoUrl": "https://lh3.googleusercontent.com/a-/AOh14GipnVJXi8Vo7o6qBMpdgcfZB2j9TYnsly5vDf6nig=s64",
      "userId": "03694478629413699942"
     },
     "user_tz": -480
    },
    "id": "K1DNPAA3izBB"
   },
   "outputs": [],
   "source": [
    "train_feature_df = train_data_df.apply(lambda df: prepare_feature(df),axis = 1)\n",
    "train_feature_df = pd.DataFrame(list(train_feature_df))\n",
    "\n",
    "\n",
    "dev_feature_df = dev_data_df.apply(lambda df: prepare_feature(df),axis = 1)\n",
    "dev_feature_df = pd.DataFrame(list(dev_feature_df))"
   ]
  },
  {
   "cell_type": "code",
   "execution_count": 48,
   "metadata": {},
   "outputs": [],
   "source": [
    "import pickle\n",
    "def save_object(obj,save_path):\n",
    "    with open(save_path,mode='wb') as f:\n",
    "        pickle.dump(obj,f,protocol = pickle.HIGHEST_PROTOCOL)\n",
    "        \n",
    "        \n",
    "def open_object(file_name):\n",
    "    with open(file_name,mode = 'rb') as f:\n",
    "        return pickle.load(f)"
   ]
  },
  {
   "cell_type": "code",
   "execution_count": 49,
   "metadata": {},
   "outputs": [],
   "source": [
    "save_object(train_feature_df,\"./data/train_feature_df.pkl\")"
   ]
  },
  {
   "cell_type": "code",
   "execution_count": 50,
   "metadata": {},
   "outputs": [],
   "source": [
    "save_object(dev_feature_df,\"./data/dev_feature_df.pkl\")"
   ]
  },
  {
   "cell_type": "code",
   "execution_count": 51,
   "metadata": {},
   "outputs": [],
   "source": [
    "# train_feature_df = open_object(\"./data/dev_feature_df.pkl\")\n",
    "# dev_feature_df = open_object(\"./data/dev_feature_df.pkl\")"
   ]
  },
  {
   "cell_type": "code",
   "execution_count": 52,
   "metadata": {
    "colab": {
     "base_uri": "https://localhost:8080/",
     "height": 206
    },
    "executionInfo": {
     "elapsed": 654,
     "status": "ok",
     "timestamp": 1643773046266,
     "user": {
      "displayName": "Nelson L.",
      "photoUrl": "https://lh3.googleusercontent.com/a-/AOh14GipnVJXi8Vo7o6qBMpdgcfZB2j9TYnsly5vDf6nig=s64",
      "userId": "03694478629413699942"
     },
     "user_tz": -480
    },
    "id": "bxOacmGhjI3Q",
    "outputId": "f1f2f173-db5d-4cfb-c5f7-f215f24b4fcf"
   },
   "outputs": [
    {
     "data": {
      "text/html": [
       "<div>\n",
       "<style scoped>\n",
       "    .dataframe tbody tr th:only-of-type {\n",
       "        vertical-align: middle;\n",
       "    }\n",
       "\n",
       "    .dataframe tbody tr th {\n",
       "        vertical-align: top;\n",
       "    }\n",
       "\n",
       "    .dataframe thead th {\n",
       "        text-align: right;\n",
       "    }\n",
       "</style>\n",
       "<table border=\"1\" class=\"dataframe\">\n",
       "  <thead>\n",
       "    <tr style=\"text-align: right;\">\n",
       "      <th></th>\n",
       "      <th>attention_mask</th>\n",
       "      <th>end_positions</th>\n",
       "      <th>input_ids</th>\n",
       "      <th>start_positions</th>\n",
       "      <th>token_type_ids</th>\n",
       "    </tr>\n",
       "  </thead>\n",
       "  <tbody>\n",
       "    <tr>\n",
       "      <th>0</th>\n",
       "      <td>[1, 1, 1, 1, 1, 1, 1, 1, 1, 1, 1, 1, 1, 1, 1, ...</td>\n",
       "      <td>54</td>\n",
       "      <td>[2, 19, 98, 475, 25, 14650, 335, 60, 3, 14, 44...</td>\n",
       "      <td>54</td>\n",
       "      <td>[0, 0, 0, 0, 0, 0, 0, 0, 0, 1, 1, 1, 1, 1, 1, ...</td>\n",
       "    </tr>\n",
       "    <tr>\n",
       "      <th>1</th>\n",
       "      <td>[1, 1, 1, 1, 1, 1, 1, 1, 1, 1, 1, 1, 1, 1, 1, ...</td>\n",
       "      <td>45</td>\n",
       "      <td>[2, 76, 46, 14, 4406, 18, 19, 14650, 60, 3, 14...</td>\n",
       "      <td>40</td>\n",
       "      <td>[0, 0, 0, 0, 0, 0, 0, 0, 0, 0, 1, 1, 1, 1, 1, ...</td>\n",
       "    </tr>\n",
       "    <tr>\n",
       "      <th>2</th>\n",
       "      <td>[1, 1, 1, 1, 1, 1, 1, 1, 1, 1, 1, 1, 1, 1, 1, ...</td>\n",
       "      <td>84</td>\n",
       "      <td>[2, 37, 56, 1166, 144, 14, 16773, 24170, 60, 3...</td>\n",
       "      <td>80</td>\n",
       "      <td>[0, 0, 0, 0, 0, 0, 0, 0, 0, 0, 1, 1, 1, 1, 1, ...</td>\n",
       "    </tr>\n",
       "    <tr>\n",
       "      <th>3</th>\n",
       "      <td>[1, 1, 1, 1, 1, 1, 1, 1, 1, 1, 1, 1, 1, 1, 1, ...</td>\n",
       "      <td>89</td>\n",
       "      <td>[2, 72, 23, 14, 16773, 1156, 60, 3, 14, 4406, ...</td>\n",
       "      <td>88</td>\n",
       "      <td>[0, 0, 0, 0, 0, 0, 0, 0, 1, 1, 1, 1, 1, 1, 1, ...</td>\n",
       "    </tr>\n",
       "    <tr>\n",
       "      <th>4</th>\n",
       "      <td>[1, 1, 1, 1, 1, 1, 1, 1, 1, 1, 1, 1, 1, 1, 1, ...</td>\n",
       "      <td>168</td>\n",
       "      <td>[2, 98, 428, 144, 14, 4406, 18, 64, 3288, 66, ...</td>\n",
       "      <td>166</td>\n",
       "      <td>[0, 0, 0, 0, 0, 0, 0, 0, 0, 0, 0, 0, 0, 0, 1, ...</td>\n",
       "    </tr>\n",
       "  </tbody>\n",
       "</table>\n",
       "</div>"
      ],
      "text/plain": [
       "                                      attention_mask  end_positions  \\\n",
       "0  [1, 1, 1, 1, 1, 1, 1, 1, 1, 1, 1, 1, 1, 1, 1, ...             54   \n",
       "1  [1, 1, 1, 1, 1, 1, 1, 1, 1, 1, 1, 1, 1, 1, 1, ...             45   \n",
       "2  [1, 1, 1, 1, 1, 1, 1, 1, 1, 1, 1, 1, 1, 1, 1, ...             84   \n",
       "3  [1, 1, 1, 1, 1, 1, 1, 1, 1, 1, 1, 1, 1, 1, 1, ...             89   \n",
       "4  [1, 1, 1, 1, 1, 1, 1, 1, 1, 1, 1, 1, 1, 1, 1, ...            168   \n",
       "\n",
       "                                           input_ids  start_positions  \\\n",
       "0  [2, 19, 98, 475, 25, 14650, 335, 60, 3, 14, 44...               54   \n",
       "1  [2, 76, 46, 14, 4406, 18, 19, 14650, 60, 3, 14...               40   \n",
       "2  [2, 37, 56, 1166, 144, 14, 16773, 24170, 60, 3...               80   \n",
       "3  [2, 72, 23, 14, 16773, 1156, 60, 3, 14, 4406, ...               88   \n",
       "4  [2, 98, 428, 144, 14, 4406, 18, 64, 3288, 66, ...              166   \n",
       "\n",
       "                                      token_type_ids  \n",
       "0  [0, 0, 0, 0, 0, 0, 0, 0, 0, 1, 1, 1, 1, 1, 1, ...  \n",
       "1  [0, 0, 0, 0, 0, 0, 0, 0, 0, 0, 1, 1, 1, 1, 1, ...  \n",
       "2  [0, 0, 0, 0, 0, 0, 0, 0, 0, 0, 1, 1, 1, 1, 1, ...  \n",
       "3  [0, 0, 0, 0, 0, 0, 0, 0, 1, 1, 1, 1, 1, 1, 1, ...  \n",
       "4  [0, 0, 0, 0, 0, 0, 0, 0, 0, 0, 0, 0, 0, 0, 1, ...  "
      ]
     },
     "execution_count": 52,
     "metadata": {},
     "output_type": "execute_result"
    }
   ],
   "source": [
    "dev_feature_df.head()"
   ]
  },
  {
   "cell_type": "code",
   "execution_count": 53,
   "metadata": {
    "executionInfo": {
     "elapsed": 9,
     "status": "ok",
     "timestamp": 1643773046267,
     "user": {
      "displayName": "Nelson L.",
      "photoUrl": "https://lh3.googleusercontent.com/a-/AOh14GipnVJXi8Vo7o6qBMpdgcfZB2j9TYnsly5vDf6nig=s64",
      "userId": "03694478629413699942"
     },
     "user_tz": -480
    },
    "id": "OWabs7K2jFd3"
   },
   "outputs": [],
   "source": [
    "#### create pytorch dataset"
   ]
  },
  {
   "cell_type": "code",
   "execution_count": 54,
   "metadata": {
    "executionInfo": {
     "elapsed": 10,
     "status": "ok",
     "timestamp": 1643773046269,
     "user": {
      "displayName": "Nelson L.",
      "photoUrl": "https://lh3.googleusercontent.com/a-/AOh14GipnVJXi8Vo7o6qBMpdgcfZB2j9TYnsly5vDf6nig=s64",
      "userId": "03694478629413699942"
     },
     "user_tz": -480
    },
    "id": "BB4r6TBHjOkY"
   },
   "outputs": [],
   "source": [
    "class SQUADTokenizedDataSet(Dataset):\n",
    "    def __init__(self,dataframe,device = \"cpu\"):\n",
    "        self.len = len(dataframe)\n",
    "        self.dataframe = dataframe\n",
    "        self.device = device\n",
    "    \n",
    "    def __getitem__(self,index):\n",
    "        df = self.dataframe.iloc[index]\n",
    "\n",
    "        if isinstance(df,pd.core.series.Series):\n",
    "            data_dict = df.to_dict()\n",
    "        else:\n",
    "            data_dict = df.to_dict(orient = \"list\")\n",
    "\n",
    "        return {k:torch.tensor(v,dtype = torch.long).to(self.device) for k,v in data_dict.items()}\n",
    "\n",
    "    def __len__(self):\n",
    "        return self.len"
   ]
  },
  {
   "cell_type": "code",
   "execution_count": 55,
   "metadata": {
    "executionInfo": {
     "elapsed": 9,
     "status": "ok",
     "timestamp": 1643773046269,
     "user": {
      "displayName": "Nelson L.",
      "photoUrl": "https://lh3.googleusercontent.com/a-/AOh14GipnVJXi8Vo7o6qBMpdgcfZB2j9TYnsly5vDf6nig=s64",
      "userId": "03694478629413699942"
     },
     "user_tz": -480
    },
    "id": "o5HaoHEkkGBX"
   },
   "outputs": [],
   "source": [
    "TrainTokenizedDataset  = SQUADTokenizedDataSet(train_feature_df,\"cpu\")\n",
    "DevTokenizedDataset  = SQUADTokenizedDataSet(dev_feature_df,\"cpu\")"
   ]
  },
  {
   "cell_type": "markdown",
   "metadata": {
    "id": "Xr-KMJe2kXd2"
   },
   "source": [
    "## 3) Fine Tune Model"
   ]
  },
  {
   "cell_type": "code",
   "execution_count": 56,
   "metadata": {
    "executionInfo": {
     "elapsed": 5,
     "status": "ok",
     "timestamp": 1643773048593,
     "user": {
      "displayName": "Nelson L.",
      "photoUrl": "https://lh3.googleusercontent.com/a-/AOh14GipnVJXi8Vo7o6qBMpdgcfZB2j9TYnsly5vDf6nig=s64",
      "userId": "03694478629413699942"
     },
     "user_tz": -480
    },
    "id": "MPleHKzykMzS"
   },
   "outputs": [],
   "source": [
    "from transformers import AlbertForQuestionAnswering,TrainingArguments,Trainer"
   ]
  },
  {
   "cell_type": "code",
   "execution_count": 57,
   "metadata": {
    "colab": {
     "base_uri": "https://localhost:8080/",
     "height": 155,
     "referenced_widgets": [
      "7ee2b649f08c4a02866201940bfa3a3e",
      "72dc0d02588a4a16b17ae363a793f0bf",
      "b938e3ef2bf54259ad67488f42f733c8",
      "d4b19766ed104f3e8fab46c181743220",
      "12a35eec2ceb4f6f80a35e9da075da92",
      "35f843ffa4044dcf887177da3cd5c5aa",
      "5c59bcec5b4844969eb70a5a2fbacb4c",
      "6e21c6d03da84a6b92c87dd0f50b8908",
      "092e2304fa34421ba3a165ac99011ec1",
      "a6d65fd924854c55a583ea57eee47342",
      "76a6d9944908407d8d95139fb108b7bb"
     ]
    },
    "executionInfo": {
     "elapsed": 2442,
     "status": "ok",
     "timestamp": 1643773051031,
     "user": {
      "displayName": "Nelson L.",
      "photoUrl": "https://lh3.googleusercontent.com/a-/AOh14GipnVJXi8Vo7o6qBMpdgcfZB2j9TYnsly5vDf6nig=s64",
      "userId": "03694478629413699942"
     },
     "user_tz": -480
    },
    "id": "Tlsg5ptvklxA",
    "outputId": "6d76b4c3-ae5d-480d-dd72-1148692d2206"
   },
   "outputs": [
    {
     "name": "stderr",
     "output_type": "stream",
     "text": [
      "Some weights of the model checkpoint at albert-base-v2 were not used when initializing AlbertForQuestionAnswering: ['predictions.LayerNorm.bias', 'predictions.decoder.weight', 'predictions.bias', 'predictions.decoder.bias', 'predictions.dense.weight', 'predictions.LayerNorm.weight', 'predictions.dense.bias']\n",
      "- This IS expected if you are initializing AlbertForQuestionAnswering from the checkpoint of a model trained on another task or with another architecture (e.g. initializing a BertForSequenceClassification model from a BertForPreTraining model).\n",
      "- This IS NOT expected if you are initializing AlbertForQuestionAnswering from the checkpoint of a model that you expect to be exactly identical (initializing a BertForSequenceClassification model from a BertForSequenceClassification model).\n",
      "Some weights of AlbertForQuestionAnswering were not initialized from the model checkpoint at albert-base-v2 and are newly initialized: ['qa_outputs.bias', 'qa_outputs.weight']\n",
      "You should probably TRAIN this model on a down-stream task to be able to use it for predictions and inference.\n"
     ]
    }
   ],
   "source": [
    "model = AlbertForQuestionAnswering.from_pretrained(model_name)"
   ]
  },
  {
   "cell_type": "markdown",
   "metadata": {
    "id": "qVaJXUTVlJAr"
   },
   "source": [
    "\n",
    "\n",
    "source codes from transformer\n",
    "```python\n",
    "class BertForQuestionAnswering(BertPreTrainedModel):\n",
    "\n",
    "    _keys_to_ignore_on_load_unexpected = [r\"pooler\"]\n",
    "\n",
    "    def __init__(self, config):\n",
    "        super().__init__(config)\n",
    "        self.num_labels = config.num_labels\n",
    "\n",
    "        self.bert = BertModel(config, add_pooling_layer=False)\n",
    "        self.qa_outputs = nn.Linear(config.hidden_size, config.num_labels)\n",
    "\n",
    "        # Initialize weights and apply final processing\n",
    "        self.post_init()\n",
    "\n",
    "    @add_start_docstrings_to_model_forward(BERT_INPUTS_DOCSTRING.format(\"batch_size, sequence_length\"))\n",
    "    @add_code_sample_docstrings(\n",
    "        processor_class=_TOKENIZER_FOR_DOC,\n",
    "        checkpoint=_CHECKPOINT_FOR_DOC,\n",
    "        output_type=QuestionAnsweringModelOutput,\n",
    "        config_class=_CONFIG_FOR_DOC,\n",
    "    )\n",
    "    def forward(\n",
    "        self,\n",
    "        input_ids=None,\n",
    "        attention_mask=None,\n",
    "        token_type_ids=None,\n",
    "        position_ids=None,\n",
    "        head_mask=None,\n",
    "        inputs_embeds=None,\n",
    "        start_positions=None,\n",
    "        end_positions=None,\n",
    "        output_attentions=None,\n",
    "        output_hidden_states=None,\n",
    "        return_dict=None,\n",
    "    ):\n",
    "        r\"\"\"\n",
    "        start_positions (`torch.LongTensor` of shape `(batch_size,)`, *optional*):\n",
    "            Labels for position (index) of the start of the labelled span for computing the token classification loss.\n",
    "            Positions are clamped to the length of the sequence (`sequence_length`). Position outside of the sequence\n",
    "            are not taken into account for computing the loss.\n",
    "        end_positions (`torch.LongTensor` of shape `(batch_size,)`, *optional*):\n",
    "            Labels for position (index) of the end of the labelled span for computing the token classification loss.\n",
    "            Positions are clamped to the length of the sequence (`sequence_length`). Position outside of the sequence\n",
    "            are not taken into account for computing the loss.\n",
    "        \"\"\"\n",
    "        return_dict = return_dict if return_dict is not None else self.config.use_return_dict\n",
    "\n",
    "        outputs = self.bert(\n",
    "            input_ids,\n",
    "            attention_mask=attention_mask,\n",
    "            token_type_ids=token_type_ids,\n",
    "            position_ids=position_ids,\n",
    "            head_mask=head_mask,\n",
    "            inputs_embeds=inputs_embeds,\n",
    "            output_attentions=output_attentions,\n",
    "            output_hidden_states=output_hidden_states,\n",
    "            return_dict=return_dict,\n",
    "        )\n",
    "\n",
    "        sequence_output = outputs[0]\n",
    "\n",
    "        logits = self.qa_outputs(sequence_output)\n",
    "        start_logits, end_logits = logits.split(1, dim=-1)\n",
    "        start_logits = start_logits.squeeze(-1).contiguous()\n",
    "        end_logits = end_logits.squeeze(-1).contiguous()\n",
    "\n",
    "        total_loss = None\n",
    "        if start_positions is not None and end_positions is not None:\n",
    "            # If we are on multi-GPU, split add a dimension\n",
    "            if len(start_positions.size()) > 1:\n",
    "                start_positions = start_positions.squeeze(-1)\n",
    "            if len(end_positions.size()) > 1:\n",
    "                end_positions = end_positions.squeeze(-1)\n",
    "            # sometimes the start/end positions are outside our model inputs, we ignore these terms\n",
    "            ignored_index = start_logits.size(1)\n",
    "            start_positions = start_positions.clamp(0, ignored_index)\n",
    "            end_positions = end_positions.clamp(0, ignored_index)\n",
    "\n",
    "            loss_fct = CrossEntropyLoss(ignore_index=ignored_index)\n",
    "            start_loss = loss_fct(start_logits, start_positions)\n",
    "            end_loss = loss_fct(end_logits, end_positions)\n",
    "            total_loss = (start_loss + end_loss) / 2\n",
    "\n",
    "        if not return_dict:\n",
    "            output = (start_logits, end_logits) + outputs[2:]\n",
    "            return ((total_loss,) + output) if total_loss is not None else output\n",
    "\n",
    "        return QuestionAnsweringModelOutput(\n",
    "            loss=total_loss,\n",
    "            start_logits=start_logits,\n",
    "            end_logits=end_logits,\n",
    "            hidden_states=outputs.hidden_states,\n",
    "            attentions=outputs.attentions,\n",
    "        )\n",
    "\n",
    "```\n",
    "\n"
   ]
  },
  {
   "cell_type": "code",
   "execution_count": 58,
   "metadata": {
    "executionInfo": {
     "elapsed": 5,
     "status": "ok",
     "timestamp": 1643773052905,
     "user": {
      "displayName": "Nelson L.",
      "photoUrl": "https://lh3.googleusercontent.com/a-/AOh14GipnVJXi8Vo7o6qBMpdgcfZB2j9TYnsly5vDf6nig=s64",
      "userId": "03694478629413699942"
     },
     "user_tz": -480
    },
    "id": "CERY_suak0zh"
   },
   "outputs": [],
   "source": [
    "# sample_data = TrainTokenizedDataset[:5]"
   ]
  },
  {
   "cell_type": "code",
   "execution_count": 59,
   "metadata": {
    "executionInfo": {
     "elapsed": 3,
     "status": "ok",
     "timestamp": 1643773052905,
     "user": {
      "displayName": "Nelson L.",
      "photoUrl": "https://lh3.googleusercontent.com/a-/AOh14GipnVJXi8Vo7o6qBMpdgcfZB2j9TYnsly5vDf6nig=s64",
      "userId": "03694478629413699942"
     },
     "user_tz": -480
    },
    "id": "kEZH2MYklZTg"
   },
   "outputs": [],
   "source": [
    "# model(**sample_data)"
   ]
  },
  {
   "cell_type": "code",
   "execution_count": 62,
   "metadata": {
    "executionInfo": {
     "elapsed": 2,
     "status": "ok",
     "timestamp": 1643773054263,
     "user": {
      "displayName": "Nelson L.",
      "photoUrl": "https://lh3.googleusercontent.com/a-/AOh14GipnVJXi8Vo7o6qBMpdgcfZB2j9TYnsly5vDf6nig=s64",
      "userId": "03694478629413699942"
     },
     "user_tz": -480
    },
    "id": "0GdygaXwli_7"
   },
   "outputs": [],
   "source": [
    "model_save_path = \"./single-albert-squad/\" # data folder"
   ]
  },
  {
   "cell_type": "code",
   "execution_count": 63,
   "metadata": {
    "colab": {
     "base_uri": "https://localhost:8080/"
    },
    "executionInfo": {
     "elapsed": 486,
     "status": "ok",
     "timestamp": 1643773055203,
     "user": {
      "displayName": "Nelson L.",
      "photoUrl": "https://lh3.googleusercontent.com/a-/AOh14GipnVJXi8Vo7o6qBMpdgcfZB2j9TYnsly5vDf6nig=s64",
      "userId": "03694478629413699942"
     },
     "user_tz": -480
    },
    "id": "vOagz0qTmHCH",
    "outputId": "ed8ebdd2-6d0d-48ad-a875-13afb3c0ffed"
   },
   "outputs": [
    {
     "data": {
      "text/plain": [
       "[]"
      ]
     },
     "execution_count": 63,
     "metadata": {},
     "output_type": "execute_result"
    }
   ],
   "source": [
    "os.listdir(model_save_path)"
   ]
  },
  {
   "cell_type": "code",
   "execution_count": 64,
   "metadata": {
    "executionInfo": {
     "elapsed": 2,
     "status": "ok",
     "timestamp": 1643773058392,
     "user": {
      "displayName": "Nelson L.",
      "photoUrl": "https://lh3.googleusercontent.com/a-/AOh14GipnVJXi8Vo7o6qBMpdgcfZB2j9TYnsly5vDf6nig=s64",
      "userId": "03694478629413699942"
     },
     "user_tz": -480
    },
    "id": "7TJZ8Gvgop55"
   },
   "outputs": [],
   "source": [
    "batch_size = 24"
   ]
  },
  {
   "cell_type": "code",
   "execution_count": 65,
   "metadata": {
    "executionInfo": {
     "elapsed": 2,
     "status": "ok",
     "timestamp": 1643773058936,
     "user": {
      "displayName": "Nelson L.",
      "photoUrl": "https://lh3.googleusercontent.com/a-/AOh14GipnVJXi8Vo7o6qBMpdgcfZB2j9TYnsly5vDf6nig=s64",
      "userId": "03694478629413699942"
     },
     "user_tz": -480
    },
    "id": "2PLSqNtXokds"
   },
   "outputs": [],
   "source": [
    "steps = len(TrainTokenizedDataset)//batch_size"
   ]
  },
  {
   "cell_type": "code",
   "execution_count": 66,
   "metadata": {},
   "outputs": [
    {
     "data": {
      "text/plain": [
       "5429"
      ]
     },
     "execution_count": 66,
     "metadata": {},
     "output_type": "execute_result"
    }
   ],
   "source": [
    "steps"
   ]
  },
  {
   "cell_type": "code",
   "execution_count": 68,
   "metadata": {
    "colab": {
     "base_uri": "https://localhost:8080/"
    },
    "executionInfo": {
     "elapsed": 4,
     "status": "ok",
     "timestamp": 1643773062323,
     "user": {
      "displayName": "Nelson L.",
      "photoUrl": "https://lh3.googleusercontent.com/a-/AOh14GipnVJXi8Vo7o6qBMpdgcfZB2j9TYnsly5vDf6nig=s64",
      "userId": "03694478629413699942"
     },
     "user_tz": -480
    },
    "id": "3t5imt4uowFi",
    "outputId": "f2b60c7d-9c77-4d3c-8f47-b88391ed3a28"
   },
   "outputs": [],
   "source": [
    "evaluate_steps = 600"
   ]
  },
  {
   "cell_type": "code",
   "execution_count": 69,
   "metadata": {
    "executionInfo": {
     "elapsed": 3,
     "status": "ok",
     "timestamp": 1643773064419,
     "user": {
      "displayName": "Nelson L.",
      "photoUrl": "https://lh3.googleusercontent.com/a-/AOh14GipnVJXi8Vo7o6qBMpdgcfZB2j9TYnsly5vDf6nig=s64",
      "userId": "03694478629413699942"
     },
     "user_tz": -480
    },
    "id": "u9QvYCpMlbx4"
   },
   "outputs": [],
   "source": [
    "args = TrainingArguments(\n",
    "    model_save_path,\n",
    "    overwrite_output_dir = True,\n",
    "    evaluation_strategy = \"steps\",\n",
    "    eval_steps = evaluate_steps,\n",
    "    logging_steps = evaluate_steps,\n",
    "    save_steps = evaluate_steps,\n",
    "    do_train = True,\n",
    "    do_eval = True,\n",
    "    learning_rate = 2e-5,\n",
    "    per_device_train_batch_size = batch_size,\n",
    "    per_device_eval_batch_size = batch_size,\n",
    "    num_train_epochs = 2,\n",
    "    seed = 0,\n",
    "    load_best_model_at_end = True,\n",
    ")"
   ]
  },
  {
   "cell_type": "code",
   "execution_count": 70,
   "metadata": {
    "executionInfo": {
     "elapsed": 3,
     "status": "ok",
     "timestamp": 1643773066650,
     "user": {
      "displayName": "Nelson L.",
      "photoUrl": "https://lh3.googleusercontent.com/a-/AOh14GipnVJXi8Vo7o6qBMpdgcfZB2j9TYnsly5vDf6nig=s64",
      "userId": "03694478629413699942"
     },
     "user_tz": -480
    },
    "id": "nONu_Kyfm0fW"
   },
   "outputs": [],
   "source": [
    "data_collator = default_data_collator"
   ]
  },
  {
   "cell_type": "code",
   "execution_count": 71,
   "metadata": {
    "executionInfo": {
     "elapsed": 11524,
     "status": "ok",
     "timestamp": 1643773078634,
     "user": {
      "displayName": "Nelson L.",
      "photoUrl": "https://lh3.googleusercontent.com/a-/AOh14GipnVJXi8Vo7o6qBMpdgcfZB2j9TYnsly5vDf6nig=s64",
      "userId": "03694478629413699942"
     },
     "user_tz": -480
    },
    "id": "XITuziM-m6HX"
   },
   "outputs": [],
   "source": [
    "trainer = Trainer(\n",
    "model,\n",
    "args,\n",
    "train_dataset = TrainTokenizedDataset,\n",
    "eval_dataset = DevTokenizedDataset,\n",
    "data_collator = data_collator,\n",
    "tokenizer = tokenizer,\n",
    ")"
   ]
  },
  {
   "cell_type": "code",
   "execution_count": 72,
   "metadata": {
    "colab": {
     "base_uri": "https://localhost:8080/",
     "height": 422
    },
    "id": "vwZUB7S0nMBH",
    "outputId": "bdf58c3c-0ac1-4103-e07b-7478cf01afcd"
   },
   "outputs": [
    {
     "name": "stderr",
     "output_type": "stream",
     "text": [
      "***** Running training *****\n",
      "  Num examples = 130319\n",
      "  Num Epochs = 2\n",
      "  Instantaneous batch size per device = 24\n",
      "  Total train batch size (w. parallel, distributed & accumulation) = 24\n",
      "  Gradient Accumulation steps = 1\n",
      "  Total optimization steps = 10860\n"
     ]
    },
    {
     "data": {
      "text/html": [
       "\n",
       "    <div>\n",
       "      \n",
       "      <progress value='10860' max='10860' style='width:300px; height:20px; vertical-align: middle;'></progress>\n",
       "      [10860/10860 1:55:42, Epoch 2/2]\n",
       "    </div>\n",
       "    <table border=\"1\" class=\"dataframe\">\n",
       "  <thead>\n",
       "    <tr style=\"text-align: left;\">\n",
       "      <th>Step</th>\n",
       "      <th>Training Loss</th>\n",
       "      <th>Validation Loss</th>\n",
       "    </tr>\n",
       "  </thead>\n",
       "  <tbody>\n",
       "    <tr>\n",
       "      <td>600</td>\n",
       "      <td>1.511500</td>\n",
       "      <td>1.083720</td>\n",
       "    </tr>\n",
       "    <tr>\n",
       "      <td>1200</td>\n",
       "      <td>1.114300</td>\n",
       "      <td>0.982566</td>\n",
       "    </tr>\n",
       "    <tr>\n",
       "      <td>1800</td>\n",
       "      <td>1.014800</td>\n",
       "      <td>0.960800</td>\n",
       "    </tr>\n",
       "    <tr>\n",
       "      <td>2400</td>\n",
       "      <td>1.006000</td>\n",
       "      <td>1.010260</td>\n",
       "    </tr>\n",
       "    <tr>\n",
       "      <td>3000</td>\n",
       "      <td>0.932800</td>\n",
       "      <td>0.912130</td>\n",
       "    </tr>\n",
       "    <tr>\n",
       "      <td>3600</td>\n",
       "      <td>0.906700</td>\n",
       "      <td>0.917927</td>\n",
       "    </tr>\n",
       "    <tr>\n",
       "      <td>4200</td>\n",
       "      <td>0.913500</td>\n",
       "      <td>0.917354</td>\n",
       "    </tr>\n",
       "    <tr>\n",
       "      <td>4800</td>\n",
       "      <td>0.898800</td>\n",
       "      <td>0.882689</td>\n",
       "    </tr>\n",
       "    <tr>\n",
       "      <td>5400</td>\n",
       "      <td>0.875500</td>\n",
       "      <td>0.848747</td>\n",
       "    </tr>\n",
       "    <tr>\n",
       "      <td>6000</td>\n",
       "      <td>0.689800</td>\n",
       "      <td>0.876036</td>\n",
       "    </tr>\n",
       "    <tr>\n",
       "      <td>6600</td>\n",
       "      <td>0.685500</td>\n",
       "      <td>0.854937</td>\n",
       "    </tr>\n",
       "    <tr>\n",
       "      <td>7200</td>\n",
       "      <td>0.663200</td>\n",
       "      <td>0.879941</td>\n",
       "    </tr>\n",
       "    <tr>\n",
       "      <td>7800</td>\n",
       "      <td>0.659700</td>\n",
       "      <td>0.859121</td>\n",
       "    </tr>\n",
       "    <tr>\n",
       "      <td>8400</td>\n",
       "      <td>0.663400</td>\n",
       "      <td>0.860032</td>\n",
       "    </tr>\n",
       "    <tr>\n",
       "      <td>9000</td>\n",
       "      <td>0.664700</td>\n",
       "      <td>0.836313</td>\n",
       "    </tr>\n",
       "    <tr>\n",
       "      <td>9600</td>\n",
       "      <td>0.640400</td>\n",
       "      <td>0.914950</td>\n",
       "    </tr>\n",
       "    <tr>\n",
       "      <td>10200</td>\n",
       "      <td>0.639000</td>\n",
       "      <td>0.862699</td>\n",
       "    </tr>\n",
       "    <tr>\n",
       "      <td>10800</td>\n",
       "      <td>0.634500</td>\n",
       "      <td>0.854967</td>\n",
       "    </tr>\n",
       "  </tbody>\n",
       "</table><p>"
      ],
      "text/plain": [
       "<IPython.core.display.HTML object>"
      ]
     },
     "metadata": {},
     "output_type": "display_data"
    },
    {
     "name": "stderr",
     "output_type": "stream",
     "text": [
      "***** Running Evaluation *****\n",
      "  Num examples = 11873\n",
      "  Batch size = 24\n",
      "Saving model checkpoint to ./single-albert-squad/checkpoint-600\n",
      "Configuration saved in ./single-albert-squad/checkpoint-600/config.json\n",
      "Model weights saved in ./single-albert-squad/checkpoint-600/pytorch_model.bin\n",
      "tokenizer config file saved in ./single-albert-squad/checkpoint-600/tokenizer_config.json\n",
      "Special tokens file saved in ./single-albert-squad/checkpoint-600/special_tokens_map.json\n",
      "***** Running Evaluation *****\n",
      "  Num examples = 11873\n",
      "  Batch size = 24\n",
      "Saving model checkpoint to ./single-albert-squad/checkpoint-1200\n",
      "Configuration saved in ./single-albert-squad/checkpoint-1200/config.json\n",
      "Model weights saved in ./single-albert-squad/checkpoint-1200/pytorch_model.bin\n",
      "tokenizer config file saved in ./single-albert-squad/checkpoint-1200/tokenizer_config.json\n",
      "Special tokens file saved in ./single-albert-squad/checkpoint-1200/special_tokens_map.json\n",
      "***** Running Evaluation *****\n",
      "  Num examples = 11873\n",
      "  Batch size = 24\n",
      "Saving model checkpoint to ./single-albert-squad/checkpoint-1800\n",
      "Configuration saved in ./single-albert-squad/checkpoint-1800/config.json\n",
      "Model weights saved in ./single-albert-squad/checkpoint-1800/pytorch_model.bin\n",
      "tokenizer config file saved in ./single-albert-squad/checkpoint-1800/tokenizer_config.json\n",
      "Special tokens file saved in ./single-albert-squad/checkpoint-1800/special_tokens_map.json\n",
      "***** Running Evaluation *****\n",
      "  Num examples = 11873\n",
      "  Batch size = 24\n",
      "Saving model checkpoint to ./single-albert-squad/checkpoint-2400\n",
      "Configuration saved in ./single-albert-squad/checkpoint-2400/config.json\n",
      "Model weights saved in ./single-albert-squad/checkpoint-2400/pytorch_model.bin\n",
      "tokenizer config file saved in ./single-albert-squad/checkpoint-2400/tokenizer_config.json\n",
      "Special tokens file saved in ./single-albert-squad/checkpoint-2400/special_tokens_map.json\n",
      "***** Running Evaluation *****\n",
      "  Num examples = 11873\n",
      "  Batch size = 24\n",
      "Saving model checkpoint to ./single-albert-squad/checkpoint-3000\n",
      "Configuration saved in ./single-albert-squad/checkpoint-3000/config.json\n",
      "Model weights saved in ./single-albert-squad/checkpoint-3000/pytorch_model.bin\n",
      "tokenizer config file saved in ./single-albert-squad/checkpoint-3000/tokenizer_config.json\n",
      "Special tokens file saved in ./single-albert-squad/checkpoint-3000/special_tokens_map.json\n",
      "***** Running Evaluation *****\n",
      "  Num examples = 11873\n",
      "  Batch size = 24\n",
      "Saving model checkpoint to ./single-albert-squad/checkpoint-3600\n",
      "Configuration saved in ./single-albert-squad/checkpoint-3600/config.json\n",
      "Model weights saved in ./single-albert-squad/checkpoint-3600/pytorch_model.bin\n",
      "tokenizer config file saved in ./single-albert-squad/checkpoint-3600/tokenizer_config.json\n",
      "Special tokens file saved in ./single-albert-squad/checkpoint-3600/special_tokens_map.json\n",
      "***** Running Evaluation *****\n",
      "  Num examples = 11873\n",
      "  Batch size = 24\n",
      "Saving model checkpoint to ./single-albert-squad/checkpoint-4200\n",
      "Configuration saved in ./single-albert-squad/checkpoint-4200/config.json\n",
      "Model weights saved in ./single-albert-squad/checkpoint-4200/pytorch_model.bin\n",
      "tokenizer config file saved in ./single-albert-squad/checkpoint-4200/tokenizer_config.json\n",
      "Special tokens file saved in ./single-albert-squad/checkpoint-4200/special_tokens_map.json\n",
      "***** Running Evaluation *****\n",
      "  Num examples = 11873\n",
      "  Batch size = 24\n",
      "Saving model checkpoint to ./single-albert-squad/checkpoint-4800\n",
      "Configuration saved in ./single-albert-squad/checkpoint-4800/config.json\n",
      "Model weights saved in ./single-albert-squad/checkpoint-4800/pytorch_model.bin\n",
      "tokenizer config file saved in ./single-albert-squad/checkpoint-4800/tokenizer_config.json\n",
      "Special tokens file saved in ./single-albert-squad/checkpoint-4800/special_tokens_map.json\n",
      "***** Running Evaluation *****\n",
      "  Num examples = 11873\n",
      "  Batch size = 24\n",
      "Saving model checkpoint to ./single-albert-squad/checkpoint-5400\n",
      "Configuration saved in ./single-albert-squad/checkpoint-5400/config.json\n",
      "Model weights saved in ./single-albert-squad/checkpoint-5400/pytorch_model.bin\n",
      "tokenizer config file saved in ./single-albert-squad/checkpoint-5400/tokenizer_config.json\n",
      "Special tokens file saved in ./single-albert-squad/checkpoint-5400/special_tokens_map.json\n",
      "***** Running Evaluation *****\n",
      "  Num examples = 11873\n",
      "  Batch size = 24\n",
      "Saving model checkpoint to ./single-albert-squad/checkpoint-6000\n",
      "Configuration saved in ./single-albert-squad/checkpoint-6000/config.json\n",
      "Model weights saved in ./single-albert-squad/checkpoint-6000/pytorch_model.bin\n",
      "tokenizer config file saved in ./single-albert-squad/checkpoint-6000/tokenizer_config.json\n",
      "Special tokens file saved in ./single-albert-squad/checkpoint-6000/special_tokens_map.json\n",
      "***** Running Evaluation *****\n",
      "  Num examples = 11873\n",
      "  Batch size = 24\n",
      "Saving model checkpoint to ./single-albert-squad/checkpoint-6600\n",
      "Configuration saved in ./single-albert-squad/checkpoint-6600/config.json\n",
      "Model weights saved in ./single-albert-squad/checkpoint-6600/pytorch_model.bin\n",
      "tokenizer config file saved in ./single-albert-squad/checkpoint-6600/tokenizer_config.json\n",
      "Special tokens file saved in ./single-albert-squad/checkpoint-6600/special_tokens_map.json\n",
      "***** Running Evaluation *****\n",
      "  Num examples = 11873\n",
      "  Batch size = 24\n",
      "Saving model checkpoint to ./single-albert-squad/checkpoint-7200\n",
      "Configuration saved in ./single-albert-squad/checkpoint-7200/config.json\n",
      "Model weights saved in ./single-albert-squad/checkpoint-7200/pytorch_model.bin\n",
      "tokenizer config file saved in ./single-albert-squad/checkpoint-7200/tokenizer_config.json\n",
      "Special tokens file saved in ./single-albert-squad/checkpoint-7200/special_tokens_map.json\n",
      "***** Running Evaluation *****\n",
      "  Num examples = 11873\n",
      "  Batch size = 24\n",
      "Saving model checkpoint to ./single-albert-squad/checkpoint-7800\n",
      "Configuration saved in ./single-albert-squad/checkpoint-7800/config.json\n",
      "Model weights saved in ./single-albert-squad/checkpoint-7800/pytorch_model.bin\n",
      "tokenizer config file saved in ./single-albert-squad/checkpoint-7800/tokenizer_config.json\n",
      "Special tokens file saved in ./single-albert-squad/checkpoint-7800/special_tokens_map.json\n",
      "***** Running Evaluation *****\n",
      "  Num examples = 11873\n",
      "  Batch size = 24\n",
      "Saving model checkpoint to ./single-albert-squad/checkpoint-8400\n",
      "Configuration saved in ./single-albert-squad/checkpoint-8400/config.json\n",
      "Model weights saved in ./single-albert-squad/checkpoint-8400/pytorch_model.bin\n",
      "tokenizer config file saved in ./single-albert-squad/checkpoint-8400/tokenizer_config.json\n",
      "Special tokens file saved in ./single-albert-squad/checkpoint-8400/special_tokens_map.json\n",
      "***** Running Evaluation *****\n",
      "  Num examples = 11873\n",
      "  Batch size = 24\n",
      "Saving model checkpoint to ./single-albert-squad/checkpoint-9000\n",
      "Configuration saved in ./single-albert-squad/checkpoint-9000/config.json\n",
      "Model weights saved in ./single-albert-squad/checkpoint-9000/pytorch_model.bin\n",
      "tokenizer config file saved in ./single-albert-squad/checkpoint-9000/tokenizer_config.json\n",
      "Special tokens file saved in ./single-albert-squad/checkpoint-9000/special_tokens_map.json\n",
      "***** Running Evaluation *****\n",
      "  Num examples = 11873\n",
      "  Batch size = 24\n",
      "Saving model checkpoint to ./single-albert-squad/checkpoint-9600\n",
      "Configuration saved in ./single-albert-squad/checkpoint-9600/config.json\n",
      "Model weights saved in ./single-albert-squad/checkpoint-9600/pytorch_model.bin\n",
      "tokenizer config file saved in ./single-albert-squad/checkpoint-9600/tokenizer_config.json\n",
      "Special tokens file saved in ./single-albert-squad/checkpoint-9600/special_tokens_map.json\n",
      "***** Running Evaluation *****\n",
      "  Num examples = 11873\n",
      "  Batch size = 24\n",
      "Saving model checkpoint to ./single-albert-squad/checkpoint-10200\n",
      "Configuration saved in ./single-albert-squad/checkpoint-10200/config.json\n",
      "Model weights saved in ./single-albert-squad/checkpoint-10200/pytorch_model.bin\n",
      "tokenizer config file saved in ./single-albert-squad/checkpoint-10200/tokenizer_config.json\n",
      "Special tokens file saved in ./single-albert-squad/checkpoint-10200/special_tokens_map.json\n",
      "***** Running Evaluation *****\n",
      "  Num examples = 11873\n",
      "  Batch size = 24\n",
      "Saving model checkpoint to ./single-albert-squad/checkpoint-10800\n",
      "Configuration saved in ./single-albert-squad/checkpoint-10800/config.json\n",
      "Model weights saved in ./single-albert-squad/checkpoint-10800/pytorch_model.bin\n",
      "tokenizer config file saved in ./single-albert-squad/checkpoint-10800/tokenizer_config.json\n",
      "Special tokens file saved in ./single-albert-squad/checkpoint-10800/special_tokens_map.json\n",
      "\n",
      "\n",
      "Training completed. Do not forget to share your model on huggingface.co/models =)\n",
      "\n",
      "\n",
      "Loading best model from ./single-albert-squad/checkpoint-9000 (score: 0.8363126516342163).\n"
     ]
    },
    {
     "data": {
      "text/plain": [
       "TrainOutput(global_step=10860, training_loss=0.8386003431035669, metrics={'train_runtime': 6943.983, 'train_samples_per_second': 37.534, 'train_steps_per_second': 1.564, 'total_flos': 5755878281760768.0, 'train_loss': 0.8386003431035669, 'epoch': 2.0})"
      ]
     },
     "execution_count": 72,
     "metadata": {},
     "output_type": "execute_result"
    }
   ],
   "source": [
    "trainer.train()"
   ]
  },
  {
   "cell_type": "markdown",
   "metadata": {
    "id": "eCNlKD0PoA8R"
   },
   "source": [
    "# Evaluation"
   ]
  },
  {
   "cell_type": "code",
   "execution_count": 73,
   "metadata": {
    "id": "UuSI48GNn7aQ"
   },
   "outputs": [],
   "source": [
    "token_inputs = TrainTokenizedDataset[30:35]\n",
    "token_inputs = {k:v.to(device) for k,v in token_inputs.items()}\n",
    "max_answer_len = 32"
   ]
  },
  {
   "cell_type": "code",
   "execution_count": 74,
   "metadata": {
    "id": "3Qk6jeB_pQgH"
   },
   "outputs": [],
   "source": [
    "def answer_question_from_tokenized_inputs(model,token_inputs,device = 'cude'):\n",
    "    token_inputs = {k:v.to(device) for k,v in token_inputs.items()}\n",
    "\n",
    "    model = model.to(device)\n",
    "    model.eval()\n",
    "    with torch.no_grad():\n",
    "        output = model(**token_inputs)\n",
    "\n",
    "\n",
    "    token_inputs = {k:v.to(\"cpu\") for k,v in token_inputs.items()}\n",
    "\n",
    "    start_logits = output.start_logits.cpu().detach().numpy()\n",
    "    end_logits = output.end_logits.cpu().detach().numpy()\n",
    "\n",
    "    input_ids = token_inputs['input_ids']\n",
    "    result_dict_list = []\n",
    "\n",
    "    for idx in range(len(start_logits)):\n",
    "        result_dict = {}\n",
    "        start_end = (0,0)\n",
    "        start_end_score = (-1,-1)\n",
    "\n",
    "        score = -1\n",
    "\n",
    "        for start,p_start in enumerate(start_logits[idx]):\n",
    "            if p_start>0:\n",
    "                for end,p_end in enumerate(end_logits[idx]):\n",
    "                    if p_end>0:\n",
    "                        if end >= start and end < start + max_answer_len:\n",
    "                            if p_start * p_end > score:\n",
    "                                start_end = (start,end)\n",
    "                                start_end_score = (p_start,p_end)\n",
    "                                score = p_start * p_end\n",
    "        start,end = start_end\n",
    "        start_score,end_score = start_end_score\n",
    "\n",
    "        pred_answer = \"\"\n",
    "        if start!=0 and end !=0:\n",
    "            pred_answer = tokenizer.decode(\n",
    "                input_ids[idx][start:end+1]\n",
    "            )\n",
    "\n",
    "        result_dict['start_pos'] = start\n",
    "        result_dict['start_score'] = start_score\n",
    "        result_dict['end_pos'] = end\n",
    "        result_dict['end_score'] = end_score\n",
    "\n",
    "        result_dict['answer'] = pred_answer\n",
    "        result_dict['score'] = score\n",
    "\n",
    "        result_dict_list.append(result_dict)\n",
    "\n",
    "    return result_dict_list\n",
    "\n",
    "\n",
    "\n",
    "\n",
    "\n",
    "    \n"
   ]
  },
  {
   "cell_type": "code",
   "execution_count": 75,
   "metadata": {
    "id": "SZ3ncEC-r0vg"
   },
   "outputs": [],
   "source": [
    "# answer_question_from_tokenized_inputs(model,token_inputs,'cuda')"
   ]
  },
  {
   "cell_type": "code",
   "execution_count": 76,
   "metadata": {
    "id": "wakfPK77r9wS"
   },
   "outputs": [],
   "source": [
    "def answer_question_from_context(context_list,question_list,tokenizer,device):\n",
    "    tokenized_list = []\n",
    "\n",
    "    for context,question in zip(context_list,question_list):\n",
    "        tokenized_inputs = tokenizer(\n",
    "            text = question,\n",
    "            text_pair = context,\n",
    "            truncation = \"only_second\",\n",
    "            add_special_tokens = True,\n",
    "            max_length = max_length,\n",
    "            padding = \"max_length\",\n",
    "            return_offsets_mapping = False,\n",
    "        )\n",
    "\n",
    "        tokenized_list.append(tokenized_inputs)\n",
    "\n",
    "\n",
    "    tokenized_dataframe = pd.DataFrame(tokenized_list)\n",
    "\n",
    "    token_inputs = tokenized_dataframe.to_dict(\"list\")\n",
    "\n",
    "    token_inputs = {k:torch.tensor(v,dtype = torch.long).to(device) for k,v in token_inputs.items()}\n",
    "\n",
    "    res_list = answer_question_from_tokenized_inputs(model,token_inputs,device = device)\n",
    "\n",
    "    return res_list"
   ]
  },
  {
   "cell_type": "code",
   "execution_count": 105,
   "metadata": {
    "id": "V8aNWoWgtc5w"
   },
   "outputs": [],
   "source": [
    "sample_df = dev_data_df.head(10)\n",
    "context_list = sample_df['context']\n",
    "question_list = sample_df['question']\n",
    "real_answer_list = sample_df['answer_text']"
   ]
  },
  {
   "cell_type": "code",
   "execution_count": 106,
   "metadata": {
    "id": "9yu0Qudutwkj"
   },
   "outputs": [],
   "source": [
    "predict_result = answer_question_from_context(context_list,question_list,tokenizer,'cuda')"
   ]
  },
  {
   "cell_type": "code",
   "execution_count": 107,
   "metadata": {
    "id": "0RnnjS39t3II"
   },
   "outputs": [
    {
     "data": {
      "text/plain": [
       "[{'start_pos': 54,\n",
       "  'start_score': 9.47926,\n",
       "  'end_pos': 54,\n",
       "  'end_score': 9.101431,\n",
       "  'answer': 'france',\n",
       "  'score': 86.27483},\n",
       " {'start_pos': 40,\n",
       "  'start_score': 9.09523,\n",
       "  'end_pos': 45,\n",
       "  'end_score': 9.475946,\n",
       "  'answer': '10th and 11th centuries',\n",
       "  'score': 86.18591},\n",
       " {'start_pos': 0,\n",
       "  'start_score': 8.076175,\n",
       "  'end_pos': 0,\n",
       "  'end_score': 8.088457,\n",
       "  'answer': '',\n",
       "  'score': 65.32379},\n",
       " {'start_pos': 0,\n",
       "  'start_score': 8.994506,\n",
       "  'end_pos': 0,\n",
       "  'end_score': 8.857089,\n",
       "  'answer': '',\n",
       "  'score': 79.66514},\n",
       " {'start_pos': 44,\n",
       "  'start_score': 8.427077,\n",
       "  'end_pos': 45,\n",
       "  'end_score': 8.577871,\n",
       "  'answer': '10th',\n",
       "  'score': 72.286385},\n",
       " {'start_pos': 0,\n",
       "  'start_score': 10.277268,\n",
       "  'end_pos': 0,\n",
       "  'end_score': 9.69535,\n",
       "  'answer': '',\n",
       "  'score': 99.64171},\n",
       " {'start_pos': 0,\n",
       "  'start_score': 9.1655035,\n",
       "  'end_pos': 0,\n",
       "  'end_score': 9.256594,\n",
       "  'answer': '',\n",
       "  'score': 84.84134},\n",
       " {'start_pos': 0,\n",
       "  'start_score': 9.420945,\n",
       "  'end_pos': 0,\n",
       "  'end_score': 10.140012,\n",
       "  'answer': '',\n",
       "  'score': 95.528496},\n",
       " {'start_pos': 0,\n",
       "  'start_score': 9.635123,\n",
       "  'end_pos': 0,\n",
       "  'end_score': 10.119789,\n",
       "  'answer': '',\n",
       "  'score': 97.50542},\n",
       " {'start_pos': 202,\n",
       "  'start_score': 7.784845,\n",
       "  'end_pos': 204,\n",
       "  'end_score': 7.9401717,\n",
       "  'answer': 'william the conqueror',\n",
       "  'score': 61.813004}]"
      ]
     },
     "execution_count": 107,
     "metadata": {},
     "output_type": "execute_result"
    }
   ],
   "source": [
    "predict_result"
   ]
  },
  {
   "cell_type": "code",
   "execution_count": 108,
   "metadata": {
    "id": "6a-3tnTtuQDY"
   },
   "outputs": [
    {
     "data": {
      "text/plain": [
       "['France',\n",
       " 'in the 10th and 11th centuries',\n",
       " 'Denmark, Iceland and Norway',\n",
       " 'Rollo',\n",
       " 'the first half of the 10th century',\n",
       " '',\n",
       " '',\n",
       " '',\n",
       " '',\n",
       " 'William the Conqueror']"
      ]
     },
     "execution_count": 108,
     "metadata": {},
     "output_type": "execute_result"
    }
   ],
   "source": [
    "real_answer_list.to_list()"
   ]
  },
  {
   "cell_type": "markdown",
   "metadata": {
    "id": "65Arp4St3AG1"
   },
   "source": [
    "### Evaulate with official function"
   ]
  },
  {
   "cell_type": "code",
   "execution_count": 81,
   "metadata": {
    "id": "odaMNuIr3Qgl"
   },
   "outputs": [],
   "source": [
    "from torch.utils.data import DataLoader\n",
    "from tqdm import tqdm"
   ]
  },
  {
   "cell_type": "code",
   "execution_count": 87,
   "metadata": {},
   "outputs": [],
   "source": [
    "# train_data_path = os.path.join(squad_v2_dir, \"train-v2.0.json\")\n",
    "dev_data_path = os.path.join(squad_v2_dir, 'dev-v2.0.json')\n",
    "\n",
    "# train_data_dict = load_data(train_data_path, True)\n",
    "dev_data_dict = load_data(dev_data_path, load_impossible_answer=False)"
   ]
  },
  {
   "cell_type": "code",
   "execution_count": 88,
   "metadata": {
    "id": "uCUAODer4GYt"
   },
   "outputs": [],
   "source": [
    "dev_data_df = pd.DataFrame(dev_data_dict)\n",
    "dev_feature_df = dev_data_df.apply(lambda df: prepare_feature(df),axis = 1)\n",
    "dev_feature_df = pd.DataFrame(list(dev_feature_df))\n",
    "DevTokenizedDataset  = SQUADTokenizedDataSet(dev_feature_df,\"cuda\")"
   ]
  },
  {
   "cell_type": "code",
   "execution_count": 89,
   "metadata": {
    "id": "-n0d6A_m4c0u"
   },
   "outputs": [],
   "source": [
    "DevTokenizedLoader = DataLoader(DevTokenizedDataset,batch_size=32,shuffle=False)"
   ]
  },
  {
   "cell_type": "code",
   "execution_count": 90,
   "metadata": {
    "id": "MnOIPcD35kIl"
   },
   "outputs": [],
   "source": [
    "all_result_dict_list = []"
   ]
  },
  {
   "cell_type": "code",
   "execution_count": 91,
   "metadata": {
    "id": "u51DT9uE5FVp"
   },
   "outputs": [
    {
     "name": "stderr",
     "output_type": "stream",
     "text": [
      "100%|██████████| 372/372 [08:05<00:00,  1.30s/it]\n"
     ]
    }
   ],
   "source": [
    "for token_inputs in tqdm(DevTokenizedLoader):\n",
    "    result_dict_list = answer_question_from_tokenized_inputs(model,token_inputs,device = 'cuda')\n",
    "    all_result_dict_list.extend(result_dict_list)"
   ]
  },
  {
   "cell_type": "code",
   "execution_count": 92,
   "metadata": {
    "id": "-4m9PC_A5_we"
   },
   "outputs": [],
   "source": [
    "predict_answers = [dict_['answer'] for dict_ in all_result_dict_list]"
   ]
  },
  {
   "cell_type": "code",
   "execution_count": 93,
   "metadata": {
    "id": "Xf75j6_A6SeW"
   },
   "outputs": [],
   "source": [
    "dev_data_df['prection_answer'] = predict_answers"
   ]
  },
  {
   "cell_type": "code",
   "execution_count": 94,
   "metadata": {
    "id": "cDgUt2-18pnB"
   },
   "outputs": [],
   "source": [
    "preds = dev_data_df[['id','prection_answer']].set_index('id').T.to_dict('records')[0]"
   ]
  },
  {
   "cell_type": "code",
   "execution_count": 95,
   "metadata": {
    "id": "3_AXIeKg6V5O"
   },
   "outputs": [],
   "source": [
    "dev_dataset = read_json(dev_data_path)"
   ]
  },
  {
   "cell_type": "code",
   "execution_count": 96,
   "metadata": {
    "id": "d6M7ISBs07v_"
   },
   "outputs": [],
   "source": [
    "import sys\n",
    "# import official evaluation function\n",
    "sys.path.append(squad_v2_dir)"
   ]
  },
  {
   "cell_type": "code",
   "execution_count": 97,
   "metadata": {
    "id": "8AmQFlgz1Lln"
   },
   "outputs": [],
   "source": [
    "import evaluate as evaluate_utils "
   ]
  },
  {
   "cell_type": "code",
   "execution_count": 98,
   "metadata": {
    "id": "HZvtLbTy1ozV"
   },
   "outputs": [],
   "source": [
    "exact_raw,f1_raw = evaluate_utils.get_raw_scores(dev_dataset,preds)"
   ]
  },
  {
   "cell_type": "code",
   "execution_count": 99,
   "metadata": {
    "id": "-wmcto2a9_Cs"
   },
   "outputs": [],
   "source": [
    "metrics = evaluate_utils.make_eval_dict(exact_raw,f1_raw)  "
   ]
  },
  {
   "cell_type": "code",
   "execution_count": 100,
   "metadata": {
    "id": "D1y-IhoJ1pW2"
   },
   "outputs": [
    {
     "data": {
      "text/plain": [
       "OrderedDict([('exact', 78.657458098206),\n",
       "             ('f1', 81.93571504516356),\n",
       "             ('total', 11873)])"
      ]
     },
     "execution_count": 100,
     "metadata": {},
     "output_type": "execute_result"
    }
   ],
   "source": [
    "metrics\n",
    "# increate the size of training data to imporve the metrics"
   ]
  },
  {
   "cell_type": "code",
   "execution_count": null,
   "metadata": {
    "id": "h2e2FbukCytu"
   },
   "outputs": [],
   "source": []
  }
 ],
 "metadata": {
  "accelerator": "GPU",
  "colab": {
   "collapsed_sections": [],
   "name": "Fine Tune AlBERT For Question And Answering on SQUAD",
   "provenance": [
    {
     "file_id": "https://github.com/huggingface/notebooks/blob/master/examples/question_answering.ipynb",
     "timestamp": 1640747938302
    }
   ]
  },
  "kernelspec": {
   "display_name": "Python 3",
   "language": "python",
   "name": "python3"
  },
  "language_info": {
   "codemirror_mode": {
    "name": "ipython",
    "version": 3
   },
   "file_extension": ".py",
   "mimetype": "text/x-python",
   "name": "python",
   "nbconvert_exporter": "python",
   "pygments_lexer": "ipython3",
   "version": "3.6.9"
  },
  "widgets": {
   "application/vnd.jupyter.widget-state+json": {
    "0800fa4435cc4c17906dc6ec43a98b46": {
     "model_module": "@jupyter-widgets/base",
     "model_module_version": "1.2.0",
     "model_name": "LayoutModel",
     "state": {
      "_model_module": "@jupyter-widgets/base",
      "_model_module_version": "1.2.0",
      "_model_name": "LayoutModel",
      "_view_count": null,
      "_view_module": "@jupyter-widgets/base",
      "_view_module_version": "1.2.0",
      "_view_name": "LayoutView",
      "align_content": null,
      "align_items": null,
      "align_self": null,
      "border": null,
      "bottom": null,
      "display": null,
      "flex": null,
      "flex_flow": null,
      "grid_area": null,
      "grid_auto_columns": null,
      "grid_auto_flow": null,
      "grid_auto_rows": null,
      "grid_column": null,
      "grid_gap": null,
      "grid_row": null,
      "grid_template_areas": null,
      "grid_template_columns": null,
      "grid_template_rows": null,
      "height": null,
      "justify_content": null,
      "justify_items": null,
      "left": null,
      "margin": null,
      "max_height": null,
      "max_width": null,
      "min_height": null,
      "min_width": null,
      "object_fit": null,
      "object_position": null,
      "order": null,
      "overflow": null,
      "overflow_x": null,
      "overflow_y": null,
      "padding": null,
      "right": null,
      "top": null,
      "visibility": null,
      "width": null
     }
    },
    "08e57e69affe4576a34c029838c168ba": {
     "model_module": "@jupyter-widgets/controls",
     "model_module_version": "1.5.0",
     "model_name": "DescriptionStyleModel",
     "state": {
      "_model_module": "@jupyter-widgets/controls",
      "_model_module_version": "1.5.0",
      "_model_name": "DescriptionStyleModel",
      "_view_count": null,
      "_view_module": "@jupyter-widgets/base",
      "_view_module_version": "1.2.0",
      "_view_name": "StyleView",
      "description_width": ""
     }
    },
    "092e2304fa34421ba3a165ac99011ec1": {
     "model_module": "@jupyter-widgets/base",
     "model_module_version": "1.2.0",
     "model_name": "LayoutModel",
     "state": {
      "_model_module": "@jupyter-widgets/base",
      "_model_module_version": "1.2.0",
      "_model_name": "LayoutModel",
      "_view_count": null,
      "_view_module": "@jupyter-widgets/base",
      "_view_module_version": "1.2.0",
      "_view_name": "LayoutView",
      "align_content": null,
      "align_items": null,
      "align_self": null,
      "border": null,
      "bottom": null,
      "display": null,
      "flex": null,
      "flex_flow": null,
      "grid_area": null,
      "grid_auto_columns": null,
      "grid_auto_flow": null,
      "grid_auto_rows": null,
      "grid_column": null,
      "grid_gap": null,
      "grid_row": null,
      "grid_template_areas": null,
      "grid_template_columns": null,
      "grid_template_rows": null,
      "height": null,
      "justify_content": null,
      "justify_items": null,
      "left": null,
      "margin": null,
      "max_height": null,
      "max_width": null,
      "min_height": null,
      "min_width": null,
      "object_fit": null,
      "object_position": null,
      "order": null,
      "overflow": null,
      "overflow_x": null,
      "overflow_y": null,
      "padding": null,
      "right": null,
      "top": null,
      "visibility": null,
      "width": null
     }
    },
    "09b197fee6094235996f917f046a3b2f": {
     "model_module": "@jupyter-widgets/base",
     "model_module_version": "1.2.0",
     "model_name": "LayoutModel",
     "state": {
      "_model_module": "@jupyter-widgets/base",
      "_model_module_version": "1.2.0",
      "_model_name": "LayoutModel",
      "_view_count": null,
      "_view_module": "@jupyter-widgets/base",
      "_view_module_version": "1.2.0",
      "_view_name": "LayoutView",
      "align_content": null,
      "align_items": null,
      "align_self": null,
      "border": null,
      "bottom": null,
      "display": null,
      "flex": null,
      "flex_flow": null,
      "grid_area": null,
      "grid_auto_columns": null,
      "grid_auto_flow": null,
      "grid_auto_rows": null,
      "grid_column": null,
      "grid_gap": null,
      "grid_row": null,
      "grid_template_areas": null,
      "grid_template_columns": null,
      "grid_template_rows": null,
      "height": null,
      "justify_content": null,
      "justify_items": null,
      "left": null,
      "margin": null,
      "max_height": null,
      "max_width": null,
      "min_height": null,
      "min_width": null,
      "object_fit": null,
      "object_position": null,
      "order": null,
      "overflow": null,
      "overflow_x": null,
      "overflow_y": null,
      "padding": null,
      "right": null,
      "top": null,
      "visibility": null,
      "width": null
     }
    },
    "12a35eec2ceb4f6f80a35e9da075da92": {
     "model_module": "@jupyter-widgets/controls",
     "model_module_version": "1.5.0",
     "model_name": "HTMLModel",
     "state": {
      "_dom_classes": [],
      "_model_module": "@jupyter-widgets/controls",
      "_model_module_version": "1.5.0",
      "_model_name": "HTMLModel",
      "_view_count": null,
      "_view_module": "@jupyter-widgets/controls",
      "_view_module_version": "1.5.0",
      "_view_name": "HTMLView",
      "description": "",
      "description_tooltip": null,
      "layout": "IPY_MODEL_76a6d9944908407d8d95139fb108b7bb",
      "placeholder": "​",
      "style": "IPY_MODEL_a6d65fd924854c55a583ea57eee47342",
      "value": " 45.2M/45.2M [00:01&lt;00:00, 37.5MB/s]"
     }
    },
    "1d6698d4ab1c44388d544ae051dbc71e": {
     "model_module": "@jupyter-widgets/base",
     "model_module_version": "1.2.0",
     "model_name": "LayoutModel",
     "state": {
      "_model_module": "@jupyter-widgets/base",
      "_model_module_version": "1.2.0",
      "_model_name": "LayoutModel",
      "_view_count": null,
      "_view_module": "@jupyter-widgets/base",
      "_view_module_version": "1.2.0",
      "_view_name": "LayoutView",
      "align_content": null,
      "align_items": null,
      "align_self": null,
      "border": null,
      "bottom": null,
      "display": null,
      "flex": null,
      "flex_flow": null,
      "grid_area": null,
      "grid_auto_columns": null,
      "grid_auto_flow": null,
      "grid_auto_rows": null,
      "grid_column": null,
      "grid_gap": null,
      "grid_row": null,
      "grid_template_areas": null,
      "grid_template_columns": null,
      "grid_template_rows": null,
      "height": null,
      "justify_content": null,
      "justify_items": null,
      "left": null,
      "margin": null,
      "max_height": null,
      "max_width": null,
      "min_height": null,
      "min_width": null,
      "object_fit": null,
      "object_position": null,
      "order": null,
      "overflow": null,
      "overflow_x": null,
      "overflow_y": null,
      "padding": null,
      "right": null,
      "top": null,
      "visibility": null,
      "width": null
     }
    },
    "2db95a5cf5bc4d92a93d4ad75be0e33d": {
     "model_module": "@jupyter-widgets/controls",
     "model_module_version": "1.5.0",
     "model_name": "DescriptionStyleModel",
     "state": {
      "_model_module": "@jupyter-widgets/controls",
      "_model_module_version": "1.5.0",
      "_model_name": "DescriptionStyleModel",
      "_view_count": null,
      "_view_module": "@jupyter-widgets/base",
      "_view_module_version": "1.2.0",
      "_view_name": "StyleView",
      "description_width": ""
     }
    },
    "35f843ffa4044dcf887177da3cd5c5aa": {
     "model_module": "@jupyter-widgets/controls",
     "model_module_version": "1.5.0",
     "model_name": "DescriptionStyleModel",
     "state": {
      "_model_module": "@jupyter-widgets/controls",
      "_model_module_version": "1.5.0",
      "_model_name": "DescriptionStyleModel",
      "_view_count": null,
      "_view_module": "@jupyter-widgets/base",
      "_view_module_version": "1.2.0",
      "_view_name": "StyleView",
      "description_width": ""
     }
    },
    "364b6b27a35a46029bc86a30241761cb": {
     "model_module": "@jupyter-widgets/controls",
     "model_module_version": "1.5.0",
     "model_name": "FloatProgressModel",
     "state": {
      "_dom_classes": [],
      "_model_module": "@jupyter-widgets/controls",
      "_model_module_version": "1.5.0",
      "_model_name": "FloatProgressModel",
      "_view_count": null,
      "_view_module": "@jupyter-widgets/controls",
      "_view_module_version": "1.5.0",
      "_view_name": "ProgressView",
      "bar_style": "success",
      "description": "",
      "description_tooltip": null,
      "layout": "IPY_MODEL_1d6698d4ab1c44388d544ae051dbc71e",
      "max": 684,
      "min": 0,
      "orientation": "horizontal",
      "style": "IPY_MODEL_40069b641be54058bcb75985f8419dd9",
      "value": 684
     }
    },
    "37cda379e2e045698cd7a7785d6a6d36": {
     "model_module": "@jupyter-widgets/controls",
     "model_module_version": "1.5.0",
     "model_name": "DescriptionStyleModel",
     "state": {
      "_model_module": "@jupyter-widgets/controls",
      "_model_module_version": "1.5.0",
      "_model_name": "DescriptionStyleModel",
      "_view_count": null,
      "_view_module": "@jupyter-widgets/base",
      "_view_module_version": "1.2.0",
      "_view_name": "StyleView",
      "description_width": ""
     }
    },
    "40069b641be54058bcb75985f8419dd9": {
     "model_module": "@jupyter-widgets/controls",
     "model_module_version": "1.5.0",
     "model_name": "ProgressStyleModel",
     "state": {
      "_model_module": "@jupyter-widgets/controls",
      "_model_module_version": "1.5.0",
      "_model_name": "ProgressStyleModel",
      "_view_count": null,
      "_view_module": "@jupyter-widgets/base",
      "_view_module_version": "1.2.0",
      "_view_name": "StyleView",
      "bar_color": null,
      "description_width": ""
     }
    },
    "4429e76886d7454ea671b52b3c74c956": {
     "model_module": "@jupyter-widgets/controls",
     "model_module_version": "1.5.0",
     "model_name": "FloatProgressModel",
     "state": {
      "_dom_classes": [],
      "_model_module": "@jupyter-widgets/controls",
      "_model_module_version": "1.5.0",
      "_model_name": "FloatProgressModel",
      "_view_count": null,
      "_view_module": "@jupyter-widgets/controls",
      "_view_module_version": "1.5.0",
      "_view_name": "ProgressView",
      "bar_style": "success",
      "description": "",
      "description_tooltip": null,
      "layout": "IPY_MODEL_d02aecb149014aadb2968baa56518dfc",
      "max": 760289,
      "min": 0,
      "orientation": "horizontal",
      "style": "IPY_MODEL_a22b07f634c644aeb62dbd0844363b9d",
      "value": 760289
     }
    },
    "520e810a881b4be9a77f1d8c11eee43b": {
     "model_module": "@jupyter-widgets/controls",
     "model_module_version": "1.5.0",
     "model_name": "HTMLModel",
     "state": {
      "_dom_classes": [],
      "_model_module": "@jupyter-widgets/controls",
      "_model_module_version": "1.5.0",
      "_model_name": "HTMLModel",
      "_view_count": null,
      "_view_module": "@jupyter-widgets/controls",
      "_view_module_version": "1.5.0",
      "_view_name": "HTMLView",
      "description": "",
      "description_tooltip": null,
      "layout": "IPY_MODEL_99d94f9f1073416db60afbd4de86f907",
      "placeholder": "​",
      "style": "IPY_MODEL_80a8b6b5c9d54627807398769af41086",
      "value": "Downloading: 100%"
     }
    },
    "53ac8e96c57d4e788040f4a96778f6f8": {
     "model_module": "@jupyter-widgets/controls",
     "model_module_version": "1.5.0",
     "model_name": "FloatProgressModel",
     "state": {
      "_dom_classes": [],
      "_model_module": "@jupyter-widgets/controls",
      "_model_module_version": "1.5.0",
      "_model_name": "FloatProgressModel",
      "_view_count": null,
      "_view_module": "@jupyter-widgets/controls",
      "_view_module_version": "1.5.0",
      "_view_name": "ProgressView",
      "bar_style": "success",
      "description": "",
      "description_tooltip": null,
      "layout": "IPY_MODEL_936feb82b08f4bd495105f87c26b1259",
      "max": 1312669,
      "min": 0,
      "orientation": "horizontal",
      "style": "IPY_MODEL_6c5819ac670744e8875b66a9c9c987fb",
      "value": 1312669
     }
    },
    "5c59bcec5b4844969eb70a5a2fbacb4c": {
     "model_module": "@jupyter-widgets/base",
     "model_module_version": "1.2.0",
     "model_name": "LayoutModel",
     "state": {
      "_model_module": "@jupyter-widgets/base",
      "_model_module_version": "1.2.0",
      "_model_name": "LayoutModel",
      "_view_count": null,
      "_view_module": "@jupyter-widgets/base",
      "_view_module_version": "1.2.0",
      "_view_name": "LayoutView",
      "align_content": null,
      "align_items": null,
      "align_self": null,
      "border": null,
      "bottom": null,
      "display": null,
      "flex": null,
      "flex_flow": null,
      "grid_area": null,
      "grid_auto_columns": null,
      "grid_auto_flow": null,
      "grid_auto_rows": null,
      "grid_column": null,
      "grid_gap": null,
      "grid_row": null,
      "grid_template_areas": null,
      "grid_template_columns": null,
      "grid_template_rows": null,
      "height": null,
      "justify_content": null,
      "justify_items": null,
      "left": null,
      "margin": null,
      "max_height": null,
      "max_width": null,
      "min_height": null,
      "min_width": null,
      "object_fit": null,
      "object_position": null,
      "order": null,
      "overflow": null,
      "overflow_x": null,
      "overflow_y": null,
      "padding": null,
      "right": null,
      "top": null,
      "visibility": null,
      "width": null
     }
    },
    "6525adc76d0b460e94b7d93f30e6c39f": {
     "model_module": "@jupyter-widgets/controls",
     "model_module_version": "1.5.0",
     "model_name": "HTMLModel",
     "state": {
      "_dom_classes": [],
      "_model_module": "@jupyter-widgets/controls",
      "_model_module_version": "1.5.0",
      "_model_name": "HTMLModel",
      "_view_count": null,
      "_view_module": "@jupyter-widgets/controls",
      "_view_module_version": "1.5.0",
      "_view_name": "HTMLView",
      "description": "",
      "description_tooltip": null,
      "layout": "IPY_MODEL_aecf98c0678b4e7fb76caf4b69d2f504",
      "placeholder": "​",
      "style": "IPY_MODEL_37cda379e2e045698cd7a7785d6a6d36",
      "value": " 1.25M/1.25M [00:00&lt;00:00, 2.14MB/s]"
     }
    },
    "6c5819ac670744e8875b66a9c9c987fb": {
     "model_module": "@jupyter-widgets/controls",
     "model_module_version": "1.5.0",
     "model_name": "ProgressStyleModel",
     "state": {
      "_model_module": "@jupyter-widgets/controls",
      "_model_module_version": "1.5.0",
      "_model_name": "ProgressStyleModel",
      "_view_count": null,
      "_view_module": "@jupyter-widgets/base",
      "_view_module_version": "1.2.0",
      "_view_name": "StyleView",
      "bar_color": null,
      "description_width": ""
     }
    },
    "6c64dcbef6ca455a9c2021107bb4cbdf": {
     "model_module": "@jupyter-widgets/controls",
     "model_module_version": "1.5.0",
     "model_name": "DescriptionStyleModel",
     "state": {
      "_model_module": "@jupyter-widgets/controls",
      "_model_module_version": "1.5.0",
      "_model_name": "DescriptionStyleModel",
      "_view_count": null,
      "_view_module": "@jupyter-widgets/base",
      "_view_module_version": "1.2.0",
      "_view_name": "StyleView",
      "description_width": ""
     }
    },
    "6e21c6d03da84a6b92c87dd0f50b8908": {
     "model_module": "@jupyter-widgets/controls",
     "model_module_version": "1.5.0",
     "model_name": "ProgressStyleModel",
     "state": {
      "_model_module": "@jupyter-widgets/controls",
      "_model_module_version": "1.5.0",
      "_model_name": "ProgressStyleModel",
      "_view_count": null,
      "_view_module": "@jupyter-widgets/base",
      "_view_module_version": "1.2.0",
      "_view_name": "StyleView",
      "bar_color": null,
      "description_width": ""
     }
    },
    "72dc0d02588a4a16b17ae363a793f0bf": {
     "model_module": "@jupyter-widgets/base",
     "model_module_version": "1.2.0",
     "model_name": "LayoutModel",
     "state": {
      "_model_module": "@jupyter-widgets/base",
      "_model_module_version": "1.2.0",
      "_model_name": "LayoutModel",
      "_view_count": null,
      "_view_module": "@jupyter-widgets/base",
      "_view_module_version": "1.2.0",
      "_view_name": "LayoutView",
      "align_content": null,
      "align_items": null,
      "align_self": null,
      "border": null,
      "bottom": null,
      "display": null,
      "flex": null,
      "flex_flow": null,
      "grid_area": null,
      "grid_auto_columns": null,
      "grid_auto_flow": null,
      "grid_auto_rows": null,
      "grid_column": null,
      "grid_gap": null,
      "grid_row": null,
      "grid_template_areas": null,
      "grid_template_columns": null,
      "grid_template_rows": null,
      "height": null,
      "justify_content": null,
      "justify_items": null,
      "left": null,
      "margin": null,
      "max_height": null,
      "max_width": null,
      "min_height": null,
      "min_width": null,
      "object_fit": null,
      "object_position": null,
      "order": null,
      "overflow": null,
      "overflow_x": null,
      "overflow_y": null,
      "padding": null,
      "right": null,
      "top": null,
      "visibility": null,
      "width": null
     }
    },
    "76a6d9944908407d8d95139fb108b7bb": {
     "model_module": "@jupyter-widgets/base",
     "model_module_version": "1.2.0",
     "model_name": "LayoutModel",
     "state": {
      "_model_module": "@jupyter-widgets/base",
      "_model_module_version": "1.2.0",
      "_model_name": "LayoutModel",
      "_view_count": null,
      "_view_module": "@jupyter-widgets/base",
      "_view_module_version": "1.2.0",
      "_view_name": "LayoutView",
      "align_content": null,
      "align_items": null,
      "align_self": null,
      "border": null,
      "bottom": null,
      "display": null,
      "flex": null,
      "flex_flow": null,
      "grid_area": null,
      "grid_auto_columns": null,
      "grid_auto_flow": null,
      "grid_auto_rows": null,
      "grid_column": null,
      "grid_gap": null,
      "grid_row": null,
      "grid_template_areas": null,
      "grid_template_columns": null,
      "grid_template_rows": null,
      "height": null,
      "justify_content": null,
      "justify_items": null,
      "left": null,
      "margin": null,
      "max_height": null,
      "max_width": null,
      "min_height": null,
      "min_width": null,
      "object_fit": null,
      "object_position": null,
      "order": null,
      "overflow": null,
      "overflow_x": null,
      "overflow_y": null,
      "padding": null,
      "right": null,
      "top": null,
      "visibility": null,
      "width": null
     }
    },
    "778facb3d7424c0da904c05b5c50b394": {
     "model_module": "@jupyter-widgets/base",
     "model_module_version": "1.2.0",
     "model_name": "LayoutModel",
     "state": {
      "_model_module": "@jupyter-widgets/base",
      "_model_module_version": "1.2.0",
      "_model_name": "LayoutModel",
      "_view_count": null,
      "_view_module": "@jupyter-widgets/base",
      "_view_module_version": "1.2.0",
      "_view_name": "LayoutView",
      "align_content": null,
      "align_items": null,
      "align_self": null,
      "border": null,
      "bottom": null,
      "display": null,
      "flex": null,
      "flex_flow": null,
      "grid_area": null,
      "grid_auto_columns": null,
      "grid_auto_flow": null,
      "grid_auto_rows": null,
      "grid_column": null,
      "grid_gap": null,
      "grid_row": null,
      "grid_template_areas": null,
      "grid_template_columns": null,
      "grid_template_rows": null,
      "height": null,
      "justify_content": null,
      "justify_items": null,
      "left": null,
      "margin": null,
      "max_height": null,
      "max_width": null,
      "min_height": null,
      "min_width": null,
      "object_fit": null,
      "object_position": null,
      "order": null,
      "overflow": null,
      "overflow_x": null,
      "overflow_y": null,
      "padding": null,
      "right": null,
      "top": null,
      "visibility": null,
      "width": null
     }
    },
    "7861a34adaac44ff9ca47af111fd9737": {
     "model_module": "@jupyter-widgets/controls",
     "model_module_version": "1.5.0",
     "model_name": "HTMLModel",
     "state": {
      "_dom_classes": [],
      "_model_module": "@jupyter-widgets/controls",
      "_model_module_version": "1.5.0",
      "_model_name": "HTMLModel",
      "_view_count": null,
      "_view_module": "@jupyter-widgets/controls",
      "_view_module_version": "1.5.0",
      "_view_name": "HTMLView",
      "description": "",
      "description_tooltip": null,
      "layout": "IPY_MODEL_778facb3d7424c0da904c05b5c50b394",
      "placeholder": "​",
      "style": "IPY_MODEL_08e57e69affe4576a34c029838c168ba",
      "value": "Downloading: 100%"
     }
    },
    "7b105cc320ee442e804a09fae4530872": {
     "model_module": "@jupyter-widgets/base",
     "model_module_version": "1.2.0",
     "model_name": "LayoutModel",
     "state": {
      "_model_module": "@jupyter-widgets/base",
      "_model_module_version": "1.2.0",
      "_model_name": "LayoutModel",
      "_view_count": null,
      "_view_module": "@jupyter-widgets/base",
      "_view_module_version": "1.2.0",
      "_view_name": "LayoutView",
      "align_content": null,
      "align_items": null,
      "align_self": null,
      "border": null,
      "bottom": null,
      "display": null,
      "flex": null,
      "flex_flow": null,
      "grid_area": null,
      "grid_auto_columns": null,
      "grid_auto_flow": null,
      "grid_auto_rows": null,
      "grid_column": null,
      "grid_gap": null,
      "grid_row": null,
      "grid_template_areas": null,
      "grid_template_columns": null,
      "grid_template_rows": null,
      "height": null,
      "justify_content": null,
      "justify_items": null,
      "left": null,
      "margin": null,
      "max_height": null,
      "max_width": null,
      "min_height": null,
      "min_width": null,
      "object_fit": null,
      "object_position": null,
      "order": null,
      "overflow": null,
      "overflow_x": null,
      "overflow_y": null,
      "padding": null,
      "right": null,
      "top": null,
      "visibility": null,
      "width": null
     }
    },
    "7ee2b649f08c4a02866201940bfa3a3e": {
     "model_module": "@jupyter-widgets/controls",
     "model_module_version": "1.5.0",
     "model_name": "HBoxModel",
     "state": {
      "_dom_classes": [],
      "_model_module": "@jupyter-widgets/controls",
      "_model_module_version": "1.5.0",
      "_model_name": "HBoxModel",
      "_view_count": null,
      "_view_module": "@jupyter-widgets/controls",
      "_view_module_version": "1.5.0",
      "_view_name": "HBoxView",
      "box_style": "",
      "children": [
       "IPY_MODEL_b938e3ef2bf54259ad67488f42f733c8",
       "IPY_MODEL_d4b19766ed104f3e8fab46c181743220",
       "IPY_MODEL_12a35eec2ceb4f6f80a35e9da075da92"
      ],
      "layout": "IPY_MODEL_72dc0d02588a4a16b17ae363a793f0bf"
     }
    },
    "80a8b6b5c9d54627807398769af41086": {
     "model_module": "@jupyter-widgets/controls",
     "model_module_version": "1.5.0",
     "model_name": "DescriptionStyleModel",
     "state": {
      "_model_module": "@jupyter-widgets/controls",
      "_model_module_version": "1.5.0",
      "_model_name": "DescriptionStyleModel",
      "_view_count": null,
      "_view_module": "@jupyter-widgets/base",
      "_view_module_version": "1.2.0",
      "_view_name": "StyleView",
      "description_width": ""
     }
    },
    "89494b73f38d4fb7a18422a09d527acb": {
     "model_module": "@jupyter-widgets/controls",
     "model_module_version": "1.5.0",
     "model_name": "HBoxModel",
     "state": {
      "_dom_classes": [],
      "_model_module": "@jupyter-widgets/controls",
      "_model_module_version": "1.5.0",
      "_model_name": "HBoxModel",
      "_view_count": null,
      "_view_module": "@jupyter-widgets/controls",
      "_view_module_version": "1.5.0",
      "_view_name": "HBoxView",
      "box_style": "",
      "children": [
       "IPY_MODEL_ff84a363af124346ab5b122307e2f81e",
       "IPY_MODEL_364b6b27a35a46029bc86a30241761cb",
       "IPY_MODEL_f76404686ced4b798a8c12c878f81a86"
      ],
      "layout": "IPY_MODEL_aebfe33e55014e29b74c0c6094afc744"
     }
    },
    "899d17e38848474bb6946b98716549b5": {
     "model_module": "@jupyter-widgets/base",
     "model_module_version": "1.2.0",
     "model_name": "LayoutModel",
     "state": {
      "_model_module": "@jupyter-widgets/base",
      "_model_module_version": "1.2.0",
      "_model_name": "LayoutModel",
      "_view_count": null,
      "_view_module": "@jupyter-widgets/base",
      "_view_module_version": "1.2.0",
      "_view_name": "LayoutView",
      "align_content": null,
      "align_items": null,
      "align_self": null,
      "border": null,
      "bottom": null,
      "display": null,
      "flex": null,
      "flex_flow": null,
      "grid_area": null,
      "grid_auto_columns": null,
      "grid_auto_flow": null,
      "grid_auto_rows": null,
      "grid_column": null,
      "grid_gap": null,
      "grid_row": null,
      "grid_template_areas": null,
      "grid_template_columns": null,
      "grid_template_rows": null,
      "height": null,
      "justify_content": null,
      "justify_items": null,
      "left": null,
      "margin": null,
      "max_height": null,
      "max_width": null,
      "min_height": null,
      "min_width": null,
      "object_fit": null,
      "object_position": null,
      "order": null,
      "overflow": null,
      "overflow_x": null,
      "overflow_y": null,
      "padding": null,
      "right": null,
      "top": null,
      "visibility": null,
      "width": null
     }
    },
    "936feb82b08f4bd495105f87c26b1259": {
     "model_module": "@jupyter-widgets/base",
     "model_module_version": "1.2.0",
     "model_name": "LayoutModel",
     "state": {
      "_model_module": "@jupyter-widgets/base",
      "_model_module_version": "1.2.0",
      "_model_name": "LayoutModel",
      "_view_count": null,
      "_view_module": "@jupyter-widgets/base",
      "_view_module_version": "1.2.0",
      "_view_name": "LayoutView",
      "align_content": null,
      "align_items": null,
      "align_self": null,
      "border": null,
      "bottom": null,
      "display": null,
      "flex": null,
      "flex_flow": null,
      "grid_area": null,
      "grid_auto_columns": null,
      "grid_auto_flow": null,
      "grid_auto_rows": null,
      "grid_column": null,
      "grid_gap": null,
      "grid_row": null,
      "grid_template_areas": null,
      "grid_template_columns": null,
      "grid_template_rows": null,
      "height": null,
      "justify_content": null,
      "justify_items": null,
      "left": null,
      "margin": null,
      "max_height": null,
      "max_width": null,
      "min_height": null,
      "min_width": null,
      "object_fit": null,
      "object_position": null,
      "order": null,
      "overflow": null,
      "overflow_x": null,
      "overflow_y": null,
      "padding": null,
      "right": null,
      "top": null,
      "visibility": null,
      "width": null
     }
    },
    "997d62d9f55f485a99c449064e02c0e9": {
     "model_module": "@jupyter-widgets/controls",
     "model_module_version": "1.5.0",
     "model_name": "HTMLModel",
     "state": {
      "_dom_classes": [],
      "_model_module": "@jupyter-widgets/controls",
      "_model_module_version": "1.5.0",
      "_model_name": "HTMLModel",
      "_view_count": null,
      "_view_module": "@jupyter-widgets/controls",
      "_view_module_version": "1.5.0",
      "_view_name": "HTMLView",
      "description": "",
      "description_tooltip": null,
      "layout": "IPY_MODEL_7b105cc320ee442e804a09fae4530872",
      "placeholder": "​",
      "style": "IPY_MODEL_6c64dcbef6ca455a9c2021107bb4cbdf",
      "value": " 742k/742k [00:00&lt;00:00, 1.89MB/s]"
     }
    },
    "99d94f9f1073416db60afbd4de86f907": {
     "model_module": "@jupyter-widgets/base",
     "model_module_version": "1.2.0",
     "model_name": "LayoutModel",
     "state": {
      "_model_module": "@jupyter-widgets/base",
      "_model_module_version": "1.2.0",
      "_model_name": "LayoutModel",
      "_view_count": null,
      "_view_module": "@jupyter-widgets/base",
      "_view_module_version": "1.2.0",
      "_view_name": "LayoutView",
      "align_content": null,
      "align_items": null,
      "align_self": null,
      "border": null,
      "bottom": null,
      "display": null,
      "flex": null,
      "flex_flow": null,
      "grid_area": null,
      "grid_auto_columns": null,
      "grid_auto_flow": null,
      "grid_auto_rows": null,
      "grid_column": null,
      "grid_gap": null,
      "grid_row": null,
      "grid_template_areas": null,
      "grid_template_columns": null,
      "grid_template_rows": null,
      "height": null,
      "justify_content": null,
      "justify_items": null,
      "left": null,
      "margin": null,
      "max_height": null,
      "max_width": null,
      "min_height": null,
      "min_width": null,
      "object_fit": null,
      "object_position": null,
      "order": null,
      "overflow": null,
      "overflow_x": null,
      "overflow_y": null,
      "padding": null,
      "right": null,
      "top": null,
      "visibility": null,
      "width": null
     }
    },
    "a22b07f634c644aeb62dbd0844363b9d": {
     "model_module": "@jupyter-widgets/controls",
     "model_module_version": "1.5.0",
     "model_name": "ProgressStyleModel",
     "state": {
      "_model_module": "@jupyter-widgets/controls",
      "_model_module_version": "1.5.0",
      "_model_name": "ProgressStyleModel",
      "_view_count": null,
      "_view_module": "@jupyter-widgets/base",
      "_view_module_version": "1.2.0",
      "_view_name": "StyleView",
      "bar_color": null,
      "description_width": ""
     }
    },
    "a6d65fd924854c55a583ea57eee47342": {
     "model_module": "@jupyter-widgets/controls",
     "model_module_version": "1.5.0",
     "model_name": "DescriptionStyleModel",
     "state": {
      "_model_module": "@jupyter-widgets/controls",
      "_model_module_version": "1.5.0",
      "_model_name": "DescriptionStyleModel",
      "_view_count": null,
      "_view_module": "@jupyter-widgets/base",
      "_view_module_version": "1.2.0",
      "_view_name": "StyleView",
      "description_width": ""
     }
    },
    "a721e29abf6d40b6ab2d706b5284c0bd": {
     "model_module": "@jupyter-widgets/base",
     "model_module_version": "1.2.0",
     "model_name": "LayoutModel",
     "state": {
      "_model_module": "@jupyter-widgets/base",
      "_model_module_version": "1.2.0",
      "_model_name": "LayoutModel",
      "_view_count": null,
      "_view_module": "@jupyter-widgets/base",
      "_view_module_version": "1.2.0",
      "_view_name": "LayoutView",
      "align_content": null,
      "align_items": null,
      "align_self": null,
      "border": null,
      "bottom": null,
      "display": null,
      "flex": null,
      "flex_flow": null,
      "grid_area": null,
      "grid_auto_columns": null,
      "grid_auto_flow": null,
      "grid_auto_rows": null,
      "grid_column": null,
      "grid_gap": null,
      "grid_row": null,
      "grid_template_areas": null,
      "grid_template_columns": null,
      "grid_template_rows": null,
      "height": null,
      "justify_content": null,
      "justify_items": null,
      "left": null,
      "margin": null,
      "max_height": null,
      "max_width": null,
      "min_height": null,
      "min_width": null,
      "object_fit": null,
      "object_position": null,
      "order": null,
      "overflow": null,
      "overflow_x": null,
      "overflow_y": null,
      "padding": null,
      "right": null,
      "top": null,
      "visibility": null,
      "width": null
     }
    },
    "aebfe33e55014e29b74c0c6094afc744": {
     "model_module": "@jupyter-widgets/base",
     "model_module_version": "1.2.0",
     "model_name": "LayoutModel",
     "state": {
      "_model_module": "@jupyter-widgets/base",
      "_model_module_version": "1.2.0",
      "_model_name": "LayoutModel",
      "_view_count": null,
      "_view_module": "@jupyter-widgets/base",
      "_view_module_version": "1.2.0",
      "_view_name": "LayoutView",
      "align_content": null,
      "align_items": null,
      "align_self": null,
      "border": null,
      "bottom": null,
      "display": null,
      "flex": null,
      "flex_flow": null,
      "grid_area": null,
      "grid_auto_columns": null,
      "grid_auto_flow": null,
      "grid_auto_rows": null,
      "grid_column": null,
      "grid_gap": null,
      "grid_row": null,
      "grid_template_areas": null,
      "grid_template_columns": null,
      "grid_template_rows": null,
      "height": null,
      "justify_content": null,
      "justify_items": null,
      "left": null,
      "margin": null,
      "max_height": null,
      "max_width": null,
      "min_height": null,
      "min_width": null,
      "object_fit": null,
      "object_position": null,
      "order": null,
      "overflow": null,
      "overflow_x": null,
      "overflow_y": null,
      "padding": null,
      "right": null,
      "top": null,
      "visibility": null,
      "width": null
     }
    },
    "aecf98c0678b4e7fb76caf4b69d2f504": {
     "model_module": "@jupyter-widgets/base",
     "model_module_version": "1.2.0",
     "model_name": "LayoutModel",
     "state": {
      "_model_module": "@jupyter-widgets/base",
      "_model_module_version": "1.2.0",
      "_model_name": "LayoutModel",
      "_view_count": null,
      "_view_module": "@jupyter-widgets/base",
      "_view_module_version": "1.2.0",
      "_view_name": "LayoutView",
      "align_content": null,
      "align_items": null,
      "align_self": null,
      "border": null,
      "bottom": null,
      "display": null,
      "flex": null,
      "flex_flow": null,
      "grid_area": null,
      "grid_auto_columns": null,
      "grid_auto_flow": null,
      "grid_auto_rows": null,
      "grid_column": null,
      "grid_gap": null,
      "grid_row": null,
      "grid_template_areas": null,
      "grid_template_columns": null,
      "grid_template_rows": null,
      "height": null,
      "justify_content": null,
      "justify_items": null,
      "left": null,
      "margin": null,
      "max_height": null,
      "max_width": null,
      "min_height": null,
      "min_width": null,
      "object_fit": null,
      "object_position": null,
      "order": null,
      "overflow": null,
      "overflow_x": null,
      "overflow_y": null,
      "padding": null,
      "right": null,
      "top": null,
      "visibility": null,
      "width": null
     }
    },
    "b938e3ef2bf54259ad67488f42f733c8": {
     "model_module": "@jupyter-widgets/controls",
     "model_module_version": "1.5.0",
     "model_name": "HTMLModel",
     "state": {
      "_dom_classes": [],
      "_model_module": "@jupyter-widgets/controls",
      "_model_module_version": "1.5.0",
      "_model_name": "HTMLModel",
      "_view_count": null,
      "_view_module": "@jupyter-widgets/controls",
      "_view_module_version": "1.5.0",
      "_view_name": "HTMLView",
      "description": "",
      "description_tooltip": null,
      "layout": "IPY_MODEL_5c59bcec5b4844969eb70a5a2fbacb4c",
      "placeholder": "​",
      "style": "IPY_MODEL_35f843ffa4044dcf887177da3cd5c5aa",
      "value": "Downloading: 100%"
     }
    },
    "cd41a0c99a384b34bfa193baf5989e37": {
     "model_module": "@jupyter-widgets/controls",
     "model_module_version": "1.5.0",
     "model_name": "HBoxModel",
     "state": {
      "_dom_classes": [],
      "_model_module": "@jupyter-widgets/controls",
      "_model_module_version": "1.5.0",
      "_model_name": "HBoxModel",
      "_view_count": null,
      "_view_module": "@jupyter-widgets/controls",
      "_view_module_version": "1.5.0",
      "_view_name": "HBoxView",
      "box_style": "",
      "children": [
       "IPY_MODEL_520e810a881b4be9a77f1d8c11eee43b",
       "IPY_MODEL_53ac8e96c57d4e788040f4a96778f6f8",
       "IPY_MODEL_6525adc76d0b460e94b7d93f30e6c39f"
      ],
      "layout": "IPY_MODEL_09b197fee6094235996f917f046a3b2f"
     }
    },
    "d02aecb149014aadb2968baa56518dfc": {
     "model_module": "@jupyter-widgets/base",
     "model_module_version": "1.2.0",
     "model_name": "LayoutModel",
     "state": {
      "_model_module": "@jupyter-widgets/base",
      "_model_module_version": "1.2.0",
      "_model_name": "LayoutModel",
      "_view_count": null,
      "_view_module": "@jupyter-widgets/base",
      "_view_module_version": "1.2.0",
      "_view_name": "LayoutView",
      "align_content": null,
      "align_items": null,
      "align_self": null,
      "border": null,
      "bottom": null,
      "display": null,
      "flex": null,
      "flex_flow": null,
      "grid_area": null,
      "grid_auto_columns": null,
      "grid_auto_flow": null,
      "grid_auto_rows": null,
      "grid_column": null,
      "grid_gap": null,
      "grid_row": null,
      "grid_template_areas": null,
      "grid_template_columns": null,
      "grid_template_rows": null,
      "height": null,
      "justify_content": null,
      "justify_items": null,
      "left": null,
      "margin": null,
      "max_height": null,
      "max_width": null,
      "min_height": null,
      "min_width": null,
      "object_fit": null,
      "object_position": null,
      "order": null,
      "overflow": null,
      "overflow_x": null,
      "overflow_y": null,
      "padding": null,
      "right": null,
      "top": null,
      "visibility": null,
      "width": null
     }
    },
    "d4b19766ed104f3e8fab46c181743220": {
     "model_module": "@jupyter-widgets/controls",
     "model_module_version": "1.5.0",
     "model_name": "FloatProgressModel",
     "state": {
      "_dom_classes": [],
      "_model_module": "@jupyter-widgets/controls",
      "_model_module_version": "1.5.0",
      "_model_name": "FloatProgressModel",
      "_view_count": null,
      "_view_module": "@jupyter-widgets/controls",
      "_view_module_version": "1.5.0",
      "_view_name": "ProgressView",
      "bar_style": "success",
      "description": "",
      "description_tooltip": null,
      "layout": "IPY_MODEL_092e2304fa34421ba3a165ac99011ec1",
      "max": 47376696,
      "min": 0,
      "orientation": "horizontal",
      "style": "IPY_MODEL_6e21c6d03da84a6b92c87dd0f50b8908",
      "value": 47376696
     }
    },
    "e327fcba9a49488d9bd22245a4af76f8": {
     "model_module": "@jupyter-widgets/controls",
     "model_module_version": "1.5.0",
     "model_name": "HBoxModel",
     "state": {
      "_dom_classes": [],
      "_model_module": "@jupyter-widgets/controls",
      "_model_module_version": "1.5.0",
      "_model_name": "HBoxModel",
      "_view_count": null,
      "_view_module": "@jupyter-widgets/controls",
      "_view_module_version": "1.5.0",
      "_view_name": "HBoxView",
      "box_style": "",
      "children": [
       "IPY_MODEL_7861a34adaac44ff9ca47af111fd9737",
       "IPY_MODEL_4429e76886d7454ea671b52b3c74c956",
       "IPY_MODEL_997d62d9f55f485a99c449064e02c0e9"
      ],
      "layout": "IPY_MODEL_899d17e38848474bb6946b98716549b5"
     }
    },
    "f76404686ced4b798a8c12c878f81a86": {
     "model_module": "@jupyter-widgets/controls",
     "model_module_version": "1.5.0",
     "model_name": "HTMLModel",
     "state": {
      "_dom_classes": [],
      "_model_module": "@jupyter-widgets/controls",
      "_model_module_version": "1.5.0",
      "_model_name": "HTMLModel",
      "_view_count": null,
      "_view_module": "@jupyter-widgets/controls",
      "_view_module_version": "1.5.0",
      "_view_name": "HTMLView",
      "description": "",
      "description_tooltip": null,
      "layout": "IPY_MODEL_0800fa4435cc4c17906dc6ec43a98b46",
      "placeholder": "​",
      "style": "IPY_MODEL_feecab6385ae4ef1ae029fdc6eac588e",
      "value": " 684/684 [00:00&lt;00:00, 14.6kB/s]"
     }
    },
    "feecab6385ae4ef1ae029fdc6eac588e": {
     "model_module": "@jupyter-widgets/controls",
     "model_module_version": "1.5.0",
     "model_name": "DescriptionStyleModel",
     "state": {
      "_model_module": "@jupyter-widgets/controls",
      "_model_module_version": "1.5.0",
      "_model_name": "DescriptionStyleModel",
      "_view_count": null,
      "_view_module": "@jupyter-widgets/base",
      "_view_module_version": "1.2.0",
      "_view_name": "StyleView",
      "description_width": ""
     }
    },
    "ff84a363af124346ab5b122307e2f81e": {
     "model_module": "@jupyter-widgets/controls",
     "model_module_version": "1.5.0",
     "model_name": "HTMLModel",
     "state": {
      "_dom_classes": [],
      "_model_module": "@jupyter-widgets/controls",
      "_model_module_version": "1.5.0",
      "_model_name": "HTMLModel",
      "_view_count": null,
      "_view_module": "@jupyter-widgets/controls",
      "_view_module_version": "1.5.0",
      "_view_name": "HTMLView",
      "description": "",
      "description_tooltip": null,
      "layout": "IPY_MODEL_a721e29abf6d40b6ab2d706b5284c0bd",
      "placeholder": "​",
      "style": "IPY_MODEL_2db95a5cf5bc4d92a93d4ad75be0e33d",
      "value": "Downloading: 100%"
     }
    }
   }
  }
 },
 "nbformat": 4,
 "nbformat_minor": 4
}
