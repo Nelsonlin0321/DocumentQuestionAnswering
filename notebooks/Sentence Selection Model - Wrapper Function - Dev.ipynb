{
 "cells": [
  {
   "cell_type": "code",
   "execution_count": 1,
   "metadata": {},
   "outputs": [
    {
     "data": {
      "text/html": [
       "<style type='text/css'>\n",
       ".CodeMirror{\n",
       "    font-size: 16px;\n",
       "    font-family: Monaco;\n",
       "}\n",
       "\n",
       "div.output_area pre {\n",
       "    font-size: 12px;\n",
       "}\n",
       "</style>\n"
      ],
      "text/plain": [
       "<IPython.core.display.HTML object>"
      ]
     },
     "metadata": {},
     "output_type": "display_data"
    }
   ],
   "source": [
    "%%html\n",
    "<style type='text/css'>\n",
    ".CodeMirror{\n",
    "    font-size: 16px;\n",
    "    font-family: Monaco;\n",
    "}\n",
    "\n",
    "div.output_area pre {\n",
    "    font-size: 12px;\n",
    "}\n",
    "</style>"
   ]
  },
  {
   "cell_type": "code",
   "execution_count": 2,
   "metadata": {},
   "outputs": [],
   "source": [
    "import os\n",
    "os.chdir(os.getcwd()+\"./..\")"
   ]
  },
  {
   "cell_type": "code",
   "execution_count": 3,
   "metadata": {},
   "outputs": [],
   "source": [
    "import pandas as pd\n",
    "import numpy as np"
   ]
  },
  {
   "cell_type": "code",
   "execution_count": 4,
   "metadata": {},
   "outputs": [],
   "source": [
    "from torch.utils.data import Dataset,DataLoader\n",
    "import torch"
   ]
  },
  {
   "cell_type": "code",
   "execution_count": 5,
   "metadata": {},
   "outputs": [],
   "source": [
    "qnli_model_path = r\"E:\\MyFiles\\WorkSpace\\BertModels\\QNLI\\albert-base-v2-fine-tuned-qnli-sample\""
   ]
  },
  {
   "cell_type": "code",
   "execution_count": 6,
   "metadata": {},
   "outputs": [],
   "source": [
    "def read_qnli_data(file_name,data_dir=r\"E:\\MyFiles\\WorkSpace\\Data\\QNLIv2\\QNLI\"):\n",
    "    path = os.path.join(data_dir,file_name)\n",
    "    with open(path,encoding = 'utf-8-sig') as f:\n",
    "        text = f.readlines()\n",
    "\n",
    "    header = text[0].strip().split(\"\\t\")\n",
    "    lines = [line.strip().split(\"\\t\") for line in text[1:]]\n",
    "\n",
    "    df = pd.DataFrame(lines,columns = header)\n",
    "    return df"
   ]
  },
  {
   "cell_type": "code",
   "execution_count": 7,
   "metadata": {},
   "outputs": [],
   "source": [
    "qnli_train_df = read_qnli_data(\"train.tsv\")\n",
    "qnli_dev_df = read_qnli_data(\"dev.tsv\")"
   ]
  },
  {
   "cell_type": "code",
   "execution_count": 8,
   "metadata": {},
   "outputs": [],
   "source": [
    "qnli_train_df['label'] = np.where(qnli_train_df['label']=='entailment',1,0)\n",
    "qnli_dev_df['label'] = np.where(qnli_dev_df['label']=='entailment',1,0)"
   ]
  },
  {
   "cell_type": "code",
   "execution_count": 9,
   "metadata": {},
   "outputs": [
    {
     "data": {
      "text/html": [
       "<div>\n",
       "<style scoped>\n",
       "    .dataframe tbody tr th:only-of-type {\n",
       "        vertical-align: middle;\n",
       "    }\n",
       "\n",
       "    .dataframe tbody tr th {\n",
       "        vertical-align: top;\n",
       "    }\n",
       "\n",
       "    .dataframe thead th {\n",
       "        text-align: right;\n",
       "    }\n",
       "</style>\n",
       "<table border=\"1\" class=\"dataframe\">\n",
       "  <thead>\n",
       "    <tr style=\"text-align: right;\">\n",
       "      <th></th>\n",
       "      <th>index</th>\n",
       "      <th>question</th>\n",
       "      <th>sentence</th>\n",
       "      <th>label</th>\n",
       "    </tr>\n",
       "  </thead>\n",
       "  <tbody>\n",
       "    <tr>\n",
       "      <th>0</th>\n",
       "      <td>0</td>\n",
       "      <td>When did the third Digimon series begin?</td>\n",
       "      <td>Unlike the two seasons before it and most of t...</td>\n",
       "      <td>0</td>\n",
       "    </tr>\n",
       "    <tr>\n",
       "      <th>1</th>\n",
       "      <td>1</td>\n",
       "      <td>Which missile batteries often have individual ...</td>\n",
       "      <td>When MANPADS is operated by specialists, batte...</td>\n",
       "      <td>0</td>\n",
       "    </tr>\n",
       "    <tr>\n",
       "      <th>2</th>\n",
       "      <td>2</td>\n",
       "      <td>What two things does Popper argue Tarski's the...</td>\n",
       "      <td>He bases this interpretation on the fact that ...</td>\n",
       "      <td>1</td>\n",
       "    </tr>\n",
       "    <tr>\n",
       "      <th>3</th>\n",
       "      <td>3</td>\n",
       "      <td>What is the name of the village 9 miles north ...</td>\n",
       "      <td>On 31 December 1853, the Ottoman forces at Cal...</td>\n",
       "      <td>1</td>\n",
       "    </tr>\n",
       "    <tr>\n",
       "      <th>4</th>\n",
       "      <td>4</td>\n",
       "      <td>What famous palace is located in London?</td>\n",
       "      <td>London contains four World Heritage Sites: the...</td>\n",
       "      <td>0</td>\n",
       "    </tr>\n",
       "    <tr>\n",
       "      <th>5</th>\n",
       "      <td>5</td>\n",
       "      <td>When is the term 'German dialects' used in reg...</td>\n",
       "      <td>When talking about the German language, the te...</td>\n",
       "      <td>1</td>\n",
       "    </tr>\n",
       "    <tr>\n",
       "      <th>6</th>\n",
       "      <td>6</td>\n",
       "      <td>What was the name of the island the English tr...</td>\n",
       "      <td>At the end of the Second Anglo-Dutch War, the ...</td>\n",
       "      <td>1</td>\n",
       "    </tr>\n",
       "    <tr>\n",
       "      <th>7</th>\n",
       "      <td>7</td>\n",
       "      <td>How were the Portuguese expelled from Myanmar?</td>\n",
       "      <td>From the 1720s onward, the kingdom was beset w...</td>\n",
       "      <td>0</td>\n",
       "    </tr>\n",
       "    <tr>\n",
       "      <th>8</th>\n",
       "      <td>8</td>\n",
       "      <td>What does the word 'customer' properly apply to?</td>\n",
       "      <td>The bill also required rotation of principal m...</td>\n",
       "      <td>1</td>\n",
       "    </tr>\n",
       "  </tbody>\n",
       "</table>\n",
       "</div>"
      ],
      "text/plain": [
       "  index                                           question  \\\n",
       "0     0           When did the third Digimon series begin?   \n",
       "1     1  Which missile batteries often have individual ...   \n",
       "2     2  What two things does Popper argue Tarski's the...   \n",
       "3     3  What is the name of the village 9 miles north ...   \n",
       "4     4           What famous palace is located in London?   \n",
       "5     5  When is the term 'German dialects' used in reg...   \n",
       "6     6  What was the name of the island the English tr...   \n",
       "7     7     How were the Portuguese expelled from Myanmar?   \n",
       "8     8   What does the word 'customer' properly apply to?   \n",
       "\n",
       "                                            sentence  label  \n",
       "0  Unlike the two seasons before it and most of t...      0  \n",
       "1  When MANPADS is operated by specialists, batte...      0  \n",
       "2  He bases this interpretation on the fact that ...      1  \n",
       "3  On 31 December 1853, the Ottoman forces at Cal...      1  \n",
       "4  London contains four World Heritage Sites: the...      0  \n",
       "5  When talking about the German language, the te...      1  \n",
       "6  At the end of the Second Anglo-Dutch War, the ...      1  \n",
       "7  From the 1720s onward, the kingdom was beset w...      0  \n",
       "8  The bill also required rotation of principal m...      1  "
      ]
     },
     "execution_count": 9,
     "metadata": {},
     "output_type": "execute_result"
    }
   ],
   "source": [
    "qnli_train_df.head(9)"
   ]
  },
  {
   "cell_type": "code",
   "execution_count": 10,
   "metadata": {},
   "outputs": [],
   "source": [
    "example_id = 10\n",
    "\n",
    "question= qnli_train_df['question'].iloc[example_id]\n",
    "sentence_list = qnli_train_df['sentence'].iloc[:example_id].to_list()\n",
    "label_list = qnli_train_df['label'].iloc[:example_id].to_list()"
   ]
  },
  {
   "cell_type": "code",
   "execution_count": 11,
   "metadata": {},
   "outputs": [],
   "source": [
    "question= qnli_train_df['question'].iloc[example_id]\n",
    "sentence_list = qnli_train_df['sentence'].iloc[:example_id].to_list()\n",
    "label_list = qnli_train_df['label'].iloc[:example_id].to_list()"
   ]
  },
  {
   "cell_type": "code",
   "execution_count": 12,
   "metadata": {},
   "outputs": [],
   "source": [
    "class TextPairsDataset(Dataset):\n",
    "    \n",
    "    def __init__(self,question_list,sentence_list,tokenizer,max_length,device):\n",
    "        self.len = len(question_list)\n",
    "        self.tokenizer = tokenizer\n",
    "        self.max_length = max_length\n",
    "        self.device = device\n",
    "        self.question_list = question_list\n",
    "        self.sentence_list = sentence_list\n",
    "\n",
    "    def __len__(self):\n",
    "        return self.len\n",
    "    \n",
    "    def __getitem__(self,index):\n",
    "        question = self.question_list[index]\n",
    "        sentence = self.sentence_list[index]\n",
    "        \n",
    "        inputs = self.tokenizer(\n",
    "            text = question,\n",
    "            text_pair = sentence,\n",
    "            \n",
    "            max_length = self.max_length,\n",
    "            padding = \"max_length\",\n",
    "            return_token_type_ids = False,\n",
    "            truncation = \"only_second\",\n",
    "            )\n",
    "        \n",
    "        inputs= {\n",
    "            'input_ids':torch.tensor(inputs['input_ids']),\n",
    "            'attention_mask':torch.tensor(inputs['attention_mask']),\n",
    "        }\n",
    "\n",
    "        inputs = {k:v.to(self.device) for (k,v) in inputs.items()}\n",
    "\n",
    "        return inputs"
   ]
  },
  {
   "cell_type": "code",
   "execution_count": 13,
   "metadata": {},
   "outputs": [],
   "source": [
    "from transformers import AutoTokenizer,AlbertForSequenceClassification"
   ]
  },
  {
   "cell_type": "code",
   "execution_count": 14,
   "metadata": {},
   "outputs": [],
   "source": [
    "class model_config():\n",
    "    model_path = r\"E:\\MyFiles\\WorkSpace\\BertModels\\QNLI\\albert-base-v2-fine-tuned-qnli-sample\"\n",
    "    max_length = 512\n",
    "    batch_size = 12"
   ]
  },
  {
   "cell_type": "code",
   "execution_count": 15,
   "metadata": {},
   "outputs": [],
   "source": [
    "class SentenceSelectionModelLoder(object):\n",
    "\n",
    "    def __init__(self, model_config):\n",
    "\n",
    "        from transformers import AlbertForSequenceClassification as model_structure\n",
    "\n",
    "        self.device = device = \"cuda\" if torch.cuda.is_available() else \"cpu\"\n",
    "\n",
    "        self.model = model_structure.from_pretrained(\n",
    "            model_config.model_path).to(self.device)\n",
    "\n",
    "        self.tokenizer = AutoTokenizer.from_pretrained(model_config.model_path)\n",
    "\n",
    "        self.max_length = model_config.max_length\n",
    "\n",
    "        self.batch_size = model_config.batch_size\n",
    "\n",
    "    def prediction_from_loader(self, model, data_loader):\n",
    "\n",
    "        pred_list = []\n",
    "        prob_list = []\n",
    "\n",
    "        model.eval()\n",
    "\n",
    "        for sample in data_loader:\n",
    "\n",
    "            with torch.no_grad():\n",
    "                outputs = model(**sample)\n",
    "\n",
    "                logits = outputs.logits\n",
    "                probs = torch.sigmoid(logits)\n",
    "\n",
    "                pred = torch.argmax(logits, axis=1)\n",
    "                pred = pred.detach().cpu().numpy()\n",
    "                pred_list.extend(pred)\n",
    "\n",
    "                prob = probs[:, 1]\n",
    "                prob = prob.detach().cpu().numpy()\n",
    "                prob_list.extend(prob)\n",
    "\n",
    "        return {'pred': pred_list, 'prob': prob_list}\n",
    "\n",
    "    def predict(self, question, sentence_list):\n",
    "\n",
    "        if isinstance(question, str):\n",
    "            question_list = [question] * len(sentence_list)\n",
    "        elif isinstance(question, list):\n",
    "            question_list = question\n",
    "\n",
    "        predict_datasets = TextPairsDataset(\n",
    "            question_list, sentence_list, self.tokenizer, self.max_length, self.device)\n",
    "\n",
    "        predict_datasets_loader = DataLoader(\n",
    "            predict_datasets, batch_size=self.batch_size, shuffle=False)\n",
    "\n",
    "        return self.prediction_from_loader(self.model, predict_datasets_loader)"
   ]
  },
  {
   "cell_type": "code",
   "execution_count": 16,
   "metadata": {},
   "outputs": [],
   "source": [
    "# sentence_selection_model  = SentenceSelectionModelLoder(model_config  = model_config)"
   ]
  },
  {
   "cell_type": "code",
   "execution_count": 17,
   "metadata": {},
   "outputs": [],
   "source": [
    "from transformers import AlbertForSequenceClassification as model_structure"
   ]
  },
  {
   "cell_type": "code",
   "execution_count": 18,
   "metadata": {},
   "outputs": [],
   "source": [
    "device = device = \"cuda\" if torch.cuda.is_available() else \"cpu\""
   ]
  },
  {
   "cell_type": "code",
   "execution_count": 19,
   "metadata": {},
   "outputs": [],
   "source": [
    "model  = model_structure.from_pretrained(model_config.model_path).to(device)"
   ]
  },
  {
   "cell_type": "code",
   "execution_count": 20,
   "metadata": {},
   "outputs": [],
   "source": [
    "tokenizer = AutoTokenizer.from_pretrained(model_config.model_path)"
   ]
  },
  {
   "cell_type": "code",
   "execution_count": 21,
   "metadata": {},
   "outputs": [],
   "source": [
    "example_id = 10\n",
    "question_list= qnli_train_df['question'].iloc[:example_id].to_list()\n",
    "sentence_list = qnli_train_df['sentence'].iloc[:example_id].to_list()\n",
    "label_list = qnli_train_df['label'].iloc[:example_id].to_list()"
   ]
  },
  {
   "cell_type": "code",
   "execution_count": 22,
   "metadata": {},
   "outputs": [
    {
     "data": {
      "text/plain": [
       "['When did the third Digimon series begin?',\n",
       " 'Which missile batteries often have individual launchers several kilometres from one another?',\n",
       " \"What two things does Popper argue Tarski's theory involves in an evaluation of truth?\",\n",
       " 'What is the name of the village 9 miles north of Calafat where the Ottoman forces attacked the Russians?',\n",
       " 'What famous palace is located in London?',\n",
       " \"When is the term 'German dialects' used in regard to the German language?\",\n",
       " 'What was the name of the island the English traded to the Dutch in return for New Amsterdam?',\n",
       " 'How were the Portuguese expelled from Myanmar?',\n",
       " \"What does the word 'customer' properly apply to?\",\n",
       " 'What did Arsenal consider the yellow and blue colors to be after losing a FA Cup final wearing red and white?']"
      ]
     },
     "execution_count": 22,
     "metadata": {},
     "output_type": "execute_result"
    }
   ],
   "source": [
    "question_list"
   ]
  },
  {
   "cell_type": "code",
   "execution_count": 23,
   "metadata": {},
   "outputs": [],
   "source": [
    "predict_datasets = TextPairsDataset(question_list,sentence_list,tokenizer,512,device)"
   ]
  },
  {
   "cell_type": "code",
   "execution_count": 24,
   "metadata": {},
   "outputs": [],
   "source": [
    "sample = predict_datasets[:10]"
   ]
  },
  {
   "cell_type": "code",
   "execution_count": 25,
   "metadata": {},
   "outputs": [],
   "source": [
    "with torch.no_grad():\n",
    "        pred_list = []\n",
    "        prob_list = []\n",
    "        \n",
    "#         model.eval()\n",
    "        \n",
    "        outputs = model(**sample)\n",
    "\n",
    "        logits = outputs.logits\n",
    "        probs = torch.sigmoid(logits)\n",
    "\n",
    "        pred = torch.argmax(logits,axis = 1)\n",
    "        pred = pred.detach().cpu().numpy()\n",
    "\n",
    "        prob = probs[:,1]\n",
    "        prob = prob.detach().cpu().numpy()"
   ]
  },
  {
   "cell_type": "code",
   "execution_count": 26,
   "metadata": {},
   "outputs": [
    {
     "data": {
      "text/plain": [
       "SequenceClassifierOutput(loss=None, logits=tensor([[ 1.1512, -2.1581],\n",
       "        [ 0.7795, -1.6949],\n",
       "        [-1.0292,  0.7467],\n",
       "        [-2.3284,  1.9095],\n",
       "        [-1.6990,  1.2644],\n",
       "        [ 0.7529, -1.5850],\n",
       "        [-1.6217,  1.5169],\n",
       "        [ 0.8757, -1.6522],\n",
       "        [-2.0132,  1.6940],\n",
       "        [ 0.5792, -1.5447]], device='cuda:0'), hidden_states=None, attentions=None)"
      ]
     },
     "execution_count": 26,
     "metadata": {},
     "output_type": "execute_result"
    }
   ],
   "source": [
    "outputs"
   ]
  },
  {
   "cell_type": "code",
   "execution_count": 27,
   "metadata": {},
   "outputs": [
    {
     "data": {
      "text/plain": [
       "[0, 0, 1, 1, 0, 1, 1, 0, 1, 1]"
      ]
     },
     "execution_count": 27,
     "metadata": {},
     "output_type": "execute_result"
    }
   ],
   "source": [
    "label_list"
   ]
  },
  {
   "cell_type": "code",
   "execution_count": 28,
   "metadata": {},
   "outputs": [
    {
     "data": {
      "text/plain": [
       "array([0, 0, 1, 1, 1, 0, 1, 0, 1, 0], dtype=int64)"
      ]
     },
     "execution_count": 28,
     "metadata": {},
     "output_type": "execute_result"
    }
   ],
   "source": [
    "pred"
   ]
  },
  {
   "cell_type": "code",
   "execution_count": 29,
   "metadata": {},
   "outputs": [
    {
     "data": {
      "text/plain": [
       "array([0.10358039, 0.15513778, 0.6784646 , 0.8709625 , 0.7797845 ,\n",
       "       0.17008494, 0.82007486, 0.16081364, 0.8447452 , 0.17585221],\n",
       "      dtype=float32)"
      ]
     },
     "execution_count": 29,
     "metadata": {},
     "output_type": "execute_result"
    }
   ],
   "source": [
    "prob"
   ]
  },
  {
   "cell_type": "code",
   "execution_count": 30,
   "metadata": {},
   "outputs": [],
   "source": [
    "sentence_selection_model  = SentenceSelectionModelLoder(model_config  = model_config)"
   ]
  },
  {
   "cell_type": "code",
   "execution_count": 31,
   "metadata": {},
   "outputs": [
    {
     "data": {
      "text/plain": [
       "'When did the third Digimon series begin?'"
      ]
     },
     "execution_count": 31,
     "metadata": {},
     "output_type": "execute_result"
    }
   ],
   "source": [
    "question_list[0]"
   ]
  },
  {
   "cell_type": "code",
   "execution_count": 32,
   "metadata": {},
   "outputs": [
    {
     "data": {
      "text/plain": [
       "{'pred': [0, 0, 1, 1, 1, 0, 1, 0, 1, 0],\n",
       " 'prob': [0.10358039,\n",
       "  0.15513778,\n",
       "  0.6784646,\n",
       "  0.8709625,\n",
       "  0.7797845,\n",
       "  0.17008494,\n",
       "  0.82007486,\n",
       "  0.16081364,\n",
       "  0.8447452,\n",
       "  0.17585221]}"
      ]
     },
     "execution_count": 32,
     "metadata": {},
     "output_type": "execute_result"
    }
   ],
   "source": [
    "sentence_selection_model.predict(question_list,sentence_list)"
   ]
  },
  {
   "cell_type": "code",
   "execution_count": 33,
   "metadata": {},
   "outputs": [
    {
     "data": {
      "text/plain": [
       "{'pred': [0, 0, 1, 0, 0, 0, 0, 0, 0, 0],\n",
       " 'prob': [0.12281186,\n",
       "  0.1328893,\n",
       "  0.6784646,\n",
       "  0.10919345,\n",
       "  0.35432395,\n",
       "  0.12000906,\n",
       "  0.12984481,\n",
       "  0.34810072,\n",
       "  0.1259087,\n",
       "  0.10937402]}"
      ]
     },
     "execution_count": 33,
     "metadata": {},
     "output_type": "execute_result"
    }
   ],
   "source": [
    "sentence_selection_model.predict(question_list[2],sentence_list)"
   ]
  },
  {
   "cell_type": "code",
   "execution_count": null,
   "metadata": {},
   "outputs": [],
   "source": []
  }
 ],
 "metadata": {
  "kernelspec": {
   "display_name": "Python 3",
   "language": "python",
   "name": "python3"
  },
  "language_info": {
   "codemirror_mode": {
    "name": "ipython",
    "version": 3
   },
   "file_extension": ".py",
   "mimetype": "text/x-python",
   "name": "python",
   "nbconvert_exporter": "python",
   "pygments_lexer": "ipython3",
   "version": "3.8.3"
  }
 },
 "nbformat": 4,
 "nbformat_minor": 4
}
