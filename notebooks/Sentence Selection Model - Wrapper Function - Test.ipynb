{
 "cells": [
  {
   "cell_type": "code",
   "execution_count": 11,
   "metadata": {},
   "outputs": [
    {
     "data": {
      "text/html": [
       "<style type='text/css'>\n",
       ".CodeMirror{\n",
       "    font-size: 16px;\n",
       "    font-family: Monaco;\n",
       "}\n",
       "\n",
       "div.output_area pre {\n",
       "    font-size: 12px;\n",
       "}\n",
       "</style>\n"
      ],
      "text/plain": [
       "<IPython.core.display.HTML object>"
      ]
     },
     "metadata": {},
     "output_type": "display_data"
    }
   ],
   "source": [
    "%%html\n",
    "<style type='text/css'>\n",
    ".CodeMirror{\n",
    "    font-size: 16px;\n",
    "    font-family: Monaco;\n",
    "}\n",
    "\n",
    "div.output_area pre {\n",
    "    font-size: 12px;\n",
    "}\n",
    "</style>"
   ]
  },
  {
   "cell_type": "code",
   "execution_count": 2,
   "metadata": {},
   "outputs": [],
   "source": [
    "import os\n",
    "os.chdir(os.getcwd()+\"./..\")"
   ]
  },
  {
   "cell_type": "code",
   "execution_count": 3,
   "metadata": {},
   "outputs": [],
   "source": [
    "from project_modules.models import SentenceSelectionModelLoader"
   ]
  },
  {
   "cell_type": "code",
   "execution_count": 4,
   "metadata": {},
   "outputs": [],
   "source": [
    "from project_modules.config import sentence_selection_model_config"
   ]
  },
  {
   "cell_type": "code",
   "execution_count": 5,
   "metadata": {},
   "outputs": [],
   "source": [
    "sentence_selection_model = SentenceSelectionModelLoader(sentence_selection_model_config)"
   ]
  },
  {
   "cell_type": "code",
   "execution_count": 6,
   "metadata": {},
   "outputs": [],
   "source": [
    "from project_modules.utils import get_qnli_pandas_dataframe"
   ]
  },
  {
   "cell_type": "code",
   "execution_count": 7,
   "metadata": {},
   "outputs": [],
   "source": [
    "qnli_dev_df, qnli_train_df = get_qnli_pandas_dataframe()"
   ]
  },
  {
   "cell_type": "code",
   "execution_count": 8,
   "metadata": {},
   "outputs": [],
   "source": [
    "example_id = 13\n",
    "\n",
    "question= qnli_train_df['question'].iloc[example_id]\n",
    "sentence_list = qnli_train_df['sentence'].iloc[:example_id+1].to_list()\n",
    "label_list = qnli_train_df['label'].iloc[:example_id+1].to_list()"
   ]
  },
  {
   "cell_type": "code",
   "execution_count": 9,
   "metadata": {},
   "outputs": [
    {
     "data": {
      "text/plain": [
       "'Which collection of minor poems are sometimes attributed to Virgil?'"
      ]
     },
     "execution_count": 9,
     "metadata": {},
     "output_type": "execute_result"
    }
   ],
   "source": [
    "question"
   ]
  },
  {
   "cell_type": "code",
   "execution_count": 10,
   "metadata": {},
   "outputs": [
    {
     "data": {
      "text/html": [
       "<div>\n",
       "<style scoped>\n",
       "    .dataframe tbody tr th:only-of-type {\n",
       "        vertical-align: middle;\n",
       "    }\n",
       "\n",
       "    .dataframe tbody tr th {\n",
       "        vertical-align: top;\n",
       "    }\n",
       "\n",
       "    .dataframe thead th {\n",
       "        text-align: right;\n",
       "    }\n",
       "</style>\n",
       "<table border=\"1\" class=\"dataframe\">\n",
       "  <thead>\n",
       "    <tr style=\"text-align: right;\">\n",
       "      <th></th>\n",
       "      <th>index</th>\n",
       "      <th>question</th>\n",
       "      <th>sentence</th>\n",
       "      <th>label</th>\n",
       "    </tr>\n",
       "  </thead>\n",
       "  <tbody>\n",
       "    <tr>\n",
       "      <th>0</th>\n",
       "      <td>0</td>\n",
       "      <td>When did the third Digimon series begin?</td>\n",
       "      <td>Unlike the two seasons before it and most of t...</td>\n",
       "      <td>0</td>\n",
       "    </tr>\n",
       "    <tr>\n",
       "      <th>1</th>\n",
       "      <td>1</td>\n",
       "      <td>Which missile batteries often have individual ...</td>\n",
       "      <td>When MANPADS is operated by specialists, batte...</td>\n",
       "      <td>0</td>\n",
       "    </tr>\n",
       "    <tr>\n",
       "      <th>2</th>\n",
       "      <td>2</td>\n",
       "      <td>What two things does Popper argue Tarski's the...</td>\n",
       "      <td>He bases this interpretation on the fact that ...</td>\n",
       "      <td>1</td>\n",
       "    </tr>\n",
       "    <tr>\n",
       "      <th>3</th>\n",
       "      <td>3</td>\n",
       "      <td>What is the name of the village 9 miles north ...</td>\n",
       "      <td>On 31 December 1853, the Ottoman forces at Cal...</td>\n",
       "      <td>1</td>\n",
       "    </tr>\n",
       "    <tr>\n",
       "      <th>4</th>\n",
       "      <td>4</td>\n",
       "      <td>What famous palace is located in London?</td>\n",
       "      <td>London contains four World Heritage Sites: the...</td>\n",
       "      <td>0</td>\n",
       "    </tr>\n",
       "    <tr>\n",
       "      <th>5</th>\n",
       "      <td>5</td>\n",
       "      <td>When is the term 'German dialects' used in reg...</td>\n",
       "      <td>When talking about the German language, the te...</td>\n",
       "      <td>1</td>\n",
       "    </tr>\n",
       "    <tr>\n",
       "      <th>6</th>\n",
       "      <td>6</td>\n",
       "      <td>What was the name of the island the English tr...</td>\n",
       "      <td>At the end of the Second Anglo-Dutch War, the ...</td>\n",
       "      <td>1</td>\n",
       "    </tr>\n",
       "    <tr>\n",
       "      <th>7</th>\n",
       "      <td>7</td>\n",
       "      <td>How were the Portuguese expelled from Myanmar?</td>\n",
       "      <td>From the 1720s onward, the kingdom was beset w...</td>\n",
       "      <td>0</td>\n",
       "    </tr>\n",
       "    <tr>\n",
       "      <th>8</th>\n",
       "      <td>8</td>\n",
       "      <td>What does the word 'customer' properly apply to?</td>\n",
       "      <td>The bill also required rotation of principal m...</td>\n",
       "      <td>1</td>\n",
       "    </tr>\n",
       "    <tr>\n",
       "      <th>9</th>\n",
       "      <td>9</td>\n",
       "      <td>What did Arsenal consider the yellow and blue ...</td>\n",
       "      <td>Arsenal then competed in three consecutive FA ...</td>\n",
       "      <td>1</td>\n",
       "    </tr>\n",
       "    <tr>\n",
       "      <th>10</th>\n",
       "      <td>10</td>\n",
       "      <td>Who starred in 'True Love'?</td>\n",
       "      <td>The show starred Ted Danson as Dr. John Becker...</td>\n",
       "      <td>0</td>\n",
       "    </tr>\n",
       "    <tr>\n",
       "      <th>11</th>\n",
       "      <td>11</td>\n",
       "      <td>Who was elected as the Watch Tower Society's p...</td>\n",
       "      <td>His election was disputed, and members of the ...</td>\n",
       "      <td>0</td>\n",
       "    </tr>\n",
       "    <tr>\n",
       "      <th>12</th>\n",
       "      <td>12</td>\n",
       "      <td>What do most open education sources offer?</td>\n",
       "      <td>The conventional merit-system degree is curren...</td>\n",
       "      <td>0</td>\n",
       "    </tr>\n",
       "    <tr>\n",
       "      <th>13</th>\n",
       "      <td>13</td>\n",
       "      <td>Which collection of minor poems are sometimes ...</td>\n",
       "      <td>A number of minor poems, collected in the Appe...</td>\n",
       "      <td>1</td>\n",
       "    </tr>\n",
       "  </tbody>\n",
       "</table>\n",
       "</div>"
      ],
      "text/plain": [
       "   index                                           question  \\\n",
       "0      0           When did the third Digimon series begin?   \n",
       "1      1  Which missile batteries often have individual ...   \n",
       "2      2  What two things does Popper argue Tarski's the...   \n",
       "3      3  What is the name of the village 9 miles north ...   \n",
       "4      4           What famous palace is located in London?   \n",
       "5      5  When is the term 'German dialects' used in reg...   \n",
       "6      6  What was the name of the island the English tr...   \n",
       "7      7     How were the Portuguese expelled from Myanmar?   \n",
       "8      8   What does the word 'customer' properly apply to?   \n",
       "9      9  What did Arsenal consider the yellow and blue ...   \n",
       "10    10                        Who starred in 'True Love'?   \n",
       "11    11  Who was elected as the Watch Tower Society's p...   \n",
       "12    12         What do most open education sources offer?   \n",
       "13    13  Which collection of minor poems are sometimes ...   \n",
       "\n",
       "                                             sentence  label  \n",
       "0   Unlike the two seasons before it and most of t...      0  \n",
       "1   When MANPADS is operated by specialists, batte...      0  \n",
       "2   He bases this interpretation on the fact that ...      1  \n",
       "3   On 31 December 1853, the Ottoman forces at Cal...      1  \n",
       "4   London contains four World Heritage Sites: the...      0  \n",
       "5   When talking about the German language, the te...      1  \n",
       "6   At the end of the Second Anglo-Dutch War, the ...      1  \n",
       "7   From the 1720s onward, the kingdom was beset w...      0  \n",
       "8   The bill also required rotation of principal m...      1  \n",
       "9   Arsenal then competed in three consecutive FA ...      1  \n",
       "10  The show starred Ted Danson as Dr. John Becker...      0  \n",
       "11  His election was disputed, and members of the ...      0  \n",
       "12  The conventional merit-system degree is curren...      0  \n",
       "13  A number of minor poems, collected in the Appe...      1  "
      ]
     },
     "execution_count": 10,
     "metadata": {},
     "output_type": "execute_result"
    }
   ],
   "source": [
    "qnli_train_df.head(example_id+1)"
   ]
  },
  {
   "cell_type": "code",
   "execution_count": 12,
   "metadata": {},
   "outputs": [
    {
     "data": {
      "text/plain": [
       "{'pred': [0, 0, 0, 0, 0, 0, 0, 0, 0, 0, 0, 0, 0, 1],\n",
       " 'prob': [0.09553228,\n",
       "  0.09976622,\n",
       "  0.111394055,\n",
       "  0.09837598,\n",
       "  0.10630791,\n",
       "  0.09479343,\n",
       "  0.09664248,\n",
       "  0.09951665,\n",
       "  0.09555378,\n",
       "  0.09565559,\n",
       "  0.09773541,\n",
       "  0.09430422,\n",
       "  0.0980015,\n",
       "  0.84939396]}"
      ]
     },
     "execution_count": 12,
     "metadata": {},
     "output_type": "execute_result"
    }
   ],
   "source": [
    "sentence_selection_model.predict(question,sentence_list)"
   ]
  },
  {
   "cell_type": "code",
   "execution_count": 13,
   "metadata": {},
   "outputs": [
    {
     "data": {
      "text/plain": [
       "'E:\\\\MyFiles\\\\WorkSpace\\\\DocumentQuestionAnswering - Git\\\\DocumentQuestionAnswering'"
      ]
     },
     "execution_count": 13,
     "metadata": {},
     "output_type": "execute_result"
    }
   ],
   "source": [
    "os.getcwd()"
   ]
  },
  {
   "cell_type": "code",
   "execution_count": 14,
   "metadata": {},
   "outputs": [],
   "source": [
    "document_path  = r\"static\\uploaded_documents\\Apple_Reports_First_Quarter_Results.txt\""
   ]
  },
  {
   "cell_type": "code",
   "execution_count": 15,
   "metadata": {},
   "outputs": [],
   "source": [
    "document_path  = r\"static\\uploaded_documents\\Gerson_Lehrman_Group.txt\""
   ]
  },
  {
   "cell_type": "code",
   "execution_count": 16,
   "metadata": {},
   "outputs": [],
   "source": [
    "def read_document_to_list(document_path):\n",
    "    with open(document_path,encoding = 'utf-8-sig') as f:\n",
    "        document = f.readlines()\n",
    "        sentence_list = [line.strip() for line in document if len(line.strip())!=0]\n",
    "        return sentence_list"
   ]
  },
  {
   "cell_type": "code",
   "execution_count": 17,
   "metadata": {},
   "outputs": [],
   "source": [
    " sentence_list = read_document_to_list(document_path)"
   ]
  },
  {
   "cell_type": "code",
   "execution_count": 18,
   "metadata": {},
   "outputs": [],
   "source": [
    "document_dir = \"./static/uploaded_documents\""
   ]
  },
  {
   "cell_type": "code",
   "execution_count": 19,
   "metadata": {},
   "outputs": [],
   "source": [
    "def read_document_dict(document_dir):\n",
    "    \n",
    "    document_dict = {}\n",
    "    \n",
    "    for document_file_name in os.listdir(document_dir):\n",
    "        if document_file_name.endswith(\".txt\"):\n",
    "            document_name  = document_file_name.replace(\".txt\",\"\").replace(\"_\",\" \")\n",
    "            document_path = os.path.join(document_dir,document_file_name)\n",
    "            document_dict[document_name] = read_document_to_list(document_path)\n",
    "        \n",
    "    return document_dict\n",
    "        \n",
    "        "
   ]
  },
  {
   "cell_type": "code",
   "execution_count": 22,
   "metadata": {},
   "outputs": [],
   "source": [
    "document_dict = read_document_dict(document_dir)"
   ]
  },
  {
   "cell_type": "code",
   "execution_count": 23,
   "metadata": {},
   "outputs": [
    {
     "data": {
      "text/plain": [
       "['CUPERTINO, CALIFORNIA JANUARY 27, 2022 Apple today announced financial results for its fiscal 2022 first quarter ended December 25, 2021. The Company posted an all-time revenue record of $123.9 billion, up 11 percent year over year, and quarterly earnings per diluted share of $2.10.',\n",
       " '“This quarter’s record results were made possible by our most innovative lineup of products and services ever,” said Tim Cook, Apple’s CEO. “We are gratified to see the response from customers around the world at a time when staying connected has never been more important. We are doing all we can to help build a better world — making progress toward our goal of becoming carbon neutral across our supply chain and products by 2030, and pushing forward with our work in education and racial equity and justice.”',\n",
       " '“The very strong customer response to our recent launch of new products and services drove double-digit growth in revenue and earnings, and helped set an all-time high for our installed base of active devices,” said Luca Maestri, Apple’s CFO. “These record operating results allowed us to return nearly $27 billion to our shareholders during the quarter, as we maintain our target of reaching a net cash neutral position over time.”',\n",
       " 'Apple’s board of directors has declared a cash dividend of $0.22 per share of the Company’s common stock. The dividend is payable on February 10, 2022 to shareholders of record as of the close of business on February 7, 2022.',\n",
       " 'Apple will provide live streaming of its Q1 2022 financial results conference call beginning at 2:00 p.m. PT on January 27, 2022 at apple.com/investor/earnings-call. This webcast will also be available for replay for approximately two weeks thereafter.']"
      ]
     },
     "execution_count": 23,
     "metadata": {},
     "output_type": "execute_result"
    }
   ],
   "source": [
    "document_dict['Apple Reports First Quarter Results']"
   ]
  },
  {
   "cell_type": "code",
   "execution_count": 24,
   "metadata": {},
   "outputs": [
    {
     "data": {
      "text/plain": [
       "['Objectives of Designated Quarantine Hotel Scheme',\n",
       " 'To further prevent the importation of COVID-19 cases and reduce contact between arrivals and the local community, the Government fully implemented the Designated Quarantine Hotel Scheme and the Designated Transportation Scheme on 22 December 2020, requiring all arrivals from specified places to undergo compulsory quarantine at designated quarantine hotels.',\n",
       " 'The first and second cycles of the Scheme each involving 36 hotels ended on 19 February and 20 April 2021, respectively. There are 30 hotels in the third cycle, which was ended on 19 June 2021. The fourth cycle consisted of 35 hotels and provided about 10,800 rooms, and the contract period ended on 31 August 2021. The list of designated quarantine hotels for the fifth cycle included a total of 36 hotels providing about 10,000 rooms, which was ended on 30 November 2021.',\n",
       " 'The Government announced on 19 October 2021 the list of designated quarantine hotels for the sixth cycle. A total of 40 hotels provide about 11,500 rooms, which runs from 1 December 2021 to 28 February 2022.',\n",
       " 'The Government further announced on 31 December 2021 the list of designated quarantine hotels for the seventh cycle. A total of 44 hotels will provide about 12,500 rooms, which will run from 1 March to 31 July 2022. The Government might adjust the number of rooms available in this cycle as and where necessary.',\n",
       " 'Designated quarantine hotels are required to observe the following strict requirements, including:',\n",
       " 'all designated hotels have to be inspected by relevant departments (Department of Health, Electrical and Mechanical Services Department, Buildings Department, etc) so as to ensure the design, facilities and operations of the hotels meet the Government’s infection control requirements;',\n",
       " 'designated hotels should not accept non-quarantine guests during the period when joining the Scheme;',\n",
       " 'public should not be allowed to have access to the hotel premises, except for areas in lobby and carpark which have been properly segregated;',\n",
       " 'hotels should take all reasonable procedures to ensure that persons undergoing quarantine will not leave their rooms during the quarantine period and no visitations to these persons should be allowed;',\n",
       " 'hotels should step up cleansing and infection control as well as security arrangements and arrange for its relevant staff to attend COVID-19 test regularly as specified by the Government.',\n",
       " 'The Government will arrange dedicated staff to inspect the designated quarantine hotels to ensure their compliance with the relevant requirements imposed by the Government.',\n",
       " 'To minimise the contact between travellers and the community, the Government will provide designated point-to-point transportation at the Airport to convey travellers to the designated quarantine hotels. All coaches are required to observe the infection control requirements. Apart from the driver, there will be staff on each coach to ensure travellers will get off at the pre-booked hotels. Getting off in the middle of the journey is not allowed.']"
      ]
     },
     "execution_count": 24,
     "metadata": {},
     "output_type": "execute_result"
    }
   ],
   "source": [
    "document_dict['Hong Kong Designated Quarantine Hotel Scheme']"
   ]
  },
  {
   "cell_type": "code",
   "execution_count": 25,
   "metadata": {},
   "outputs": [],
   "source": [
    "question = \"When apple will provide Q1 2022 financial result ?\" "
   ]
  },
  {
   "cell_type": "code",
   "execution_count": 26,
   "metadata": {},
   "outputs": [],
   "source": [
    "question = \"Who is apple's CFO  ?\" "
   ]
  },
  {
   "cell_type": "code",
   "execution_count": 27,
   "metadata": {
    "scrolled": true
   },
   "outputs": [
    {
     "data": {
      "text/plain": [
       "{'pred': [0, 0, 0, 0, 0, 0, 0, 0, 0, 0],\n",
       " 'prob': [0.11162464,\n",
       "  0.11316905,\n",
       "  0.21405844,\n",
       "  0.1468819,\n",
       "  0.092749946,\n",
       "  0.10006366,\n",
       "  0.103957094,\n",
       "  0.31635216,\n",
       "  0.10444766,\n",
       "  0.10893171]}"
      ]
     },
     "execution_count": 27,
     "metadata": {},
     "output_type": "execute_result"
    }
   ],
   "source": [
    "sentence_selection_model.predict(question,sentence_list)"
   ]
  },
  {
   "cell_type": "code",
   "execution_count": 28,
   "metadata": {},
   "outputs": [],
   "source": [
    "from sklearn.utils import shuffle"
   ]
  },
  {
   "cell_type": "code",
   "execution_count": 36,
   "metadata": {},
   "outputs": [],
   "source": [
    "import pandas as pd"
   ]
  },
  {
   "cell_type": "code",
   "execution_count": 37,
   "metadata": {},
   "outputs": [],
   "source": [
    "def predict_document(question,document_dict,sentence_selection_model):\n",
    "    \n",
    "    predict_ducument = \"We could fine the document related to your document.\"\n",
    "    \n",
    "    document_dict_items = shuffle(list(document_dict.items()))\n",
    "    \n",
    "    for (document,sentence_list) in document_dict_items:\n",
    "        \n",
    "        sentence_selection_dict = sentence_selection_model.predict(question,sentence_list)\n",
    "        \n",
    "        pred = max(sentence_selection_dict['pred'])\n",
    "        prob = max(sentence_selection_dict['prob'])\n",
    "        \n",
    "        if pred == 1:\n",
    "            \n",
    "            prediction_df = pd.DataFrame()\n",
    "            prediction_df['Document'] = [document] * len(sentence_list)\n",
    "            prediction_df['Sentence'] = sentence_list\n",
    "            prediction_df['Prediction'] = sentence_selection_dict['pred']\n",
    "            prediction_df['Probability'] = sentence_selection_dict['prob']\n",
    "            \n",
    "            return document,prediction_df\n",
    "       \n",
    "    return None,None"
   ]
  },
  {
   "cell_type": "code",
   "execution_count": 38,
   "metadata": {},
   "outputs": [
    {
     "data": {
      "text/plain": [
       "\"Who is apple's CFO  ?\""
      ]
     },
     "execution_count": 38,
     "metadata": {},
     "output_type": "execute_result"
    }
   ],
   "source": [
    "question"
   ]
  },
  {
   "cell_type": "code",
   "execution_count": 39,
   "metadata": {},
   "outputs": [],
   "source": [
    "document,prediction_df = predict_document(question,document_dict,sentence_selection_model)"
   ]
  },
  {
   "cell_type": "code",
   "execution_count": 40,
   "metadata": {},
   "outputs": [
    {
     "data": {
      "text/plain": [
       "'Apple Reports First Quarter Results'"
      ]
     },
     "execution_count": 40,
     "metadata": {},
     "output_type": "execute_result"
    }
   ],
   "source": [
    "document"
   ]
  },
  {
   "cell_type": "code",
   "execution_count": 41,
   "metadata": {},
   "outputs": [
    {
     "data": {
      "text/html": [
       "<div>\n",
       "<style scoped>\n",
       "    .dataframe tbody tr th:only-of-type {\n",
       "        vertical-align: middle;\n",
       "    }\n",
       "\n",
       "    .dataframe tbody tr th {\n",
       "        vertical-align: top;\n",
       "    }\n",
       "\n",
       "    .dataframe thead th {\n",
       "        text-align: right;\n",
       "    }\n",
       "</style>\n",
       "<table border=\"1\" class=\"dataframe\">\n",
       "  <thead>\n",
       "    <tr style=\"text-align: right;\">\n",
       "      <th></th>\n",
       "      <th>Document</th>\n",
       "      <th>Sentence</th>\n",
       "      <th>Prediction</th>\n",
       "      <th>Probability</th>\n",
       "    </tr>\n",
       "  </thead>\n",
       "  <tbody>\n",
       "    <tr>\n",
       "      <th>0</th>\n",
       "      <td>Apple Reports First Quarter Results</td>\n",
       "      <td>CUPERTINO, CALIFORNIA JANUARY 27, 2022 Apple t...</td>\n",
       "      <td>0</td>\n",
       "      <td>0.104351</td>\n",
       "    </tr>\n",
       "    <tr>\n",
       "      <th>1</th>\n",
       "      <td>Apple Reports First Quarter Results</td>\n",
       "      <td>“This quarter’s record results were made possi...</td>\n",
       "      <td>1</td>\n",
       "      <td>0.715068</td>\n",
       "    </tr>\n",
       "    <tr>\n",
       "      <th>2</th>\n",
       "      <td>Apple Reports First Quarter Results</td>\n",
       "      <td>“The very strong customer response to our rece...</td>\n",
       "      <td>1</td>\n",
       "      <td>0.851359</td>\n",
       "    </tr>\n",
       "    <tr>\n",
       "      <th>3</th>\n",
       "      <td>Apple Reports First Quarter Results</td>\n",
       "      <td>Apple’s board of directors has declared a cash...</td>\n",
       "      <td>0</td>\n",
       "      <td>0.097990</td>\n",
       "    </tr>\n",
       "    <tr>\n",
       "      <th>4</th>\n",
       "      <td>Apple Reports First Quarter Results</td>\n",
       "      <td>Apple will provide live streaming of its Q1 20...</td>\n",
       "      <td>0</td>\n",
       "      <td>0.118503</td>\n",
       "    </tr>\n",
       "  </tbody>\n",
       "</table>\n",
       "</div>"
      ],
      "text/plain": [
       "                              Document  \\\n",
       "0  Apple Reports First Quarter Results   \n",
       "1  Apple Reports First Quarter Results   \n",
       "2  Apple Reports First Quarter Results   \n",
       "3  Apple Reports First Quarter Results   \n",
       "4  Apple Reports First Quarter Results   \n",
       "\n",
       "                                            Sentence  Prediction  Probability  \n",
       "0  CUPERTINO, CALIFORNIA JANUARY 27, 2022 Apple t...           0     0.104351  \n",
       "1  “This quarter’s record results were made possi...           1     0.715068  \n",
       "2  “The very strong customer response to our rece...           1     0.851359  \n",
       "3  Apple’s board of directors has declared a cash...           0     0.097990  \n",
       "4  Apple will provide live streaming of its Q1 20...           0     0.118503  "
      ]
     },
     "execution_count": 41,
     "metadata": {},
     "output_type": "execute_result"
    }
   ],
   "source": [
    "prediction_df.head()"
   ]
  }
 ],
 "metadata": {
  "kernelspec": {
   "display_name": "Python 3",
   "language": "python",
   "name": "python3"
  },
  "language_info": {
   "codemirror_mode": {
    "name": "ipython",
    "version": 3
   },
   "file_extension": ".py",
   "mimetype": "text/x-python",
   "name": "python",
   "nbconvert_exporter": "python",
   "pygments_lexer": "ipython3",
   "version": "3.8.3"
  }
 },
 "nbformat": 4,
 "nbformat_minor": 4
}
