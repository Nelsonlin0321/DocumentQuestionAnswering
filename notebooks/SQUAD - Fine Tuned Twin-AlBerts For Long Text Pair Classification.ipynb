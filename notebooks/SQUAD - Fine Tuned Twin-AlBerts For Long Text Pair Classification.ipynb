{
 "cells": [
  {
   "cell_type": "code",
   "execution_count": 1,
   "metadata": {
    "colab": {
     "base_uri": "https://localhost:8080/",
     "height": 17
    },
    "executionInfo": {
     "elapsed": 8,
     "status": "ok",
     "timestamp": 1643881542858,
     "user": {
      "displayName": "Nelson L.",
      "photoUrl": "https://lh3.googleusercontent.com/a-/AOh14GipnVJXi8Vo7o6qBMpdgcfZB2j9TYnsly5vDf6nig=s64",
      "userId": "03694478629413699942"
     },
     "user_tz": -480
    },
    "id": "NcSfcGFBcd4V",
    "outputId": "82c0b273-ef2c-4184-a3c6-864bfe1284b7"
   },
   "outputs": [
    {
     "data": {
      "text/html": [
       "<style type='text/css'>\n",
       ".CodeMirror{\n",
       "    font-size: 16px;\n",
       "    font-family: Monaco;\n",
       "}\n",
       "\n",
       "div.output_area pre {\n",
       "    font-size: 12px;\n",
       "}\n",
       "</style>\n"
      ],
      "text/plain": [
       "<IPython.core.display.HTML object>"
      ]
     },
     "metadata": {},
     "output_type": "display_data"
    }
   ],
   "source": [
    "%%html\n",
    "<style type='text/css'>\n",
    ".CodeMirror{\n",
    "    font-size: 16px;\n",
    "    font-family: Monaco;\n",
    "}\n",
    "\n",
    "div.output_area pre {\n",
    "    font-size: 12px;\n",
    "}\n",
    "</style>"
   ]
  },
  {
   "cell_type": "code",
   "execution_count": 2,
   "metadata": {
    "executionInfo": {
     "elapsed": 7,
     "status": "ok",
     "timestamp": 1643881542859,
     "user": {
      "displayName": "Nelson L.",
      "photoUrl": "https://lh3.googleusercontent.com/a-/AOh14GipnVJXi8Vo7o6qBMpdgcfZB2j9TYnsly5vDf6nig=s64",
      "userId": "03694478629413699942"
     },
     "user_tz": -480
    },
    "id": "Njmo2zJTcd4a"
   },
   "outputs": [],
   "source": [
    "# import os\n",
    "# os.chdir(os.getcwd()+\"./..\")"
   ]
  },
  {
   "cell_type": "code",
   "execution_count": 3,
   "metadata": {
    "executionInfo": {
     "elapsed": 6215,
     "status": "ok",
     "timestamp": 1643881549067,
     "user": {
      "displayName": "Nelson L.",
      "photoUrl": "https://lh3.googleusercontent.com/a-/AOh14GipnVJXi8Vo7o6qBMpdgcfZB2j9TYnsly5vDf6nig=s64",
      "userId": "03694478629413699942"
     },
     "user_tz": -480
    },
    "id": "drMVKL8eN5oS"
   },
   "outputs": [],
   "source": [
    "# import libaries\n",
    "import torch\n",
    "from torch import cuda\n",
    "from torch.utils.data import Dataset,DataLoader"
   ]
  },
  {
   "cell_type": "code",
   "execution_count": 4,
   "metadata": {
    "colab": {
     "base_uri": "https://localhost:8080/"
    },
    "executionInfo": {
     "elapsed": 15,
     "status": "ok",
     "timestamp": 1643881549069,
     "user": {
      "displayName": "Nelson L.",
      "photoUrl": "https://lh3.googleusercontent.com/a-/AOh14GipnVJXi8Vo7o6qBMpdgcfZB2j9TYnsly5vDf6nig=s64",
      "userId": "03694478629413699942"
     },
     "user_tz": -480
    },
    "id": "Ve9awrmKby41",
    "outputId": "3b601fac-11f3-41b6-c604-2fb5e5c4bd4f"
   },
   "outputs": [
    {
     "name": "stdout",
     "output_type": "stream",
     "text": [
      "1.9.0a0+gitd69c22d\n"
     ]
    }
   ],
   "source": [
    "print(torch.__version__)"
   ]
  },
  {
   "cell_type": "code",
   "execution_count": 5,
   "metadata": {
    "executionInfo": {
     "elapsed": 630,
     "status": "ok",
     "timestamp": 1643881550140,
     "user": {
      "displayName": "Nelson L.",
      "photoUrl": "https://lh3.googleusercontent.com/a-/AOh14GipnVJXi8Vo7o6qBMpdgcfZB2j9TYnsly5vDf6nig=s64",
      "userId": "03694478629413699942"
     },
     "user_tz": -480
    },
    "id": "fTq-NCOvOFFD"
   },
   "outputs": [],
   "source": [
    "import os\n",
    "import json\n",
    "import random\n",
    "import pandas as pd\n",
    "import numpy as np\n",
    "from sklearn.utils import shuffle\n",
    "from sklearn import metrics\n",
    "from collections import Counter"
   ]
  },
  {
   "cell_type": "code",
   "execution_count": 6,
   "metadata": {
    "executionInfo": {
     "elapsed": 5,
     "status": "ok",
     "timestamp": 1643881550141,
     "user": {
      "displayName": "Nelson L.",
      "photoUrl": "https://lh3.googleusercontent.com/a-/AOh14GipnVJXi8Vo7o6qBMpdgcfZB2j9TYnsly5vDf6nig=s64",
      "userId": "03694478629413699942"
     },
     "user_tz": -480
    },
    "id": "jxcKIim7lZjn"
   },
   "outputs": [],
   "source": [
    "# !pip install transformers"
   ]
  },
  {
   "cell_type": "code",
   "execution_count": 7,
   "metadata": {
    "executionInfo": {
     "elapsed": 6,
     "status": "ok",
     "timestamp": 1643881550142,
     "user": {
      "displayName": "Nelson L.",
      "photoUrl": "https://lh3.googleusercontent.com/a-/AOh14GipnVJXi8Vo7o6qBMpdgcfZB2j9TYnsly5vDf6nig=s64",
      "userId": "03694478629413699942"
     },
     "user_tz": -480
    },
    "id": "R6OEU6x72SiD"
   },
   "outputs": [],
   "source": [
    "import torch"
   ]
  },
  {
   "cell_type": "code",
   "execution_count": 8,
   "metadata": {
    "colab": {
     "base_uri": "https://localhost:8080/",
     "height": 307
    },
    "executionInfo": {
     "elapsed": 1648,
     "status": "error",
     "timestamp": 1643881551785,
     "user": {
      "displayName": "Nelson L.",
      "photoUrl": "https://lh3.googleusercontent.com/a-/AOh14GipnVJXi8Vo7o6qBMpdgcfZB2j9TYnsly5vDf6nig=s64",
      "userId": "03694478629413699942"
     },
     "user_tz": -480
    },
    "id": "qiBbyLVoON3Y",
    "outputId": "ee83ce0f-1633-4432-a54c-1c595c036932"
   },
   "outputs": [],
   "source": [
    "from transformers import AutoTokenizer"
   ]
  },
  {
   "cell_type": "markdown",
   "metadata": {
    "id": "Bqo3p8rdddzn"
   },
   "source": [
    "# 1) Import Data"
   ]
  },
  {
   "cell_type": "code",
   "execution_count": 9,
   "metadata": {
    "executionInfo": {
     "elapsed": 411,
     "status": "aborted",
     "timestamp": 1643881551361,
     "user": {
      "displayName": "Nelson L.",
      "photoUrl": "https://lh3.googleusercontent.com/a-/AOh14GipnVJXi8Vo7o6qBMpdgcfZB2j9TYnsly5vDf6nig=s64",
      "userId": "03694478629413699942"
     },
     "user_tz": -480
    },
    "id": "sLsMP0EodKoZ"
   },
   "outputs": [],
   "source": [
    "def read_qnli_data(file_name, data_dir):\n",
    "    path = os.path.join(data_dir, file_name)\n",
    "    with open(path, encoding='utf-8-sig') as f:\n",
    "        text = f.readlines()\n",
    "\n",
    "    header = text[0].strip().split(\"\\t\")\n",
    "    lines = [line.strip().split(\"\\t\") for line in text[1:]]\n",
    "\n",
    "    df = pd.DataFrame(lines, columns=header)\n",
    "    return df\n",
    "\n",
    "\n",
    "def get_qnli_pandas_dataframe(data_dir):\n",
    "    qnli_train_df = read_qnli_data(\"train.tsv\",data_dir)\n",
    "    qnli_dev_df = read_qnli_data(\"dev.tsv\",data_dir)\n",
    "    qnli_train_df['label'] = np.where(\n",
    "        qnli_train_df['label'] == 'entailment', 1, 0)\n",
    "    qnli_dev_df['label'] = np.where(qnli_dev_df['label'] == 'entailment', 1, 0)\n",
    "\n",
    "    qnli_dev_df['question'] = qnli_dev_df['question'].apply(lambda x: x.strip())\n",
    "    qnli_dev_df['sentence'] = qnli_dev_df['sentence'].apply(lambda x: x.strip()) \n",
    "\n",
    "    qnli_train_df['question'] = qnli_train_df['question'].apply(lambda x: x.strip())\n",
    "    qnli_train_df['sentence'] = qnli_train_df['sentence'].apply(lambda x: x.strip()) \n",
    "\n",
    "    return qnli_dev_df, qnli_train_df\n",
    "\n",
    "\n",
    "def read_document_to_list(document_path):\n",
    "    with open(document_path, encoding='utf-8-sig') as f:\n",
    "        document = f.readlines()\n",
    "        sentence_list = [line.strip()\n",
    "                         for line in document if len(line.strip()) != 0]\n",
    "        return sentence_list\n",
    "\n",
    "\n",
    "def read_document_dict(document_dir):\n",
    "\n",
    "    document_dict = {}\n",
    "\n",
    "    for document_file_name in os.listdir(document_dir):\n",
    "        if document_file_name.endswith(\".txt\"):\n",
    "            document_name = document_file_name.replace(\n",
    "                \".txt\", \"\").replace(\"_\", \" \")\n",
    "            document_path = os.path.join(document_dir, document_file_name)\n",
    "            document_dict[document_name] = read_document_to_list(document_path)\n",
    "\n",
    "    return document_dict\n",
    "\n",
    "\n",
    "def read_json(file_path):\n",
    "    with open(file_path) as f:\n",
    "        json_f = json.load(f)\n",
    "    data = json_f['data']\n",
    "    return data\n",
    "\n",
    "\n",
    "def get_random_index(List):\n",
    "    return random.sample(range(len(List)), 1)[0]\n",
    "\n",
    "\n",
    "def load_data(data_path, load_impossible_answer=False):\n",
    "\n",
    "    data = read_json(data_path)\n",
    "\n",
    "    data_dict = {}\n",
    "    title_list = []\n",
    "    context_list = []\n",
    "    question_list = []\n",
    "    id_list = []\n",
    "    answer_text_list = []\n",
    "    answer_start_list = []\n",
    "    is_impossible_list = []\n",
    "\n",
    "    for paragraphs in data:\n",
    "        title = paragraphs['title']\n",
    "        context_qas_list = paragraphs['paragraphs']\n",
    "\n",
    "        for context_qas in context_qas_list:\n",
    "            context = context_qas['context']\n",
    "            qas_list = context_qas['qas']\n",
    "\n",
    "            for qas in qas_list:\n",
    "                title_list.append(title)\n",
    "                context_list.append(context)\n",
    "\n",
    "                is_impossible = qas['is_impossible']\n",
    "                is_impossible_list.append(is_impossible)\n",
    "\n",
    "                id_ = qas['id']\n",
    "                id_list.append(id_)\n",
    "                question = qas['question']\n",
    "                question_list.append(question)\n",
    "\n",
    "                if not is_impossible:\n",
    "                    answer_list = qas['answers']\n",
    "                    idx = get_random_index(answer_list)\n",
    "                    answer_text = answer_list[idx]['text']\n",
    "                    answer_start = answer_list[idx]['answer_start']\n",
    "\n",
    "                    answer_text_list.append(answer_text)\n",
    "                    answer_start_list.append(answer_start)\n",
    "                else:\n",
    "                    if load_impossible_answer:\n",
    "                        answer_list = qas['plausible_answers']\n",
    "                        idx = get_random_index(answer_list)\n",
    "                        answer_text = answer_list[idx]['text']\n",
    "                        answer_start = answer_list[idx]['answer_start']\n",
    "                        answer_text_list.append(answer_text)\n",
    "                        answer_start_list.append(answer_start)\n",
    "                    else:\n",
    "                        answer_text_list.append(\"\")\n",
    "                        answer_start_list.append(-1)\n",
    "\n",
    "    data_dict['id'] = id_list\n",
    "    data_dict['title'] = title_list\n",
    "    data_dict['context'] = context_list\n",
    "    data_dict['question'] = question_list\n",
    "    data_dict['answer_text'] = answer_text_list\n",
    "    data_dict['answer_start'] = answer_start_list\n",
    "    data_dict['is_impossible'] = is_impossible_list\n",
    "\n",
    "    return data_dict\n",
    "\n",
    "\n",
    "def get_squad_v2_pandas_dataframe(squad_v2_dir,include_impossible=False, load_impossible_answer=False):\n",
    "    # download from https://rajpurkar.github.io/SQuAD-explorer/\n",
    "    train_data_path = os.path.join(squad_v2_dir, \"train-v2.0.json\")\n",
    "    dev_data_path = os.path.join(squad_v2_dir, 'dev-v2.0.json')\n",
    "\n",
    "    train_data_dict = load_data(train_data_path, load_impossible_answer)\n",
    "    dev_data_dict = load_data(dev_data_path, load_impossible_answer)\n",
    "\n",
    "    train_data_df = pd.DataFrame(train_data_dict)\n",
    "    dev_data_df = pd.DataFrame(dev_data_dict)\n",
    "\n",
    "    if not include_impossible:\n",
    "        train_data_df = train_data_df[train_data_df['is_impossible'] == False]\n",
    "        dev_data_df = dev_data_df[dev_data_df['is_impossible'] == False]\n",
    "\n",
    "    train_data_df['question'] = train_data_df['question'].apply(lambda x: x.strip())\n",
    "    train_data_df['context'] = train_data_df['context'].apply(lambda x: x.strip()) \n",
    "\n",
    "    dev_data_df['question'] = dev_data_df['question'].apply(lambda x: x.strip())\n",
    "    dev_data_df['context'] = dev_data_df['context'].apply(lambda x: x.strip()) \n",
    "\n",
    "    return train_data_df, dev_data_df\n"
   ]
  },
  {
   "cell_type": "code",
   "execution_count": 10,
   "metadata": {
    "executionInfo": {
     "elapsed": 413,
     "status": "aborted",
     "timestamp": 1643881551363,
     "user": {
      "displayName": "Nelson L.",
      "photoUrl": "https://lh3.googleusercontent.com/a-/AOh14GipnVJXi8Vo7o6qBMpdgcfZB2j9TYnsly5vDf6nig=s64",
      "userId": "03694478629413699942"
     },
     "user_tz": -480
    },
    "id": "G4uhX374OVlZ"
   },
   "outputs": [],
   "source": [
    "device = \"cuda\" if cuda.is_available() else \"cpu\""
   ]
  },
  {
   "cell_type": "code",
   "execution_count": 11,
   "metadata": {
    "executionInfo": {
     "elapsed": 414,
     "status": "aborted",
     "timestamp": 1643881551364,
     "user": {
      "displayName": "Nelson L.",
      "photoUrl": "https://lh3.googleusercontent.com/a-/AOh14GipnVJXi8Vo7o6qBMpdgcfZB2j9TYnsly5vDf6nig=s64",
      "userId": "03694478629413699942"
     },
     "user_tz": -480
    },
    "id": "kfXjwuzfQToR"
   },
   "outputs": [
    {
     "data": {
      "text/plain": [
       "'cuda'"
      ]
     },
     "execution_count": 11,
     "metadata": {},
     "output_type": "execute_result"
    }
   ],
   "source": [
    "device"
   ]
  },
  {
   "cell_type": "code",
   "execution_count": 12,
   "metadata": {
    "executionInfo": {
     "elapsed": 414,
     "status": "aborted",
     "timestamp": 1643881551365,
     "user": {
      "displayName": "Nelson L.",
      "photoUrl": "https://lh3.googleusercontent.com/a-/AOh14GipnVJXi8Vo7o6qBMpdgcfZB2j9TYnsly5vDf6nig=s64",
      "userId": "03694478629413699942"
     },
     "user_tz": -480
    },
    "id": "6V0arb4xkvG-"
   },
   "outputs": [],
   "source": [
    "model_name =\"albert-base-v2\""
   ]
  },
  {
   "cell_type": "code",
   "execution_count": 13,
   "metadata": {
    "executionInfo": {
     "elapsed": 416,
     "status": "aborted",
     "timestamp": 1643881551367,
     "user": {
      "displayName": "Nelson L.",
      "photoUrl": "https://lh3.googleusercontent.com/a-/AOh14GipnVJXi8Vo7o6qBMpdgcfZB2j9TYnsly5vDf6nig=s64",
      "userId": "03694478629413699942"
     },
     "user_tz": -480
    },
    "id": "DWnJoBL5cd4i"
   },
   "outputs": [],
   "source": [
    "# qnli_dev_df, qnli_train_df = get_qnli_pandas_dataframe()"
   ]
  },
  {
   "cell_type": "code",
   "execution_count": 14,
   "metadata": {
    "executionInfo": {
     "elapsed": 417,
     "status": "aborted",
     "timestamp": 1643881551368,
     "user": {
      "displayName": "Nelson L.",
      "photoUrl": "https://lh3.googleusercontent.com/a-/AOh14GipnVJXi8Vo7o6qBMpdgcfZB2j9TYnsly5vDf6nig=s64",
      "userId": "03694478629413699942"
     },
     "user_tz": -480
    },
    "id": "aLRlf8p8cd4j"
   },
   "outputs": [],
   "source": [
    "# qnli_train_df.head()"
   ]
  },
  {
   "cell_type": "code",
   "execution_count": 15,
   "metadata": {
    "executionInfo": {
     "elapsed": 417,
     "status": "aborted",
     "timestamp": 1643881551368,
     "user": {
      "displayName": "Nelson L.",
      "photoUrl": "https://lh3.googleusercontent.com/a-/AOh14GipnVJXi8Vo7o6qBMpdgcfZB2j9TYnsly5vDf6nig=s64",
      "userId": "03694478629413699942"
     },
     "user_tz": -480
    },
    "id": "V04RYgTkcd4j"
   },
   "outputs": [],
   "source": [
    "# qnli_train_df['question_sentence'] = qnli_train_df.apply(lambda x:  \" \".join([x['question'],x['sentence']]),axis = 1)\n",
    "\n",
    "# qnli_train_df['question_sentence_length'] = qnli_train_df['question_sentence'].apply(lambda x: len(x.split(\" \")))\n",
    "\n",
    "# max(qnli_train_df['question_sentence_length'])"
   ]
  },
  {
   "cell_type": "code",
   "execution_count": 16,
   "metadata": {},
   "outputs": [
    {
     "data": {
      "text/plain": [
       "['__pycache__', 'dev-v2.0.json', 'evaluate.py', 'train-v2.0.json']"
      ]
     },
     "execution_count": 16,
     "metadata": {},
     "output_type": "execute_result"
    }
   ],
   "source": [
    "os.listdir(\"/data/SQUAD2\")"
   ]
  },
  {
   "cell_type": "code",
   "execution_count": 17,
   "metadata": {
    "executionInfo": {
     "elapsed": 418,
     "status": "aborted",
     "timestamp": 1643881551369,
     "user": {
      "displayName": "Nelson L.",
      "photoUrl": "https://lh3.googleusercontent.com/a-/AOh14GipnVJXi8Vo7o6qBMpdgcfZB2j9TYnsly5vDf6nig=s64",
      "userId": "03694478629413699942"
     },
     "user_tz": -480
    },
    "id": "HLU5xq9idsxo"
   },
   "outputs": [],
   "source": [
    "# from google.colab import drive\n",
    "# drive.mount('/content/drive')\n",
    "\n",
    "squad_v2_dir = \"/data/SQUAD2\" # data folder"
   ]
  },
  {
   "cell_type": "code",
   "execution_count": 18,
   "metadata": {
    "executionInfo": {
     "elapsed": 420,
     "status": "aborted",
     "timestamp": 1643881551372,
     "user": {
      "displayName": "Nelson L.",
      "photoUrl": "https://lh3.googleusercontent.com/a-/AOh14GipnVJXi8Vo7o6qBMpdgcfZB2j9TYnsly5vDf6nig=s64",
      "userId": "03694478629413699942"
     },
     "user_tz": -480
    },
    "id": "q3-g1Xaocd4k"
   },
   "outputs": [],
   "source": [
    "squad_train_df, squad_dev_df = get_squad_v2_pandas_dataframe(squad_v2_dir,include_impossible=True,load_impossible_answer=False)"
   ]
  },
  {
   "cell_type": "code",
   "execution_count": 19,
   "metadata": {
    "executionInfo": {
     "elapsed": 421,
     "status": "aborted",
     "timestamp": 1643881551373,
     "user": {
      "displayName": "Nelson L.",
      "photoUrl": "https://lh3.googleusercontent.com/a-/AOh14GipnVJXi8Vo7o6qBMpdgcfZB2j9TYnsly5vDf6nig=s64",
      "userId": "03694478629413699942"
     },
     "user_tz": -480
    },
    "id": "phWY0761cd4l"
   },
   "outputs": [],
   "source": [
    "squad_train_df['question_context'] = squad_train_df.apply(lambda x:  \" \".join([x['question'].strip(),x['context'].strip()]),axis = 1)"
   ]
  },
  {
   "cell_type": "code",
   "execution_count": 20,
   "metadata": {
    "executionInfo": {
     "elapsed": 422,
     "status": "aborted",
     "timestamp": 1643881551374,
     "user": {
      "displayName": "Nelson L.",
      "photoUrl": "https://lh3.googleusercontent.com/a-/AOh14GipnVJXi8Vo7o6qBMpdgcfZB2j9TYnsly5vDf6nig=s64",
      "userId": "03694478629413699942"
     },
     "user_tz": -480
    },
    "id": "3XEG8ye0cd4l"
   },
   "outputs": [],
   "source": [
    "squad_train_df['question_context_length'] = squad_train_df['question_context'].apply(lambda x: len(x.split(\" \")))"
   ]
  },
  {
   "cell_type": "code",
   "execution_count": 21,
   "metadata": {
    "executionInfo": {
     "elapsed": 423,
     "status": "aborted",
     "timestamp": 1643881551375,
     "user": {
      "displayName": "Nelson L.",
      "photoUrl": "https://lh3.googleusercontent.com/a-/AOh14GipnVJXi8Vo7o6qBMpdgcfZB2j9TYnsly5vDf6nig=s64",
      "userId": "03694478629413699942"
     },
     "user_tz": -480
    },
    "id": "w9gh8Vnacd4m"
   },
   "outputs": [
    {
     "data": {
      "text/plain": [
       "668"
      ]
     },
     "execution_count": 21,
     "metadata": {},
     "output_type": "execute_result"
    }
   ],
   "source": [
    "max(squad_train_df['question_context_length'])"
   ]
  },
  {
   "cell_type": "code",
   "execution_count": 22,
   "metadata": {
    "executionInfo": {
     "elapsed": 424,
     "status": "aborted",
     "timestamp": 1643881551376,
     "user": {
      "displayName": "Nelson L.",
      "photoUrl": "https://lh3.googleusercontent.com/a-/AOh14GipnVJXi8Vo7o6qBMpdgcfZB2j9TYnsly5vDf6nig=s64",
      "userId": "03694478629413699942"
     },
     "user_tz": -480
    },
    "id": "V8rr5XvJcd4n"
   },
   "outputs": [],
   "source": [
    "import matplotlib.pyplot as plt"
   ]
  },
  {
   "cell_type": "code",
   "execution_count": 23,
   "metadata": {
    "executionInfo": {
     "elapsed": 424,
     "status": "aborted",
     "timestamp": 1643881551377,
     "user": {
      "displayName": "Nelson L.",
      "photoUrl": "https://lh3.googleusercontent.com/a-/AOh14GipnVJXi8Vo7o6qBMpdgcfZB2j9TYnsly5vDf6nig=s64",
      "userId": "03694478629413699942"
     },
     "user_tz": -480
    },
    "id": "f4AceRG8cd4n"
   },
   "outputs": [
    {
     "data": {
      "text/plain": [
       "(array([1.9104e+04, 8.0095e+04, 2.3932e+04, 5.4880e+03, 1.3110e+03,\n",
       "        2.5600e+02, 8.0000e+01, 2.4000e+01, 1.4000e+01, 1.5000e+01]),\n",
       " array([ 25. ,  89.3, 153.6, 217.9, 282.2, 346.5, 410.8, 475.1, 539.4,\n",
       "        603.7, 668. ]),\n",
       " <BarContainer object of 10 artists>)"
      ]
     },
     "execution_count": 23,
     "metadata": {},
     "output_type": "execute_result"
    },
    {
     "data": {
      "image/png": "[encoded data removed]",
      "text/plain": [
       "<Figure size 432x288 with 1 Axes>"
      ]
     },
     "metadata": {
      "needs_background": "light"
     },
     "output_type": "display_data"
    }
   ],
   "source": [
    "plt.hist(squad_train_df['question_context_length'])"
   ]
  },
  {
   "cell_type": "code",
   "execution_count": 24,
   "metadata": {
    "executionInfo": {
     "elapsed": 425,
     "status": "aborted",
     "timestamp": 1643881551378,
     "user": {
      "displayName": "Nelson L.",
      "photoUrl": "https://lh3.googleusercontent.com/a-/AOh14GipnVJXi8Vo7o6qBMpdgcfZB2j9TYnsly5vDf6nig=s64",
      "userId": "03694478629413699942"
     },
     "user_tz": -480
    },
    "id": "btcHTzl6cd4o"
   },
   "outputs": [
    {
     "data": {
      "text/plain": [
       "33"
      ]
     },
     "execution_count": 24,
     "metadata": {},
     "output_type": "execute_result"
    }
   ],
   "source": [
    "len(squad_train_df[squad_train_df['question_context_length']>=512])"
   ]
  },
  {
   "cell_type": "code",
   "execution_count": 25,
   "metadata": {
    "executionInfo": {
     "elapsed": 426,
     "status": "aborted",
     "timestamp": 1643881551379,
     "user": {
      "displayName": "Nelson L.",
      "photoUrl": "https://lh3.googleusercontent.com/a-/AOh14GipnVJXi8Vo7o6qBMpdgcfZB2j9TYnsly5vDf6nig=s64",
      "userId": "03694478629413699942"
     },
     "user_tz": -480
    },
    "id": "5AvF41oycd4o"
   },
   "outputs": [],
   "source": [
    "squad_train_df['label'] = squad_train_df['is_impossible'].map({False:1,True:0})"
   ]
  },
  {
   "cell_type": "code",
   "execution_count": 26,
   "metadata": {
    "executionInfo": {
     "elapsed": 427,
     "status": "aborted",
     "timestamp": 1643881551380,
     "user": {
      "displayName": "Nelson L.",
      "photoUrl": "https://lh3.googleusercontent.com/a-/AOh14GipnVJXi8Vo7o6qBMpdgcfZB2j9TYnsly5vDf6nig=s64",
      "userId": "03694478629413699942"
     },
     "user_tz": -480
    },
    "id": "AjR9EC5ncd4t"
   },
   "outputs": [],
   "source": [
    "squad_dev_df['label'] = squad_dev_df['is_impossible'].map({False:1,True:0})"
   ]
  },
  {
   "cell_type": "code",
   "execution_count": 27,
   "metadata": {
    "executionInfo": {
     "elapsed": 428,
     "status": "aborted",
     "timestamp": 1643881551381,
     "user": {
      "displayName": "Nelson L.",
      "photoUrl": "https://lh3.googleusercontent.com/a-/AOh14GipnVJXi8Vo7o6qBMpdgcfZB2j9TYnsly5vDf6nig=s64",
      "userId": "03694478629413699942"
     },
     "user_tz": -480
    },
    "id": "kjQ9bLt2cd4t"
   },
   "outputs": [
    {
     "data": {
      "text/html": [
       "<div>\n",
       "<style scoped>\n",
       "    .dataframe tbody tr th:only-of-type {\n",
       "        vertical-align: middle;\n",
       "    }\n",
       "\n",
       "    .dataframe tbody tr th {\n",
       "        vertical-align: top;\n",
       "    }\n",
       "\n",
       "    .dataframe thead th {\n",
       "        text-align: right;\n",
       "    }\n",
       "</style>\n",
       "<table border=\"1\" class=\"dataframe\">\n",
       "  <thead>\n",
       "    <tr style=\"text-align: right;\">\n",
       "      <th></th>\n",
       "      <th>id</th>\n",
       "      <th>title</th>\n",
       "      <th>context</th>\n",
       "      <th>question</th>\n",
       "      <th>answer_text</th>\n",
       "      <th>answer_start</th>\n",
       "      <th>is_impossible</th>\n",
       "      <th>question_context</th>\n",
       "      <th>question_context_length</th>\n",
       "      <th>label</th>\n",
       "    </tr>\n",
       "  </thead>\n",
       "  <tbody>\n",
       "    <tr>\n",
       "      <th>0</th>\n",
       "      <td>56be85543aeaaa14008c9063</td>\n",
       "      <td>Beyoncé</td>\n",
       "      <td>Beyoncé Giselle Knowles-Carter (/biːˈjɒnseɪ/ b...</td>\n",
       "      <td>When did Beyonce start becoming popular?</td>\n",
       "      <td>in the late 1990s</td>\n",
       "      <td>269</td>\n",
       "      <td>False</td>\n",
       "      <td>When did Beyonce start becoming popular? Beyon...</td>\n",
       "      <td>115</td>\n",
       "      <td>1</td>\n",
       "    </tr>\n",
       "    <tr>\n",
       "      <th>1</th>\n",
       "      <td>56be85543aeaaa14008c9065</td>\n",
       "      <td>Beyoncé</td>\n",
       "      <td>Beyoncé Giselle Knowles-Carter (/biːˈjɒnseɪ/ b...</td>\n",
       "      <td>What areas did Beyonce compete in when she was...</td>\n",
       "      <td>singing and dancing</td>\n",
       "      <td>207</td>\n",
       "      <td>False</td>\n",
       "      <td>What areas did Beyonce compete in when she was...</td>\n",
       "      <td>120</td>\n",
       "      <td>1</td>\n",
       "    </tr>\n",
       "    <tr>\n",
       "      <th>2</th>\n",
       "      <td>56be85543aeaaa14008c9066</td>\n",
       "      <td>Beyoncé</td>\n",
       "      <td>Beyoncé Giselle Knowles-Carter (/biːˈjɒnseɪ/ b...</td>\n",
       "      <td>When did Beyonce leave Destiny's Child and bec...</td>\n",
       "      <td>2003</td>\n",
       "      <td>526</td>\n",
       "      <td>False</td>\n",
       "      <td>When did Beyonce leave Destiny's Child and bec...</td>\n",
       "      <td>120</td>\n",
       "      <td>1</td>\n",
       "    </tr>\n",
       "    <tr>\n",
       "      <th>3</th>\n",
       "      <td>56bf6b0f3aeaaa14008c9601</td>\n",
       "      <td>Beyoncé</td>\n",
       "      <td>Beyoncé Giselle Knowles-Carter (/biːˈjɒnseɪ/ b...</td>\n",
       "      <td>In what city and state did Beyonce  grow up?</td>\n",
       "      <td>Houston, Texas</td>\n",
       "      <td>166</td>\n",
       "      <td>False</td>\n",
       "      <td>In what city and state did Beyonce  grow up? B...</td>\n",
       "      <td>119</td>\n",
       "      <td>1</td>\n",
       "    </tr>\n",
       "    <tr>\n",
       "      <th>4</th>\n",
       "      <td>56bf6b0f3aeaaa14008c9602</td>\n",
       "      <td>Beyoncé</td>\n",
       "      <td>Beyoncé Giselle Knowles-Carter (/biːˈjɒnseɪ/ b...</td>\n",
       "      <td>In which decade did Beyonce become famous?</td>\n",
       "      <td>late 1990s</td>\n",
       "      <td>276</td>\n",
       "      <td>False</td>\n",
       "      <td>In which decade did Beyonce become famous? Bey...</td>\n",
       "      <td>116</td>\n",
       "      <td>1</td>\n",
       "    </tr>\n",
       "  </tbody>\n",
       "</table>\n",
       "</div>"
      ],
      "text/plain": [
       "                         id    title  \\\n",
       "0  56be85543aeaaa14008c9063  Beyoncé   \n",
       "1  56be85543aeaaa14008c9065  Beyoncé   \n",
       "2  56be85543aeaaa14008c9066  Beyoncé   \n",
       "3  56bf6b0f3aeaaa14008c9601  Beyoncé   \n",
       "4  56bf6b0f3aeaaa14008c9602  Beyoncé   \n",
       "\n",
       "                                             context  \\\n",
       "0  Beyoncé Giselle Knowles-Carter (/biːˈjɒnseɪ/ b...   \n",
       "1  Beyoncé Giselle Knowles-Carter (/biːˈjɒnseɪ/ b...   \n",
       "2  Beyoncé Giselle Knowles-Carter (/biːˈjɒnseɪ/ b...   \n",
       "3  Beyoncé Giselle Knowles-Carter (/biːˈjɒnseɪ/ b...   \n",
       "4  Beyoncé Giselle Knowles-Carter (/biːˈjɒnseɪ/ b...   \n",
       "\n",
       "                                            question          answer_text  \\\n",
       "0           When did Beyonce start becoming popular?    in the late 1990s   \n",
       "1  What areas did Beyonce compete in when she was...  singing and dancing   \n",
       "2  When did Beyonce leave Destiny's Child and bec...                 2003   \n",
       "3       In what city and state did Beyonce  grow up?       Houston, Texas   \n",
       "4         In which decade did Beyonce become famous?           late 1990s   \n",
       "\n",
       "   answer_start  is_impossible  \\\n",
       "0           269          False   \n",
       "1           207          False   \n",
       "2           526          False   \n",
       "3           166          False   \n",
       "4           276          False   \n",
       "\n",
       "                                    question_context  question_context_length  \\\n",
       "0  When did Beyonce start becoming popular? Beyon...                      115   \n",
       "1  What areas did Beyonce compete in when she was...                      120   \n",
       "2  When did Beyonce leave Destiny's Child and bec...                      120   \n",
       "3  In what city and state did Beyonce  grow up? B...                      119   \n",
       "4  In which decade did Beyonce become famous? Bey...                      116   \n",
       "\n",
       "   label  \n",
       "0      1  \n",
       "1      1  \n",
       "2      1  \n",
       "3      1  \n",
       "4      1  "
      ]
     },
     "execution_count": 27,
     "metadata": {},
     "output_type": "execute_result"
    }
   ],
   "source": [
    "squad_train_df.head()"
   ]
  },
  {
   "cell_type": "code",
   "execution_count": 28,
   "metadata": {
    "executionInfo": {
     "elapsed": 429,
     "status": "aborted",
     "timestamp": 1643881551382,
     "user": {
      "displayName": "Nelson L.",
      "photoUrl": "https://lh3.googleusercontent.com/a-/AOh14GipnVJXi8Vo7o6qBMpdgcfZB2j9TYnsly5vDf6nig=s64",
      "userId": "03694478629413699942"
     },
     "user_tz": -480
    },
    "id": "hop_mte5cd4u"
   },
   "outputs": [],
   "source": [
    "from collections import Counter"
   ]
  },
  {
   "cell_type": "code",
   "execution_count": 29,
   "metadata": {
    "executionInfo": {
     "elapsed": 429,
     "status": "aborted",
     "timestamp": 1643881551383,
     "user": {
      "displayName": "Nelson L.",
      "photoUrl": "https://lh3.googleusercontent.com/a-/AOh14GipnVJXi8Vo7o6qBMpdgcfZB2j9TYnsly5vDf6nig=s64",
      "userId": "03694478629413699942"
     },
     "user_tz": -480
    },
    "id": "Fzmj-1qbcd4u"
   },
   "outputs": [
    {
     "data": {
      "text/plain": [
       "Counter({False: 86821, True: 43498})"
      ]
     },
     "execution_count": 29,
     "metadata": {},
     "output_type": "execute_result"
    }
   ],
   "source": [
    "Counter(squad_train_df['is_impossible'])"
   ]
  },
  {
   "cell_type": "code",
   "execution_count": 30,
   "metadata": {
    "executionInfo": {
     "elapsed": 430,
     "status": "aborted",
     "timestamp": 1643881551384,
     "user": {
      "displayName": "Nelson L.",
      "photoUrl": "https://lh3.googleusercontent.com/a-/AOh14GipnVJXi8Vo7o6qBMpdgcfZB2j9TYnsly5vDf6nig=s64",
      "userId": "03694478629413699942"
     },
     "user_tz": -480
    },
    "id": "Xoh0wjNCcd4u"
   },
   "outputs": [
    {
     "data": {
      "text/plain": [
       "Counter({1: 86821, 0: 43498})"
      ]
     },
     "execution_count": 30,
     "metadata": {},
     "output_type": "execute_result"
    }
   ],
   "source": [
    "Counter(squad_train_df['label'])"
   ]
  },
  {
   "cell_type": "markdown",
   "metadata": {
    "id": "xazR7eZpXcZs"
   },
   "source": [
    "# 2) Tokenization Features Engineering"
   ]
  },
  {
   "cell_type": "code",
   "execution_count": 31,
   "metadata": {
    "executionInfo": {
     "elapsed": 431,
     "status": "aborted",
     "timestamp": 1643881551385,
     "user": {
      "displayName": "Nelson L.",
      "photoUrl": "https://lh3.googleusercontent.com/a-/AOh14GipnVJXi8Vo7o6qBMpdgcfZB2j9TYnsly5vDf6nig=s64",
      "userId": "03694478629413699942"
     },
     "user_tz": -480
    },
    "id": "N61l98MhbURZ"
   },
   "outputs": [],
   "source": [
    "max_length = 512"
   ]
  },
  {
   "cell_type": "code",
   "execution_count": 32,
   "metadata": {
    "executionInfo": {
     "elapsed": 433,
     "status": "aborted",
     "timestamp": 1643881551387,
     "user": {
      "displayName": "Nelson L.",
      "photoUrl": "https://lh3.googleusercontent.com/a-/AOh14GipnVJXi8Vo7o6qBMpdgcfZB2j9TYnsly5vDf6nig=s64",
      "userId": "03694478629413699942"
     },
     "user_tz": -480
    },
    "id": "o7wO6Lt2cd4z"
   },
   "outputs": [],
   "source": [
    "doc_overlap_length = 32"
   ]
  },
  {
   "cell_type": "code",
   "execution_count": 33,
   "metadata": {
    "executionInfo": {
     "elapsed": 61,
     "status": "aborted",
     "timestamp": 1643881551388,
     "user": {
      "displayName": "Nelson L.",
      "photoUrl": "https://lh3.googleusercontent.com/a-/AOh14GipnVJXi8Vo7o6qBMpdgcfZB2j9TYnsly5vDf6nig=s64",
      "userId": "03694478629413699942"
     },
     "user_tz": -480
    },
    "id": "e5DLd3b3aqde"
   },
   "outputs": [],
   "source": [
    "tokenizer = AutoTokenizer.from_pretrained(model_name)"
   ]
  },
  {
   "cell_type": "code",
   "execution_count": 34,
   "metadata": {
    "executionInfo": {
     "elapsed": 62,
     "status": "aborted",
     "timestamp": 1643881551389,
     "user": {
      "displayName": "Nelson L.",
      "photoUrl": "https://lh3.googleusercontent.com/a-/AOh14GipnVJXi8Vo7o6qBMpdgcfZB2j9TYnsly5vDf6nig=s64",
      "userId": "03694478629413699942"
     },
     "user_tz": -480
    },
    "id": "opkhbM8dcd41"
   },
   "outputs": [],
   "source": [
    "### short text  less than 512"
   ]
  },
  {
   "cell_type": "code",
   "execution_count": 35,
   "metadata": {
    "executionInfo": {
     "elapsed": 63,
     "status": "aborted",
     "timestamp": 1643881551390,
     "user": {
      "displayName": "Nelson L.",
      "photoUrl": "https://lh3.googleusercontent.com/a-/AOh14GipnVJXi8Vo7o6qBMpdgcfZB2j9TYnsly5vDf6nig=s64",
      "userId": "03694478629413699942"
     },
     "user_tz": -480
    },
    "id": "-etjdTo9Rnm_"
   },
   "outputs": [
    {
     "data": {
      "text/plain": [
       "115"
      ]
     },
     "execution_count": 35,
     "metadata": {},
     "output_type": "execute_result"
    }
   ],
   "source": [
    "question = squad_train_df['question'].iloc[0]\n",
    "context = squad_train_df['context'].iloc[0]\n",
    "\n",
    "squad_train_df['question_context_length'].iloc[0]"
   ]
  },
  {
   "cell_type": "code",
   "execution_count": 36,
   "metadata": {
    "executionInfo": {
     "elapsed": 63,
     "status": "aborted",
     "timestamp": 1643881551391,
     "user": {
      "displayName": "Nelson L.",
      "photoUrl": "https://lh3.googleusercontent.com/a-/AOh14GipnVJXi8Vo7o6qBMpdgcfZB2j9TYnsly5vDf6nig=s64",
      "userId": "03694478629413699942"
     },
     "user_tz": -480
    },
    "id": "7T988ifpcd42"
   },
   "outputs": [],
   "source": [
    "def get_token(question,context):\n",
    "    \n",
    "    inputs = tokenizer(\n",
    "            text = question,\n",
    "            text_pair = context,\n",
    "            add_special_tokens = True,\n",
    "            max_length = 512,\n",
    "            padding = \"max_length\",\n",
    "            return_token_type_ids = True,\n",
    "            truncation = \"only_second\",\n",
    "#             return_tensors=   'pt'\n",
    "            )\n",
    "    \n",
    "    return inputs"
   ]
  },
  {
   "cell_type": "code",
   "execution_count": 37,
   "metadata": {
    "executionInfo": {
     "elapsed": 64,
     "status": "aborted",
     "timestamp": 1643881551392,
     "user": {
      "displayName": "Nelson L.",
      "photoUrl": "https://lh3.googleusercontent.com/a-/AOh14GipnVJXi8Vo7o6qBMpdgcfZB2j9TYnsly5vDf6nig=s64",
      "userId": "03694478629413699942"
     },
     "user_tz": -480
    },
    "id": "vA0pyJb9cd43"
   },
   "outputs": [],
   "source": [
    "def get_raw_token(question,context):\n",
    "    \n",
    "    inputs = tokenizer(\n",
    "        text = question,\n",
    "        text_pair = context,\n",
    "        add_special_tokens = True,\n",
    "        max_length = None,\n",
    "        padding = False,\n",
    "        return_token_type_ids = True,\n",
    "        truncation = False,\n",
    "        return_offsets_mapping = True\n",
    "        )\n",
    "    \n",
    "    return inputs"
   ]
  },
  {
   "cell_type": "code",
   "execution_count": 38,
   "metadata": {
    "executionInfo": {
     "elapsed": 65,
     "status": "aborted",
     "timestamp": 1643881551393,
     "user": {
      "displayName": "Nelson L.",
      "photoUrl": "https://lh3.googleusercontent.com/a-/AOh14GipnVJXi8Vo7o6qBMpdgcfZB2j9TYnsly5vDf6nig=s64",
      "userId": "03694478629413699942"
     },
     "user_tz": -480
    },
    "id": "--k7pY6scd44"
   },
   "outputs": [],
   "source": [
    "raw_token  = get_raw_token(question,context)"
   ]
  },
  {
   "cell_type": "code",
   "execution_count": 39,
   "metadata": {
    "executionInfo": {
     "elapsed": 66,
     "status": "aborted",
     "timestamp": 1643881551394,
     "user": {
      "displayName": "Nelson L.",
      "photoUrl": "https://lh3.googleusercontent.com/a-/AOh14GipnVJXi8Vo7o6qBMpdgcfZB2j9TYnsly5vDf6nig=s64",
      "userId": "03694478629413699942"
     },
     "user_tz": -480
    },
    "id": "Wz2MInsJzgp-"
   },
   "outputs": [
    {
     "data": {
      "text/plain": [
       "dict_keys(['input_ids', 'token_type_ids', 'attention_mask', 'offset_mapping'])"
      ]
     },
     "execution_count": 39,
     "metadata": {},
     "output_type": "execute_result"
    }
   ],
   "source": [
    "raw_token.keys()"
   ]
  },
  {
   "cell_type": "code",
   "execution_count": 40,
   "metadata": {
    "executionInfo": {
     "elapsed": 67,
     "status": "aborted",
     "timestamp": 1643881551395,
     "user": {
      "displayName": "Nelson L.",
      "photoUrl": "https://lh3.googleusercontent.com/a-/AOh14GipnVJXi8Vo7o6qBMpdgcfZB2j9TYnsly5vDf6nig=s64",
      "userId": "03694478629413699942"
     },
     "user_tz": -480
    },
    "id": "4mcCL3M2cd45"
   },
   "outputs": [],
   "source": [
    "def duplicate_token(question,context):\n",
    "    \n",
    "    inputs = get_token(question,context)\n",
    "    \n",
    "    return inputs,inputs"
   ]
  },
  {
   "cell_type": "code",
   "execution_count": 41,
   "metadata": {
    "executionInfo": {
     "elapsed": 69,
     "status": "aborted",
     "timestamp": 1643881551397,
     "user": {
      "displayName": "Nelson L.",
      "photoUrl": "https://lh3.googleusercontent.com/a-/AOh14GipnVJXi8Vo7o6qBMpdgcfZB2j9TYnsly5vDf6nig=s64",
      "userId": "03694478629413699942"
     },
     "user_tz": -480
    },
    "id": "ymC4Lq32cd45"
   },
   "outputs": [],
   "source": [
    "token_inputs_1,token_inputs_2 = duplicate_token(question,context)"
   ]
  },
  {
   "cell_type": "code",
   "execution_count": 42,
   "metadata": {
    "executionInfo": {
     "elapsed": 69,
     "status": "aborted",
     "timestamp": 1643881551398,
     "user": {
      "displayName": "Nelson L.",
      "photoUrl": "https://lh3.googleusercontent.com/a-/AOh14GipnVJXi8Vo7o6qBMpdgcfZB2j9TYnsly5vDf6nig=s64",
      "userId": "03694478629413699942"
     },
     "user_tz": -480
    },
    "id": "ddh1jrY6cd46"
   },
   "outputs": [],
   "source": [
    "index = squad_train_df[squad_train_df['question_context_length']>512].head(3).index[0]"
   ]
  },
  {
   "cell_type": "code",
   "execution_count": 43,
   "metadata": {
    "executionInfo": {
     "elapsed": 70,
     "status": "aborted",
     "timestamp": 1643881551399,
     "user": {
      "displayName": "Nelson L.",
      "photoUrl": "https://lh3.googleusercontent.com/a-/AOh14GipnVJXi8Vo7o6qBMpdgcfZB2j9TYnsly5vDf6nig=s64",
      "userId": "03694478629413699942"
     },
     "user_tz": -480
    },
    "id": "gu_CH5-Pcd46"
   },
   "outputs": [],
   "source": [
    "question = squad_train_df['question'].iloc[index]\n",
    "context = squad_train_df['context'].iloc[index]"
   ]
  },
  {
   "cell_type": "code",
   "execution_count": 44,
   "metadata": {
    "executionInfo": {
     "elapsed": 71,
     "status": "aborted",
     "timestamp": 1643881551400,
     "user": {
      "displayName": "Nelson L.",
      "photoUrl": "https://lh3.googleusercontent.com/a-/AOh14GipnVJXi8Vo7o6qBMpdgcfZB2j9TYnsly5vDf6nig=s64",
      "userId": "03694478629413699942"
     },
     "user_tz": -480
    },
    "id": "f1KXmpjYcd46"
   },
   "outputs": [
    {
     "data": {
      "text/plain": [
       "539"
      ]
     },
     "execution_count": 44,
     "metadata": {},
     "output_type": "execute_result"
    }
   ],
   "source": [
    "squad_train_df['question_context_length'].iloc[index]"
   ]
  },
  {
   "cell_type": "code",
   "execution_count": 45,
   "metadata": {
    "executionInfo": {
     "elapsed": 71,
     "status": "aborted",
     "timestamp": 1643881551400,
     "user": {
      "displayName": "Nelson L.",
      "photoUrl": "https://lh3.googleusercontent.com/a-/AOh14GipnVJXi8Vo7o6qBMpdgcfZB2j9TYnsly5vDf6nig=s64",
      "userId": "03694478629413699942"
     },
     "user_tz": -480
    },
    "id": "C_cgmTSzcd47"
   },
   "outputs": [
    {
     "name": "stderr",
     "output_type": "stream",
     "text": [
      "Token indices sequence length is longer than the specified maximum sequence length for this model (826 > 512). Running this sequence through the model will result in indexing errors\n"
     ]
    }
   ],
   "source": [
    "raw_token  = get_raw_token(question,context)"
   ]
  },
  {
   "cell_type": "code",
   "execution_count": 46,
   "metadata": {
    "executionInfo": {
     "elapsed": 72,
     "status": "aborted",
     "timestamp": 1643881551401,
     "user": {
      "displayName": "Nelson L.",
      "photoUrl": "https://lh3.googleusercontent.com/a-/AOh14GipnVJXi8Vo7o6qBMpdgcfZB2j9TYnsly5vDf6nig=s64",
      "userId": "03694478629413699942"
     },
     "user_tz": -480
    },
    "id": "POEZ0GyEcd47"
   },
   "outputs": [
    {
     "data": {
      "text/plain": [
       "dict_keys(['input_ids', 'token_type_ids', 'attention_mask', 'offset_mapping'])"
      ]
     },
     "execution_count": 46,
     "metadata": {},
     "output_type": "execute_result"
    }
   ],
   "source": [
    "raw_token.keys()"
   ]
  },
  {
   "cell_type": "code",
   "execution_count": 47,
   "metadata": {
    "executionInfo": {
     "elapsed": 73,
     "status": "aborted",
     "timestamp": 1643881551402,
     "user": {
      "displayName": "Nelson L.",
      "photoUrl": "https://lh3.googleusercontent.com/a-/AOh14GipnVJXi8Vo7o6qBMpdgcfZB2j9TYnsly5vDf6nig=s64",
      "userId": "03694478629413699942"
     },
     "user_tz": -480
    },
    "id": "awXxnfQGcd47"
   },
   "outputs": [],
   "source": [
    "def split_long_token(question,context,raw_token,doc_overlap_length = 32):\n",
    "    \n",
    "    first_context_end_pos = raw_token['offset_mapping'][511][1]-1# because of specical token\n",
    "    context_1 = context[:first_context_end_pos]\n",
    "    \n",
    "    sencond_char_start_pos = raw_token['offset_mapping'][511-doc_overlap_length][0]-1\n",
    "    \n",
    "    context_2 = context[sencond_char_start_pos:]\n",
    "    \n",
    "    \n",
    "    inputs_1 = get_token(question,context_1)\n",
    "    \n",
    "    inputs_2 = get_token(question,context_2)\n",
    "\n",
    "        \n",
    "    return inputs_1,inputs_2"
   ]
  },
  {
   "cell_type": "code",
   "execution_count": 48,
   "metadata": {
    "executionInfo": {
     "elapsed": 75,
     "status": "aborted",
     "timestamp": 1643881551403,
     "user": {
      "displayName": "Nelson L.",
      "photoUrl": "https://lh3.googleusercontent.com/a-/AOh14GipnVJXi8Vo7o6qBMpdgcfZB2j9TYnsly5vDf6nig=s64",
      "userId": "03694478629413699942"
     },
     "user_tz": -480
    },
    "id": "S9WFKLFzcd48"
   },
   "outputs": [],
   "source": [
    "token_inputs_1,token_inputs_2 = split_long_token(question,context,raw_token,doc_overlap_length = 32)"
   ]
  },
  {
   "cell_type": "code",
   "execution_count": 49,
   "metadata": {
    "executionInfo": {
     "elapsed": 83,
     "status": "aborted",
     "timestamp": 1643881551412,
     "user": {
      "displayName": "Nelson L.",
      "photoUrl": "https://lh3.googleusercontent.com/a-/AOh14GipnVJXi8Vo7o6qBMpdgcfZB2j9TYnsly5vDf6nig=s64",
      "userId": "03694478629413699942"
     },
     "user_tz": -480
    },
    "id": "lQwAsVgIcd48"
   },
   "outputs": [],
   "source": [
    "def prepare_feature(example):\n",
    "    \n",
    "    context = example['context']\n",
    "    question = example['question']\n",
    "    \n",
    "    # get raw token\n",
    "    raw_token  = get_raw_token(question,context)\n",
    "    \n",
    "    if len(raw_token['input_ids'])<=512:\n",
    "        \n",
    "        token_inputs_1,token_inputs_2 = duplicate_token(question,context)\n",
    "        \n",
    "    else:\n",
    "        token_inputs_1,token_inputs_2 = split_long_token(question,context,raw_token,doc_overlap_length = 32)\n",
    "        \n",
    "    return token_inputs_1,token_inputs_2"
   ]
  },
  {
   "cell_type": "code",
   "execution_count": 50,
   "metadata": {
    "executionInfo": {
     "elapsed": 83,
     "status": "aborted",
     "timestamp": 1643881551413,
     "user": {
      "displayName": "Nelson L.",
      "photoUrl": "https://lh3.googleusercontent.com/a-/AOh14GipnVJXi8Vo7o6qBMpdgcfZB2j9TYnsly5vDf6nig=s64",
      "userId": "03694478629413699942"
     },
     "user_tz": -480
    },
    "id": "FuHn7epFcd48"
   },
   "outputs": [],
   "source": [
    "squad_train_df = shuffle(squad_train_df)"
   ]
  },
  {
   "cell_type": "code",
   "execution_count": 51,
   "metadata": {
    "executionInfo": {
     "elapsed": 84,
     "status": "aborted",
     "timestamp": 1643881551414,
     "user": {
      "displayName": "Nelson L.",
      "photoUrl": "https://lh3.googleusercontent.com/a-/AOh14GipnVJXi8Vo7o6qBMpdgcfZB2j9TYnsly5vDf6nig=s64",
      "userId": "03694478629413699942"
     },
     "user_tz": -480
    },
    "id": "M08anR7mcd49"
   },
   "outputs": [],
   "source": [
    "squad_dev_df = shuffle(squad_dev_df)"
   ]
  },
  {
   "cell_type": "code",
   "execution_count": 52,
   "metadata": {
    "executionInfo": {
     "elapsed": 84,
     "status": "aborted",
     "timestamp": 1643881551414,
     "user": {
      "displayName": "Nelson L.",
      "photoUrl": "https://lh3.googleusercontent.com/a-/AOh14GipnVJXi8Vo7o6qBMpdgcfZB2j9TYnsly5vDf6nig=s64",
      "userId": "03694478629413699942"
     },
     "user_tz": -480
    },
    "id": "uhz78Si6k_Yx"
   },
   "outputs": [
    {
     "data": {
      "text/plain": [
       "130319"
      ]
     },
     "execution_count": 52,
     "metadata": {},
     "output_type": "execute_result"
    }
   ],
   "source": [
    "len(squad_train_df)"
   ]
  },
  {
   "cell_type": "code",
   "execution_count": 53,
   "metadata": {
    "executionInfo": {
     "elapsed": 388,
     "status": "aborted",
     "timestamp": 1643881551718,
     "user": {
      "displayName": "Nelson L.",
      "photoUrl": "https://lh3.googleusercontent.com/a-/AOh14GipnVJXi8Vo7o6qBMpdgcfZB2j9TYnsly5vDf6nig=s64",
      "userId": "03694478629413699942"
     },
     "user_tz": -480
    },
    "id": "BKIBsott7twL"
   },
   "outputs": [
    {
     "data": {
      "text/plain": [
       "11873"
      ]
     },
     "execution_count": 53,
     "metadata": {},
     "output_type": "execute_result"
    }
   ],
   "source": [
    "len(squad_dev_df)"
   ]
  },
  {
   "cell_type": "code",
   "execution_count": 54,
   "metadata": {
    "executionInfo": {
     "elapsed": 388,
     "status": "aborted",
     "timestamp": 1643881551719,
     "user": {
      "displayName": "Nelson L.",
      "photoUrl": "https://lh3.googleusercontent.com/a-/AOh14GipnVJXi8Vo7o6qBMpdgcfZB2j9TYnsly5vDf6nig=s64",
      "userId": "03694478629413699942"
     },
     "user_tz": -480
    },
    "id": "AFz3kPuHk8ba"
   },
   "outputs": [],
   "source": [
    "train_sample_size = len(squad_train_df)\n",
    "dev_sample_size = len(squad_dev_df)"
   ]
  },
  {
   "cell_type": "code",
   "execution_count": 55,
   "metadata": {
    "executionInfo": {
     "elapsed": 393,
     "status": "aborted",
     "timestamp": 1643881551726,
     "user": {
      "displayName": "Nelson L.",
      "photoUrl": "https://lh3.googleusercontent.com/a-/AOh14GipnVJXi8Vo7o6qBMpdgcfZB2j9TYnsly5vDf6nig=s64",
      "userId": "03694478629413699942"
     },
     "user_tz": -480
    },
    "id": "xfi3jWxUcd4-"
   },
   "outputs": [],
   "source": [
    "# train_token_pairs_list = squad_train_df.head(train_sample_size).apply(lambda x:prepare_feature(x),axis = 1)\n",
    "\n",
    "# dev_token_pairs_list = squad_dev_df.head(dev_sample_size).apply(lambda x:prepare_feature(x),axis = 1)\n",
    "\n",
    "# train_token_pairs_1 = [pair[0] for pair in train_token_pairs_list]\n",
    "# train_token_pairs_1_df  = pd.DataFrame(train_token_pairs_1)\n",
    "\n",
    "# train_token_pairs_2 = [pair[1] for pair in train_token_pairs_list]\n",
    "# train_token_pairs_2_df  = pd.DataFrame(train_token_pairs_2)\n",
    "\n",
    "# dev_token_pairs_1 = [pair[0] for pair in dev_token_pairs_list]\n",
    "# dev_token_pairs_1_df  = pd.DataFrame(dev_token_pairs_1)\n",
    "\n",
    "# dev_token_pairs_2 = [pair[1] for pair in dev_token_pairs_list]\n",
    "# dev_token_pairs_2_df  = pd.DataFrame(dev_token_pairs_2)\n",
    "\n",
    "# train_labels  = squad_train_df.head(train_sample_size)['label'].to_list()\n",
    "\n",
    "# dev_labels  = squad_dev_df.head(dev_sample_size)['label'].to_list()"
   ]
  },
  {
   "cell_type": "code",
   "execution_count": 56,
   "metadata": {
    "executionInfo": {
     "elapsed": 393,
     "status": "aborted",
     "timestamp": 1643881551727,
     "user": {
      "displayName": "Nelson L.",
      "photoUrl": "https://lh3.googleusercontent.com/a-/AOh14GipnVJXi8Vo7o6qBMpdgcfZB2j9TYnsly5vDf6nig=s64",
      "userId": "03694478629413699942"
     },
     "user_tz": -480
    },
    "id": "s93i4cpLcd4_"
   },
   "outputs": [],
   "source": [
    "class LongTextPairDataSet(Dataset):\n",
    "    \n",
    "    def __init__(self,df_pair_1,df_pair_2, label_list,device = \"cpu\"):\n",
    "        self.len = len(df_pair_1)\n",
    "        self.df_pair_1 = df_pair_1\n",
    "        self.df_pair_2 = df_pair_2\n",
    "        self.label_list = label_list\n",
    "        self.device = device\n",
    "    \n",
    "    def __getitem__(self,index):\n",
    "        df_1 = self.df_pair_1.iloc[index]\n",
    "        df_2 = self.df_pair_2.iloc[index]\n",
    "        labels = self.label_list[index]\n",
    "        \n",
    "        if isinstance(df_1,pd.core.series.Series):\n",
    "            pair_dict_1 = df_1.to_dict()\n",
    "            pair_dict_2 = df_2.to_dict()\n",
    "        else:\n",
    "            pair_dict_1 = df_1.to_dict(orient = \"list\")\n",
    "            pair_dict_2 = df_2.to_dict(orient = \"list\")\n",
    "        \n",
    "        inputs_1 = {k:torch.tensor(v).to(self.device) for k,v in pair_dict_1.items()}\n",
    "        \n",
    "        inputs_2 = {k:torch.tensor(v).to(self.device) for k,v in pair_dict_2.items()}\n",
    "\n",
    "        return {\"token_inputs_1\":inputs_1,\"token_inputs_2\":inputs_2,\"labels\":torch.tensor(labels).to(self.device)}\n",
    "\n",
    "    def __len__(self):\n",
    "        return self.len"
   ]
  },
  {
   "cell_type": "code",
   "execution_count": 57,
   "metadata": {},
   "outputs": [],
   "source": [
    "import pickle\n",
    "def save_object(obj,save_path):\n",
    "    with open(save_path,mode='wb') as f:\n",
    "        pickle.dump(obj,f,protocol = pickle.HIGHEST_PROTOCOL)\n",
    "        \n",
    "        \n",
    "def open_object(file_name):\n",
    "    with open(file_name,mode = 'rb') as f:\n",
    "        return pickle.load(f)"
   ]
  },
  {
   "cell_type": "code",
   "execution_count": 58,
   "metadata": {
    "executionInfo": {
     "elapsed": 393,
     "status": "aborted",
     "timestamp": 1643881551727,
     "user": {
      "displayName": "Nelson L.",
      "photoUrl": "https://lh3.googleusercontent.com/a-/AOh14GipnVJXi8Vo7o6qBMpdgcfZB2j9TYnsly5vDf6nig=s64",
      "userId": "03694478629413699942"
     },
     "user_tz": -480
    },
    "id": "sA_OUQJ_cd4_"
   },
   "outputs": [],
   "source": [
    "# train_long_text_pair_dataset = LongTextPairDataSet(train_token_pairs_1_df,train_token_pairs_2_df,train_labels,'cuda')"
   ]
  },
  {
   "cell_type": "code",
   "execution_count": 59,
   "metadata": {},
   "outputs": [],
   "source": [
    "# save_object(train_long_text_pair_dataset,\"./Data/train_long_text_pair_dataset.pkl\")"
   ]
  },
  {
   "cell_type": "code",
   "execution_count": 60,
   "metadata": {},
   "outputs": [],
   "source": [
    "train_long_text_pair_dataset = open_object(\"./Data/train_long_text_pair_dataset.pkl\")"
   ]
  },
  {
   "cell_type": "code",
   "execution_count": 61,
   "metadata": {},
   "outputs": [],
   "source": [
    "# train_long_text_pair_dataset_test[:10]"
   ]
  },
  {
   "cell_type": "code",
   "execution_count": 62,
   "metadata": {
    "executionInfo": {
     "elapsed": 394,
     "status": "aborted",
     "timestamp": 1643881551728,
     "user": {
      "displayName": "Nelson L.",
      "photoUrl": "https://lh3.googleusercontent.com/a-/AOh14GipnVJXi8Vo7o6qBMpdgcfZB2j9TYnsly5vDf6nig=s64",
      "userId": "03694478629413699942"
     },
     "user_tz": -480
    },
    "id": "SYUMd6a5cd5A"
   },
   "outputs": [],
   "source": [
    "# dev_long_text_pair_dataset = LongTextPairDataSet(dev_token_pairs_1_df,dev_token_pairs_2_df,dev_labels,'cuda')"
   ]
  },
  {
   "cell_type": "code",
   "execution_count": 63,
   "metadata": {},
   "outputs": [],
   "source": [
    "# save_object(dev_long_text_pair_dataset,\"./Data/dev_long_text_pair_dataset.pkl\")"
   ]
  },
  {
   "cell_type": "code",
   "execution_count": 64,
   "metadata": {},
   "outputs": [],
   "source": [
    "dev_long_text_pair_dataset = open_object(\"./Data/dev_long_text_pair_dataset.pkl\")"
   ]
  },
  {
   "cell_type": "code",
   "execution_count": 65,
   "metadata": {
    "executionInfo": {
     "elapsed": 395,
     "status": "aborted",
     "timestamp": 1643881551730,
     "user": {
      "displayName": "Nelson L.",
      "photoUrl": "https://lh3.googleusercontent.com/a-/AOh14GipnVJXi8Vo7o6qBMpdgcfZB2j9TYnsly5vDf6nig=s64",
      "userId": "03694478629413699942"
     },
     "user_tz": -480
    },
    "id": "8HaptSX3iBMp"
   },
   "outputs": [],
   "source": [
    "batch_size = 18"
   ]
  },
  {
   "cell_type": "code",
   "execution_count": 66,
   "metadata": {},
   "outputs": [
    {
     "data": {
      "text/plain": [
       "4072"
      ]
     },
     "execution_count": 66,
     "metadata": {},
     "output_type": "execute_result"
    }
   ],
   "source": [
    "len(train_long_text_pair_dataset)//32"
   ]
  },
  {
   "cell_type": "code",
   "execution_count": 67,
   "metadata": {
    "executionInfo": {
     "elapsed": 395,
     "status": "aborted",
     "timestamp": 1643881551731,
     "user": {
      "displayName": "Nelson L.",
      "photoUrl": "https://lh3.googleusercontent.com/a-/AOh14GipnVJXi8Vo7o6qBMpdgcfZB2j9TYnsly5vDf6nig=s64",
      "userId": "03694478629413699942"
     },
     "user_tz": -480
    },
    "id": "i5hJECQzgSgI"
   },
   "outputs": [],
   "source": [
    "train_loader = DataLoader(train_long_text_pair_dataset,batch_size)\n",
    "dev_loader = DataLoader(dev_long_text_pair_dataset,batch_size)"
   ]
  },
  {
   "cell_type": "code",
   "execution_count": 68,
   "metadata": {
    "executionInfo": {
     "elapsed": 396,
     "status": "aborted",
     "timestamp": 1643881551732,
     "user": {
      "displayName": "Nelson L.",
      "photoUrl": "https://lh3.googleusercontent.com/a-/AOh14GipnVJXi8Vo7o6qBMpdgcfZB2j9TYnsly5vDf6nig=s64",
      "userId": "03694478629413699942"
     },
     "user_tz": -480
    },
    "id": "6wypVnpTiG3R"
   },
   "outputs": [
    {
     "data": {
      "text/plain": [
       "7239"
      ]
     },
     "execution_count": 68,
     "metadata": {},
     "output_type": "execute_result"
    }
   ],
   "source": [
    "len(train_long_text_pair_dataset)//batch_size"
   ]
  },
  {
   "cell_type": "markdown",
   "metadata": {
    "id": "0tN-yCsvezSL"
   },
   "source": [
    "# 3) Fine Tune Twin-Albert for long text pair classification"
   ]
  },
  {
   "cell_type": "code",
   "execution_count": 69,
   "metadata": {
    "executionInfo": {
     "elapsed": 397,
     "status": "aborted",
     "timestamp": 1643881551733,
     "user": {
      "displayName": "Nelson L.",
      "photoUrl": "https://lh3.googleusercontent.com/a-/AOh14GipnVJXi8Vo7o6qBMpdgcfZB2j9TYnsly5vDf6nig=s64",
      "userId": "03694478629413699942"
     },
     "user_tz": -480
    },
    "id": "7EJDNBDIcd5A"
   },
   "outputs": [],
   "source": [
    "from transformers import AlbertModel"
   ]
  },
  {
   "cell_type": "code",
   "execution_count": 70,
   "metadata": {
    "executionInfo": {
     "elapsed": 398,
     "status": "aborted",
     "timestamp": 1643881551734,
     "user": {
      "displayName": "Nelson L.",
      "photoUrl": "https://lh3.googleusercontent.com/a-/AOh14GipnVJXi8Vo7o6qBMpdgcfZB2j9TYnsly5vDf6nig=s64",
      "userId": "03694478629413699942"
     },
     "user_tz": -480
    },
    "id": "OVySIN5csC5i"
   },
   "outputs": [],
   "source": [
    "from transformers.modeling_outputs import SequenceClassifierOutput"
   ]
  },
  {
   "cell_type": "code",
   "execution_count": 71,
   "metadata": {
    "executionInfo": {
     "elapsed": 398,
     "status": "aborted",
     "timestamp": 1643881551735,
     "user": {
      "displayName": "Nelson L.",
      "photoUrl": "https://lh3.googleusercontent.com/a-/AOh14GipnVJXi8Vo7o6qBMpdgcfZB2j9TYnsly5vDf6nig=s64",
      "userId": "03694478629413699942"
     },
     "user_tz": -480
    },
    "id": "G-ZjNF8bcd5A"
   },
   "outputs": [],
   "source": [
    "class TwinAlBerts(torch.nn.Module):\n",
    "    def __init__(self,model_config):\n",
    "        \n",
    "        super(TwinAlBerts,self).__init__()\n",
    "        \n",
    "        self.albert_layer_1 = AlbertModel.from_pretrained(model_config.model_name)\n",
    "        self.albert_layer_2 = AlbertModel.from_pretrained(model_config.model_name)\n",
    "        \n",
    "        self.pre_classifier = torch.nn.Linear(768*2,768)\n",
    "        \n",
    "        self.dropout = torch.nn.Dropout(0.3)\n",
    "        \n",
    "        self.classifer = torch.nn.Linear(768,model_config.num_class)\n",
    "\n",
    "        self.loss_fct = torch.nn.CrossEntropyLoss()\n",
    "\n",
    "    def forward(self,token_inputs_1,token_inputs_2,labels=None):\n",
    "\n",
    "        albert_outputs_1 = self.albert_layer_1(**token_inputs_1)\n",
    "        albert_outputs_2 = self.albert_layer_2(**token_inputs_2)\n",
    "        \n",
    "        pooler_output_1 = albert_outputs_1.pooler_output\n",
    "\n",
    "        pooler_output_2 = albert_outputs_2.pooler_output\n",
    "        \n",
    "        \n",
    "        concat_pooler = torch.cat([pooler_output_1,pooler_output_2],axis = 1)\n",
    "        \n",
    "        concat_pooler = self.pre_classifier(concat_pooler)\n",
    "        \n",
    "        concat_pooler = self.dropout(concat_pooler)\n",
    "        \n",
    "        logits = self.classifer(concat_pooler)\n",
    "        \n",
    "        loss = None\n",
    "        if labels is not None:\n",
    "            loss = self.loss_fct(logits,labels)\n",
    "                    \n",
    "        return SequenceClassifierOutput(\n",
    "            loss=loss,\n",
    "            logits=logits,\n",
    "            hidden_states=None,\n",
    "            attentions=None,\n",
    "        )"
   ]
  },
  {
   "cell_type": "code",
   "execution_count": 72,
   "metadata": {
    "executionInfo": {
     "elapsed": 399,
     "status": "aborted",
     "timestamp": 1643881551736,
     "user": {
      "displayName": "Nelson L.",
      "photoUrl": "https://lh3.googleusercontent.com/a-/AOh14GipnVJXi8Vo7o6qBMpdgcfZB2j9TYnsly5vDf6nig=s64",
      "userId": "03694478629413699942"
     },
     "user_tz": -480
    },
    "id": "4mrbeCFbcd5B"
   },
   "outputs": [],
   "source": [
    "class model_config():\n",
    "    model_name = 'albert-base-v2'\n",
    "    num_class = 2"
   ]
  },
  {
   "cell_type": "code",
   "execution_count": 73,
   "metadata": {
    "executionInfo": {
     "elapsed": 400,
     "status": "aborted",
     "timestamp": 1643881551737,
     "user": {
      "displayName": "Nelson L.",
      "photoUrl": "https://lh3.googleusercontent.com/a-/AOh14GipnVJXi8Vo7o6qBMpdgcfZB2j9TYnsly5vDf6nig=s64",
      "userId": "03694478629413699942"
     },
     "user_tz": -480
    },
    "id": "HIdVuMCBcd5B"
   },
   "outputs": [
    {
     "name": "stderr",
     "output_type": "stream",
     "text": [
      "Some weights of the model checkpoint at albert-base-v2 were not used when initializing AlbertModel: ['predictions.decoder.bias', 'predictions.dense.weight', 'predictions.LayerNorm.bias', 'predictions.decoder.weight', 'predictions.bias', 'predictions.LayerNorm.weight', 'predictions.dense.bias']\n",
      "- This IS expected if you are initializing AlbertModel from the checkpoint of a model trained on another task or with another architecture (e.g. initializing a BertForSequenceClassification model from a BertForPreTraining model).\n",
      "- This IS NOT expected if you are initializing AlbertModel from the checkpoint of a model that you expect to be exactly identical (initializing a BertForSequenceClassification model from a BertForSequenceClassification model).\n",
      "Some weights of the model checkpoint at albert-base-v2 were not used when initializing AlbertModel: ['predictions.decoder.bias', 'predictions.dense.weight', 'predictions.LayerNorm.bias', 'predictions.decoder.weight', 'predictions.bias', 'predictions.LayerNorm.weight', 'predictions.dense.bias']\n",
      "- This IS expected if you are initializing AlbertModel from the checkpoint of a model trained on another task or with another architecture (e.g. initializing a BertForSequenceClassification model from a BertForPreTraining model).\n",
      "- This IS NOT expected if you are initializing AlbertModel from the checkpoint of a model that you expect to be exactly identical (initializing a BertForSequenceClassification model from a BertForSequenceClassification model).\n"
     ]
    }
   ],
   "source": [
    "model = TwinAlBerts(model_config)"
   ]
  },
  {
   "cell_type": "code",
   "execution_count": 74,
   "metadata": {
    "executionInfo": {
     "elapsed": 400,
     "status": "aborted",
     "timestamp": 1643881551738,
     "user": {
      "displayName": "Nelson L.",
      "photoUrl": "https://lh3.googleusercontent.com/a-/AOh14GipnVJXi8Vo7o6qBMpdgcfZB2j9TYnsly5vDf6nig=s64",
      "userId": "03694478629413699942"
     },
     "user_tz": -480
    },
    "id": "kjDqiSBxoZa5"
   },
   "outputs": [],
   "source": [
    "_ =  model.to(device)"
   ]
  },
  {
   "cell_type": "code",
   "execution_count": 75,
   "metadata": {
    "executionInfo": {
     "elapsed": 401,
     "status": "aborted",
     "timestamp": 1643881551739,
     "user": {
      "displayName": "Nelson L.",
      "photoUrl": "https://lh3.googleusercontent.com/a-/AOh14GipnVJXi8Vo7o6qBMpdgcfZB2j9TYnsly5vDf6nig=s64",
      "userId": "03694478629413699942"
     },
     "user_tz": -480
    },
    "id": "ToYWSCpscd5C"
   },
   "outputs": [],
   "source": [
    "learning_rate = 2e-05\n",
    "epoches = 2\n",
    "train_evaluate_step = 1000\n",
    "dev_evaluate_step = 1000"
   ]
  },
  {
   "cell_type": "code",
   "execution_count": 76,
   "metadata": {
    "executionInfo": {
     "elapsed": 401,
     "status": "aborted",
     "timestamp": 1643881551740,
     "user": {
      "displayName": "Nelson L.",
      "photoUrl": "https://lh3.googleusercontent.com/a-/AOh14GipnVJXi8Vo7o6qBMpdgcfZB2j9TYnsly5vDf6nig=s64",
      "userId": "03694478629413699942"
     },
     "user_tz": -480
    },
    "id": "3QiRT3wBcd5C"
   },
   "outputs": [],
   "source": [
    "loss_function = torch.nn.CrossEntropyLoss()\n",
    "optimizer = torch.optim.AdamW(params = model.parameters(),lr = learning_rate )"
   ]
  },
  {
   "cell_type": "code",
   "execution_count": 77,
   "metadata": {
    "executionInfo": {
     "elapsed": 403,
     "status": "aborted",
     "timestamp": 1643881551742,
     "user": {
      "displayName": "Nelson L.",
      "photoUrl": "https://lh3.googleusercontent.com/a-/AOh14GipnVJXi8Vo7o6qBMpdgcfZB2j9TYnsly5vDf6nig=s64",
      "userId": "03694478629413699942"
     },
     "user_tz": -480
    },
    "id": "s30_5DEXs3PC"
   },
   "outputs": [],
   "source": [
    "for inputs in train_loader:\n",
    "    with torch.no_grad():\n",
    "        outputs = model(**inputs)\n",
    "    break"
   ]
  },
  {
   "cell_type": "code",
   "execution_count": 78,
   "metadata": {
    "executionInfo": {
     "elapsed": 404,
     "status": "aborted",
     "timestamp": 1643881551743,
     "user": {
      "displayName": "Nelson L.",
      "photoUrl": "https://lh3.googleusercontent.com/a-/AOh14GipnVJXi8Vo7o6qBMpdgcfZB2j9TYnsly5vDf6nig=s64",
      "userId": "03694478629413699942"
     },
     "user_tz": -480
    },
    "id": "JbIhqETAx6wq"
   },
   "outputs": [
    {
     "data": {
      "text/plain": [
       "array([0, 1, 1, 0, 1, 0, 0, 0, 0, 0, 0, 1, 1, 1, 0, 1, 0, 1])"
      ]
     },
     "execution_count": 78,
     "metadata": {},
     "output_type": "execute_result"
    }
   ],
   "source": [
    "inputs['labels'].detach().cpu().numpy()"
   ]
  },
  {
   "cell_type": "code",
   "execution_count": 79,
   "metadata": {
    "executionInfo": {
     "elapsed": 44,
     "status": "aborted",
     "timestamp": 1643881551747,
     "user": {
      "displayName": "Nelson L.",
      "photoUrl": "https://lh3.googleusercontent.com/a-/AOh14GipnVJXi8Vo7o6qBMpdgcfZB2j9TYnsly5vDf6nig=s64",
      "userId": "03694478629413699942"
     },
     "user_tz": -480
    },
    "id": "dUFNZMtywzRa"
   },
   "outputs": [
    {
     "data": {
      "text/plain": [
       "tensor([[-0.0731,  0.4362],\n",
       "        [ 0.1792,  0.5740],\n",
       "        [ 0.1153,  0.3906],\n",
       "        [ 0.3256,  0.5171],\n",
       "        [ 0.5613,  0.5695],\n",
       "        [ 0.3009,  0.4606],\n",
       "        [ 0.2377,  0.3222],\n",
       "        [ 0.3834,  0.5186],\n",
       "        [ 0.2370,  0.6928],\n",
       "        [ 0.1751,  0.6076],\n",
       "        [ 0.4716,  0.5348],\n",
       "        [ 0.2998,  0.3387],\n",
       "        [ 0.0937,  0.3838],\n",
       "        [ 0.2084,  0.3981],\n",
       "        [ 0.1916,  0.6283],\n",
       "        [ 0.4695, -0.0338],\n",
       "        [-0.0667,  0.3790],\n",
       "        [-0.0170,  0.2930]], device='cuda:0')"
      ]
     },
     "execution_count": 79,
     "metadata": {},
     "output_type": "execute_result"
    }
   ],
   "source": [
    "outputs.logits"
   ]
  },
  {
   "cell_type": "code",
   "execution_count": 80,
   "metadata": {
    "executionInfo": {
     "elapsed": 45,
     "status": "aborted",
     "timestamp": 1643881551748,
     "user": {
      "displayName": "Nelson L.",
      "photoUrl": "https://lh3.googleusercontent.com/a-/AOh14GipnVJXi8Vo7o6qBMpdgcfZB2j9TYnsly5vDf6nig=s64",
      "userId": "03694478629413699942"
     },
     "user_tz": -480
    },
    "id": "EIG0Mypkxpfx"
   },
   "outputs": [
    {
     "data": {
      "text/plain": [
       "0.7588827610015869"
      ]
     },
     "execution_count": 80,
     "metadata": {},
     "output_type": "execute_result"
    }
   ],
   "source": [
    "outputs.loss.item()"
   ]
  },
  {
   "cell_type": "code",
   "execution_count": 81,
   "metadata": {
    "executionInfo": {
     "elapsed": 61,
     "status": "aborted",
     "timestamp": 1643881551765,
     "user": {
      "displayName": "Nelson L.",
      "photoUrl": "https://lh3.googleusercontent.com/a-/AOh14GipnVJXi8Vo7o6qBMpdgcfZB2j9TYnsly5vDf6nig=s64",
      "userId": "03694478629413699942"
     },
     "user_tz": -480
    },
    "id": "n3VzsayoyQPD"
   },
   "outputs": [
    {
     "data": {
      "text/plain": [
       "array([1, 1, 1, 1, 1, 1, 1, 1, 1, 1, 1, 1, 1, 1, 1, 0, 1, 1])"
      ]
     },
     "execution_count": 81,
     "metadata": {},
     "output_type": "execute_result"
    }
   ],
   "source": [
    "torch.argmax(outputs.logits,1).detach().cpu().numpy()"
   ]
  },
  {
   "cell_type": "code",
   "execution_count": 82,
   "metadata": {
    "executionInfo": {
     "elapsed": 62,
     "status": "aborted",
     "timestamp": 1643881551766,
     "user": {
      "displayName": "Nelson L.",
      "photoUrl": "https://lh3.googleusercontent.com/a-/AOh14GipnVJXi8Vo7o6qBMpdgcfZB2j9TYnsly5vDf6nig=s64",
      "userId": "03694478629413699942"
     },
     "user_tz": -480
    },
    "id": "3O3GTcFpyM8i"
   },
   "outputs": [
    {
     "data": {
      "text/plain": [
       "tensor([1, 1, 1, 1, 1, 1, 1, 1, 1, 1, 1, 1, 1, 1, 1, 0, 1, 1])"
      ]
     },
     "execution_count": 82,
     "metadata": {},
     "output_type": "execute_result"
    }
   ],
   "source": [
    "torch.max(outputs.logits,1)[1].cpu()"
   ]
  },
  {
   "cell_type": "code",
   "execution_count": 83,
   "metadata": {
    "executionInfo": {
     "elapsed": 63,
     "status": "aborted",
     "timestamp": 1643881551767,
     "user": {
      "displayName": "Nelson L.",
      "photoUrl": "https://lh3.googleusercontent.com/a-/AOh14GipnVJXi8Vo7o6qBMpdgcfZB2j9TYnsly5vDf6nig=s64",
      "userId": "03694478629413699942"
     },
     "user_tz": -480
    },
    "id": "NmqirZwKtM5q"
   },
   "outputs": [],
   "source": [
    "model_save_dir = \"./LongTextPairClassification/\" # data folder"
   ]
  },
  {
   "cell_type": "code",
   "execution_count": 84,
   "metadata": {
    "executionInfo": {
     "elapsed": 63,
     "status": "aborted",
     "timestamp": 1643881551768,
     "user": {
      "displayName": "Nelson L.",
      "photoUrl": "https://lh3.googleusercontent.com/a-/AOh14GipnVJXi8Vo7o6qBMpdgcfZB2j9TYnsly5vDf6nig=s64",
      "userId": "03694478629413699942"
     },
     "user_tz": -480
    },
    "id": "Pw5lVy1qt0Sq"
   },
   "outputs": [
    {
     "data": {
      "text/plain": [
       "[]"
      ]
     },
     "execution_count": 84,
     "metadata": {},
     "output_type": "execute_result"
    }
   ],
   "source": [
    "os.listdir(model_save_dir)"
   ]
  },
  {
   "cell_type": "code",
   "execution_count": 85,
   "metadata": {
    "executionInfo": {
     "elapsed": 69,
     "status": "aborted",
     "timestamp": 1643881551776,
     "user": {
      "displayName": "Nelson L.",
      "photoUrl": "https://lh3.googleusercontent.com/a-/AOh14GipnVJXi8Vo7o6qBMpdgcfZB2j9TYnsly5vDf6nig=s64",
      "userId": "03694478629413699942"
     },
     "user_tz": -480
    },
    "id": "HQp2DUy4xJ0b"
   },
   "outputs": [],
   "source": [
    "from tqdm import tqdm"
   ]
  },
  {
   "cell_type": "code",
   "execution_count": 86,
   "metadata": {},
   "outputs": [],
   "source": [
    "def save_model(model,tokenizer, model_save_dir,step,train_state):\n",
    "    model_save_dir = os.path.join(model_save_dir,f\"checkpoint-{step}\")\n",
    "    model_name = \"pytroch_model.bin\"\n",
    "    train_state_name = \"train_state.txt\"\n",
    "    try:\n",
    "        os.mkdir(model_save_dir)\n",
    "    except FileExistsError:\n",
    "        pass\n",
    "    \n",
    "    model_path = os.path.join(model_save_dir,model_name)\n",
    "    train_state_path = os.path.join(model_save_dir,train_state_name)\n",
    "\n",
    "    torch.save(model,model_path)\n",
    "    tokenizer.save_pretrained(model_save_dir)\n",
    "    \n",
    "    if train_state is not None:\n",
    "        with open(train_state_path,mode = 'w',encoding = 'utf-8-sig') as f:\n",
    "            f.write(train_state)\n",
    "    \n",
    "    "
   ]
  },
  {
   "cell_type": "code",
   "execution_count": 87,
   "metadata": {
    "executionInfo": {
     "elapsed": 70,
     "status": "aborted",
     "timestamp": 1643881551777,
     "user": {
      "displayName": "Nelson L.",
      "photoUrl": "https://lh3.googleusercontent.com/a-/AOh14GipnVJXi8Vo7o6qBMpdgcfZB2j9TYnsly5vDf6nig=s64",
      "userId": "03694478629413699942"
     },
     "user_tz": -480
    },
    "id": "ZGow3XDthFrg"
   },
   "outputs": [],
   "source": [
    "def simple_evaluate():\n",
    "    model.eval()\n",
    "    true_list = []\n",
    "    pred_list = []\n",
    "    average_acc = []\n",
    "    average_loss = []\n",
    "    total_loss = 0\n",
    "    for inputs in tqdm(dev_loader):\n",
    "        with torch.no_grad():\n",
    "            outputs = model(**inputs)\n",
    "            logits = outputs.logits\n",
    "            loss = outputs.loss.item()\n",
    "            average_loss.append(loss)\n",
    "            true = inputs['labels'].detach().cpu().numpy()\n",
    "            pred = torch.argmax(logits,1).detach().cpu().numpy()\n",
    "            true_list.extend(true)\n",
    "            pred_list.extend(pred)\n",
    "\n",
    "    test_acc = metrics.accuracy_score(true_list,pred_list)\n",
    "    return test_acc,np.mean(average_loss)"
   ]
  },
  {
   "cell_type": "code",
   "execution_count": 88,
   "metadata": {
    "executionInfo": {
     "elapsed": 70,
     "status": "aborted",
     "timestamp": 1643881551778,
     "user": {
      "displayName": "Nelson L.",
      "photoUrl": "https://lh3.googleusercontent.com/a-/AOh14GipnVJXi8Vo7o6qBMpdgcfZB2j9TYnsly5vDf6nig=s64",
      "userId": "03694478629413699942"
     },
     "user_tz": -480
    },
    "id": "VwBhkUuCip7B"
   },
   "outputs": [],
   "source": [
    "def evaluate_full_metrics(model,dataset_loader):\n",
    "\n",
    "    model.eval()\n",
    "\n",
    "    loss_list = []\n",
    "    labels_list = []\n",
    "    pred_list = []\n",
    "    prob_list = []\n",
    "\n",
    "#     pbar = tqdm(total = len(dataset_loader),desc = \"Model Evaluate\")\n",
    "\n",
    "\n",
    "    for inputs in dataset_loader:\n",
    "\n",
    "        with torch.no_grad():\n",
    "            outputs = model(**inputs)\n",
    "        \n",
    "            loss = outputs.loss.item()\n",
    "\n",
    "            labels  = inputs['labels'].detach().cpu().numpy()\n",
    "            labels_list.extend(labels)\n",
    "\n",
    "            pred = torch.argmax(outputs.logits,1).detach().cpu().numpy()\n",
    "            \n",
    "            probs = torch.sigmoid(outputs.logits)\n",
    "            prob = probs[:,1]\n",
    "            prob = prob.detach().cpu().numpy()\n",
    "            prob_list.extend(prob)\n",
    "\n",
    "#             pbar.update(1)\n",
    "\n",
    "#     pbar.close()\n",
    "\n",
    "\n",
    "    accuracy = metrics.accuracy_score(labels_list,pred_list)\n",
    "    recall = metrics.recall_score(labels_list,pred_list)\n",
    "    precision = metrics.precision_score(labels_list,pred_list)\n",
    "    f1 = metrics.f1_score(labels_list,pred_list)\n",
    "    fpr,tpr, threshold = metrics.roc_curve(labels_list,prob_list,pos_label=1)\n",
    "\n",
    "    auc = metrics.auc(fpr,tpr)\n",
    "    loss = np.mean(loss_list)\n",
    "    \n",
    "    result = {\"accuracy\":accuracy, \"recall\":recall, \"precision\":precision, \"recall\":recall, \"f1\":f1,'auc':auc,'loss':loss} \n",
    "\n",
    "    return result"
   ]
  },
  {
   "cell_type": "code",
   "execution_count": 89,
   "metadata": {
    "executionInfo": {
     "elapsed": 71,
     "status": "aborted",
     "timestamp": 1643881551779,
     "user": {
      "displayName": "Nelson L.",
      "photoUrl": "https://lh3.googleusercontent.com/a-/AOh14GipnVJXi8Vo7o6qBMpdgcfZB2j9TYnsly5vDf6nig=s64",
      "userId": "03694478629413699942"
     },
     "user_tz": -480
    },
    "id": "v1nC0bXggKjA"
   },
   "outputs": [],
   "source": [
    "def train_with_full_metrics():\n",
    "    total_batch = 0\n",
    "    model.train()\n",
    "    for epoch in range(epoches):\n",
    "        print(\"Epoc {} / {}\".format(epoch+1,epoches))\n",
    "\n",
    "        for inputs in train_loader:\n",
    "\n",
    "            outputs = model(**inputs)\n",
    "\n",
    "            optimizer.zero_grad()\n",
    "            loss = outputs.loss\n",
    "            loss.backward()\n",
    "            optimizer.step()\n",
    "\n",
    "            if (total_batch+1) % train_evaluate_step ==0:\n",
    "\n",
    "                train_metrics = evaluate_full_metrics(model,train_loader)\n",
    "                train_state = f\"Total Batch:{total_batch},train_metrics:{train_metrics}\"\n",
    "                print(train_state)\n",
    "                save_model(model,tokenizer, model_save_dir,total_batch,train_state)\n",
    "\n",
    "            if (total_batch+1) % dev_evaluate_step ==0:\n",
    "                dev_metrics = evaluate_full_metrics(model,dev_loader,device)\n",
    "\n",
    "                train_state = f\"Total Batch:{total_batch},dev_metrics:{dev_metrics}\"\n",
    "                print(train_state)\n",
    "\n",
    "                save_model(model,tokenizer, model_save_dir,total_batch,train_state)\n",
    "\n",
    "            model.train()\n",
    "\n",
    "            total_batch +=1\n"
   ]
  },
  {
   "cell_type": "code",
   "execution_count": 90,
   "metadata": {
    "executionInfo": {
     "elapsed": 74,
     "status": "aborted",
     "timestamp": 1643881551782,
     "user": {
      "displayName": "Nelson L.",
      "photoUrl": "https://lh3.googleusercontent.com/a-/AOh14GipnVJXi8Vo7o6qBMpdgcfZB2j9TYnsly5vDf6nig=s64",
      "userId": "03694478629413699942"
     },
     "user_tz": -480
    },
    "id": "V_DSD8g463uz"
   },
   "outputs": [
    {
     "data": {
      "text/plain": [
       "'./LongTextPairClassification/'"
      ]
     },
     "execution_count": 90,
     "metadata": {},
     "output_type": "execute_result"
    }
   ],
   "source": [
    "model_save_dir"
   ]
  },
  {
   "cell_type": "code",
   "execution_count": 91,
   "metadata": {
    "executionInfo": {
     "elapsed": 74,
     "status": "aborted",
     "timestamp": 1643881551783,
     "user": {
      "displayName": "Nelson L.",
      "photoUrl": "https://lh3.googleusercontent.com/a-/AOh14GipnVJXi8Vo7o6qBMpdgcfZB2j9TYnsly5vDf6nig=s64",
      "userId": "03694478629413699942"
     },
     "user_tz": -480
    },
    "id": "PMh5VJd2qv4S",
    "tags": []
   },
   "outputs": [],
   "source": [
    "def simple_train():\n",
    "    total_batch = 0\n",
    "    model.train()\n",
    "    \n",
    "    total_pbar = tqdm(total = len(train_loader)*epoches,desc = \"Model Training\")\n",
    "    \n",
    "    for epoch in range(epoches):\n",
    "        \n",
    "#         print(\"Epoc {} / {}\".format(epoch+1,epoches))\n",
    "\n",
    "        for inputs in train_loader:\n",
    "            outputs = model(**inputs)\n",
    "            optimizer.zero_grad()\n",
    "            loss = outputs.loss\n",
    "            loss.backward()\n",
    "            optimizer.step()\n",
    "\n",
    "            if (total_batch+1) % train_evaluate_step ==0:\n",
    "                true = inputs['labels'].detach().cpu().numpy()\n",
    "                # pred = torch.max(outputs,1)[1].cpu()\n",
    "                pred = torch.argmax(outputs.logits,1).detach().cpu().numpy()\n",
    "                train_acc = metrics.accuracy_score(true,pred)\n",
    "                test_acc,test_loss = simple_evaluate()\n",
    "                log = \"Total Batch: {0} ,Train Loss {1} ,Train Accuracy {3} ,Test Loss {4} Test Accuracy {5}}\"\n",
    "                train_state = log.format(total_batch,loss.item(),train_acc,test_acc,test_loss)\n",
    "                print(train_state)\n",
    "                save_model(model,tokenizer,model_save_dir,total_batch,train_state)\n",
    "            \n",
    "                model.train()\n",
    "            \n",
    "            total_batch +=1\n",
    "            total_pbar.update(1)\n",
    "        \n",
    "    total_pbar.close()"
   ]
  },
  {
   "cell_type": "code",
   "execution_count": null,
   "metadata": {
    "executionInfo": {
     "elapsed": 75,
     "status": "aborted",
     "timestamp": 1643881551784,
     "user": {
      "displayName": "Nelson L.",
      "photoUrl": "https://lh3.googleusercontent.com/a-/AOh14GipnVJXi8Vo7o6qBMpdgcfZB2j9TYnsly5vDf6nig=s64",
      "userId": "03694478629413699942"
     },
     "user_tz": -480
    },
    "id": "FDclf2X766VM"
   },
   "outputs": [
    {
     "name": "stderr",
     "output_type": "stream",
     "text": [
      "Model Training:   0%|          | 60/14480 [01:06<4:27:28,  1.11s/it]"
     ]
    }
   ],
   "source": [
    "simple_train()"
   ]
  },
  {
   "cell_type": "code",
   "execution_count": null,
   "metadata": {},
   "outputs": [],
   "source": [
    "\n",
    "\n",
    "\n"
   ]
  },
  {
   "cell_type": "code",
   "execution_count": null,
   "metadata": {},
   "outputs": [],
   "source": []
  }
 ],
 "metadata": {
  "accelerator": "GPU",
  "colab": {
   "collapsed_sections": [],
   "name": "SQUAD - Fine Tuned Twin-AlBerts For Long Text Pair Classification.ipynb",
   "provenance": [
    {
     "file_id": "https://github.com/huggingface/notebooks/blob/master/examples/question_answering.ipynb",
     "timestamp": 1640747938302
    }
   ],
   "toc_visible": true
  },
  "kernelspec": {
   "display_name": "Python 3",
   "language": "python",
   "name": "python3"
  },
  "language_info": {
   "codemirror_mode": {
    "name": "ipython",
    "version": 3
   },
   "file_extension": ".py",
   "mimetype": "text/x-python",
   "name": "python",
   "nbconvert_exporter": "python",
   "pygments_lexer": "ipython3",
   "version": "3.6.9"
  }
 },
 "nbformat": 4,
 "nbformat_minor": 4
}
