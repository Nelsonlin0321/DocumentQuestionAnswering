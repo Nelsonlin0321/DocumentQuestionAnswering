{
 "cells": [
  {
   "cell_type": "markdown",
   "metadata": {
    "id": "MoZ-3s0mN4JG"
   },
   "source": [
    "Fine Tune DistilBERT For  Text Pair Matching\n",
    "Author: Nelson LIN (nelsonlin0321@outlook.com)"
   ]
  },
  {
   "cell_type": "code",
   "execution_count": 1,
   "metadata": {},
   "outputs": [],
   "source": [
    "# !pip install torch"
   ]
  },
  {
   "cell_type": "code",
   "execution_count": 2,
   "metadata": {
    "executionInfo": {
     "elapsed": 901,
     "status": "ok",
     "timestamp": 1643684334880,
     "user": {
      "displayName": "Nelson L.",
      "photoUrl": "https://lh3.googleusercontent.com/a-/AOh14GipnVJXi8Vo7o6qBMpdgcfZB2j9TYnsly5vDf6nig=s64",
      "userId": "03694478629413699942"
     },
     "user_tz": -480
    },
    "id": "drMVKL8eN5oS"
   },
   "outputs": [],
   "source": [
    "# import libaries\n",
    "import torch\n",
    "from torch import cuda\n",
    "from torch.utils.data import Dataset,DataLoader"
   ]
  },
  {
   "cell_type": "code",
   "execution_count": 3,
   "metadata": {
    "colab": {
     "base_uri": "https://localhost:8080/"
    },
    "executionInfo": {
     "elapsed": 12,
     "status": "ok",
     "timestamp": 1643684334881,
     "user": {
      "displayName": "Nelson L.",
      "photoUrl": "https://lh3.googleusercontent.com/a-/AOh14GipnVJXi8Vo7o6qBMpdgcfZB2j9TYnsly5vDf6nig=s64",
      "userId": "03694478629413699942"
     },
     "user_tz": -480
    },
    "id": "Ve9awrmKby41",
    "outputId": "2db30b02-1869-4a2a-8b1f-3f5fa82eede4"
   },
   "outputs": [
    {
     "name": "stdout",
     "output_type": "stream",
     "text": [
      "1.9.0a0+gitd69c22d\n"
     ]
    }
   ],
   "source": [
    "print(torch.__version__)"
   ]
  },
  {
   "cell_type": "code",
   "execution_count": 4,
   "metadata": {
    "executionInfo": {
     "elapsed": 12,
     "status": "ok",
     "timestamp": 1643684334882,
     "user": {
      "displayName": "Nelson L.",
      "photoUrl": "https://lh3.googleusercontent.com/a-/AOh14GipnVJXi8Vo7o6qBMpdgcfZB2j9TYnsly5vDf6nig=s64",
      "userId": "03694478629413699942"
     },
     "user_tz": -480
    },
    "id": "fTq-NCOvOFFD"
   },
   "outputs": [],
   "source": [
    "import os\n",
    "import json\n",
    "import random\n",
    "import pandas as pd\n",
    "import numpy as np\n",
    "from sklearn.utils import shuffle\n",
    "from sklearn import metrics\n",
    "from collections import Counter"
   ]
  },
  {
   "cell_type": "code",
   "execution_count": 5,
   "metadata": {
    "colab": {
     "base_uri": "https://localhost:8080/"
    },
    "executionInfo": {
     "elapsed": 11490,
     "status": "ok",
     "timestamp": 1643684402168,
     "user": {
      "displayName": "Nelson L.",
      "photoUrl": "https://lh3.googleusercontent.com/a-/AOh14GipnVJXi8Vo7o6qBMpdgcfZB2j9TYnsly5vDf6nig=s64",
      "userId": "03694478629413699942"
     },
     "user_tz": -480
    },
    "id": "jxcKIim7lZjn",
    "outputId": "de91ea4a-7233-4d50-b2ea-d55475639c37"
   },
   "outputs": [],
   "source": [
    "# !pip install transformers"
   ]
  },
  {
   "cell_type": "code",
   "execution_count": 6,
   "metadata": {
    "executionInfo": {
     "elapsed": 2705,
     "status": "ok",
     "timestamp": 1643684404866,
     "user": {
      "displayName": "Nelson L.",
      "photoUrl": "https://lh3.googleusercontent.com/a-/AOh14GipnVJXi8Vo7o6qBMpdgcfZB2j9TYnsly5vDf6nig=s64",
      "userId": "03694478629413699942"
     },
     "user_tz": -480
    },
    "id": "qiBbyLVoON3Y"
   },
   "outputs": [],
   "source": [
    "from transformers import AutoTokenizer,AlbertForSequenceClassification,TrainingArguments,Trainer,EarlyStoppingCallback"
   ]
  },
  {
   "cell_type": "code",
   "execution_count": 7,
   "metadata": {
    "executionInfo": {
     "elapsed": 12,
     "status": "ok",
     "timestamp": 1643684411946,
     "user": {
      "displayName": "Nelson L.",
      "photoUrl": "https://lh3.googleusercontent.com/a-/AOh14GipnVJXi8Vo7o6qBMpdgcfZB2j9TYnsly5vDf6nig=s64",
      "userId": "03694478629413699942"
     },
     "user_tz": -480
    },
    "id": "G4uhX374OVlZ"
   },
   "outputs": [],
   "source": [
    "device = \"cuda\" if cuda.is_available() else \"cpu\""
   ]
  },
  {
   "cell_type": "code",
   "execution_count": 8,
   "metadata": {
    "colab": {
     "base_uri": "https://localhost:8080/",
     "height": 35
    },
    "executionInfo": {
     "elapsed": 11,
     "status": "ok",
     "timestamp": 1643684411947,
     "user": {
      "displayName": "Nelson L.",
      "photoUrl": "https://lh3.googleusercontent.com/a-/AOh14GipnVJXi8Vo7o6qBMpdgcfZB2j9TYnsly5vDf6nig=s64",
      "userId": "03694478629413699942"
     },
     "user_tz": -480
    },
    "id": "kfXjwuzfQToR",
    "outputId": "b4b064ef-f6eb-43d3-a229-cb656aa0af6e"
   },
   "outputs": [
    {
     "data": {
      "text/plain": [
       "'cuda'"
      ]
     },
     "execution_count": 8,
     "metadata": {},
     "output_type": "execute_result"
    }
   ],
   "source": [
    "device"
   ]
  },
  {
   "cell_type": "code",
   "execution_count": 9,
   "metadata": {
    "executionInfo": {
     "elapsed": 10,
     "status": "ok",
     "timestamp": 1643684411949,
     "user": {
      "displayName": "Nelson L.",
      "photoUrl": "https://lh3.googleusercontent.com/a-/AOh14GipnVJXi8Vo7o6qBMpdgcfZB2j9TYnsly5vDf6nig=s64",
      "userId": "03694478629413699942"
     },
     "user_tz": -480
    },
    "id": "6V0arb4xkvG-"
   },
   "outputs": [],
   "source": [
    "model_name =  \"albert-base-v2\""
   ]
  },
  {
   "cell_type": "markdown",
   "metadata": {
    "id": "wQyjnbikOrKD"
   },
   "source": [
    "## 1) Import Data\n",
    "\n"
   ]
  },
  {
   "cell_type": "code",
   "execution_count": 10,
   "metadata": {
    "colab": {
     "base_uri": "https://localhost:8080/"
    },
    "executionInfo": {
     "elapsed": 4195,
     "status": "ok",
     "timestamp": 1643684418173,
     "user": {
      "displayName": "Nelson L.",
      "photoUrl": "https://lh3.googleusercontent.com/a-/AOh14GipnVJXi8Vo7o6qBMpdgcfZB2j9TYnsly5vDf6nig=s64",
      "userId": "03694478629413699942"
     },
     "user_tz": -480
    },
    "id": "ID2vfxSqOvC6",
    "outputId": "17c609fd-cae6-44a6-9ff8-710e24fd3f2d"
   },
   "outputs": [],
   "source": [
    "# from google.colab import drive\n",
    "# drive.mount('/content/drive')"
   ]
  },
  {
   "cell_type": "code",
   "execution_count": 11,
   "metadata": {
    "executionInfo": {
     "elapsed": 20,
     "status": "ok",
     "timestamp": 1643684418176,
     "user": {
      "displayName": "Nelson L.",
      "photoUrl": "https://lh3.googleusercontent.com/a-/AOh14GipnVJXi8Vo7o6qBMpdgcfZB2j9TYnsly5vDf6nig=s64",
      "userId": "03694478629413699942"
     },
     "user_tz": -480
    },
    "id": "OEtzG5rUPp6p"
   },
   "outputs": [],
   "source": [
    "# # download from https://deepai.org/dataset/qnli\n",
    "# data_dir = \"/content/drive/My Drive/Colab Notebooks/Data/QNLIv2/QNLI\""
   ]
  },
  {
   "cell_type": "code",
   "execution_count": 12,
   "metadata": {
    "colab": {
     "base_uri": "https://localhost:8080/"
    },
    "executionInfo": {
     "elapsed": 17,
     "status": "ok",
     "timestamp": 1643684418177,
     "user": {
      "displayName": "Nelson L.",
      "photoUrl": "https://lh3.googleusercontent.com/a-/AOh14GipnVJXi8Vo7o6qBMpdgcfZB2j9TYnsly5vDf6nig=s64",
      "userId": "03694478629413699942"
     },
     "user_tz": -480
    },
    "id": "3tuN7B5fP7HN",
    "outputId": "b6800f89-a8a8-4aa4-c731-0016830556d7"
   },
   "outputs": [],
   "source": [
    "# os.listdir(data_dir)"
   ]
  },
  {
   "cell_type": "code",
   "execution_count": 13,
   "metadata": {
    "executionInfo": {
     "elapsed": 15,
     "status": "ok",
     "timestamp": 1643684418178,
     "user": {
      "displayName": "Nelson L.",
      "photoUrl": "https://lh3.googleusercontent.com/a-/AOh14GipnVJXi8Vo7o6qBMpdgcfZB2j9TYnsly5vDf6nig=s64",
      "userId": "03694478629413699942"
     },
     "user_tz": -480
    },
    "id": "NlTPttaBP-El"
   },
   "outputs": [],
   "source": [
    "# def read_qnli_data(file_name):\n",
    "#     path = os.path.join(data_dir,file_name)\n",
    "#     with open(path) as f:\n",
    "#         text = f.readlines()\n",
    "\n",
    "#     header = text[0].strip().split(\"\\t\")\n",
    "#     lines = [line.strip().split(\"\\t\") for line in text[1:]]\n",
    "\n",
    "#     df = pd.DataFrame(lines,columns = header)\n",
    "#     return df"
   ]
  },
  {
   "cell_type": "code",
   "execution_count": 14,
   "metadata": {
    "executionInfo": {
     "elapsed": 543,
     "status": "ok",
     "timestamp": 1643684418707,
     "user": {
      "displayName": "Nelson L.",
      "photoUrl": "https://lh3.googleusercontent.com/a-/AOh14GipnVJXi8Vo7o6qBMpdgcfZB2j9TYnsly5vDf6nig=s64",
      "userId": "03694478629413699942"
     },
     "user_tz": -480
    },
    "id": "zX5UlKcpQ39f"
   },
   "outputs": [],
   "source": [
    "# qnli_train_df = read_qnli_data(\"train.tsv\")\n",
    "# qnli_dev_df = read_qnli_data(\"dev.tsv\")\n"
   ]
  },
  {
   "cell_type": "code",
   "execution_count": 15,
   "metadata": {
    "executionInfo": {
     "elapsed": 553,
     "status": "ok",
     "timestamp": 1643684419257,
     "user": {
      "displayName": "Nelson L.",
      "photoUrl": "https://lh3.googleusercontent.com/a-/AOh14GipnVJXi8Vo7o6qBMpdgcfZB2j9TYnsly5vDf6nig=s64",
      "userId": "03694478629413699942"
     },
     "user_tz": -480
    },
    "id": "sIqZDA5KQ-NG"
   },
   "outputs": [],
   "source": [
    "# qnli_train_df['label'] = np.where(qnli_train_df['label']=='entailment',1,0)\n",
    "# qnli_dev_df['label'] = np.where(qnli_dev_df['label']=='entailment',1,0)"
   ]
  },
  {
   "cell_type": "code",
   "execution_count": 16,
   "metadata": {
    "colab": {
     "base_uri": "https://localhost:8080/",
     "height": 206
    },
    "executionInfo": {
     "elapsed": 11,
     "status": "ok",
     "timestamp": 1643684419258,
     "user": {
      "displayName": "Nelson L.",
      "photoUrl": "https://lh3.googleusercontent.com/a-/AOh14GipnVJXi8Vo7o6qBMpdgcfZB2j9TYnsly5vDf6nig=s64",
      "userId": "03694478629413699942"
     },
     "user_tz": -480
    },
    "id": "OxabReasRZvG",
    "outputId": "f5b56f7e-6549-479c-df66-4d5ffda9a6a9"
   },
   "outputs": [],
   "source": [
    "# qnli_dev_df.head()"
   ]
  },
  {
   "cell_type": "code",
   "execution_count": 17,
   "metadata": {},
   "outputs": [],
   "source": [
    "def read_qnli_data(file_name, data_dir):\n",
    "    path = os.path.join(data_dir, file_name)\n",
    "    with open(path, encoding='utf-8-sig') as f:\n",
    "        text = f.readlines()\n",
    "\n",
    "    header = text[0].strip().split(\"\\t\")\n",
    "    lines = [line.strip().split(\"\\t\") for line in text[1:]]\n",
    "\n",
    "    df = pd.DataFrame(lines, columns=header)\n",
    "    return df\n",
    "\n",
    "\n",
    "def get_qnli_pandas_dataframe(data_dir):\n",
    "    qnli_train_df = read_qnli_data(\"train.tsv\",data_dir)\n",
    "    qnli_dev_df = read_qnli_data(\"dev.tsv\",data_dir)\n",
    "    qnli_train_df['label'] = np.where(\n",
    "        qnli_train_df['label'] == 'entailment', 1, 0)\n",
    "    qnli_dev_df['label'] = np.where(qnli_dev_df['label'] == 'entailment', 1, 0)\n",
    "\n",
    "    qnli_dev_df['question'] = qnli_dev_df['question'].apply(lambda x: x.strip())\n",
    "    qnli_dev_df['sentence'] = qnli_dev_df['sentence'].apply(lambda x: x.strip()) \n",
    "\n",
    "    qnli_train_df['question'] = qnli_train_df['question'].apply(lambda x: x.strip())\n",
    "    qnli_train_df['sentence'] = qnli_train_df['sentence'].apply(lambda x: x.strip()) \n",
    "\n",
    "    return qnli_dev_df, qnli_train_df\n",
    "\n",
    "\n",
    "def read_document_to_list(document_path):\n",
    "    with open(document_path, encoding='utf-8-sig') as f:\n",
    "        document = f.readlines()\n",
    "        sentence_list = [line.strip()\n",
    "                         for line in document if len(line.strip()) != 0]\n",
    "        return sentence_list\n",
    "\n",
    "\n",
    "def read_document_dict(document_dir):\n",
    "\n",
    "    document_dict = {}\n",
    "\n",
    "    for document_file_name in os.listdir(document_dir):\n",
    "        if document_file_name.endswith(\".txt\"):\n",
    "            document_name = document_file_name.replace(\n",
    "                \".txt\", \"\").replace(\"_\", \" \")\n",
    "            document_path = os.path.join(document_dir, document_file_name)\n",
    "            document_dict[document_name] = read_document_to_list(document_path)\n",
    "\n",
    "    return document_dict\n",
    "\n",
    "\n",
    "def read_json(file_path):\n",
    "    with open(file_path) as f:\n",
    "        json_f = json.load(f)\n",
    "    data = json_f['data']\n",
    "    return data\n",
    "\n",
    "\n",
    "def get_random_index(List):\n",
    "    return random.sample(range(len(List)), 1)[0]\n",
    "\n",
    "\n",
    "def load_data(data_path, load_impossible_answer=False):\n",
    "\n",
    "    data = read_json(data_path)\n",
    "\n",
    "    data_dict = {}\n",
    "    title_list = []\n",
    "    context_list = []\n",
    "    question_list = []\n",
    "    id_list = []\n",
    "    answer_text_list = []\n",
    "    answer_start_list = []\n",
    "    is_impossible_list = []\n",
    "\n",
    "    for paragraphs in data:\n",
    "        title = paragraphs['title']\n",
    "        context_qas_list = paragraphs['paragraphs']\n",
    "\n",
    "        for context_qas in context_qas_list:\n",
    "            context = context_qas['context']\n",
    "            qas_list = context_qas['qas']\n",
    "\n",
    "            for qas in qas_list:\n",
    "                title_list.append(title)\n",
    "                context_list.append(context)\n",
    "\n",
    "                is_impossible = qas['is_impossible']\n",
    "                is_impossible_list.append(is_impossible)\n",
    "\n",
    "                id_ = qas['id']\n",
    "                id_list.append(id_)\n",
    "                question = qas['question']\n",
    "                question_list.append(question)\n",
    "\n",
    "                if not is_impossible:\n",
    "                    answer_list = qas['answers']\n",
    "                    idx = get_random_index(answer_list)\n",
    "                    answer_text = answer_list[idx]['text']\n",
    "                    answer_start = answer_list[idx]['answer_start']\n",
    "\n",
    "                    answer_text_list.append(answer_text)\n",
    "                    answer_start_list.append(answer_start)\n",
    "                else:\n",
    "                    if load_impossible_answer:\n",
    "                        answer_list = qas['plausible_answers']\n",
    "                        idx = get_random_index(answer_list)\n",
    "                        answer_text = answer_list[idx]['text']\n",
    "                        answer_start = answer_list[idx]['answer_start']\n",
    "                        answer_text_list.append(answer_text)\n",
    "                        answer_start_list.append(answer_start)\n",
    "                    else:\n",
    "                        answer_text_list.append(\"\")\n",
    "                        answer_start_list.append(-1)\n",
    "\n",
    "    data_dict['id'] = id_list\n",
    "    data_dict['title'] = title_list\n",
    "    data_dict['context'] = context_list\n",
    "    data_dict['question'] = question_list\n",
    "    data_dict['answer_text'] = answer_text_list\n",
    "    data_dict['answer_start'] = answer_start_list\n",
    "    data_dict['is_impossible'] = is_impossible_list\n",
    "\n",
    "    return data_dict\n",
    "\n",
    "\n",
    "def get_squad_v2_pandas_dataframe(squad_v2_dir,include_impossible=False, load_impossible_answer=False):\n",
    "    # download from https://rajpurkar.github.io/SQuAD-explorer/\n",
    "    train_data_path = os.path.join(squad_v2_dir, \"train-v2.0.json\")\n",
    "    dev_data_path = os.path.join(squad_v2_dir, 'dev-v2.0.json')\n",
    "\n",
    "    train_data_dict = load_data(train_data_path, load_impossible_answer)\n",
    "    dev_data_dict = load_data(dev_data_path, load_impossible_answer)\n",
    "\n",
    "    train_data_df = pd.DataFrame(train_data_dict)\n",
    "    dev_data_df = pd.DataFrame(dev_data_dict)\n",
    "\n",
    "    if not include_impossible:\n",
    "        train_data_df = train_data_df[train_data_df['is_impossible'] == False]\n",
    "        dev_data_df = dev_data_df[dev_data_df['is_impossible'] == False]\n",
    "\n",
    "    train_data_df['question'] = train_data_df['question'].apply(lambda x: x.strip())\n",
    "    train_data_df['context'] = train_data_df['context'].apply(lambda x: x.strip()) \n",
    "\n",
    "    dev_data_df['question'] = dev_data_df['question'].apply(lambda x: x.strip())\n",
    "    dev_data_df['context'] = dev_data_df['context'].apply(lambda x: x.strip()) \n",
    "\n",
    "    return train_data_df, dev_data_df\n"
   ]
  },
  {
   "cell_type": "code",
   "execution_count": 18,
   "metadata": {},
   "outputs": [],
   "source": [
    "data_dir = \"/data/QNLI\""
   ]
  },
  {
   "cell_type": "code",
   "execution_count": 19,
   "metadata": {},
   "outputs": [
    {
     "data": {
      "text/plain": [
       "['dev.tsv', 'test.tsv', 'train.tsv']"
      ]
     },
     "execution_count": 19,
     "metadata": {},
     "output_type": "execute_result"
    }
   ],
   "source": [
    "os.listdir(data_dir)"
   ]
  },
  {
   "cell_type": "code",
   "execution_count": 20,
   "metadata": {},
   "outputs": [],
   "source": [
    "qnli_dev_df, qnli_train_df = get_qnli_pandas_dataframe(data_dir)"
   ]
  },
  {
   "cell_type": "markdown",
   "metadata": {
    "id": "xazR7eZpXcZs"
   },
   "source": [
    "## 2) Tokenization Features Engineering"
   ]
  },
  {
   "cell_type": "code",
   "execution_count": 21,
   "metadata": {
    "executionInfo": {
     "elapsed": 12,
     "status": "ok",
     "timestamp": 1643684419260,
     "user": {
      "displayName": "Nelson L.",
      "photoUrl": "https://lh3.googleusercontent.com/a-/AOh14GipnVJXi8Vo7o6qBMpdgcfZB2j9TYnsly5vDf6nig=s64",
      "userId": "03694478629413699942"
     },
     "user_tz": -480
    },
    "id": "N61l98MhbURZ"
   },
   "outputs": [],
   "source": [
    "max_length = 512"
   ]
  },
  {
   "cell_type": "code",
   "execution_count": 22,
   "metadata": {
    "colab": {
     "base_uri": "https://localhost:8080/",
     "height": 113,
     "referenced_widgets": [
      "9eb1e44811f444959632a7145f47c091",
      "603547483f7745e2bca948e81e2064d7",
      "aeb01c49bce240029462df11813b915a",
      "7487f9c68d46459c8b3248a493a6f11a",
      "d4785d62bf8e47c6a81217a5a59d1a82",
      "652f03b5fda5450a8f2f1987618463fc",
      "816406336bd04024bb530d1c5d152072",
      "4641d748e691425fb5eb78c4f1713d9b",
      "767b3022bc604b59ac7881775dae4c73",
      "61cc56c73fcd4fa3a855ff0f35b296c5",
      "42fe94b181674779a44a7e0c7e8cfdcc",
      "6c76765ebb714e399c64fcacc1830fc3",
      "82fb9010b87443559b08b9c270e2c3df",
      "83069c0c1b734199b97abe7ed8fc1a65",
      "b4a4e8f8e77d4221abd33defa6aee3a1",
      "253576b09d244556af3efe2259877567",
      "20149ea0cc3840258b866615e18943f7",
      "935d5a77e34641eab6c4b69a3d8e40e8",
      "c7822a7eb66845dca3453450bc1876b9",
      "1d1a24077fae4fb5893049d84f7ddba6",
      "34ba0f319262408abd2f20986762deb2",
      "e07fa3a430a140be8d00e417865762ef",
      "3349bd85b7c54dd694a657a491aa538c",
      "c296c48070d04bfdadecf4017bb94596",
      "a8efe78c4ad54c3bb03e1ec75e910ef2",
      "8958b087e2da46b390095ce9a19a876a",
      "6febc21ab3874135aad25b6ce2a7c5b4",
      "7fad4796a9b34a7fae88b9fa031cf1f9",
      "5c8cf300612c40df80d66c2b39658634",
      "a4355acb75184573ba0a95e4cdac0fd5",
      "f1917cd19aa84f4c83159567c3c05b45",
      "541e9e8403b24463892b0273dea95efa",
      "5ce7b4e23fed438499bbcbb0146b3b9d"
     ]
    },
    "executionInfo": {
     "elapsed": 5712,
     "status": "ok",
     "timestamp": 1643684424961,
     "user": {
      "displayName": "Nelson L.",
      "photoUrl": "https://lh3.googleusercontent.com/a-/AOh14GipnVJXi8Vo7o6qBMpdgcfZB2j9TYnsly5vDf6nig=s64",
      "userId": "03694478629413699942"
     },
     "user_tz": -480
    },
    "id": "e5DLd3b3aqde",
    "outputId": "902b0d00-43de-4114-d1af-e05c5b467c0b"
   },
   "outputs": [],
   "source": [
    "tokenizer = AutoTokenizer.from_pretrained(model_name)"
   ]
  },
  {
   "cell_type": "code",
   "execution_count": 23,
   "metadata": {
    "executionInfo": {
     "elapsed": 18,
     "status": "ok",
     "timestamp": 1643684424962,
     "user": {
      "displayName": "Nelson L.",
      "photoUrl": "https://lh3.googleusercontent.com/a-/AOh14GipnVJXi8Vo7o6qBMpdgcfZB2j9TYnsly5vDf6nig=s64",
      "userId": "03694478629413699942"
     },
     "user_tz": -480
    },
    "id": "-etjdTo9Rnm_"
   },
   "outputs": [],
   "source": [
    "question = qnli_train_df['question'].iloc[0]\n",
    "sentence = qnli_train_df['sentence'].iloc[0]"
   ]
  },
  {
   "cell_type": "code",
   "execution_count": 24,
   "metadata": {
    "executionInfo": {
     "elapsed": 17,
     "status": "ok",
     "timestamp": 1643684424963,
     "user": {
      "displayName": "Nelson L.",
      "photoUrl": "https://lh3.googleusercontent.com/a-/AOh14GipnVJXi8Vo7o6qBMpdgcfZB2j9TYnsly5vDf6nig=s64",
      "userId": "03694478629413699942"
     },
     "user_tz": -480
    },
    "id": "m8A0errVzdT3"
   },
   "outputs": [],
   "source": [
    "inputs = tokenizer(\n",
    "    text = question,\n",
    "    text_pair = sentence,\n",
    "    add_special_tokens = True,\n",
    "    max_length = max_length,\n",
    "    padding = \"max_length\",\n",
    "    return_token_type_ids = False,\n",
    "    truncation = True,\n",
    "    )"
   ]
  },
  {
   "cell_type": "code",
   "execution_count": 25,
   "metadata": {
    "colab": {
     "base_uri": "https://localhost:8080/"
    },
    "executionInfo": {
     "elapsed": 15,
     "status": "ok",
     "timestamp": 1643684424963,
     "user": {
      "displayName": "Nelson L.",
      "photoUrl": "https://lh3.googleusercontent.com/a-/AOh14GipnVJXi8Vo7o6qBMpdgcfZB2j9TYnsly5vDf6nig=s64",
      "userId": "03694478629413699942"
     },
     "user_tz": -480
    },
    "id": "Wz2MInsJzgp-",
    "outputId": "769a39fe-8031-4857-9c26-38b7741f87fb"
   },
   "outputs": [
    {
     "data": {
      "text/plain": [
       "dict_keys(['input_ids', 'attention_mask'])"
      ]
     },
     "execution_count": 25,
     "metadata": {},
     "output_type": "execute_result"
    }
   ],
   "source": [
    "inputs.keys()"
   ]
  },
  {
   "cell_type": "code",
   "execution_count": 26,
   "metadata": {
    "executionInfo": {
     "elapsed": 11,
     "status": "ok",
     "timestamp": 1643684424964,
     "user": {
      "displayName": "Nelson L.",
      "photoUrl": "https://lh3.googleusercontent.com/a-/AOh14GipnVJXi8Vo7o6qBMpdgcfZB2j9TYnsly5vDf6nig=s64",
      "userId": "03694478629413699942"
     },
     "user_tz": -480
    },
    "id": "55ibAcXvxrJD"
   },
   "outputs": [],
   "source": [
    "class QNLIDataset(Dataset):\n",
    "    def __init__(self,dataframe,tokenizer,max_length,device):\n",
    "        self.len = len(dataframe)\n",
    "        self.df = dataframe\n",
    "        self.tokenizer = tokenizer\n",
    "        self.max_length = max_length\n",
    "        self.device = device\n",
    "        self.question_list = self.df['question'].to_list()\n",
    "        self.sentence_list = self.df['sentence'].to_list()\n",
    "        self.label_list = self.df['label'].to_list()\n",
    "\n",
    "    def __len__(self):\n",
    "        return self.len\n",
    "    \n",
    "    def __getitem__(self,index):\n",
    "        question = self.question_list[index]\n",
    "        sentence = self.sentence_list[index]\n",
    "        label = self.label_list[index]\n",
    "\n",
    "        inputs = self.tokenizer(\n",
    "            text = question,\n",
    "            text_pair = sentence,\n",
    "            add_special_tokens = True,\n",
    "            max_length = max_length,\n",
    "            padding = \"max_length\",\n",
    "            return_token_type_ids = False,\n",
    "            truncation = True,\n",
    "            # return_tensors = 'pt',\n",
    "            )\n",
    "        \n",
    "        inputs= {\n",
    "            'input_ids':torch.tensor(inputs['input_ids']),\n",
    "            'attention_mask':torch.tensor(inputs['attention_mask']),\n",
    "            'labels':torch.tensor(label),\n",
    "        }\n",
    "\n",
    "        inputs = {k:v.to(self.device) for (k,v) in inputs.items()}\n",
    "\n",
    "        return inputs"
   ]
  },
  {
   "cell_type": "code",
   "execution_count": 27,
   "metadata": {
    "executionInfo": {
     "elapsed": 10,
     "status": "ok",
     "timestamp": 1643684424964,
     "user": {
      "displayName": "Nelson L.",
      "photoUrl": "https://lh3.googleusercontent.com/a-/AOh14GipnVJXi8Vo7o6qBMpdgcfZB2j9TYnsly5vDf6nig=s64",
      "userId": "03694478629413699942"
     },
     "user_tz": -480
    },
    "id": "CnLdCZFEK5pg"
   },
   "outputs": [],
   "source": [
    "sample_ratio = 2"
   ]
  },
  {
   "cell_type": "code",
   "execution_count": 28,
   "metadata": {
    "executionInfo": {
     "elapsed": 12,
     "status": "ok",
     "timestamp": 1643684424966,
     "user": {
      "displayName": "Nelson L.",
      "photoUrl": "https://lh3.googleusercontent.com/a-/AOh14GipnVJXi8Vo7o6qBMpdgcfZB2j9TYnsly5vDf6nig=s64",
      "userId": "03694478629413699942"
     },
     "user_tz": -480
    },
    "id": "xcRoqAOqK8Xe"
   },
   "outputs": [],
   "source": [
    "qnli_train_df = shuffle(qnli_train_df)\n",
    "qnli_dev_df = shuffle(qnli_dev_df)"
   ]
  },
  {
   "cell_type": "code",
   "execution_count": 29,
   "metadata": {
    "executionInfo": {
     "elapsed": 13,
     "status": "ok",
     "timestamp": 1643684424968,
     "user": {
      "displayName": "Nelson L.",
      "photoUrl": "https://lh3.googleusercontent.com/a-/AOh14GipnVJXi8Vo7o6qBMpdgcfZB2j9TYnsly5vDf6nig=s64",
      "userId": "03694478629413699942"
     },
     "user_tz": -480
    },
    "id": "to9I_Jl8LNoz"
   },
   "outputs": [],
   "source": [
    "train_size = int(len(qnli_train_df)//sample_ratio)\n",
    "dev_size = int(len(qnli_dev_df)//sample_ratio)"
   ]
  },
  {
   "cell_type": "code",
   "execution_count": 30,
   "metadata": {
    "executionInfo": {
     "elapsed": 15,
     "status": "ok",
     "timestamp": 1643684424970,
     "user": {
      "displayName": "Nelson L.",
      "photoUrl": "https://lh3.googleusercontent.com/a-/AOh14GipnVJXi8Vo7o6qBMpdgcfZB2j9TYnsly5vDf6nig=s64",
      "userId": "03694478629413699942"
     },
     "user_tz": -480
    },
    "id": "ZUYu_8miLGCJ"
   },
   "outputs": [],
   "source": [
    "qnli_train_df = qnli_train_df[:train_size]\n",
    "qnli_dev_df = qnli_dev_df[:dev_size]"
   ]
  },
  {
   "cell_type": "code",
   "execution_count": 31,
   "metadata": {
    "executionInfo": {
     "elapsed": 15,
     "status": "ok",
     "timestamp": 1643684424970,
     "user": {
      "displayName": "Nelson L.",
      "photoUrl": "https://lh3.googleusercontent.com/a-/AOh14GipnVJXi8Vo7o6qBMpdgcfZB2j9TYnsly5vDf6nig=s64",
      "userId": "03694478629413699942"
     },
     "user_tz": -480
    },
    "id": "uj3GQBeESkRl"
   },
   "outputs": [],
   "source": [
    "train_dataset = QNLIDataset(qnli_train_df,tokenizer,max_length,'cpu')\n",
    "dev_dataset = QNLIDataset(qnli_dev_df,tokenizer,max_length,'cpu')"
   ]
  },
  {
   "cell_type": "code",
   "execution_count": 32,
   "metadata": {
    "colab": {
     "base_uri": "https://localhost:8080/"
    },
    "executionInfo": {
     "elapsed": 8,
     "status": "ok",
     "timestamp": 1643684425591,
     "user": {
      "displayName": "Nelson L.",
      "photoUrl": "https://lh3.googleusercontent.com/a-/AOh14GipnVJXi8Vo7o6qBMpdgcfZB2j9TYnsly5vDf6nig=s64",
      "userId": "03694478629413699942"
     },
     "user_tz": -480
    },
    "id": "124ORPt1f-FM",
    "outputId": "9d42ef7e-cbe5-4fe2-ce8b-dbee2b04b7a8"
   },
   "outputs": [
    {
     "data": {
      "text/plain": [
       "{'input_ids': tensor([[   2,   56, 3939,  ...,    0,    0,    0],\n",
       "         [   2,  184,  175,  ...,    0,    0,    0]]),\n",
       " 'attention_mask': tensor([[1, 1, 1,  ..., 0, 0, 0],\n",
       "         [1, 1, 1,  ..., 0, 0, 0]]),\n",
       " 'labels': tensor([0, 1])}"
      ]
     },
     "execution_count": 32,
     "metadata": {},
     "output_type": "execute_result"
    }
   ],
   "source": [
    "train_dataset[:2]"
   ]
  },
  {
   "cell_type": "markdown",
   "metadata": {
    "id": "OxoYzNGj6Q6S"
   },
   "source": [
    "##3) Fine Tune Model"
   ]
  },
  {
   "cell_type": "code",
   "execution_count": 33,
   "metadata": {
    "colab": {
     "base_uri": "https://localhost:8080/",
     "height": 155,
     "referenced_widgets": [
      "5ce472516a3441828494ba17253b17b1",
      "393727f33f0b40cda3e0e6056784f247",
      "5a1f5d8e900d4c0c9eeedcc43076cdb1",
      "d881dab0fa0a4b20b890ac69f53e397b",
      "a1923bb9c6b040569e39a14f8d6657fc",
      "54e1e565aeb646ce876b8e5138ad80a3",
      "7ee25f3985a541c0a8a16f7d7af85d71",
      "5f1c7f28fcfe43fda9ca79ca8a79850b",
      "03045c0e1c5c49d5befd38f221960d5b",
      "89ef8666ee764d6b9269b63dc01512c4",
      "654f99120ba54a98b8c393d4acfbfc9d"
     ]
    },
    "executionInfo": {
     "elapsed": 2699,
     "status": "ok",
     "timestamp": 1643684429060,
     "user": {
      "displayName": "Nelson L.",
      "photoUrl": "https://lh3.googleusercontent.com/a-/AOh14GipnVJXi8Vo7o6qBMpdgcfZB2j9TYnsly5vDf6nig=s64",
      "userId": "03694478629413699942"
     },
     "user_tz": -480
    },
    "id": "g-wN-kTTTyU1",
    "outputId": "4984e4c6-ec04-44e6-ce32-dfc1390021f0"
   },
   "outputs": [
    {
     "name": "stderr",
     "output_type": "stream",
     "text": [
      "Some weights of the model checkpoint at albert-base-v2 were not used when initializing AlbertForSequenceClassification: ['predictions.LayerNorm.bias', 'predictions.decoder.bias', 'predictions.dense.bias', 'predictions.dense.weight', 'predictions.LayerNorm.weight', 'predictions.bias', 'predictions.decoder.weight']\n",
      "- This IS expected if you are initializing AlbertForSequenceClassification from the checkpoint of a model trained on another task or with another architecture (e.g. initializing a BertForSequenceClassification model from a BertForPreTraining model).\n",
      "- This IS NOT expected if you are initializing AlbertForSequenceClassification from the checkpoint of a model that you expect to be exactly identical (initializing a BertForSequenceClassification model from a BertForSequenceClassification model).\n",
      "Some weights of AlbertForSequenceClassification were not initialized from the model checkpoint at albert-base-v2 and are newly initialized: ['classifier.bias', 'classifier.weight']\n",
      "You should probably TRAIN this model on a down-stream task to be able to use it for predictions and inference.\n"
     ]
    }
   ],
   "source": [
    "model = AlbertForSequenceClassification.from_pretrained(model_name)"
   ]
  },
  {
   "cell_type": "code",
   "execution_count": 34,
   "metadata": {
    "executionInfo": {
     "elapsed": 10882,
     "status": "ok",
     "timestamp": 1643684439937,
     "user": {
      "displayName": "Nelson L.",
      "photoUrl": "https://lh3.googleusercontent.com/a-/AOh14GipnVJXi8Vo7o6qBMpdgcfZB2j9TYnsly5vDf6nig=s64",
      "userId": "03694478629413699942"
     },
     "user_tz": -480
    },
    "id": "AYnGqsMeUjkl"
   },
   "outputs": [],
   "source": [
    "model = model.to(device)"
   ]
  },
  {
   "cell_type": "code",
   "execution_count": 35,
   "metadata": {
    "executionInfo": {
     "elapsed": 13,
     "status": "ok",
     "timestamp": 1643684439938,
     "user": {
      "displayName": "Nelson L.",
      "photoUrl": "https://lh3.googleusercontent.com/a-/AOh14GipnVJXi8Vo7o6qBMpdgcfZB2j9TYnsly5vDf6nig=s64",
      "userId": "03694478629413699942"
     },
     "user_tz": -480
    },
    "id": "uVx413ag_kCC"
   },
   "outputs": [],
   "source": [
    "# \"\"\"test\"\"\"\n",
    "# sample_data = train_dataset[:6]\n",
    "# model(**sample_data)"
   ]
  },
  {
   "cell_type": "code",
   "execution_count": 36,
   "metadata": {
    "executionInfo": {
     "elapsed": 12,
     "status": "ok",
     "timestamp": 1643684439939,
     "user": {
      "displayName": "Nelson L.",
      "photoUrl": "https://lh3.googleusercontent.com/a-/AOh14GipnVJXi8Vo7o6qBMpdgcfZB2j9TYnsly5vDf6nig=s64",
      "userId": "03694478629413699942"
     },
     "user_tz": -480
    },
    "id": "--cuP_8lVINV"
   },
   "outputs": [],
   "source": [
    "def compute_metrics(inputs):\n",
    "    pred,labels = inputs\n",
    "    pred = np.argmax(pred,axis = 1)\n",
    "    accuracy = metrics.accuracy_score(labels,pred)\n",
    "    recall = metrics.recall_score(labels,pred)\n",
    "    precision = metrics.precision_score(labels,pred)\n",
    "    f1 = metrics.f1_score(labels,pred)\n",
    "\n",
    "    return {\"accuracy\":accuracy, \"recall\":recall, \"precision\":precision, \"recall\":recall, f1:\"f1\"} "
   ]
  },
  {
   "cell_type": "code",
   "execution_count": 37,
   "metadata": {
    "executionInfo": {
     "elapsed": 11,
     "status": "ok",
     "timestamp": 1643684439940,
     "user": {
      "displayName": "Nelson L.",
      "photoUrl": "https://lh3.googleusercontent.com/a-/AOh14GipnVJXi8Vo7o6qBMpdgcfZB2j9TYnsly5vDf6nig=s64",
      "userId": "03694478629413699942"
     },
     "user_tz": -480
    },
    "id": "9K41WewNWEYm"
   },
   "outputs": [],
   "source": [
    "model_save_path = \"./singel-albert-qnli\""
   ]
  },
  {
   "cell_type": "code",
   "execution_count": 38,
   "metadata": {
    "executionInfo": {
     "elapsed": 11,
     "status": "ok",
     "timestamp": 1643684439941,
     "user": {
      "displayName": "Nelson L.",
      "photoUrl": "https://lh3.googleusercontent.com/a-/AOh14GipnVJXi8Vo7o6qBMpdgcfZB2j9TYnsly5vDf6nig=s64",
      "userId": "03694478629413699942"
     },
     "user_tz": -480
    },
    "id": "Nm64nL7LW4Rj"
   },
   "outputs": [],
   "source": [
    "batch_size = 24"
   ]
  },
  {
   "cell_type": "code",
   "execution_count": 39,
   "metadata": {
    "executionInfo": {
     "elapsed": 10,
     "status": "ok",
     "timestamp": 1643684439941,
     "user": {
      "displayName": "Nelson L.",
      "photoUrl": "https://lh3.googleusercontent.com/a-/AOh14GipnVJXi8Vo7o6qBMpdgcfZB2j9TYnsly5vDf6nig=s64",
      "userId": "03694478629413699942"
     },
     "user_tz": -480
    },
    "id": "D3oDJkIZmlk_"
   },
   "outputs": [],
   "source": [
    "steps = len(train_dataset)//batch_size"
   ]
  },
  {
   "cell_type": "code",
   "execution_count": 40,
   "metadata": {},
   "outputs": [
    {
     "data": {
      "text/plain": [
       "2182"
      ]
     },
     "execution_count": 40,
     "metadata": {},
     "output_type": "execute_result"
    }
   ],
   "source": [
    "steps "
   ]
  },
  {
   "cell_type": "code",
   "execution_count": 41,
   "metadata": {
    "executionInfo": {
     "elapsed": 11,
     "status": "ok",
     "timestamp": 1643684439942,
     "user": {
      "displayName": "Nelson L.",
      "photoUrl": "https://lh3.googleusercontent.com/a-/AOh14GipnVJXi8Vo7o6qBMpdgcfZB2j9TYnsly5vDf6nig=s64",
      "userId": "03694478629413699942"
     },
     "user_tz": -480
    },
    "id": "LqQmEIcXpLNl"
   },
   "outputs": [],
   "source": [
    "evaluate_steps = steps//5"
   ]
  },
  {
   "cell_type": "code",
   "execution_count": 42,
   "metadata": {},
   "outputs": [
    {
     "data": {
      "text/plain": [
       "436"
      ]
     },
     "execution_count": 42,
     "metadata": {},
     "output_type": "execute_result"
    }
   ],
   "source": [
    "evaluate_steps"
   ]
  },
  {
   "cell_type": "code",
   "execution_count": 43,
   "metadata": {
    "executionInfo": {
     "elapsed": 350,
     "status": "ok",
     "timestamp": 1643684447666,
     "user": {
      "displayName": "Nelson L.",
      "photoUrl": "https://lh3.googleusercontent.com/a-/AOh14GipnVJXi8Vo7o6qBMpdgcfZB2j9TYnsly5vDf6nig=s64",
      "userId": "03694478629413699942"
     },
     "user_tz": -480
    },
    "id": "V8Lz6fvqIs4P"
   },
   "outputs": [],
   "source": [
    "evaluate_steps = 300"
   ]
  },
  {
   "cell_type": "code",
   "execution_count": 44,
   "metadata": {
    "executionInfo": {
     "elapsed": 347,
     "status": "ok",
     "timestamp": 1643684452446,
     "user": {
      "displayName": "Nelson L.",
      "photoUrl": "https://lh3.googleusercontent.com/a-/AOh14GipnVJXi8Vo7o6qBMpdgcfZB2j9TYnsly5vDf6nig=s64",
      "userId": "03694478629413699942"
     },
     "user_tz": -480
    },
    "id": "ICq1lPbhHggI"
   },
   "outputs": [],
   "source": [
    "# break"
   ]
  },
  {
   "cell_type": "code",
   "execution_count": 45,
   "metadata": {
    "executionInfo": {
     "elapsed": 669,
     "status": "ok",
     "timestamp": 1643684454327,
     "user": {
      "displayName": "Nelson L.",
      "photoUrl": "https://lh3.googleusercontent.com/a-/AOh14GipnVJXi8Vo7o6qBMpdgcfZB2j9TYnsly5vDf6nig=s64",
      "userId": "03694478629413699942"
     },
     "user_tz": -480
    },
    "id": "H4wle2gdVws5"
   },
   "outputs": [],
   "source": [
    "args = TrainingArguments(\n",
    "    \n",
    "    model_save_path,\n",
    "    overwrite_output_dir = True,\n",
    "    evaluation_strategy = \"steps\",\n",
    "    eval_steps = evaluate_steps,\n",
    "    logging_steps = evaluate_steps,\n",
    "    save_steps = evaluate_steps,\n",
    "    do_train = True,\n",
    "    do_eval = True,\n",
    "    learning_rate = 2e-5,\n",
    "    per_device_train_batch_size = batch_size,\n",
    "    per_device_eval_batch_size = batch_size,\n",
    "    num_train_epochs = 2,\n",
    "    seed = 0,\n",
    "    load_best_model_at_end = True,\n",
    ")\n"
   ]
  },
  {
   "cell_type": "code",
   "execution_count": 46,
   "metadata": {
    "colab": {
     "base_uri": "https://localhost:8080/"
    },
    "executionInfo": {
     "elapsed": 6,
     "status": "ok",
     "timestamp": 1643684456097,
     "user": {
      "displayName": "Nelson L.",
      "photoUrl": "https://lh3.googleusercontent.com/a-/AOh14GipnVJXi8Vo7o6qBMpdgcfZB2j9TYnsly5vDf6nig=s64",
      "userId": "03694478629413699942"
     },
     "user_tz": -480
    },
    "id": "LFnx6-VhbVpV",
    "outputId": "c69ae7e6-bf60-47f3-e1e8-0388cda9e9c2"
   },
   "outputs": [
    {
     "data": {
      "text/plain": [
       "{'input_ids': tensor([[   2,   56, 3939,  ...,    0,    0,    0],\n",
       "         [   2,  184,  175,  ...,    0,    0,    0],\n",
       "         [   2,   98,   23,  ...,    0,    0,    0]]),\n",
       " 'attention_mask': tensor([[1, 1, 1,  ..., 0, 0, 0],\n",
       "         [1, 1, 1,  ..., 0, 0, 0],\n",
       "         [1, 1, 1,  ..., 0, 0, 0]]),\n",
       " 'labels': tensor([0, 1, 0])}"
      ]
     },
     "execution_count": 46,
     "metadata": {},
     "output_type": "execute_result"
    }
   ],
   "source": [
    "train_dataset[:3]"
   ]
  },
  {
   "cell_type": "code",
   "execution_count": 47,
   "metadata": {
    "executionInfo": {
     "elapsed": 369,
     "status": "ok",
     "timestamp": 1643684474332,
     "user": {
      "displayName": "Nelson L.",
      "photoUrl": "https://lh3.googleusercontent.com/a-/AOh14GipnVJXi8Vo7o6qBMpdgcfZB2j9TYnsly5vDf6nig=s64",
      "userId": "03694478629413699942"
     },
     "user_tz": -480
    },
    "id": "5aAzsLKXUyle"
   },
   "outputs": [],
   "source": [
    "trainer  = Trainer(\n",
    "    model = model,\n",
    "    args = args,\n",
    "    train_dataset =train_dataset,\n",
    "    eval_dataset = dev_dataset,\n",
    "    tokenizer = tokenizer,\n",
    ")"
   ]
  },
  {
   "cell_type": "code",
   "execution_count": 48,
   "metadata": {
    "colab": {
     "base_uri": "https://localhost:8080/",
     "height": 1000
    },
    "executionInfo": {
     "elapsed": 6438507,
     "status": "ok",
     "timestamp": 1643690914328,
     "user": {
      "displayName": "Nelson L.",
      "photoUrl": "https://lh3.googleusercontent.com/a-/AOh14GipnVJXi8Vo7o6qBMpdgcfZB2j9TYnsly5vDf6nig=s64",
      "userId": "03694478629413699942"
     },
     "user_tz": -480
    },
    "id": "9ijS8V92ZJ7d",
    "outputId": "a85f3698-d297-4de0-f280-d7828e7a46b0"
   },
   "outputs": [
    {
     "name": "stderr",
     "output_type": "stream",
     "text": [
      "***** Running training *****\n",
      "  Num examples = 52371\n",
      "  Num Epochs = 2\n",
      "  Instantaneous batch size per device = 24\n",
      "  Total train batch size (w. parallel, distributed & accumulation) = 24\n",
      "  Gradient Accumulation steps = 1\n",
      "  Total optimization steps = 4366\n"
     ]
    },
    {
     "data": {
      "text/html": [
       "\n",
       "    <div>\n",
       "      \n",
       "      <progress value='4366' max='4366' style='width:300px; height:20px; vertical-align: middle;'></progress>\n",
       "      [4366/4366 41:15, Epoch 2/2]\n",
       "    </div>\n",
       "    <table border=\"1\" class=\"dataframe\">\n",
       "  <thead>\n",
       "    <tr style=\"text-align: left;\">\n",
       "      <th>Step</th>\n",
       "      <th>Training Loss</th>\n",
       "      <th>Validation Loss</th>\n",
       "    </tr>\n",
       "  </thead>\n",
       "  <tbody>\n",
       "    <tr>\n",
       "      <td>300</td>\n",
       "      <td>0.505400</td>\n",
       "      <td>0.376926</td>\n",
       "    </tr>\n",
       "    <tr>\n",
       "      <td>600</td>\n",
       "      <td>0.399700</td>\n",
       "      <td>0.406909</td>\n",
       "    </tr>\n",
       "    <tr>\n",
       "      <td>900</td>\n",
       "      <td>0.355100</td>\n",
       "      <td>0.307570</td>\n",
       "    </tr>\n",
       "    <tr>\n",
       "      <td>1200</td>\n",
       "      <td>0.331900</td>\n",
       "      <td>0.292908</td>\n",
       "    </tr>\n",
       "    <tr>\n",
       "      <td>1500</td>\n",
       "      <td>0.327600</td>\n",
       "      <td>0.275060</td>\n",
       "    </tr>\n",
       "    <tr>\n",
       "      <td>1800</td>\n",
       "      <td>0.318500</td>\n",
       "      <td>0.278506</td>\n",
       "    </tr>\n",
       "    <tr>\n",
       "      <td>2100</td>\n",
       "      <td>0.294300</td>\n",
       "      <td>0.272521</td>\n",
       "    </tr>\n",
       "    <tr>\n",
       "      <td>2400</td>\n",
       "      <td>0.234200</td>\n",
       "      <td>0.333522</td>\n",
       "    </tr>\n",
       "    <tr>\n",
       "      <td>2700</td>\n",
       "      <td>0.223700</td>\n",
       "      <td>0.283174</td>\n",
       "    </tr>\n",
       "    <tr>\n",
       "      <td>3000</td>\n",
       "      <td>0.200600</td>\n",
       "      <td>0.273119</td>\n",
       "    </tr>\n",
       "    <tr>\n",
       "      <td>3300</td>\n",
       "      <td>0.212700</td>\n",
       "      <td>0.263562</td>\n",
       "    </tr>\n",
       "    <tr>\n",
       "      <td>3600</td>\n",
       "      <td>0.197800</td>\n",
       "      <td>0.260179</td>\n",
       "    </tr>\n",
       "    <tr>\n",
       "      <td>3900</td>\n",
       "      <td>0.194400</td>\n",
       "      <td>0.256165</td>\n",
       "    </tr>\n",
       "    <tr>\n",
       "      <td>4200</td>\n",
       "      <td>0.199800</td>\n",
       "      <td>0.258418</td>\n",
       "    </tr>\n",
       "  </tbody>\n",
       "</table><p>"
      ],
      "text/plain": [
       "<IPython.core.display.HTML object>"
      ]
     },
     "metadata": {},
     "output_type": "display_data"
    },
    {
     "name": "stderr",
     "output_type": "stream",
     "text": [
      "***** Running Evaluation *****\n",
      "  Num examples = 2731\n",
      "  Batch size = 24\n",
      "Saving model checkpoint to ./singel-albert-qnli/checkpoint-300\n",
      "Configuration saved in ./singel-albert-qnli/checkpoint-300/config.json\n",
      "Model weights saved in ./singel-albert-qnli/checkpoint-300/pytorch_model.bin\n",
      "tokenizer config file saved in ./singel-albert-qnli/checkpoint-300/tokenizer_config.json\n",
      "Special tokens file saved in ./singel-albert-qnli/checkpoint-300/special_tokens_map.json\n",
      "***** Running Evaluation *****\n",
      "  Num examples = 2731\n",
      "  Batch size = 24\n",
      "Saving model checkpoint to ./singel-albert-qnli/checkpoint-600\n",
      "Configuration saved in ./singel-albert-qnli/checkpoint-600/config.json\n",
      "Model weights saved in ./singel-albert-qnli/checkpoint-600/pytorch_model.bin\n",
      "tokenizer config file saved in ./singel-albert-qnli/checkpoint-600/tokenizer_config.json\n",
      "Special tokens file saved in ./singel-albert-qnli/checkpoint-600/special_tokens_map.json\n",
      "***** Running Evaluation *****\n",
      "  Num examples = 2731\n",
      "  Batch size = 24\n",
      "Saving model checkpoint to ./singel-albert-qnli/checkpoint-900\n",
      "Configuration saved in ./singel-albert-qnli/checkpoint-900/config.json\n",
      "Model weights saved in ./singel-albert-qnli/checkpoint-900/pytorch_model.bin\n",
      "tokenizer config file saved in ./singel-albert-qnli/checkpoint-900/tokenizer_config.json\n",
      "Special tokens file saved in ./singel-albert-qnli/checkpoint-900/special_tokens_map.json\n",
      "***** Running Evaluation *****\n",
      "  Num examples = 2731\n",
      "  Batch size = 24\n",
      "Saving model checkpoint to ./singel-albert-qnli/checkpoint-1200\n",
      "Configuration saved in ./singel-albert-qnli/checkpoint-1200/config.json\n",
      "Model weights saved in ./singel-albert-qnli/checkpoint-1200/pytorch_model.bin\n",
      "tokenizer config file saved in ./singel-albert-qnli/checkpoint-1200/tokenizer_config.json\n",
      "Special tokens file saved in ./singel-albert-qnli/checkpoint-1200/special_tokens_map.json\n",
      "***** Running Evaluation *****\n",
      "  Num examples = 2731\n",
      "  Batch size = 24\n",
      "Saving model checkpoint to ./singel-albert-qnli/checkpoint-1500\n",
      "Configuration saved in ./singel-albert-qnli/checkpoint-1500/config.json\n",
      "Model weights saved in ./singel-albert-qnli/checkpoint-1500/pytorch_model.bin\n",
      "tokenizer config file saved in ./singel-albert-qnli/checkpoint-1500/tokenizer_config.json\n",
      "Special tokens file saved in ./singel-albert-qnli/checkpoint-1500/special_tokens_map.json\n",
      "***** Running Evaluation *****\n",
      "  Num examples = 2731\n",
      "  Batch size = 24\n",
      "Saving model checkpoint to ./singel-albert-qnli/checkpoint-1800\n",
      "Configuration saved in ./singel-albert-qnli/checkpoint-1800/config.json\n",
      "Model weights saved in ./singel-albert-qnli/checkpoint-1800/pytorch_model.bin\n",
      "tokenizer config file saved in ./singel-albert-qnli/checkpoint-1800/tokenizer_config.json\n",
      "Special tokens file saved in ./singel-albert-qnli/checkpoint-1800/special_tokens_map.json\n",
      "***** Running Evaluation *****\n",
      "  Num examples = 2731\n",
      "  Batch size = 24\n",
      "Saving model checkpoint to ./singel-albert-qnli/checkpoint-2100\n",
      "Configuration saved in ./singel-albert-qnli/checkpoint-2100/config.json\n",
      "Model weights saved in ./singel-albert-qnli/checkpoint-2100/pytorch_model.bin\n",
      "tokenizer config file saved in ./singel-albert-qnli/checkpoint-2100/tokenizer_config.json\n",
      "Special tokens file saved in ./singel-albert-qnli/checkpoint-2100/special_tokens_map.json\n",
      "***** Running Evaluation *****\n",
      "  Num examples = 2731\n",
      "  Batch size = 24\n",
      "Saving model checkpoint to ./singel-albert-qnli/checkpoint-2400\n",
      "Configuration saved in ./singel-albert-qnli/checkpoint-2400/config.json\n",
      "Model weights saved in ./singel-albert-qnli/checkpoint-2400/pytorch_model.bin\n",
      "tokenizer config file saved in ./singel-albert-qnli/checkpoint-2400/tokenizer_config.json\n",
      "Special tokens file saved in ./singel-albert-qnli/checkpoint-2400/special_tokens_map.json\n",
      "***** Running Evaluation *****\n",
      "  Num examples = 2731\n",
      "  Batch size = 24\n",
      "Saving model checkpoint to ./singel-albert-qnli/checkpoint-2700\n",
      "Configuration saved in ./singel-albert-qnli/checkpoint-2700/config.json\n",
      "Model weights saved in ./singel-albert-qnli/checkpoint-2700/pytorch_model.bin\n",
      "tokenizer config file saved in ./singel-albert-qnli/checkpoint-2700/tokenizer_config.json\n",
      "Special tokens file saved in ./singel-albert-qnli/checkpoint-2700/special_tokens_map.json\n",
      "***** Running Evaluation *****\n",
      "  Num examples = 2731\n",
      "  Batch size = 24\n",
      "Saving model checkpoint to ./singel-albert-qnli/checkpoint-3000\n",
      "Configuration saved in ./singel-albert-qnli/checkpoint-3000/config.json\n",
      "Model weights saved in ./singel-albert-qnli/checkpoint-3000/pytorch_model.bin\n",
      "tokenizer config file saved in ./singel-albert-qnli/checkpoint-3000/tokenizer_config.json\n",
      "Special tokens file saved in ./singel-albert-qnli/checkpoint-3000/special_tokens_map.json\n",
      "***** Running Evaluation *****\n",
      "  Num examples = 2731\n",
      "  Batch size = 24\n",
      "Saving model checkpoint to ./singel-albert-qnli/checkpoint-3300\n",
      "Configuration saved in ./singel-albert-qnli/checkpoint-3300/config.json\n",
      "Model weights saved in ./singel-albert-qnli/checkpoint-3300/pytorch_model.bin\n",
      "tokenizer config file saved in ./singel-albert-qnli/checkpoint-3300/tokenizer_config.json\n",
      "Special tokens file saved in ./singel-albert-qnli/checkpoint-3300/special_tokens_map.json\n",
      "***** Running Evaluation *****\n",
      "  Num examples = 2731\n",
      "  Batch size = 24\n",
      "Saving model checkpoint to ./singel-albert-qnli/checkpoint-3600\n",
      "Configuration saved in ./singel-albert-qnli/checkpoint-3600/config.json\n",
      "Model weights saved in ./singel-albert-qnli/checkpoint-3600/pytorch_model.bin\n",
      "tokenizer config file saved in ./singel-albert-qnli/checkpoint-3600/tokenizer_config.json\n",
      "Special tokens file saved in ./singel-albert-qnli/checkpoint-3600/special_tokens_map.json\n",
      "***** Running Evaluation *****\n",
      "  Num examples = 2731\n",
      "  Batch size = 24\n",
      "Saving model checkpoint to ./singel-albert-qnli/checkpoint-3900\n",
      "Configuration saved in ./singel-albert-qnli/checkpoint-3900/config.json\n",
      "Model weights saved in ./singel-albert-qnli/checkpoint-3900/pytorch_model.bin\n",
      "tokenizer config file saved in ./singel-albert-qnli/checkpoint-3900/tokenizer_config.json\n",
      "Special tokens file saved in ./singel-albert-qnli/checkpoint-3900/special_tokens_map.json\n",
      "***** Running Evaluation *****\n",
      "  Num examples = 2731\n",
      "  Batch size = 24\n",
      "Saving model checkpoint to ./singel-albert-qnli/checkpoint-4200\n",
      "Configuration saved in ./singel-albert-qnli/checkpoint-4200/config.json\n",
      "Model weights saved in ./singel-albert-qnli/checkpoint-4200/pytorch_model.bin\n",
      "tokenizer config file saved in ./singel-albert-qnli/checkpoint-4200/tokenizer_config.json\n",
      "Special tokens file saved in ./singel-albert-qnli/checkpoint-4200/special_tokens_map.json\n",
      "\n",
      "\n",
      "Training completed. Do not forget to share your model on huggingface.co/models =)\n",
      "\n",
      "\n",
      "Loading best model from ./singel-albert-qnli/checkpoint-3900 (score: 0.2561653256416321).\n"
     ]
    },
    {
     "data": {
      "text/plain": [
       "TrainOutput(global_step=4366, training_loss=0.28115325513587214, metrics={'train_runtime': 2476.9921, 'train_samples_per_second': 42.286, 'train_steps_per_second': 1.763, 'total_flos': 2503134974545920.0, 'train_loss': 0.28115325513587214, 'epoch': 2.0})"
      ]
     },
     "execution_count": 48,
     "metadata": {},
     "output_type": "execute_result"
    }
   ],
   "source": [
    "trainer.train()"
   ]
  },
  {
   "cell_type": "markdown",
   "metadata": {
    "id": "gS3e_75cYKRz"
   },
   "source": [
    "## 4) Evaluate "
   ]
  },
  {
   "cell_type": "code",
   "execution_count": 49,
   "metadata": {
    "id": "rNNijLQlht58"
   },
   "outputs": [],
   "source": [
    "from tqdm import tqdm"
   ]
  },
  {
   "cell_type": "code",
   "execution_count": 50,
   "metadata": {
    "id": "gLU9Ncb7YF8E"
   },
   "outputs": [],
   "source": [
    "def evaluate_with_batch(model,dataset,batch_size,device):\n",
    "    dataset_loader = DataLoader(dataset,batch_size)\n",
    "\n",
    "    model.eval()\n",
    "\n",
    "    loss_list = []\n",
    "    labels_list = []\n",
    "    pred_list = []\n",
    "    prob_list = []\n",
    "\n",
    "    pbar = tqdm(total = len(dataset_loader),desc = \"Model Evaluate\")\n",
    "\n",
    "\n",
    "    for sample in dataset_loader:\n",
    "        sample = {k:v.to(device) for (k,v) in sample.items()}\n",
    "\n",
    "        with torch.no_grad():\n",
    "            batch_result = model(**sample)\n",
    "        \n",
    "        loss = batch_result.loss.item()\n",
    "        loss_list.append(loss)\n",
    "\n",
    "        labels = sample['labels']\n",
    "        del sample\n",
    "\n",
    "        labels  = labels.detach().cpu().numpy()\n",
    "        labels_list.extend(labels)\n",
    "\n",
    "        logits = batch_result.logits\n",
    "        probs = torch.sigmoid(logits)\n",
    "        \n",
    "        pred = torch.argmax(probs,axis = 1)\n",
    "        pred = pred.detach().cpu().numpy()\n",
    "        pred_list.extend(pred)\n",
    "\n",
    "        prob = probs[:,1]\n",
    "        prob = prob.detach().cpu().numpy()\n",
    "        prob_list.extend(prob)\n",
    "\n",
    "        pbar.update(1)\n",
    "\n",
    "    pbar.close()\n",
    "\n",
    "\n",
    "    accuracy = metrics.accuracy_score(labels_list,pred_list)\n",
    "    recall = metrics.recall_score(labels_list,pred_list)\n",
    "    precision = metrics.precision_score(labels_list,pred_list)\n",
    "    f1 = metrics.f1_score(labels_list,pred_list)\n",
    "    fpr,tpr, threshold = metrics.roc_curve(labels_list,prob_list,pos_label=1)\n",
    "\n",
    "    auc =metrics.auc(fpr,tpr)\n",
    "    loss = np.mean(loss_list)\n",
    "\n",
    "    return {\"accuracy\":accuracy, \"recall\":recall, \"precision\":precision, \"recall\":recall, \"f1\":f1,'auc':auc,'loss':loss} "
   ]
  },
  {
   "cell_type": "code",
   "execution_count": 51,
   "metadata": {
    "colab": {
     "base_uri": "https://localhost:8080/"
    },
    "executionInfo": {
     "elapsed": 39938,
     "status": "ok",
     "timestamp": 1643603831862,
     "user": {
      "displayName": "Nelson L.",
      "photoUrl": "https://lh3.googleusercontent.com/a-/AOh14GipnVJXi8Vo7o6qBMpdgcfZB2j9TYnsly5vDf6nig=s64",
      "userId": "03694478629413699942"
     },
     "user_tz": -480
    },
    "id": "d3h30PRLayBk",
    "outputId": "efd32797-ba75-44ae-889d-b248f91a33af"
   },
   "outputs": [
    {
     "name": "stderr",
     "output_type": "stream",
     "text": [
      "Model Evaluate: 100%|██████████| 114/114 [00:22<00:00,  4.96it/s]\n"
     ]
    }
   ],
   "source": [
    "evaluate_result = evaluate_with_batch(model,dev_dataset,batch_size,device)"
   ]
  },
  {
   "cell_type": "code",
   "execution_count": 52,
   "metadata": {
    "colab": {
     "base_uri": "https://localhost:8080/"
    },
    "executionInfo": {
     "elapsed": 23,
     "status": "ok",
     "timestamp": 1643603831863,
     "user": {
      "displayName": "Nelson L.",
      "photoUrl": "https://lh3.googleusercontent.com/a-/AOh14GipnVJXi8Vo7o6qBMpdgcfZB2j9TYnsly5vDf6nig=s64",
      "userId": "03694478629413699942"
     },
     "user_tz": -480
    },
    "id": "l5kfBmZXjDpt",
    "outputId": "074018f3-1955-44d1-d03a-2a30afcb9b89"
   },
   "outputs": [
    {
     "data": {
      "text/plain": [
       "{'accuracy': 0.9077261076528744,\n",
       " 'recall': 0.9090909090909091,\n",
       " 'precision': 0.9077705156136529,\n",
       " 'f1': 0.9084302325581395,\n",
       " 'auc': 0.9637978010190399,\n",
       " 'loss': 0.25596295470339164}"
      ]
     },
     "execution_count": 52,
     "metadata": {},
     "output_type": "execute_result"
    }
   ],
   "source": [
    "evaluate_result"
   ]
  },
  {
   "cell_type": "code",
   "execution_count": null,
   "metadata": {
    "id": "xDMuo8UZsDO2"
   },
   "outputs": [],
   "source": []
  }
 ],
 "metadata": {
  "accelerator": "GPU",
  "colab": {
   "collapsed_sections": [],
   "name": "Fine Tune AlBERT For QNLI",
   "provenance": [
    {
     "file_id": "https://github.com/huggingface/notebooks/blob/master/examples/question_answering.ipynb",
     "timestamp": 1640747938302
    }
   ]
  },
  "kernelspec": {
   "display_name": "Python 3",
   "language": "python",
   "name": "python3"
  },
  "language_info": {
   "codemirror_mode": {
    "name": "ipython",
    "version": 3
   },
   "file_extension": ".py",
   "mimetype": "text/x-python",
   "name": "python",
   "nbconvert_exporter": "python",
   "pygments_lexer": "ipython3",
   "version": "3.6.9"
  },
  "widgets": {
   "application/vnd.jupyter.widget-state+json": {
    "03045c0e1c5c49d5befd38f221960d5b": {
     "model_module": "@jupyter-widgets/base",
     "model_module_version": "1.2.0",
     "model_name": "LayoutModel",
     "state": {
      "_model_module": "@jupyter-widgets/base",
      "_model_module_version": "1.2.0",
      "_model_name": "LayoutModel",
      "_view_count": null,
      "_view_module": "@jupyter-widgets/base",
      "_view_module_version": "1.2.0",
      "_view_name": "LayoutView",
      "align_content": null,
      "align_items": null,
      "align_self": null,
      "border": null,
      "bottom": null,
      "display": null,
      "flex": null,
      "flex_flow": null,
      "grid_area": null,
      "grid_auto_columns": null,
      "grid_auto_flow": null,
      "grid_auto_rows": null,
      "grid_column": null,
      "grid_gap": null,
      "grid_row": null,
      "grid_template_areas": null,
      "grid_template_columns": null,
      "grid_template_rows": null,
      "height": null,
      "justify_content": null,
      "justify_items": null,
      "left": null,
      "margin": null,
      "max_height": null,
      "max_width": null,
      "min_height": null,
      "min_width": null,
      "object_fit": null,
      "object_position": null,
      "order": null,
      "overflow": null,
      "overflow_x": null,
      "overflow_y": null,
      "padding": null,
      "right": null,
      "top": null,
      "visibility": null,
      "width": null
     }
    },
    "1d1a24077fae4fb5893049d84f7ddba6": {
     "model_module": "@jupyter-widgets/base",
     "model_module_version": "1.2.0",
     "model_name": "LayoutModel",
     "state": {
      "_model_module": "@jupyter-widgets/base",
      "_model_module_version": "1.2.0",
      "_model_name": "LayoutModel",
      "_view_count": null,
      "_view_module": "@jupyter-widgets/base",
      "_view_module_version": "1.2.0",
      "_view_name": "LayoutView",
      "align_content": null,
      "align_items": null,
      "align_self": null,
      "border": null,
      "bottom": null,
      "display": null,
      "flex": null,
      "flex_flow": null,
      "grid_area": null,
      "grid_auto_columns": null,
      "grid_auto_flow": null,
      "grid_auto_rows": null,
      "grid_column": null,
      "grid_gap": null,
      "grid_row": null,
      "grid_template_areas": null,
      "grid_template_columns": null,
      "grid_template_rows": null,
      "height": null,
      "justify_content": null,
      "justify_items": null,
      "left": null,
      "margin": null,
      "max_height": null,
      "max_width": null,
      "min_height": null,
      "min_width": null,
      "object_fit": null,
      "object_position": null,
      "order": null,
      "overflow": null,
      "overflow_x": null,
      "overflow_y": null,
      "padding": null,
      "right": null,
      "top": null,
      "visibility": null,
      "width": null
     }
    },
    "20149ea0cc3840258b866615e18943f7": {
     "model_module": "@jupyter-widgets/controls",
     "model_module_version": "1.5.0",
     "model_name": "DescriptionStyleModel",
     "state": {
      "_model_module": "@jupyter-widgets/controls",
      "_model_module_version": "1.5.0",
      "_model_name": "DescriptionStyleModel",
      "_view_count": null,
      "_view_module": "@jupyter-widgets/base",
      "_view_module_version": "1.2.0",
      "_view_name": "StyleView",
      "description_width": ""
     }
    },
    "253576b09d244556af3efe2259877567": {
     "model_module": "@jupyter-widgets/controls",
     "model_module_version": "1.5.0",
     "model_name": "HTMLModel",
     "state": {
      "_dom_classes": [],
      "_model_module": "@jupyter-widgets/controls",
      "_model_module_version": "1.5.0",
      "_model_name": "HTMLModel",
      "_view_count": null,
      "_view_module": "@jupyter-widgets/controls",
      "_view_module_version": "1.5.0",
      "_view_name": "HTMLView",
      "description": "",
      "description_tooltip": null,
      "layout": "IPY_MODEL_e07fa3a430a140be8d00e417865762ef",
      "placeholder": "​",
      "style": "IPY_MODEL_34ba0f319262408abd2f20986762deb2",
      "value": " 742k/742k [00:00&lt;00:00, 1.58MB/s]"
     }
    },
    "3349bd85b7c54dd694a657a491aa538c": {
     "model_module": "@jupyter-widgets/controls",
     "model_module_version": "1.5.0",
     "model_name": "HBoxModel",
     "state": {
      "_dom_classes": [],
      "_model_module": "@jupyter-widgets/controls",
      "_model_module_version": "1.5.0",
      "_model_name": "HBoxModel",
      "_view_count": null,
      "_view_module": "@jupyter-widgets/controls",
      "_view_module_version": "1.5.0",
      "_view_name": "HBoxView",
      "box_style": "",
      "children": [
       "IPY_MODEL_a8efe78c4ad54c3bb03e1ec75e910ef2",
       "IPY_MODEL_8958b087e2da46b390095ce9a19a876a",
       "IPY_MODEL_6febc21ab3874135aad25b6ce2a7c5b4"
      ],
      "layout": "IPY_MODEL_c296c48070d04bfdadecf4017bb94596"
     }
    },
    "34ba0f319262408abd2f20986762deb2": {
     "model_module": "@jupyter-widgets/controls",
     "model_module_version": "1.5.0",
     "model_name": "DescriptionStyleModel",
     "state": {
      "_model_module": "@jupyter-widgets/controls",
      "_model_module_version": "1.5.0",
      "_model_name": "DescriptionStyleModel",
      "_view_count": null,
      "_view_module": "@jupyter-widgets/base",
      "_view_module_version": "1.2.0",
      "_view_name": "StyleView",
      "description_width": ""
     }
    },
    "393727f33f0b40cda3e0e6056784f247": {
     "model_module": "@jupyter-widgets/base",
     "model_module_version": "1.2.0",
     "model_name": "LayoutModel",
     "state": {
      "_model_module": "@jupyter-widgets/base",
      "_model_module_version": "1.2.0",
      "_model_name": "LayoutModel",
      "_view_count": null,
      "_view_module": "@jupyter-widgets/base",
      "_view_module_version": "1.2.0",
      "_view_name": "LayoutView",
      "align_content": null,
      "align_items": null,
      "align_self": null,
      "border": null,
      "bottom": null,
      "display": null,
      "flex": null,
      "flex_flow": null,
      "grid_area": null,
      "grid_auto_columns": null,
      "grid_auto_flow": null,
      "grid_auto_rows": null,
      "grid_column": null,
      "grid_gap": null,
      "grid_row": null,
      "grid_template_areas": null,
      "grid_template_columns": null,
      "grid_template_rows": null,
      "height": null,
      "justify_content": null,
      "justify_items": null,
      "left": null,
      "margin": null,
      "max_height": null,
      "max_width": null,
      "min_height": null,
      "min_width": null,
      "object_fit": null,
      "object_position": null,
      "order": null,
      "overflow": null,
      "overflow_x": null,
      "overflow_y": null,
      "padding": null,
      "right": null,
      "top": null,
      "visibility": null,
      "width": null
     }
    },
    "42fe94b181674779a44a7e0c7e8cfdcc": {
     "model_module": "@jupyter-widgets/base",
     "model_module_version": "1.2.0",
     "model_name": "LayoutModel",
     "state": {
      "_model_module": "@jupyter-widgets/base",
      "_model_module_version": "1.2.0",
      "_model_name": "LayoutModel",
      "_view_count": null,
      "_view_module": "@jupyter-widgets/base",
      "_view_module_version": "1.2.0",
      "_view_name": "LayoutView",
      "align_content": null,
      "align_items": null,
      "align_self": null,
      "border": null,
      "bottom": null,
      "display": null,
      "flex": null,
      "flex_flow": null,
      "grid_area": null,
      "grid_auto_columns": null,
      "grid_auto_flow": null,
      "grid_auto_rows": null,
      "grid_column": null,
      "grid_gap": null,
      "grid_row": null,
      "grid_template_areas": null,
      "grid_template_columns": null,
      "grid_template_rows": null,
      "height": null,
      "justify_content": null,
      "justify_items": null,
      "left": null,
      "margin": null,
      "max_height": null,
      "max_width": null,
      "min_height": null,
      "min_width": null,
      "object_fit": null,
      "object_position": null,
      "order": null,
      "overflow": null,
      "overflow_x": null,
      "overflow_y": null,
      "padding": null,
      "right": null,
      "top": null,
      "visibility": null,
      "width": null
     }
    },
    "4641d748e691425fb5eb78c4f1713d9b": {
     "model_module": "@jupyter-widgets/controls",
     "model_module_version": "1.5.0",
     "model_name": "ProgressStyleModel",
     "state": {
      "_model_module": "@jupyter-widgets/controls",
      "_model_module_version": "1.5.0",
      "_model_name": "ProgressStyleModel",
      "_view_count": null,
      "_view_module": "@jupyter-widgets/base",
      "_view_module_version": "1.2.0",
      "_view_name": "StyleView",
      "bar_color": null,
      "description_width": ""
     }
    },
    "541e9e8403b24463892b0273dea95efa": {
     "model_module": "@jupyter-widgets/controls",
     "model_module_version": "1.5.0",
     "model_name": "DescriptionStyleModel",
     "state": {
      "_model_module": "@jupyter-widgets/controls",
      "_model_module_version": "1.5.0",
      "_model_name": "DescriptionStyleModel",
      "_view_count": null,
      "_view_module": "@jupyter-widgets/base",
      "_view_module_version": "1.2.0",
      "_view_name": "StyleView",
      "description_width": ""
     }
    },
    "54e1e565aeb646ce876b8e5138ad80a3": {
     "model_module": "@jupyter-widgets/controls",
     "model_module_version": "1.5.0",
     "model_name": "DescriptionStyleModel",
     "state": {
      "_model_module": "@jupyter-widgets/controls",
      "_model_module_version": "1.5.0",
      "_model_name": "DescriptionStyleModel",
      "_view_count": null,
      "_view_module": "@jupyter-widgets/base",
      "_view_module_version": "1.2.0",
      "_view_name": "StyleView",
      "description_width": ""
     }
    },
    "5a1f5d8e900d4c0c9eeedcc43076cdb1": {
     "model_module": "@jupyter-widgets/controls",
     "model_module_version": "1.5.0",
     "model_name": "HTMLModel",
     "state": {
      "_dom_classes": [],
      "_model_module": "@jupyter-widgets/controls",
      "_model_module_version": "1.5.0",
      "_model_name": "HTMLModel",
      "_view_count": null,
      "_view_module": "@jupyter-widgets/controls",
      "_view_module_version": "1.5.0",
      "_view_name": "HTMLView",
      "description": "",
      "description_tooltip": null,
      "layout": "IPY_MODEL_7ee25f3985a541c0a8a16f7d7af85d71",
      "placeholder": "​",
      "style": "IPY_MODEL_54e1e565aeb646ce876b8e5138ad80a3",
      "value": "Downloading: 100%"
     }
    },
    "5c8cf300612c40df80d66c2b39658634": {
     "model_module": "@jupyter-widgets/base",
     "model_module_version": "1.2.0",
     "model_name": "LayoutModel",
     "state": {
      "_model_module": "@jupyter-widgets/base",
      "_model_module_version": "1.2.0",
      "_model_name": "LayoutModel",
      "_view_count": null,
      "_view_module": "@jupyter-widgets/base",
      "_view_module_version": "1.2.0",
      "_view_name": "LayoutView",
      "align_content": null,
      "align_items": null,
      "align_self": null,
      "border": null,
      "bottom": null,
      "display": null,
      "flex": null,
      "flex_flow": null,
      "grid_area": null,
      "grid_auto_columns": null,
      "grid_auto_flow": null,
      "grid_auto_rows": null,
      "grid_column": null,
      "grid_gap": null,
      "grid_row": null,
      "grid_template_areas": null,
      "grid_template_columns": null,
      "grid_template_rows": null,
      "height": null,
      "justify_content": null,
      "justify_items": null,
      "left": null,
      "margin": null,
      "max_height": null,
      "max_width": null,
      "min_height": null,
      "min_width": null,
      "object_fit": null,
      "object_position": null,
      "order": null,
      "overflow": null,
      "overflow_x": null,
      "overflow_y": null,
      "padding": null,
      "right": null,
      "top": null,
      "visibility": null,
      "width": null
     }
    },
    "5ce472516a3441828494ba17253b17b1": {
     "model_module": "@jupyter-widgets/controls",
     "model_module_version": "1.5.0",
     "model_name": "HBoxModel",
     "state": {
      "_dom_classes": [],
      "_model_module": "@jupyter-widgets/controls",
      "_model_module_version": "1.5.0",
      "_model_name": "HBoxModel",
      "_view_count": null,
      "_view_module": "@jupyter-widgets/controls",
      "_view_module_version": "1.5.0",
      "_view_name": "HBoxView",
      "box_style": "",
      "children": [
       "IPY_MODEL_5a1f5d8e900d4c0c9eeedcc43076cdb1",
       "IPY_MODEL_d881dab0fa0a4b20b890ac69f53e397b",
       "IPY_MODEL_a1923bb9c6b040569e39a14f8d6657fc"
      ],
      "layout": "IPY_MODEL_393727f33f0b40cda3e0e6056784f247"
     }
    },
    "5ce7b4e23fed438499bbcbb0146b3b9d": {
     "model_module": "@jupyter-widgets/base",
     "model_module_version": "1.2.0",
     "model_name": "LayoutModel",
     "state": {
      "_model_module": "@jupyter-widgets/base",
      "_model_module_version": "1.2.0",
      "_model_name": "LayoutModel",
      "_view_count": null,
      "_view_module": "@jupyter-widgets/base",
      "_view_module_version": "1.2.0",
      "_view_name": "LayoutView",
      "align_content": null,
      "align_items": null,
      "align_self": null,
      "border": null,
      "bottom": null,
      "display": null,
      "flex": null,
      "flex_flow": null,
      "grid_area": null,
      "grid_auto_columns": null,
      "grid_auto_flow": null,
      "grid_auto_rows": null,
      "grid_column": null,
      "grid_gap": null,
      "grid_row": null,
      "grid_template_areas": null,
      "grid_template_columns": null,
      "grid_template_rows": null,
      "height": null,
      "justify_content": null,
      "justify_items": null,
      "left": null,
      "margin": null,
      "max_height": null,
      "max_width": null,
      "min_height": null,
      "min_width": null,
      "object_fit": null,
      "object_position": null,
      "order": null,
      "overflow": null,
      "overflow_x": null,
      "overflow_y": null,
      "padding": null,
      "right": null,
      "top": null,
      "visibility": null,
      "width": null
     }
    },
    "5f1c7f28fcfe43fda9ca79ca8a79850b": {
     "model_module": "@jupyter-widgets/controls",
     "model_module_version": "1.5.0",
     "model_name": "ProgressStyleModel",
     "state": {
      "_model_module": "@jupyter-widgets/controls",
      "_model_module_version": "1.5.0",
      "_model_name": "ProgressStyleModel",
      "_view_count": null,
      "_view_module": "@jupyter-widgets/base",
      "_view_module_version": "1.2.0",
      "_view_name": "StyleView",
      "bar_color": null,
      "description_width": ""
     }
    },
    "603547483f7745e2bca948e81e2064d7": {
     "model_module": "@jupyter-widgets/base",
     "model_module_version": "1.2.0",
     "model_name": "LayoutModel",
     "state": {
      "_model_module": "@jupyter-widgets/base",
      "_model_module_version": "1.2.0",
      "_model_name": "LayoutModel",
      "_view_count": null,
      "_view_module": "@jupyter-widgets/base",
      "_view_module_version": "1.2.0",
      "_view_name": "LayoutView",
      "align_content": null,
      "align_items": null,
      "align_self": null,
      "border": null,
      "bottom": null,
      "display": null,
      "flex": null,
      "flex_flow": null,
      "grid_area": null,
      "grid_auto_columns": null,
      "grid_auto_flow": null,
      "grid_auto_rows": null,
      "grid_column": null,
      "grid_gap": null,
      "grid_row": null,
      "grid_template_areas": null,
      "grid_template_columns": null,
      "grid_template_rows": null,
      "height": null,
      "justify_content": null,
      "justify_items": null,
      "left": null,
      "margin": null,
      "max_height": null,
      "max_width": null,
      "min_height": null,
      "min_width": null,
      "object_fit": null,
      "object_position": null,
      "order": null,
      "overflow": null,
      "overflow_x": null,
      "overflow_y": null,
      "padding": null,
      "right": null,
      "top": null,
      "visibility": null,
      "width": null
     }
    },
    "61cc56c73fcd4fa3a855ff0f35b296c5": {
     "model_module": "@jupyter-widgets/controls",
     "model_module_version": "1.5.0",
     "model_name": "DescriptionStyleModel",
     "state": {
      "_model_module": "@jupyter-widgets/controls",
      "_model_module_version": "1.5.0",
      "_model_name": "DescriptionStyleModel",
      "_view_count": null,
      "_view_module": "@jupyter-widgets/base",
      "_view_module_version": "1.2.0",
      "_view_name": "StyleView",
      "description_width": ""
     }
    },
    "652f03b5fda5450a8f2f1987618463fc": {
     "model_module": "@jupyter-widgets/controls",
     "model_module_version": "1.5.0",
     "model_name": "DescriptionStyleModel",
     "state": {
      "_model_module": "@jupyter-widgets/controls",
      "_model_module_version": "1.5.0",
      "_model_name": "DescriptionStyleModel",
      "_view_count": null,
      "_view_module": "@jupyter-widgets/base",
      "_view_module_version": "1.2.0",
      "_view_name": "StyleView",
      "description_width": ""
     }
    },
    "654f99120ba54a98b8c393d4acfbfc9d": {
     "model_module": "@jupyter-widgets/base",
     "model_module_version": "1.2.0",
     "model_name": "LayoutModel",
     "state": {
      "_model_module": "@jupyter-widgets/base",
      "_model_module_version": "1.2.0",
      "_model_name": "LayoutModel",
      "_view_count": null,
      "_view_module": "@jupyter-widgets/base",
      "_view_module_version": "1.2.0",
      "_view_name": "LayoutView",
      "align_content": null,
      "align_items": null,
      "align_self": null,
      "border": null,
      "bottom": null,
      "display": null,
      "flex": null,
      "flex_flow": null,
      "grid_area": null,
      "grid_auto_columns": null,
      "grid_auto_flow": null,
      "grid_auto_rows": null,
      "grid_column": null,
      "grid_gap": null,
      "grid_row": null,
      "grid_template_areas": null,
      "grid_template_columns": null,
      "grid_template_rows": null,
      "height": null,
      "justify_content": null,
      "justify_items": null,
      "left": null,
      "margin": null,
      "max_height": null,
      "max_width": null,
      "min_height": null,
      "min_width": null,
      "object_fit": null,
      "object_position": null,
      "order": null,
      "overflow": null,
      "overflow_x": null,
      "overflow_y": null,
      "padding": null,
      "right": null,
      "top": null,
      "visibility": null,
      "width": null
     }
    },
    "6c76765ebb714e399c64fcacc1830fc3": {
     "model_module": "@jupyter-widgets/controls",
     "model_module_version": "1.5.0",
     "model_name": "HBoxModel",
     "state": {
      "_dom_classes": [],
      "_model_module": "@jupyter-widgets/controls",
      "_model_module_version": "1.5.0",
      "_model_name": "HBoxModel",
      "_view_count": null,
      "_view_module": "@jupyter-widgets/controls",
      "_view_module_version": "1.5.0",
      "_view_name": "HBoxView",
      "box_style": "",
      "children": [
       "IPY_MODEL_83069c0c1b734199b97abe7ed8fc1a65",
       "IPY_MODEL_b4a4e8f8e77d4221abd33defa6aee3a1",
       "IPY_MODEL_253576b09d244556af3efe2259877567"
      ],
      "layout": "IPY_MODEL_82fb9010b87443559b08b9c270e2c3df"
     }
    },
    "6febc21ab3874135aad25b6ce2a7c5b4": {
     "model_module": "@jupyter-widgets/controls",
     "model_module_version": "1.5.0",
     "model_name": "HTMLModel",
     "state": {
      "_dom_classes": [],
      "_model_module": "@jupyter-widgets/controls",
      "_model_module_version": "1.5.0",
      "_model_name": "HTMLModel",
      "_view_count": null,
      "_view_module": "@jupyter-widgets/controls",
      "_view_module_version": "1.5.0",
      "_view_name": "HTMLView",
      "description": "",
      "description_tooltip": null,
      "layout": "IPY_MODEL_5ce7b4e23fed438499bbcbb0146b3b9d",
      "placeholder": "​",
      "style": "IPY_MODEL_541e9e8403b24463892b0273dea95efa",
      "value": " 1.25M/1.25M [00:00&lt;00:00, 3.40MB/s]"
     }
    },
    "7487f9c68d46459c8b3248a493a6f11a": {
     "model_module": "@jupyter-widgets/controls",
     "model_module_version": "1.5.0",
     "model_name": "FloatProgressModel",
     "state": {
      "_dom_classes": [],
      "_model_module": "@jupyter-widgets/controls",
      "_model_module_version": "1.5.0",
      "_model_name": "FloatProgressModel",
      "_view_count": null,
      "_view_module": "@jupyter-widgets/controls",
      "_view_module_version": "1.5.0",
      "_view_name": "ProgressView",
      "bar_style": "success",
      "description": "",
      "description_tooltip": null,
      "layout": "IPY_MODEL_767b3022bc604b59ac7881775dae4c73",
      "max": 684,
      "min": 0,
      "orientation": "horizontal",
      "style": "IPY_MODEL_4641d748e691425fb5eb78c4f1713d9b",
      "value": 684
     }
    },
    "767b3022bc604b59ac7881775dae4c73": {
     "model_module": "@jupyter-widgets/base",
     "model_module_version": "1.2.0",
     "model_name": "LayoutModel",
     "state": {
      "_model_module": "@jupyter-widgets/base",
      "_model_module_version": "1.2.0",
      "_model_name": "LayoutModel",
      "_view_count": null,
      "_view_module": "@jupyter-widgets/base",
      "_view_module_version": "1.2.0",
      "_view_name": "LayoutView",
      "align_content": null,
      "align_items": null,
      "align_self": null,
      "border": null,
      "bottom": null,
      "display": null,
      "flex": null,
      "flex_flow": null,
      "grid_area": null,
      "grid_auto_columns": null,
      "grid_auto_flow": null,
      "grid_auto_rows": null,
      "grid_column": null,
      "grid_gap": null,
      "grid_row": null,
      "grid_template_areas": null,
      "grid_template_columns": null,
      "grid_template_rows": null,
      "height": null,
      "justify_content": null,
      "justify_items": null,
      "left": null,
      "margin": null,
      "max_height": null,
      "max_width": null,
      "min_height": null,
      "min_width": null,
      "object_fit": null,
      "object_position": null,
      "order": null,
      "overflow": null,
      "overflow_x": null,
      "overflow_y": null,
      "padding": null,
      "right": null,
      "top": null,
      "visibility": null,
      "width": null
     }
    },
    "7ee25f3985a541c0a8a16f7d7af85d71": {
     "model_module": "@jupyter-widgets/base",
     "model_module_version": "1.2.0",
     "model_name": "LayoutModel",
     "state": {
      "_model_module": "@jupyter-widgets/base",
      "_model_module_version": "1.2.0",
      "_model_name": "LayoutModel",
      "_view_count": null,
      "_view_module": "@jupyter-widgets/base",
      "_view_module_version": "1.2.0",
      "_view_name": "LayoutView",
      "align_content": null,
      "align_items": null,
      "align_self": null,
      "border": null,
      "bottom": null,
      "display": null,
      "flex": null,
      "flex_flow": null,
      "grid_area": null,
      "grid_auto_columns": null,
      "grid_auto_flow": null,
      "grid_auto_rows": null,
      "grid_column": null,
      "grid_gap": null,
      "grid_row": null,
      "grid_template_areas": null,
      "grid_template_columns": null,
      "grid_template_rows": null,
      "height": null,
      "justify_content": null,
      "justify_items": null,
      "left": null,
      "margin": null,
      "max_height": null,
      "max_width": null,
      "min_height": null,
      "min_width": null,
      "object_fit": null,
      "object_position": null,
      "order": null,
      "overflow": null,
      "overflow_x": null,
      "overflow_y": null,
      "padding": null,
      "right": null,
      "top": null,
      "visibility": null,
      "width": null
     }
    },
    "7fad4796a9b34a7fae88b9fa031cf1f9": {
     "model_module": "@jupyter-widgets/controls",
     "model_module_version": "1.5.0",
     "model_name": "DescriptionStyleModel",
     "state": {
      "_model_module": "@jupyter-widgets/controls",
      "_model_module_version": "1.5.0",
      "_model_name": "DescriptionStyleModel",
      "_view_count": null,
      "_view_module": "@jupyter-widgets/base",
      "_view_module_version": "1.2.0",
      "_view_name": "StyleView",
      "description_width": ""
     }
    },
    "816406336bd04024bb530d1c5d152072": {
     "model_module": "@jupyter-widgets/base",
     "model_module_version": "1.2.0",
     "model_name": "LayoutModel",
     "state": {
      "_model_module": "@jupyter-widgets/base",
      "_model_module_version": "1.2.0",
      "_model_name": "LayoutModel",
      "_view_count": null,
      "_view_module": "@jupyter-widgets/base",
      "_view_module_version": "1.2.0",
      "_view_name": "LayoutView",
      "align_content": null,
      "align_items": null,
      "align_self": null,
      "border": null,
      "bottom": null,
      "display": null,
      "flex": null,
      "flex_flow": null,
      "grid_area": null,
      "grid_auto_columns": null,
      "grid_auto_flow": null,
      "grid_auto_rows": null,
      "grid_column": null,
      "grid_gap": null,
      "grid_row": null,
      "grid_template_areas": null,
      "grid_template_columns": null,
      "grid_template_rows": null,
      "height": null,
      "justify_content": null,
      "justify_items": null,
      "left": null,
      "margin": null,
      "max_height": null,
      "max_width": null,
      "min_height": null,
      "min_width": null,
      "object_fit": null,
      "object_position": null,
      "order": null,
      "overflow": null,
      "overflow_x": null,
      "overflow_y": null,
      "padding": null,
      "right": null,
      "top": null,
      "visibility": null,
      "width": null
     }
    },
    "82fb9010b87443559b08b9c270e2c3df": {
     "model_module": "@jupyter-widgets/base",
     "model_module_version": "1.2.0",
     "model_name": "LayoutModel",
     "state": {
      "_model_module": "@jupyter-widgets/base",
      "_model_module_version": "1.2.0",
      "_model_name": "LayoutModel",
      "_view_count": null,
      "_view_module": "@jupyter-widgets/base",
      "_view_module_version": "1.2.0",
      "_view_name": "LayoutView",
      "align_content": null,
      "align_items": null,
      "align_self": null,
      "border": null,
      "bottom": null,
      "display": null,
      "flex": null,
      "flex_flow": null,
      "grid_area": null,
      "grid_auto_columns": null,
      "grid_auto_flow": null,
      "grid_auto_rows": null,
      "grid_column": null,
      "grid_gap": null,
      "grid_row": null,
      "grid_template_areas": null,
      "grid_template_columns": null,
      "grid_template_rows": null,
      "height": null,
      "justify_content": null,
      "justify_items": null,
      "left": null,
      "margin": null,
      "max_height": null,
      "max_width": null,
      "min_height": null,
      "min_width": null,
      "object_fit": null,
      "object_position": null,
      "order": null,
      "overflow": null,
      "overflow_x": null,
      "overflow_y": null,
      "padding": null,
      "right": null,
      "top": null,
      "visibility": null,
      "width": null
     }
    },
    "83069c0c1b734199b97abe7ed8fc1a65": {
     "model_module": "@jupyter-widgets/controls",
     "model_module_version": "1.5.0",
     "model_name": "HTMLModel",
     "state": {
      "_dom_classes": [],
      "_model_module": "@jupyter-widgets/controls",
      "_model_module_version": "1.5.0",
      "_model_name": "HTMLModel",
      "_view_count": null,
      "_view_module": "@jupyter-widgets/controls",
      "_view_module_version": "1.5.0",
      "_view_name": "HTMLView",
      "description": "",
      "description_tooltip": null,
      "layout": "IPY_MODEL_935d5a77e34641eab6c4b69a3d8e40e8",
      "placeholder": "​",
      "style": "IPY_MODEL_20149ea0cc3840258b866615e18943f7",
      "value": "Downloading: 100%"
     }
    },
    "8958b087e2da46b390095ce9a19a876a": {
     "model_module": "@jupyter-widgets/controls",
     "model_module_version": "1.5.0",
     "model_name": "FloatProgressModel",
     "state": {
      "_dom_classes": [],
      "_model_module": "@jupyter-widgets/controls",
      "_model_module_version": "1.5.0",
      "_model_name": "FloatProgressModel",
      "_view_count": null,
      "_view_module": "@jupyter-widgets/controls",
      "_view_module_version": "1.5.0",
      "_view_name": "ProgressView",
      "bar_style": "success",
      "description": "",
      "description_tooltip": null,
      "layout": "IPY_MODEL_f1917cd19aa84f4c83159567c3c05b45",
      "max": 1312669,
      "min": 0,
      "orientation": "horizontal",
      "style": "IPY_MODEL_a4355acb75184573ba0a95e4cdac0fd5",
      "value": 1312669
     }
    },
    "89ef8666ee764d6b9269b63dc01512c4": {
     "model_module": "@jupyter-widgets/controls",
     "model_module_version": "1.5.0",
     "model_name": "DescriptionStyleModel",
     "state": {
      "_model_module": "@jupyter-widgets/controls",
      "_model_module_version": "1.5.0",
      "_model_name": "DescriptionStyleModel",
      "_view_count": null,
      "_view_module": "@jupyter-widgets/base",
      "_view_module_version": "1.2.0",
      "_view_name": "StyleView",
      "description_width": ""
     }
    },
    "935d5a77e34641eab6c4b69a3d8e40e8": {
     "model_module": "@jupyter-widgets/base",
     "model_module_version": "1.2.0",
     "model_name": "LayoutModel",
     "state": {
      "_model_module": "@jupyter-widgets/base",
      "_model_module_version": "1.2.0",
      "_model_name": "LayoutModel",
      "_view_count": null,
      "_view_module": "@jupyter-widgets/base",
      "_view_module_version": "1.2.0",
      "_view_name": "LayoutView",
      "align_content": null,
      "align_items": null,
      "align_self": null,
      "border": null,
      "bottom": null,
      "display": null,
      "flex": null,
      "flex_flow": null,
      "grid_area": null,
      "grid_auto_columns": null,
      "grid_auto_flow": null,
      "grid_auto_rows": null,
      "grid_column": null,
      "grid_gap": null,
      "grid_row": null,
      "grid_template_areas": null,
      "grid_template_columns": null,
      "grid_template_rows": null,
      "height": null,
      "justify_content": null,
      "justify_items": null,
      "left": null,
      "margin": null,
      "max_height": null,
      "max_width": null,
      "min_height": null,
      "min_width": null,
      "object_fit": null,
      "object_position": null,
      "order": null,
      "overflow": null,
      "overflow_x": null,
      "overflow_y": null,
      "padding": null,
      "right": null,
      "top": null,
      "visibility": null,
      "width": null
     }
    },
    "9eb1e44811f444959632a7145f47c091": {
     "model_module": "@jupyter-widgets/controls",
     "model_module_version": "1.5.0",
     "model_name": "HBoxModel",
     "state": {
      "_dom_classes": [],
      "_model_module": "@jupyter-widgets/controls",
      "_model_module_version": "1.5.0",
      "_model_name": "HBoxModel",
      "_view_count": null,
      "_view_module": "@jupyter-widgets/controls",
      "_view_module_version": "1.5.0",
      "_view_name": "HBoxView",
      "box_style": "",
      "children": [
       "IPY_MODEL_aeb01c49bce240029462df11813b915a",
       "IPY_MODEL_7487f9c68d46459c8b3248a493a6f11a",
       "IPY_MODEL_d4785d62bf8e47c6a81217a5a59d1a82"
      ],
      "layout": "IPY_MODEL_603547483f7745e2bca948e81e2064d7"
     }
    },
    "a1923bb9c6b040569e39a14f8d6657fc": {
     "model_module": "@jupyter-widgets/controls",
     "model_module_version": "1.5.0",
     "model_name": "HTMLModel",
     "state": {
      "_dom_classes": [],
      "_model_module": "@jupyter-widgets/controls",
      "_model_module_version": "1.5.0",
      "_model_name": "HTMLModel",
      "_view_count": null,
      "_view_module": "@jupyter-widgets/controls",
      "_view_module_version": "1.5.0",
      "_view_name": "HTMLView",
      "description": "",
      "description_tooltip": null,
      "layout": "IPY_MODEL_654f99120ba54a98b8c393d4acfbfc9d",
      "placeholder": "​",
      "style": "IPY_MODEL_89ef8666ee764d6b9269b63dc01512c4",
      "value": " 45.2M/45.2M [00:01&lt;00:00, 32.7MB/s]"
     }
    },
    "a4355acb75184573ba0a95e4cdac0fd5": {
     "model_module": "@jupyter-widgets/controls",
     "model_module_version": "1.5.0",
     "model_name": "ProgressStyleModel",
     "state": {
      "_model_module": "@jupyter-widgets/controls",
      "_model_module_version": "1.5.0",
      "_model_name": "ProgressStyleModel",
      "_view_count": null,
      "_view_module": "@jupyter-widgets/base",
      "_view_module_version": "1.2.0",
      "_view_name": "StyleView",
      "bar_color": null,
      "description_width": ""
     }
    },
    "a8efe78c4ad54c3bb03e1ec75e910ef2": {
     "model_module": "@jupyter-widgets/controls",
     "model_module_version": "1.5.0",
     "model_name": "HTMLModel",
     "state": {
      "_dom_classes": [],
      "_model_module": "@jupyter-widgets/controls",
      "_model_module_version": "1.5.0",
      "_model_name": "HTMLModel",
      "_view_count": null,
      "_view_module": "@jupyter-widgets/controls",
      "_view_module_version": "1.5.0",
      "_view_name": "HTMLView",
      "description": "",
      "description_tooltip": null,
      "layout": "IPY_MODEL_5c8cf300612c40df80d66c2b39658634",
      "placeholder": "​",
      "style": "IPY_MODEL_7fad4796a9b34a7fae88b9fa031cf1f9",
      "value": "Downloading: 100%"
     }
    },
    "aeb01c49bce240029462df11813b915a": {
     "model_module": "@jupyter-widgets/controls",
     "model_module_version": "1.5.0",
     "model_name": "HTMLModel",
     "state": {
      "_dom_classes": [],
      "_model_module": "@jupyter-widgets/controls",
      "_model_module_version": "1.5.0",
      "_model_name": "HTMLModel",
      "_view_count": null,
      "_view_module": "@jupyter-widgets/controls",
      "_view_module_version": "1.5.0",
      "_view_name": "HTMLView",
      "description": "",
      "description_tooltip": null,
      "layout": "IPY_MODEL_816406336bd04024bb530d1c5d152072",
      "placeholder": "​",
      "style": "IPY_MODEL_652f03b5fda5450a8f2f1987618463fc",
      "value": "Downloading: 100%"
     }
    },
    "b4a4e8f8e77d4221abd33defa6aee3a1": {
     "model_module": "@jupyter-widgets/controls",
     "model_module_version": "1.5.0",
     "model_name": "FloatProgressModel",
     "state": {
      "_dom_classes": [],
      "_model_module": "@jupyter-widgets/controls",
      "_model_module_version": "1.5.0",
      "_model_name": "FloatProgressModel",
      "_view_count": null,
      "_view_module": "@jupyter-widgets/controls",
      "_view_module_version": "1.5.0",
      "_view_name": "ProgressView",
      "bar_style": "success",
      "description": "",
      "description_tooltip": null,
      "layout": "IPY_MODEL_1d1a24077fae4fb5893049d84f7ddba6",
      "max": 760289,
      "min": 0,
      "orientation": "horizontal",
      "style": "IPY_MODEL_c7822a7eb66845dca3453450bc1876b9",
      "value": 760289
     }
    },
    "c296c48070d04bfdadecf4017bb94596": {
     "model_module": "@jupyter-widgets/base",
     "model_module_version": "1.2.0",
     "model_name": "LayoutModel",
     "state": {
      "_model_module": "@jupyter-widgets/base",
      "_model_module_version": "1.2.0",
      "_model_name": "LayoutModel",
      "_view_count": null,
      "_view_module": "@jupyter-widgets/base",
      "_view_module_version": "1.2.0",
      "_view_name": "LayoutView",
      "align_content": null,
      "align_items": null,
      "align_self": null,
      "border": null,
      "bottom": null,
      "display": null,
      "flex": null,
      "flex_flow": null,
      "grid_area": null,
      "grid_auto_columns": null,
      "grid_auto_flow": null,
      "grid_auto_rows": null,
      "grid_column": null,
      "grid_gap": null,
      "grid_row": null,
      "grid_template_areas": null,
      "grid_template_columns": null,
      "grid_template_rows": null,
      "height": null,
      "justify_content": null,
      "justify_items": null,
      "left": null,
      "margin": null,
      "max_height": null,
      "max_width": null,
      "min_height": null,
      "min_width": null,
      "object_fit": null,
      "object_position": null,
      "order": null,
      "overflow": null,
      "overflow_x": null,
      "overflow_y": null,
      "padding": null,
      "right": null,
      "top": null,
      "visibility": null,
      "width": null
     }
    },
    "c7822a7eb66845dca3453450bc1876b9": {
     "model_module": "@jupyter-widgets/controls",
     "model_module_version": "1.5.0",
     "model_name": "ProgressStyleModel",
     "state": {
      "_model_module": "@jupyter-widgets/controls",
      "_model_module_version": "1.5.0",
      "_model_name": "ProgressStyleModel",
      "_view_count": null,
      "_view_module": "@jupyter-widgets/base",
      "_view_module_version": "1.2.0",
      "_view_name": "StyleView",
      "bar_color": null,
      "description_width": ""
     }
    },
    "d4785d62bf8e47c6a81217a5a59d1a82": {
     "model_module": "@jupyter-widgets/controls",
     "model_module_version": "1.5.0",
     "model_name": "HTMLModel",
     "state": {
      "_dom_classes": [],
      "_model_module": "@jupyter-widgets/controls",
      "_model_module_version": "1.5.0",
      "_model_name": "HTMLModel",
      "_view_count": null,
      "_view_module": "@jupyter-widgets/controls",
      "_view_module_version": "1.5.0",
      "_view_name": "HTMLView",
      "description": "",
      "description_tooltip": null,
      "layout": "IPY_MODEL_42fe94b181674779a44a7e0c7e8cfdcc",
      "placeholder": "​",
      "style": "IPY_MODEL_61cc56c73fcd4fa3a855ff0f35b296c5",
      "value": " 684/684 [00:00&lt;00:00, 7.10kB/s]"
     }
    },
    "d881dab0fa0a4b20b890ac69f53e397b": {
     "model_module": "@jupyter-widgets/controls",
     "model_module_version": "1.5.0",
     "model_name": "FloatProgressModel",
     "state": {
      "_dom_classes": [],
      "_model_module": "@jupyter-widgets/controls",
      "_model_module_version": "1.5.0",
      "_model_name": "FloatProgressModel",
      "_view_count": null,
      "_view_module": "@jupyter-widgets/controls",
      "_view_module_version": "1.5.0",
      "_view_name": "ProgressView",
      "bar_style": "success",
      "description": "",
      "description_tooltip": null,
      "layout": "IPY_MODEL_03045c0e1c5c49d5befd38f221960d5b",
      "max": 47376696,
      "min": 0,
      "orientation": "horizontal",
      "style": "IPY_MODEL_5f1c7f28fcfe43fda9ca79ca8a79850b",
      "value": 47376696
     }
    },
    "e07fa3a430a140be8d00e417865762ef": {
     "model_module": "@jupyter-widgets/base",
     "model_module_version": "1.2.0",
     "model_name": "LayoutModel",
     "state": {
      "_model_module": "@jupyter-widgets/base",
      "_model_module_version": "1.2.0",
      "_model_name": "LayoutModel",
      "_view_count": null,
      "_view_module": "@jupyter-widgets/base",
      "_view_module_version": "1.2.0",
      "_view_name": "LayoutView",
      "align_content": null,
      "align_items": null,
      "align_self": null,
      "border": null,
      "bottom": null,
      "display": null,
      "flex": null,
      "flex_flow": null,
      "grid_area": null,
      "grid_auto_columns": null,
      "grid_auto_flow": null,
      "grid_auto_rows": null,
      "grid_column": null,
      "grid_gap": null,
      "grid_row": null,
      "grid_template_areas": null,
      "grid_template_columns": null,
      "grid_template_rows": null,
      "height": null,
      "justify_content": null,
      "justify_items": null,
      "left": null,
      "margin": null,
      "max_height": null,
      "max_width": null,
      "min_height": null,
      "min_width": null,
      "object_fit": null,
      "object_position": null,
      "order": null,
      "overflow": null,
      "overflow_x": null,
      "overflow_y": null,
      "padding": null,
      "right": null,
      "top": null,
      "visibility": null,
      "width": null
     }
    },
    "f1917cd19aa84f4c83159567c3c05b45": {
     "model_module": "@jupyter-widgets/base",
     "model_module_version": "1.2.0",
     "model_name": "LayoutModel",
     "state": {
      "_model_module": "@jupyter-widgets/base",
      "_model_module_version": "1.2.0",
      "_model_name": "LayoutModel",
      "_view_count": null,
      "_view_module": "@jupyter-widgets/base",
      "_view_module_version": "1.2.0",
      "_view_name": "LayoutView",
      "align_content": null,
      "align_items": null,
      "align_self": null,
      "border": null,
      "bottom": null,
      "display": null,
      "flex": null,
      "flex_flow": null,
      "grid_area": null,
      "grid_auto_columns": null,
      "grid_auto_flow": null,
      "grid_auto_rows": null,
      "grid_column": null,
      "grid_gap": null,
      "grid_row": null,
      "grid_template_areas": null,
      "grid_template_columns": null,
      "grid_template_rows": null,
      "height": null,
      "justify_content": null,
      "justify_items": null,
      "left": null,
      "margin": null,
      "max_height": null,
      "max_width": null,
      "min_height": null,
      "min_width": null,
      "object_fit": null,
      "object_position": null,
      "order": null,
      "overflow": null,
      "overflow_x": null,
      "overflow_y": null,
      "padding": null,
      "right": null,
      "top": null,
      "visibility": null,
      "width": null
     }
    }
   }
  }
 },
 "nbformat": 4,
 "nbformat_minor": 4
}
