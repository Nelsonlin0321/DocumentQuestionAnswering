{
 "cells": [
  {
   "cell_type": "markdown",
   "metadata": {
    "id": "MoZ-3s0mN4JG"
   },
   "source": [
    "Fine Tune DistilBERT For  Text Pair Matching\n",
    "Author: Nelson LIN (nelsonlin0321@outlook.com)"
   ]
  },
  {
   "cell_type": "code",
   "execution_count": 1,
   "metadata": {
    "executionInfo": {
     "elapsed": 901,
     "status": "ok",
     "timestamp": 1643684334880,
     "user": {
      "displayName": "Nelson L.",
      "photoUrl": "https://lh3.googleusercontent.com/a-/AOh14GipnVJXi8Vo7o6qBMpdgcfZB2j9TYnsly5vDf6nig=s64",
      "userId": "03694478629413699942"
     },
     "user_tz": -480
    },
    "id": "drMVKL8eN5oS"
   },
   "outputs": [],
   "source": [
    "# import libaries\n",
    "import torch\n",
    "from torch import cuda\n",
    "from torch.utils.data import Dataset,DataLoader"
   ]
  },
  {
   "cell_type": "code",
   "execution_count": 2,
   "metadata": {
    "colab": {
     "base_uri": "https://localhost:8080/"
    },
    "executionInfo": {
     "elapsed": 12,
     "status": "ok",
     "timestamp": 1643684334881,
     "user": {
      "displayName": "Nelson L.",
      "photoUrl": "https://lh3.googleusercontent.com/a-/AOh14GipnVJXi8Vo7o6qBMpdgcfZB2j9TYnsly5vDf6nig=s64",
      "userId": "03694478629413699942"
     },
     "user_tz": -480
    },
    "id": "Ve9awrmKby41",
    "outputId": "2db30b02-1869-4a2a-8b1f-3f5fa82eede4"
   },
   "outputs": [
    {
     "name": "stdout",
     "output_type": "stream",
     "text": [
      "1.10.0+cu111\n"
     ]
    }
   ],
   "source": [
    "print(torch.__version__)"
   ]
  },
  {
   "cell_type": "code",
   "execution_count": 3,
   "metadata": {
    "executionInfo": {
     "elapsed": 12,
     "status": "ok",
     "timestamp": 1643684334882,
     "user": {
      "displayName": "Nelson L.",
      "photoUrl": "https://lh3.googleusercontent.com/a-/AOh14GipnVJXi8Vo7o6qBMpdgcfZB2j9TYnsly5vDf6nig=s64",
      "userId": "03694478629413699942"
     },
     "user_tz": -480
    },
    "id": "fTq-NCOvOFFD"
   },
   "outputs": [],
   "source": [
    "import os\n",
    "import json\n",
    "import random\n",
    "import pandas as pd\n",
    "import numpy as np\n",
    "from sklearn.utils import shuffle\n",
    "from sklearn import metrics\n",
    "from collections import Counter"
   ]
  },
  {
   "cell_type": "code",
   "execution_count": 17,
   "metadata": {
    "colab": {
     "base_uri": "https://localhost:8080/"
    },
    "executionInfo": {
     "elapsed": 11490,
     "status": "ok",
     "timestamp": 1643684402168,
     "user": {
      "displayName": "Nelson L.",
      "photoUrl": "https://lh3.googleusercontent.com/a-/AOh14GipnVJXi8Vo7o6qBMpdgcfZB2j9TYnsly5vDf6nig=s64",
      "userId": "03694478629413699942"
     },
     "user_tz": -480
    },
    "id": "jxcKIim7lZjn",
    "outputId": "de91ea4a-7233-4d50-b2ea-d55475639c37"
   },
   "outputs": [
    {
     "name": "stdout",
     "output_type": "stream",
     "text": [
      "Collecting transformers\n",
      "  Downloading transformers-4.16.2-py3-none-any.whl (3.5 MB)\n",
      "\u001b[K     |████████████████████████████████| 3.5 MB 12.4 MB/s \n",
      "\u001b[?25hCollecting tokenizers!=0.11.3,>=0.10.1\n",
      "  Downloading tokenizers-0.11.4-cp37-cp37m-manylinux_2_12_x86_64.manylinux2010_x86_64.whl (6.8 MB)\n",
      "\u001b[K     |████████████████████████████████| 6.8 MB 45.7 MB/s \n",
      "\u001b[?25hRequirement already satisfied: packaging>=20.0 in /usr/local/lib/python3.7/dist-packages (from transformers) (21.3)\n",
      "Collecting pyyaml>=5.1\n",
      "  Downloading PyYAML-6.0-cp37-cp37m-manylinux_2_5_x86_64.manylinux1_x86_64.manylinux_2_12_x86_64.manylinux2010_x86_64.whl (596 kB)\n",
      "\u001b[K     |████████████████████████████████| 596 kB 47.6 MB/s \n",
      "\u001b[?25hRequirement already satisfied: regex!=2019.12.17 in /usr/local/lib/python3.7/dist-packages (from transformers) (2019.12.20)\n",
      "Requirement already satisfied: filelock in /usr/local/lib/python3.7/dist-packages (from transformers) (3.4.2)\n",
      "Requirement already satisfied: importlib-metadata in /usr/local/lib/python3.7/dist-packages (from transformers) (4.10.1)\n",
      "Requirement already satisfied: numpy>=1.17 in /usr/local/lib/python3.7/dist-packages (from transformers) (1.19.5)\n",
      "Requirement already satisfied: tqdm>=4.27 in /usr/local/lib/python3.7/dist-packages (from transformers) (4.62.3)\n",
      "Collecting sacremoses\n",
      "  Downloading sacremoses-0.0.47-py2.py3-none-any.whl (895 kB)\n",
      "\u001b[K     |████████████████████████████████| 895 kB 49.3 MB/s \n",
      "\u001b[?25hRequirement already satisfied: requests in /usr/local/lib/python3.7/dist-packages (from transformers) (2.23.0)\n",
      "Collecting huggingface-hub<1.0,>=0.1.0\n",
      "  Downloading huggingface_hub-0.4.0-py3-none-any.whl (67 kB)\n",
      "\u001b[K     |████████████████████████████████| 67 kB 5.3 MB/s \n",
      "\u001b[?25hRequirement already satisfied: typing-extensions>=3.7.4.3 in /usr/local/lib/python3.7/dist-packages (from huggingface-hub<1.0,>=0.1.0->transformers) (3.10.0.2)\n",
      "Requirement already satisfied: pyparsing!=3.0.5,>=2.0.2 in /usr/local/lib/python3.7/dist-packages (from packaging>=20.0->transformers) (3.0.7)\n",
      "Requirement already satisfied: zipp>=0.5 in /usr/local/lib/python3.7/dist-packages (from importlib-metadata->transformers) (3.7.0)\n",
      "Requirement already satisfied: urllib3!=1.25.0,!=1.25.1,<1.26,>=1.21.1 in /usr/local/lib/python3.7/dist-packages (from requests->transformers) (1.24.3)\n",
      "Requirement already satisfied: certifi>=2017.4.17 in /usr/local/lib/python3.7/dist-packages (from requests->transformers) (2021.10.8)\n",
      "Requirement already satisfied: idna<3,>=2.5 in /usr/local/lib/python3.7/dist-packages (from requests->transformers) (2.10)\n",
      "Requirement already satisfied: chardet<4,>=3.0.2 in /usr/local/lib/python3.7/dist-packages (from requests->transformers) (3.0.4)\n",
      "Requirement already satisfied: joblib in /usr/local/lib/python3.7/dist-packages (from sacremoses->transformers) (1.1.0)\n",
      "Requirement already satisfied: click in /usr/local/lib/python3.7/dist-packages (from sacremoses->transformers) (7.1.2)\n",
      "Requirement already satisfied: six in /usr/local/lib/python3.7/dist-packages (from sacremoses->transformers) (1.15.0)\n",
      "Installing collected packages: pyyaml, tokenizers, sacremoses, huggingface-hub, transformers\n",
      "  Attempting uninstall: pyyaml\n",
      "    Found existing installation: PyYAML 3.13\n",
      "    Uninstalling PyYAML-3.13:\n",
      "      Successfully uninstalled PyYAML-3.13\n",
      "Successfully installed huggingface-hub-0.4.0 pyyaml-6.0 sacremoses-0.0.47 tokenizers-0.11.4 transformers-4.16.2\n"
     ]
    }
   ],
   "source": [
    "!pip install transformers"
   ]
  },
  {
   "cell_type": "code",
   "execution_count": 18,
   "metadata": {
    "executionInfo": {
     "elapsed": 2705,
     "status": "ok",
     "timestamp": 1643684404866,
     "user": {
      "displayName": "Nelson L.",
      "photoUrl": "https://lh3.googleusercontent.com/a-/AOh14GipnVJXi8Vo7o6qBMpdgcfZB2j9TYnsly5vDf6nig=s64",
      "userId": "03694478629413699942"
     },
     "user_tz": -480
    },
    "id": "qiBbyLVoON3Y"
   },
   "outputs": [],
   "source": [
    "from transformers import AutoTokenizer,AlbertForSequenceClassification,TrainingArguments,Trainer,EarlyStoppingCallback"
   ]
  },
  {
   "cell_type": "code",
   "execution_count": 19,
   "metadata": {
    "executionInfo": {
     "elapsed": 12,
     "status": "ok",
     "timestamp": 1643684411946,
     "user": {
      "displayName": "Nelson L.",
      "photoUrl": "https://lh3.googleusercontent.com/a-/AOh14GipnVJXi8Vo7o6qBMpdgcfZB2j9TYnsly5vDf6nig=s64",
      "userId": "03694478629413699942"
     },
     "user_tz": -480
    },
    "id": "G4uhX374OVlZ"
   },
   "outputs": [],
   "source": [
    "device = \"cuda\" if cuda.is_available() else \"cpu\""
   ]
  },
  {
   "cell_type": "code",
   "execution_count": 20,
   "metadata": {
    "colab": {
     "base_uri": "https://localhost:8080/",
     "height": 35
    },
    "executionInfo": {
     "elapsed": 11,
     "status": "ok",
     "timestamp": 1643684411947,
     "user": {
      "displayName": "Nelson L.",
      "photoUrl": "https://lh3.googleusercontent.com/a-/AOh14GipnVJXi8Vo7o6qBMpdgcfZB2j9TYnsly5vDf6nig=s64",
      "userId": "03694478629413699942"
     },
     "user_tz": -480
    },
    "id": "kfXjwuzfQToR",
    "outputId": "b4b064ef-f6eb-43d3-a229-cb656aa0af6e"
   },
   "outputs": [
    {
     "data": {
      "application/vnd.google.colaboratory.intrinsic+json": {
       "type": "string"
      },
      "text/plain": [
       "'cuda'"
      ]
     },
     "execution_count": 20,
     "metadata": {},
     "output_type": "execute_result"
    }
   ],
   "source": [
    "device"
   ]
  },
  {
   "cell_type": "code",
   "execution_count": 21,
   "metadata": {
    "executionInfo": {
     "elapsed": 10,
     "status": "ok",
     "timestamp": 1643684411949,
     "user": {
      "displayName": "Nelson L.",
      "photoUrl": "https://lh3.googleusercontent.com/a-/AOh14GipnVJXi8Vo7o6qBMpdgcfZB2j9TYnsly5vDf6nig=s64",
      "userId": "03694478629413699942"
     },
     "user_tz": -480
    },
    "id": "6V0arb4xkvG-"
   },
   "outputs": [],
   "source": [
    "model_name =  \"albert-base-v2\""
   ]
  },
  {
   "cell_type": "markdown",
   "metadata": {
    "id": "wQyjnbikOrKD"
   },
   "source": [
    "## 1) Import Data\n",
    "\n"
   ]
  },
  {
   "cell_type": "code",
   "execution_count": 22,
   "metadata": {
    "colab": {
     "base_uri": "https://localhost:8080/"
    },
    "executionInfo": {
     "elapsed": 4195,
     "status": "ok",
     "timestamp": 1643684418173,
     "user": {
      "displayName": "Nelson L.",
      "photoUrl": "https://lh3.googleusercontent.com/a-/AOh14GipnVJXi8Vo7o6qBMpdgcfZB2j9TYnsly5vDf6nig=s64",
      "userId": "03694478629413699942"
     },
     "user_tz": -480
    },
    "id": "ID2vfxSqOvC6",
    "outputId": "17c609fd-cae6-44a6-9ff8-710e24fd3f2d"
   },
   "outputs": [
    {
     "name": "stdout",
     "output_type": "stream",
     "text": [
      "Drive already mounted at /content/drive; to attempt to forcibly remount, call drive.mount(\"/content/drive\", force_remount=True).\n"
     ]
    }
   ],
   "source": [
    "from google.colab import drive\n",
    "drive.mount('/content/drive')"
   ]
  },
  {
   "cell_type": "code",
   "execution_count": 23,
   "metadata": {
    "executionInfo": {
     "elapsed": 20,
     "status": "ok",
     "timestamp": 1643684418176,
     "user": {
      "displayName": "Nelson L.",
      "photoUrl": "https://lh3.googleusercontent.com/a-/AOh14GipnVJXi8Vo7o6qBMpdgcfZB2j9TYnsly5vDf6nig=s64",
      "userId": "03694478629413699942"
     },
     "user_tz": -480
    },
    "id": "OEtzG5rUPp6p"
   },
   "outputs": [],
   "source": [
    "# download from https://deepai.org/dataset/qnli\n",
    "data_dir = \"/content/drive/My Drive/Colab Notebooks/Data/QNLIv2/QNLI\""
   ]
  },
  {
   "cell_type": "code",
   "execution_count": 24,
   "metadata": {
    "colab": {
     "base_uri": "https://localhost:8080/"
    },
    "executionInfo": {
     "elapsed": 17,
     "status": "ok",
     "timestamp": 1643684418177,
     "user": {
      "displayName": "Nelson L.",
      "photoUrl": "https://lh3.googleusercontent.com/a-/AOh14GipnVJXi8Vo7o6qBMpdgcfZB2j9TYnsly5vDf6nig=s64",
      "userId": "03694478629413699942"
     },
     "user_tz": -480
    },
    "id": "3tuN7B5fP7HN",
    "outputId": "b6800f89-a8a8-4aa4-c731-0016830556d7"
   },
   "outputs": [
    {
     "data": {
      "text/plain": [
       "['train.tsv', 'test.tsv', 'dev.tsv']"
      ]
     },
     "execution_count": 24,
     "metadata": {},
     "output_type": "execute_result"
    }
   ],
   "source": [
    "os.listdir(data_dir)"
   ]
  },
  {
   "cell_type": "code",
   "execution_count": 25,
   "metadata": {
    "executionInfo": {
     "elapsed": 15,
     "status": "ok",
     "timestamp": 1643684418178,
     "user": {
      "displayName": "Nelson L.",
      "photoUrl": "https://lh3.googleusercontent.com/a-/AOh14GipnVJXi8Vo7o6qBMpdgcfZB2j9TYnsly5vDf6nig=s64",
      "userId": "03694478629413699942"
     },
     "user_tz": -480
    },
    "id": "NlTPttaBP-El"
   },
   "outputs": [],
   "source": [
    "def read_qnli_data(file_name):\n",
    "    path = os.path.join(data_dir,file_name)\n",
    "    with open(path) as f:\n",
    "        text = f.readlines()\n",
    "\n",
    "    header = text[0].strip().split(\"\\t\")\n",
    "    lines = [line.strip().split(\"\\t\") for line in text[1:]]\n",
    "\n",
    "    df = pd.DataFrame(lines,columns = header)\n",
    "    return df"
   ]
  },
  {
   "cell_type": "code",
   "execution_count": 26,
   "metadata": {
    "executionInfo": {
     "elapsed": 543,
     "status": "ok",
     "timestamp": 1643684418707,
     "user": {
      "displayName": "Nelson L.",
      "photoUrl": "https://lh3.googleusercontent.com/a-/AOh14GipnVJXi8Vo7o6qBMpdgcfZB2j9TYnsly5vDf6nig=s64",
      "userId": "03694478629413699942"
     },
     "user_tz": -480
    },
    "id": "zX5UlKcpQ39f"
   },
   "outputs": [],
   "source": [
    "qnli_train_df = read_qnli_data(\"train.tsv\")\n",
    "qnli_dev_df = read_qnli_data(\"dev.tsv\")\n"
   ]
  },
  {
   "cell_type": "code",
   "execution_count": 27,
   "metadata": {
    "executionInfo": {
     "elapsed": 553,
     "status": "ok",
     "timestamp": 1643684419257,
     "user": {
      "displayName": "Nelson L.",
      "photoUrl": "https://lh3.googleusercontent.com/a-/AOh14GipnVJXi8Vo7o6qBMpdgcfZB2j9TYnsly5vDf6nig=s64",
      "userId": "03694478629413699942"
     },
     "user_tz": -480
    },
    "id": "sIqZDA5KQ-NG"
   },
   "outputs": [],
   "source": [
    "qnli_train_df['label'] = np.where(qnli_train_df['label']=='entailment',1,0)\n",
    "qnli_dev_df['label'] = np.where(qnli_dev_df['label']=='entailment',1,0)"
   ]
  },
  {
   "cell_type": "code",
   "execution_count": 28,
   "metadata": {
    "colab": {
     "base_uri": "https://localhost:8080/",
     "height": 206
    },
    "executionInfo": {
     "elapsed": 11,
     "status": "ok",
     "timestamp": 1643684419258,
     "user": {
      "displayName": "Nelson L.",
      "photoUrl": "https://lh3.googleusercontent.com/a-/AOh14GipnVJXi8Vo7o6qBMpdgcfZB2j9TYnsly5vDf6nig=s64",
      "userId": "03694478629413699942"
     },
     "user_tz": -480
    },
    "id": "OxabReasRZvG",
    "outputId": "f5b56f7e-6549-479c-df66-4d5ffda9a6a9"
   },
   "outputs": [
    {
     "data": {
      "text/html": [
       "\n",
       "  <div id=\"df-e60e8ac3-b394-4daf-8dc8-3d0a8ca169c7\">\n",
       "    <div class=\"colab-df-container\">\n",
       "      <div>\n",
       "<style scoped>\n",
       "    .dataframe tbody tr th:only-of-type {\n",
       "        vertical-align: middle;\n",
       "    }\n",
       "\n",
       "    .dataframe tbody tr th {\n",
       "        vertical-align: top;\n",
       "    }\n",
       "\n",
       "    .dataframe thead th {\n",
       "        text-align: right;\n",
       "    }\n",
       "</style>\n",
       "<table border=\"1\" class=\"dataframe\">\n",
       "  <thead>\n",
       "    <tr style=\"text-align: right;\">\n",
       "      <th></th>\n",
       "      <th>index</th>\n",
       "      <th>question</th>\n",
       "      <th>sentence</th>\n",
       "      <th>label</th>\n",
       "    </tr>\n",
       "  </thead>\n",
       "  <tbody>\n",
       "    <tr>\n",
       "      <th>0</th>\n",
       "      <td>0</td>\n",
       "      <td>What came into force after the new constitutio...</td>\n",
       "      <td>As of that day, the new constitution heralding...</td>\n",
       "      <td>1</td>\n",
       "    </tr>\n",
       "    <tr>\n",
       "      <th>1</th>\n",
       "      <td>1</td>\n",
       "      <td>What is the first major city in the stream of ...</td>\n",
       "      <td>The most important tributaries in this area ar...</td>\n",
       "      <td>0</td>\n",
       "    </tr>\n",
       "    <tr>\n",
       "      <th>2</th>\n",
       "      <td>2</td>\n",
       "      <td>What is the minimum required if you want to te...</td>\n",
       "      <td>In most provinces a second Bachelor's Degree s...</td>\n",
       "      <td>0</td>\n",
       "    </tr>\n",
       "    <tr>\n",
       "      <th>3</th>\n",
       "      <td>3</td>\n",
       "      <td>How was Temüjin kept imprisoned by the Tayichi...</td>\n",
       "      <td>The Tayichi'ud enslaved Temüjin (reportedly wi...</td>\n",
       "      <td>1</td>\n",
       "    </tr>\n",
       "    <tr>\n",
       "      <th>4</th>\n",
       "      <td>4</td>\n",
       "      <td>What did Herr Gott, dich loben wir become know...</td>\n",
       "      <td>He paraphrased the Te Deum as \"Herr Gott, dich...</td>\n",
       "      <td>0</td>\n",
       "    </tr>\n",
       "  </tbody>\n",
       "</table>\n",
       "</div>\n",
       "      <button class=\"colab-df-convert\" onclick=\"convertToInteractive('df-e60e8ac3-b394-4daf-8dc8-3d0a8ca169c7')\"\n",
       "              title=\"Convert this dataframe to an interactive table.\"\n",
       "              style=\"display:none;\">\n",
       "        \n",
       "  <svg xmlns=\"http://www.w3.org/2000/svg\" height=\"24px\"viewBox=\"0 0 24 24\"\n",
       "       width=\"24px\">\n",
       "    <path d=\"M0 0h24v24H0V0z\" fill=\"none\"/>\n",
       "    <path d=\"M18.56 5.44l.94 2.06.94-2.06 2.06-.94-2.06-.94-.94-2.06-.94 2.06-2.06.94zm-11 1L8.5 8.5l.94-2.06 2.06-.94-2.06-.94L8.5 2.5l-.94 2.06-2.06.94zm10 10l.94 2.06.94-2.06 2.06-.94-2.06-.94-.94-2.06-.94 2.06-2.06.94z\"/><path d=\"M17.41 7.96l-1.37-1.37c-.4-.4-.92-.59-1.43-.59-.52 0-1.04.2-1.43.59L10.3 9.45l-7.72 7.72c-.78.78-.78 2.05 0 2.83L4 21.41c.39.39.9.59 1.41.59.51 0 1.02-.2 1.41-.59l7.78-7.78 2.81-2.81c.8-.78.8-2.07 0-2.86zM5.41 20L4 18.59l7.72-7.72 1.47 1.35L5.41 20z\"/>\n",
       "  </svg>\n",
       "      </button>\n",
       "      \n",
       "  <style>\n",
       "    .colab-df-container {\n",
       "      display:flex;\n",
       "      flex-wrap:wrap;\n",
       "      gap: 12px;\n",
       "    }\n",
       "\n",
       "    .colab-df-convert {\n",
       "      background-color: #E8F0FE;\n",
       "      border: none;\n",
       "      border-radius: 50%;\n",
       "      cursor: pointer;\n",
       "      display: none;\n",
       "      fill: #1967D2;\n",
       "      height: 32px;\n",
       "      padding: 0 0 0 0;\n",
       "      width: 32px;\n",
       "    }\n",
       "\n",
       "    .colab-df-convert:hover {\n",
       "      background-color: #E2EBFA;\n",
       "      box-shadow: 0px 1px 2px rgba(60, 64, 67, 0.3), 0px 1px 3px 1px rgba(60, 64, 67, 0.15);\n",
       "      fill: #174EA6;\n",
       "    }\n",
       "\n",
       "    [theme=dark] .colab-df-convert {\n",
       "      background-color: #3B4455;\n",
       "      fill: #D2E3FC;\n",
       "    }\n",
       "\n",
       "    [theme=dark] .colab-df-convert:hover {\n",
       "      background-color: #434B5C;\n",
       "      box-shadow: 0px 1px 3px 1px rgba(0, 0, 0, 0.15);\n",
       "      filter: drop-shadow(0px 1px 2px rgba(0, 0, 0, 0.3));\n",
       "      fill: #FFFFFF;\n",
       "    }\n",
       "  </style>\n",
       "\n",
       "      <script>\n",
       "        const buttonEl =\n",
       "          document.querySelector('#df-e60e8ac3-b394-4daf-8dc8-3d0a8ca169c7 button.colab-df-convert');\n",
       "        buttonEl.style.display =\n",
       "          google.colab.kernel.accessAllowed ? 'block' : 'none';\n",
       "\n",
       "        async function convertToInteractive(key) {\n",
       "          const element = document.querySelector('#df-e60e8ac3-b394-4daf-8dc8-3d0a8ca169c7');\n",
       "          const dataTable =\n",
       "            await google.colab.kernel.invokeFunction('convertToInteractive',\n",
       "                                                     [key], {});\n",
       "          if (!dataTable) return;\n",
       "\n",
       "          const docLinkHtml = 'Like what you see? Visit the ' +\n",
       "            '<a target=\"_blank\" href=https://colab.research.google.com/notebooks/data_table.ipynb>data table notebook</a>'\n",
       "            + ' to learn more about interactive tables.';\n",
       "          element.innerHTML = '';\n",
       "          dataTable['output_type'] = 'display_data';\n",
       "          await google.colab.output.renderOutput(dataTable, element);\n",
       "          const docLink = document.createElement('div');\n",
       "          docLink.innerHTML = docLinkHtml;\n",
       "          element.appendChild(docLink);\n",
       "        }\n",
       "      </script>\n",
       "    </div>\n",
       "  </div>\n",
       "  "
      ],
      "text/plain": [
       "  index  ... label\n",
       "0     0  ...     1\n",
       "1     1  ...     0\n",
       "2     2  ...     0\n",
       "3     3  ...     1\n",
       "4     4  ...     0\n",
       "\n",
       "[5 rows x 4 columns]"
      ]
     },
     "execution_count": 28,
     "metadata": {},
     "output_type": "execute_result"
    }
   ],
   "source": [
    "qnli_dev_df.head()"
   ]
  },
  {
   "cell_type": "markdown",
   "metadata": {
    "id": "xazR7eZpXcZs"
   },
   "source": [
    "## 2) Tokenization Features Engineering"
   ]
  },
  {
   "cell_type": "code",
   "execution_count": 29,
   "metadata": {
    "executionInfo": {
     "elapsed": 12,
     "status": "ok",
     "timestamp": 1643684419260,
     "user": {
      "displayName": "Nelson L.",
      "photoUrl": "https://lh3.googleusercontent.com/a-/AOh14GipnVJXi8Vo7o6qBMpdgcfZB2j9TYnsly5vDf6nig=s64",
      "userId": "03694478629413699942"
     },
     "user_tz": -480
    },
    "id": "N61l98MhbURZ"
   },
   "outputs": [],
   "source": [
    "max_length = 512"
   ]
  },
  {
   "cell_type": "code",
   "execution_count": 30,
   "metadata": {
    "colab": {
     "base_uri": "https://localhost:8080/",
     "height": 113,
     "referenced_widgets": [
      "9eb1e44811f444959632a7145f47c091",
      "603547483f7745e2bca948e81e2064d7",
      "aeb01c49bce240029462df11813b915a",
      "7487f9c68d46459c8b3248a493a6f11a",
      "d4785d62bf8e47c6a81217a5a59d1a82",
      "652f03b5fda5450a8f2f1987618463fc",
      "816406336bd04024bb530d1c5d152072",
      "4641d748e691425fb5eb78c4f1713d9b",
      "767b3022bc604b59ac7881775dae4c73",
      "61cc56c73fcd4fa3a855ff0f35b296c5",
      "42fe94b181674779a44a7e0c7e8cfdcc",
      "6c76765ebb714e399c64fcacc1830fc3",
      "82fb9010b87443559b08b9c270e2c3df",
      "83069c0c1b734199b97abe7ed8fc1a65",
      "b4a4e8f8e77d4221abd33defa6aee3a1",
      "253576b09d244556af3efe2259877567",
      "20149ea0cc3840258b866615e18943f7",
      "935d5a77e34641eab6c4b69a3d8e40e8",
      "c7822a7eb66845dca3453450bc1876b9",
      "1d1a24077fae4fb5893049d84f7ddba6",
      "34ba0f319262408abd2f20986762deb2",
      "e07fa3a430a140be8d00e417865762ef",
      "3349bd85b7c54dd694a657a491aa538c",
      "c296c48070d04bfdadecf4017bb94596",
      "a8efe78c4ad54c3bb03e1ec75e910ef2",
      "8958b087e2da46b390095ce9a19a876a",
      "6febc21ab3874135aad25b6ce2a7c5b4",
      "7fad4796a9b34a7fae88b9fa031cf1f9",
      "5c8cf300612c40df80d66c2b39658634",
      "a4355acb75184573ba0a95e4cdac0fd5",
      "f1917cd19aa84f4c83159567c3c05b45",
      "541e9e8403b24463892b0273dea95efa",
      "5ce7b4e23fed438499bbcbb0146b3b9d"
     ]
    },
    "executionInfo": {
     "elapsed": 5712,
     "status": "ok",
     "timestamp": 1643684424961,
     "user": {
      "displayName": "Nelson L.",
      "photoUrl": "https://lh3.googleusercontent.com/a-/AOh14GipnVJXi8Vo7o6qBMpdgcfZB2j9TYnsly5vDf6nig=s64",
      "userId": "03694478629413699942"
     },
     "user_tz": -480
    },
    "id": "e5DLd3b3aqde",
    "outputId": "902b0d00-43de-4114-d1af-e05c5b467c0b"
   },
   "outputs": [
    {
     "data": {
      "application/vnd.jupyter.widget-view+json": {
       "model_id": "9eb1e44811f444959632a7145f47c091",
       "version_major": 2,
       "version_minor": 0
      },
      "text/plain": [
       "Downloading:   0%|          | 0.00/684 [00:00<?, ?B/s]"
      ]
     },
     "metadata": {},
     "output_type": "display_data"
    },
    {
     "data": {
      "application/vnd.jupyter.widget-view+json": {
       "model_id": "6c76765ebb714e399c64fcacc1830fc3",
       "version_major": 2,
       "version_minor": 0
      },
      "text/plain": [
       "Downloading:   0%|          | 0.00/742k [00:00<?, ?B/s]"
      ]
     },
     "metadata": {},
     "output_type": "display_data"
    },
    {
     "data": {
      "application/vnd.jupyter.widget-view+json": {
       "model_id": "3349bd85b7c54dd694a657a491aa538c",
       "version_major": 2,
       "version_minor": 0
      },
      "text/plain": [
       "Downloading:   0%|          | 0.00/1.25M [00:00<?, ?B/s]"
      ]
     },
     "metadata": {},
     "output_type": "display_data"
    }
   ],
   "source": [
    "tokenizer = AutoTokenizer.from_pretrained(model_name)"
   ]
  },
  {
   "cell_type": "code",
   "execution_count": 31,
   "metadata": {
    "executionInfo": {
     "elapsed": 18,
     "status": "ok",
     "timestamp": 1643684424962,
     "user": {
      "displayName": "Nelson L.",
      "photoUrl": "https://lh3.googleusercontent.com/a-/AOh14GipnVJXi8Vo7o6qBMpdgcfZB2j9TYnsly5vDf6nig=s64",
      "userId": "03694478629413699942"
     },
     "user_tz": -480
    },
    "id": "-etjdTo9Rnm_"
   },
   "outputs": [],
   "source": [
    "question = qnli_train_df['question'].iloc[0]\n",
    "sentence = qnli_train_df['sentence'].iloc[0]"
   ]
  },
  {
   "cell_type": "code",
   "execution_count": 32,
   "metadata": {
    "executionInfo": {
     "elapsed": 17,
     "status": "ok",
     "timestamp": 1643684424963,
     "user": {
      "displayName": "Nelson L.",
      "photoUrl": "https://lh3.googleusercontent.com/a-/AOh14GipnVJXi8Vo7o6qBMpdgcfZB2j9TYnsly5vDf6nig=s64",
      "userId": "03694478629413699942"
     },
     "user_tz": -480
    },
    "id": "m8A0errVzdT3"
   },
   "outputs": [],
   "source": [
    "inputs = tokenizer(\n",
    "    text = question,\n",
    "    text_pair = sentence,\n",
    "    add_special_tokens = True,\n",
    "    max_length = max_length,\n",
    "    padding = \"max_length\",\n",
    "    return_token_type_ids = False,\n",
    "    truncation = True,\n",
    "    )"
   ]
  },
  {
   "cell_type": "code",
   "execution_count": 33,
   "metadata": {
    "colab": {
     "base_uri": "https://localhost:8080/"
    },
    "executionInfo": {
     "elapsed": 15,
     "status": "ok",
     "timestamp": 1643684424963,
     "user": {
      "displayName": "Nelson L.",
      "photoUrl": "https://lh3.googleusercontent.com/a-/AOh14GipnVJXi8Vo7o6qBMpdgcfZB2j9TYnsly5vDf6nig=s64",
      "userId": "03694478629413699942"
     },
     "user_tz": -480
    },
    "id": "Wz2MInsJzgp-",
    "outputId": "769a39fe-8031-4857-9c26-38b7741f87fb"
   },
   "outputs": [
    {
     "data": {
      "text/plain": [
       "dict_keys(['input_ids', 'attention_mask'])"
      ]
     },
     "execution_count": 33,
     "metadata": {},
     "output_type": "execute_result"
    }
   ],
   "source": [
    "inputs.keys()"
   ]
  },
  {
   "cell_type": "code",
   "execution_count": 34,
   "metadata": {
    "executionInfo": {
     "elapsed": 11,
     "status": "ok",
     "timestamp": 1643684424964,
     "user": {
      "displayName": "Nelson L.",
      "photoUrl": "https://lh3.googleusercontent.com/a-/AOh14GipnVJXi8Vo7o6qBMpdgcfZB2j9TYnsly5vDf6nig=s64",
      "userId": "03694478629413699942"
     },
     "user_tz": -480
    },
    "id": "55ibAcXvxrJD"
   },
   "outputs": [],
   "source": [
    "class QNLIDataset(Dataset):\n",
    "    def __init__(self,dataframe,tokenizer,max_length,device):\n",
    "        self.len = len(dataframe)\n",
    "        self.df = dataframe\n",
    "        self.tokenizer = tokenizer\n",
    "        self.max_length = max_length\n",
    "        self.device = device\n",
    "        self.question_list = self.df['question'].to_list()\n",
    "        self.sentence_list = self.df['sentence'].to_list()\n",
    "        self.label_list = self.df['label'].to_list()\n",
    "\n",
    "    def __len__(self):\n",
    "        return self.len\n",
    "    \n",
    "    def __getitem__(self,index):\n",
    "        question = self.question_list[index]\n",
    "        sentence = self.sentence_list[index]\n",
    "        label = self.label_list[index]\n",
    "\n",
    "        inputs = self.tokenizer(\n",
    "            text = question,\n",
    "            text_pair = sentence,\n",
    "            add_special_tokens = True,\n",
    "            max_length = max_length,\n",
    "            padding = \"max_length\",\n",
    "            return_token_type_ids = False,\n",
    "            truncation = True,\n",
    "            # return_tensors = 'pt',\n",
    "            )\n",
    "        \n",
    "        inputs= {\n",
    "            'input_ids':torch.tensor(inputs['input_ids']),\n",
    "            'attention_mask':torch.tensor(inputs['attention_mask']),\n",
    "            'labels':torch.tensor(label),\n",
    "        }\n",
    "\n",
    "        inputs = {k:v.to(self.device) for (k,v) in inputs.items()}\n",
    "\n",
    "        return inputs"
   ]
  },
  {
   "cell_type": "code",
   "execution_count": 35,
   "metadata": {
    "executionInfo": {
     "elapsed": 10,
     "status": "ok",
     "timestamp": 1643684424964,
     "user": {
      "displayName": "Nelson L.",
      "photoUrl": "https://lh3.googleusercontent.com/a-/AOh14GipnVJXi8Vo7o6qBMpdgcfZB2j9TYnsly5vDf6nig=s64",
      "userId": "03694478629413699942"
     },
     "user_tz": -480
    },
    "id": "CnLdCZFEK5pg"
   },
   "outputs": [],
   "source": [
    "sample_ratio = 6"
   ]
  },
  {
   "cell_type": "code",
   "execution_count": 36,
   "metadata": {
    "executionInfo": {
     "elapsed": 12,
     "status": "ok",
     "timestamp": 1643684424966,
     "user": {
      "displayName": "Nelson L.",
      "photoUrl": "https://lh3.googleusercontent.com/a-/AOh14GipnVJXi8Vo7o6qBMpdgcfZB2j9TYnsly5vDf6nig=s64",
      "userId": "03694478629413699942"
     },
     "user_tz": -480
    },
    "id": "xcRoqAOqK8Xe"
   },
   "outputs": [],
   "source": [
    "qnli_train_df = shuffle(qnli_train_df)\n",
    "qnli_dev_df = shuffle(qnli_dev_df)"
   ]
  },
  {
   "cell_type": "code",
   "execution_count": 37,
   "metadata": {
    "executionInfo": {
     "elapsed": 13,
     "status": "ok",
     "timestamp": 1643684424968,
     "user": {
      "displayName": "Nelson L.",
      "photoUrl": "https://lh3.googleusercontent.com/a-/AOh14GipnVJXi8Vo7o6qBMpdgcfZB2j9TYnsly5vDf6nig=s64",
      "userId": "03694478629413699942"
     },
     "user_tz": -480
    },
    "id": "to9I_Jl8LNoz"
   },
   "outputs": [],
   "source": [
    "train_size = int(len(qnli_train_df)//sample_ratio)\n",
    "dev_size = int(len(qnli_dev_df)//sample_ratio)"
   ]
  },
  {
   "cell_type": "code",
   "execution_count": 38,
   "metadata": {
    "executionInfo": {
     "elapsed": 15,
     "status": "ok",
     "timestamp": 1643684424970,
     "user": {
      "displayName": "Nelson L.",
      "photoUrl": "https://lh3.googleusercontent.com/a-/AOh14GipnVJXi8Vo7o6qBMpdgcfZB2j9TYnsly5vDf6nig=s64",
      "userId": "03694478629413699942"
     },
     "user_tz": -480
    },
    "id": "ZUYu_8miLGCJ"
   },
   "outputs": [],
   "source": [
    "qnli_train_df = qnli_train_df[:train_size]\n",
    "qnli_dev_df = qnli_dev_df[:dev_size]"
   ]
  },
  {
   "cell_type": "code",
   "execution_count": 39,
   "metadata": {
    "executionInfo": {
     "elapsed": 15,
     "status": "ok",
     "timestamp": 1643684424970,
     "user": {
      "displayName": "Nelson L.",
      "photoUrl": "https://lh3.googleusercontent.com/a-/AOh14GipnVJXi8Vo7o6qBMpdgcfZB2j9TYnsly5vDf6nig=s64",
      "userId": "03694478629413699942"
     },
     "user_tz": -480
    },
    "id": "uj3GQBeESkRl"
   },
   "outputs": [],
   "source": [
    "train_dataset = QNLIDataset(qnli_train_df,tokenizer,max_length,'cpu')\n",
    "dev_dataset = QNLIDataset(qnli_dev_df,tokenizer,max_length,'cpu')"
   ]
  },
  {
   "cell_type": "code",
   "execution_count": 40,
   "metadata": {
    "colab": {
     "base_uri": "https://localhost:8080/"
    },
    "executionInfo": {
     "elapsed": 8,
     "status": "ok",
     "timestamp": 1643684425591,
     "user": {
      "displayName": "Nelson L.",
      "photoUrl": "https://lh3.googleusercontent.com/a-/AOh14GipnVJXi8Vo7o6qBMpdgcfZB2j9TYnsly5vDf6nig=s64",
      "userId": "03694478629413699942"
     },
     "user_tz": -480
    },
    "id": "124ORPt1f-FM",
    "outputId": "9d42ef7e-cbe5-4fe2-ce8b-dbee2b04b7a8"
   },
   "outputs": [
    {
     "data": {
      "text/plain": [
       "{'attention_mask': tensor([[1, 1, 1,  ..., 0, 0, 0],\n",
       "         [1, 1, 1,  ..., 0, 0, 0]]),\n",
       " 'input_ids': tensor([[   2,   98, 7783,  ...,    0,    0,    0],\n",
       "         [   2,  630, 1119,  ...,    0,    0,    0]]),\n",
       " 'labels': tensor([0, 0])}"
      ]
     },
     "execution_count": 40,
     "metadata": {},
     "output_type": "execute_result"
    }
   ],
   "source": [
    "train_dataset[:2]"
   ]
  },
  {
   "cell_type": "markdown",
   "metadata": {
    "id": "OxoYzNGj6Q6S"
   },
   "source": [
    "##3) Fine Tune Model"
   ]
  },
  {
   "cell_type": "code",
   "execution_count": 41,
   "metadata": {
    "colab": {
     "base_uri": "https://localhost:8080/",
     "height": 155,
     "referenced_widgets": [
      "5ce472516a3441828494ba17253b17b1",
      "393727f33f0b40cda3e0e6056784f247",
      "5a1f5d8e900d4c0c9eeedcc43076cdb1",
      "d881dab0fa0a4b20b890ac69f53e397b",
      "a1923bb9c6b040569e39a14f8d6657fc",
      "54e1e565aeb646ce876b8e5138ad80a3",
      "7ee25f3985a541c0a8a16f7d7af85d71",
      "5f1c7f28fcfe43fda9ca79ca8a79850b",
      "03045c0e1c5c49d5befd38f221960d5b",
      "89ef8666ee764d6b9269b63dc01512c4",
      "654f99120ba54a98b8c393d4acfbfc9d"
     ]
    },
    "executionInfo": {
     "elapsed": 2699,
     "status": "ok",
     "timestamp": 1643684429060,
     "user": {
      "displayName": "Nelson L.",
      "photoUrl": "https://lh3.googleusercontent.com/a-/AOh14GipnVJXi8Vo7o6qBMpdgcfZB2j9TYnsly5vDf6nig=s64",
      "userId": "03694478629413699942"
     },
     "user_tz": -480
    },
    "id": "g-wN-kTTTyU1",
    "outputId": "4984e4c6-ec04-44e6-ce32-dfc1390021f0"
   },
   "outputs": [
    {
     "data": {
      "application/vnd.jupyter.widget-view+json": {
       "model_id": "5ce472516a3441828494ba17253b17b1",
       "version_major": 2,
       "version_minor": 0
      },
      "text/plain": [
       "Downloading:   0%|          | 0.00/45.2M [00:00<?, ?B/s]"
      ]
     },
     "metadata": {},
     "output_type": "display_data"
    },
    {
     "name": "stderr",
     "output_type": "stream",
     "text": [
      "Some weights of the model checkpoint at albert-base-v2 were not used when initializing AlbertForSequenceClassification: ['predictions.LayerNorm.bias', 'predictions.dense.weight', 'predictions.LayerNorm.weight', 'predictions.decoder.bias', 'predictions.decoder.weight', 'predictions.dense.bias', 'predictions.bias']\n",
      "- This IS expected if you are initializing AlbertForSequenceClassification from the checkpoint of a model trained on another task or with another architecture (e.g. initializing a BertForSequenceClassification model from a BertForPreTraining model).\n",
      "- This IS NOT expected if you are initializing AlbertForSequenceClassification from the checkpoint of a model that you expect to be exactly identical (initializing a BertForSequenceClassification model from a BertForSequenceClassification model).\n",
      "Some weights of AlbertForSequenceClassification were not initialized from the model checkpoint at albert-base-v2 and are newly initialized: ['classifier.bias', 'classifier.weight']\n",
      "You should probably TRAIN this model on a down-stream task to be able to use it for predictions and inference.\n"
     ]
    }
   ],
   "source": [
    "model = AlbertForSequenceClassification.from_pretrained(model_name)"
   ]
  },
  {
   "cell_type": "code",
   "execution_count": 42,
   "metadata": {
    "executionInfo": {
     "elapsed": 10882,
     "status": "ok",
     "timestamp": 1643684439937,
     "user": {
      "displayName": "Nelson L.",
      "photoUrl": "https://lh3.googleusercontent.com/a-/AOh14GipnVJXi8Vo7o6qBMpdgcfZB2j9TYnsly5vDf6nig=s64",
      "userId": "03694478629413699942"
     },
     "user_tz": -480
    },
    "id": "AYnGqsMeUjkl"
   },
   "outputs": [],
   "source": [
    "model = model.to(device)"
   ]
  },
  {
   "cell_type": "code",
   "execution_count": 43,
   "metadata": {
    "executionInfo": {
     "elapsed": 13,
     "status": "ok",
     "timestamp": 1643684439938,
     "user": {
      "displayName": "Nelson L.",
      "photoUrl": "https://lh3.googleusercontent.com/a-/AOh14GipnVJXi8Vo7o6qBMpdgcfZB2j9TYnsly5vDf6nig=s64",
      "userId": "03694478629413699942"
     },
     "user_tz": -480
    },
    "id": "uVx413ag_kCC"
   },
   "outputs": [],
   "source": [
    "# \"\"\"test\"\"\"\n",
    "# sample_data = train_dataset[:6]\n",
    "# model(**sample_data)"
   ]
  },
  {
   "cell_type": "code",
   "execution_count": 44,
   "metadata": {
    "executionInfo": {
     "elapsed": 12,
     "status": "ok",
     "timestamp": 1643684439939,
     "user": {
      "displayName": "Nelson L.",
      "photoUrl": "https://lh3.googleusercontent.com/a-/AOh14GipnVJXi8Vo7o6qBMpdgcfZB2j9TYnsly5vDf6nig=s64",
      "userId": "03694478629413699942"
     },
     "user_tz": -480
    },
    "id": "--cuP_8lVINV"
   },
   "outputs": [],
   "source": [
    "def compute_metrics(inputs):\n",
    "    pred,labels = inputs\n",
    "    pred = np.argmax(pred,axis = 1)\n",
    "    accuracy = metrics.accuracy_score(labels,pred)\n",
    "    recall = metrics.recall_score(labels,pred)\n",
    "    precision = metrics.precision_score(labels,pred)\n",
    "    f1 = metrics.f1_score(labels,pred)\n",
    "\n",
    "    return {\"accuracy\":accuracy, \"recall\":recall, \"precision\":precision, \"recall\":recall, f1:\"f1\"} "
   ]
  },
  {
   "cell_type": "code",
   "execution_count": 45,
   "metadata": {
    "executionInfo": {
     "elapsed": 11,
     "status": "ok",
     "timestamp": 1643684439940,
     "user": {
      "displayName": "Nelson L.",
      "photoUrl": "https://lh3.googleusercontent.com/a-/AOh14GipnVJXi8Vo7o6qBMpdgcfZB2j9TYnsly5vDf6nig=s64",
      "userId": "03694478629413699942"
     },
     "user_tz": -480
    },
    "id": "9K41WewNWEYm"
   },
   "outputs": [],
   "source": [
    "model_save_path = \"/content/drive/My Drive/Colab Notebooks/Models/QNLI\""
   ]
  },
  {
   "cell_type": "code",
   "execution_count": 46,
   "metadata": {
    "executionInfo": {
     "elapsed": 11,
     "status": "ok",
     "timestamp": 1643684439941,
     "user": {
      "displayName": "Nelson L.",
      "photoUrl": "https://lh3.googleusercontent.com/a-/AOh14GipnVJXi8Vo7o6qBMpdgcfZB2j9TYnsly5vDf6nig=s64",
      "userId": "03694478629413699942"
     },
     "user_tz": -480
    },
    "id": "Nm64nL7LW4Rj"
   },
   "outputs": [],
   "source": [
    "batch_size = 12"
   ]
  },
  {
   "cell_type": "code",
   "execution_count": 47,
   "metadata": {
    "executionInfo": {
     "elapsed": 10,
     "status": "ok",
     "timestamp": 1643684439941,
     "user": {
      "displayName": "Nelson L.",
      "photoUrl": "https://lh3.googleusercontent.com/a-/AOh14GipnVJXi8Vo7o6qBMpdgcfZB2j9TYnsly5vDf6nig=s64",
      "userId": "03694478629413699942"
     },
     "user_tz": -480
    },
    "id": "D3oDJkIZmlk_"
   },
   "outputs": [],
   "source": [
    "steps = len(train_dataset)//batch_size"
   ]
  },
  {
   "cell_type": "code",
   "execution_count": 48,
   "metadata": {
    "executionInfo": {
     "elapsed": 11,
     "status": "ok",
     "timestamp": 1643684439942,
     "user": {
      "displayName": "Nelson L.",
      "photoUrl": "https://lh3.googleusercontent.com/a-/AOh14GipnVJXi8Vo7o6qBMpdgcfZB2j9TYnsly5vDf6nig=s64",
      "userId": "03694478629413699942"
     },
     "user_tz": -480
    },
    "id": "LqQmEIcXpLNl"
   },
   "outputs": [],
   "source": [
    "evaluate_steps = steps//2"
   ]
  },
  {
   "cell_type": "code",
   "execution_count": 50,
   "metadata": {
    "executionInfo": {
     "elapsed": 350,
     "status": "ok",
     "timestamp": 1643684447666,
     "user": {
      "displayName": "Nelson L.",
      "photoUrl": "https://lh3.googleusercontent.com/a-/AOh14GipnVJXi8Vo7o6qBMpdgcfZB2j9TYnsly5vDf6nig=s64",
      "userId": "03694478629413699942"
     },
     "user_tz": -480
    },
    "id": "V8Lz6fvqIs4P"
   },
   "outputs": [],
   "source": [
    "evaluate_steps = 700"
   ]
  },
  {
   "cell_type": "code",
   "execution_count": 51,
   "metadata": {
    "executionInfo": {
     "elapsed": 347,
     "status": "ok",
     "timestamp": 1643684452446,
     "user": {
      "displayName": "Nelson L.",
      "photoUrl": "https://lh3.googleusercontent.com/a-/AOh14GipnVJXi8Vo7o6qBMpdgcfZB2j9TYnsly5vDf6nig=s64",
      "userId": "03694478629413699942"
     },
     "user_tz": -480
    },
    "id": "ICq1lPbhHggI"
   },
   "outputs": [],
   "source": [
    "# break"
   ]
  },
  {
   "cell_type": "code",
   "execution_count": 52,
   "metadata": {
    "executionInfo": {
     "elapsed": 669,
     "status": "ok",
     "timestamp": 1643684454327,
     "user": {
      "displayName": "Nelson L.",
      "photoUrl": "https://lh3.googleusercontent.com/a-/AOh14GipnVJXi8Vo7o6qBMpdgcfZB2j9TYnsly5vDf6nig=s64",
      "userId": "03694478629413699942"
     },
     "user_tz": -480
    },
    "id": "H4wle2gdVws5"
   },
   "outputs": [],
   "source": [
    "args = TrainingArguments(\n",
    "    \n",
    "    model_save_path,\n",
    "    overwrite_output_dir = True,\n",
    "    evaluation_strategy = \"steps\",\n",
    "    eval_steps = evaluate_steps,\n",
    "    logging_steps = evaluate_steps,\n",
    "    save_steps = evaluate_steps,\n",
    "    do_train = True,\n",
    "    do_eval = True,\n",
    "    learning_rate = 2e-5,\n",
    "    per_device_train_batch_size = batch_size,\n",
    "    per_device_eval_batch_size = batch_size,\n",
    "    num_train_epochs = 2,\n",
    "    seed = 0,\n",
    "    load_best_model_at_end = True,\n",
    ")\n"
   ]
  },
  {
   "cell_type": "code",
   "execution_count": 53,
   "metadata": {
    "colab": {
     "base_uri": "https://localhost:8080/"
    },
    "executionInfo": {
     "elapsed": 6,
     "status": "ok",
     "timestamp": 1643684456097,
     "user": {
      "displayName": "Nelson L.",
      "photoUrl": "https://lh3.googleusercontent.com/a-/AOh14GipnVJXi8Vo7o6qBMpdgcfZB2j9TYnsly5vDf6nig=s64",
      "userId": "03694478629413699942"
     },
     "user_tz": -480
    },
    "id": "LFnx6-VhbVpV",
    "outputId": "c69ae7e6-bf60-47f3-e1e8-0388cda9e9c2"
   },
   "outputs": [
    {
     "data": {
      "text/plain": [
       "{'attention_mask': tensor([[1, 1, 1,  ..., 0, 0, 0],\n",
       "         [1, 1, 1,  ..., 0, 0, 0],\n",
       "         [1, 1, 1,  ..., 0, 0, 0]]),\n",
       " 'input_ids': tensor([[   2,   98, 7783,  ...,    0,    0,    0],\n",
       "         [   2,  630, 1119,  ...,    0,    0,    0],\n",
       "         [   2,   98, 1062,  ...,    0,    0,    0]]),\n",
       " 'labels': tensor([0, 0, 1])}"
      ]
     },
     "execution_count": 53,
     "metadata": {},
     "output_type": "execute_result"
    }
   ],
   "source": [
    "train_dataset[:3]"
   ]
  },
  {
   "cell_type": "code",
   "execution_count": 55,
   "metadata": {
    "executionInfo": {
     "elapsed": 369,
     "status": "ok",
     "timestamp": 1643684474332,
     "user": {
      "displayName": "Nelson L.",
      "photoUrl": "https://lh3.googleusercontent.com/a-/AOh14GipnVJXi8Vo7o6qBMpdgcfZB2j9TYnsly5vDf6nig=s64",
      "userId": "03694478629413699942"
     },
     "user_tz": -480
    },
    "id": "5aAzsLKXUyle"
   },
   "outputs": [],
   "source": [
    "trainer  = Trainer(\n",
    "    model = model,\n",
    "    args = args,\n",
    "    train_dataset =train_dataset,\n",
    "    eval_dataset = dev_dataset,\n",
    "    tokenizer = tokenizer,\n",
    ")"
   ]
  },
  {
   "cell_type": "code",
   "execution_count": 56,
   "metadata": {
    "colab": {
     "base_uri": "https://localhost:8080/",
     "height": 1000
    },
    "executionInfo": {
     "elapsed": 6438507,
     "status": "ok",
     "timestamp": 1643690914328,
     "user": {
      "displayName": "Nelson L.",
      "photoUrl": "https://lh3.googleusercontent.com/a-/AOh14GipnVJXi8Vo7o6qBMpdgcfZB2j9TYnsly5vDf6nig=s64",
      "userId": "03694478629413699942"
     },
     "user_tz": -480
    },
    "id": "9ijS8V92ZJ7d",
    "outputId": "a85f3698-d297-4de0-f280-d7828e7a46b0"
   },
   "outputs": [
    {
     "name": "stderr",
     "output_type": "stream",
     "text": [
      "/usr/local/lib/python3.7/dist-packages/transformers/optimization.py:309: FutureWarning: This implementation of AdamW is deprecated and will be removed in a future version. Use thePyTorch implementation torch.optim.AdamW instead, or set `no_deprecation_warning=True` to disable this warning\n",
      "  FutureWarning,\n",
      "***** Running training *****\n",
      "  Num examples = 17457\n",
      "  Num Epochs = 2\n",
      "  Instantaneous batch size per device = 12\n",
      "  Total train batch size (w. parallel, distributed & accumulation) = 12\n",
      "  Gradient Accumulation steps = 1\n",
      "  Total optimization steps = 2910\n"
     ]
    },
    {
     "data": {
      "text/html": [
       "\n",
       "    <div>\n",
       "      \n",
       "      <progress value='2910' max='2910' style='width:300px; height:20px; vertical-align: middle;'></progress>\n",
       "      [2910/2910 1:47:15, Epoch 2/2]\n",
       "    </div>\n",
       "    <table border=\"1\" class=\"dataframe\">\n",
       "  <thead>\n",
       " <tr style=\"text-align: left;\">\n",
       "      <th>Step</th>\n",
       "      <th>Training Loss</th>\n",
       "      <th>Validation Loss</th>\n",
       "    </tr>\n",
       "  </thead>\n",
       "  <tbody>\n",
       "    <tr>\n",
       "      <td>700</td>\n",
       "      <td>0.443600</td>\n",
       "      <td>0.293181</td>\n",
       "    </tr>\n",
       "    <tr>\n",
       "      <td>1400</td>\n",
       "      <td>0.380400</td>\n",
       "      <td>0.254905</td>\n",
       "    </tr>\n",
       "    <tr>\n",
       "      <td>2100</td>\n",
       "      <td>0.277300</td>\n",
       "      <td>0.293418</td>\n",
       "    </tr>\n",
       "    <tr>\n",
       "      <td>2800</td>\n",
       "      <td>0.271500</td>\n",
       "      <td>0.261712</td>\n",
       "    </tr>\n",
       "  </tbody>\n",
       "</table><p>"
      ],
      "text/plain": [
       "<IPython.core.display.HTML object>"
      ]
     },
     "metadata": {},
     "output_type": "display_data"
    },
    {
     "name": "stderr",
     "output_type": "stream",
     "text": [
      "***** Running Evaluation *****\n",
      "  Num examples = 910\n",
      "  Batch size = 12\n",
      "Saving model checkpoint to /content/drive/My Drive/Colab Notebooks/Models/QNLI/checkpoint-700\n",
      "Configuration saved in /content/drive/My Drive/Colab Notebooks/Models/QNLI/checkpoint-700/config.json\n",
      "Model weights saved in /content/drive/My Drive/Colab Notebooks/Models/QNLI/checkpoint-700/pytorch_model.bin\n",
      "tokenizer config file saved in /content/drive/My Drive/Colab Notebooks/Models/QNLI/checkpoint-700/tokenizer_config.json\n",
      "Special tokens file saved in /content/drive/My Drive/Colab Notebooks/Models/QNLI/checkpoint-700/special_tokens_map.json\n",
      "***** Running Evaluation *****\n",
      "  Num examples = 910\n",
      "  Batch size = 12\n",
      "Saving model checkpoint to /content/drive/My Drive/Colab Notebooks/Models/QNLI/checkpoint-1400\n",
      "Configuration saved in /content/drive/My Drive/Colab Notebooks/Models/QNLI/checkpoint-1400/config.json\n",
      "Model weights saved in /content/drive/My Drive/Colab Notebooks/Models/QNLI/checkpoint-1400/pytorch_model.bin\n",
      "tokenizer config file saved in /content/drive/My Drive/Colab Notebooks/Models/QNLI/checkpoint-1400/tokenizer_config.json\n",
      "Special tokens file saved in /content/drive/My Drive/Colab Notebooks/Models/QNLI/checkpoint-1400/special_tokens_map.json\n",
      "***** Running Evaluation *****\n",
      "  Num examples = 910\n",
      "  Batch size = 12\n",
      "Saving model checkpoint to /content/drive/My Drive/Colab Notebooks/Models/QNLI/checkpoint-2100\n",
      "Configuration saved in /content/drive/My Drive/Colab Notebooks/Models/QNLI/checkpoint-2100/config.json\n",
      "Model weights saved in /content/drive/My Drive/Colab Notebooks/Models/QNLI/checkpoint-2100/pytorch_model.bin\n",
      "tokenizer config file saved in /content/drive/My Drive/Colab Notebooks/Models/QNLI/checkpoint-2100/tokenizer_config.json\n",
      "Special tokens file saved in /content/drive/My Drive/Colab Notebooks/Models/QNLI/checkpoint-2100/special_tokens_map.json\n",
      "***** Running Evaluation *****\n",
      "  Num examples = 910\n",
      "  Batch size = 12\n",
      "Saving model checkpoint to /content/drive/My Drive/Colab Notebooks/Models/QNLI/checkpoint-2800\n",
      "Configuration saved in /content/drive/My Drive/Colab Notebooks/Models/QNLI/checkpoint-2800/config.json\n",
      "Model weights saved in /content/drive/My Drive/Colab Notebooks/Models/QNLI/checkpoint-2800/pytorch_model.bin\n",
      "tokenizer config file saved in /content/drive/My Drive/Colab Notebooks/Models/QNLI/checkpoint-2800/tokenizer_config.json\n",
      "Special tokens file saved in /content/drive/My Drive/Colab Notebooks/Models/QNLI/checkpoint-2800/special_tokens_map.json\n",
      "\n",
      "\n",
      "Training completed. Do not forget to share your model on huggingface.co/models =)\n",
      "\n",
      "\n",
      "Loading best model from /content/drive/My Drive/Colab Notebooks/Models/QNLI/checkpoint-1400 (score: 0.2549048364162445).\n"
     ]
    },
    {
     "data": {
      "text/plain": [
       "TrainOutput(global_step=2910, training_loss=0.33971586194644676, metrics={'train_runtime': 6438.3887, 'train_samples_per_second': 5.423, 'train_steps_per_second': 0.452, 'total_flos': 834378324848640.0, 'train_loss': 0.33971586194644676, 'epoch': 2.0})"
      ]
     },
     "execution_count": 56,
     "metadata": {},
     "output_type": "execute_result"
    }
   ],
   "source": [
    "trainer.train()"
   ]
  },
  {
   "cell_type": "markdown",
   "metadata": {
    "id": "gS3e_75cYKRz"
   },
   "source": [
    "## 4) Evaluate "
   ]
  },
  {
   "cell_type": "code",
   "execution_count": null,
   "metadata": {
    "id": "rNNijLQlht58"
   },
   "outputs": [],
   "source": [
    "from tqdm import tqdm"
   ]
  },
  {
   "cell_type": "code",
   "execution_count": null,
   "metadata": {
    "id": "gLU9Ncb7YF8E"
   },
   "outputs": [],
   "source": [
    "def evaluate_with_batch(model,dataset,batch_size,device):\n",
    "    dataset_loader = DataLoader(dataset,batch_size)\n",
    "\n",
    "    model.eval()\n",
    "\n",
    "    loss_list = []\n",
    "    labels_list = []\n",
    "    pred_list = []\n",
    "    prob_list = []\n",
    "\n",
    "    pbar = tqdm(total = len(dataset_loader),desc = \"Model Evaluate\")\n",
    "\n",
    "\n",
    "    for sample in dataset_loader:\n",
    "        sample = {k:v.to(device) for (k,v) in sample.items()}\n",
    "\n",
    "        with torch.no_grad():\n",
    "            batch_result = model(**sample)\n",
    "        \n",
    "        loss = batch_result.loss.item()\n",
    "        loss_list.append(loss)\n",
    "\n",
    "        labels = sample['labels']\n",
    "        del sample\n",
    "\n",
    "        labels  = labels.detach().cpu().numpy()\n",
    "        labels_list.extend(labels)\n",
    "\n",
    "        logits = batch_result.logits\n",
    "        probs = torch.sigmoid(logits)\n",
    "        \n",
    "        pred = torch.argmax(probs,axis = 1)\n",
    "        pred = pred.detach().cpu().numpy()\n",
    "        pred_list.extend(pred)\n",
    "\n",
    "        prob = probs[:,1]\n",
    "        prob = prob.detach().cpu().numpy()\n",
    "        prob_list.extend(prob)\n",
    "\n",
    "        pbar.update(1)\n",
    "\n",
    "    pbar.close()\n",
    "\n",
    "\n",
    "    accuracy = metrics.accuracy_score(labels_list,pred_list)\n",
    "    recall = metrics.recall_score(labels_list,pred_list)\n",
    "    precision = metrics.precision_score(labels_list,pred_list)\n",
    "    f1 = metrics.f1_score(labels_list,pred_list)\n",
    "    fpr,tpr, threshold = metrics.roc_curve(labels_list,prob_list,pos_label=1)\n",
    "\n",
    "    auc =metrics.auc(fpr,tpr)\n",
    "    loss = np.mean(loss_list)\n",
    "\n",
    "    return {\"accuracy\":accuracy, \"recall\":recall, \"precision\":precision, \"recall\":recall, \"f1\":f1,'auc':auc,'loss':loss} "
   ]
  },
  {
   "cell_type": "code",
   "execution_count": null,
   "metadata": {
    "colab": {
     "base_uri": "https://localhost:8080/"
    },
    "executionInfo": {
     "elapsed": 39938,
     "status": "ok",
     "timestamp": 1643603831862,
     "user": {
      "displayName": "Nelson L.",
      "photoUrl": "https://lh3.googleusercontent.com/a-/AOh14GipnVJXi8Vo7o6qBMpdgcfZB2j9TYnsly5vDf6nig=s64",
      "userId": "03694478629413699942"
     },
     "user_tz": -480
    },
    "id": "d3h30PRLayBk",
    "outputId": "efd32797-ba75-44ae-889d-b248f91a33af"
   },
   "outputs": [
    {
     "name": "stderr",
     "output_type": "stream",
     "text": [
      "Model Evaluate: 100%|██████████| 76/76 [00:39<00:00,  1.91it/s]\n"
     ]
    }
   ],
   "source": [
    "evaluate_result = evaluate_with_batch(model,dev_dataset,batch_size,device)"
   ]
  },
  {
   "cell_type": "code",
   "execution_count": null,
   "metadata": {
    "colab": {
     "base_uri": "https://localhost:8080/"
    },
    "executionInfo": {
     "elapsed": 23,
     "status": "ok",
     "timestamp": 1643603831863,
     "user": {
      "displayName": "Nelson L.",
      "photoUrl": "https://lh3.googleusercontent.com/a-/AOh14GipnVJXi8Vo7o6qBMpdgcfZB2j9TYnsly5vDf6nig=s64",
      "userId": "03694478629413699942"
     },
     "user_tz": -480
    },
    "id": "l5kfBmZXjDpt",
    "outputId": "074018f3-1955-44d1-d03a-2a30afcb9b89"
   },
   "outputs": [
    {
     "data": {
      "text/plain": [
       "{'accuracy': 0.8681318681318682,\n",
       " 'auc': 0.9430203836988413,\n",
       " 'f1': 0.8604651162790699,\n",
       " 'loss': 0.32897793854537766,\n",
       " 'precision': 0.8872901678657075,\n",
       " 'recall': 0.835214446952596}"
      ]
     },
     "execution_count": 51,
     "metadata": {},
     "output_type": "execute_result"
    }
   ],
   "source": [
    "evaluate_result"
   ]
  },
  {
   "cell_type": "code",
   "execution_count": null,
   "metadata": {
    "id": "xDMuo8UZsDO2"
   },
   "outputs": [],
   "source": []
  }
 ],
 "metadata": {
  "accelerator": "GPU",
  "colab": {
   "collapsed_sections": [],
   "name": "Fine Tune AlBERT For QNLI",
   "provenance": [
    {
     "file_id": "https://github.com/huggingface/notebooks/blob/master/examples/question_answering.ipynb",
     "timestamp": 1640747938302
    }
   ]
  },
  "kernelspec": {
   "display_name": "Python 3",
   "language": "python",
   "name": "python3"
  },
  "language_info": {
   "codemirror_mode": {
    "name": "ipython",
    "version": 3
   },
   "file_extension": ".py",
   "mimetype": "text/x-python",
   "name": "python",
   "nbconvert_exporter": "python",
   "pygments_lexer": "ipython3",
   "version": "3.8.3"
  },
  "widgets": {
   "application/vnd.jupyter.widget-state+json": {
    "03045c0e1c5c49d5befd38f221960d5b": {
     "model_module": "@jupyter-widgets/base",
     "model_module_version": "1.2.0",
     "model_name": "LayoutModel",
     "state": {
      "_model_module": "@jupyter-widgets/base",
      "_model_module_version": "1.2.0",
      "_model_name": "LayoutModel",
      "_view_count": null,
      "_view_module": "@jupyter-widgets/base",
      "_view_module_version": "1.2.0",
      "_view_name": "LayoutView",
      "align_content": null,
      "align_items": null,
      "align_self": null,
      "border": null,
      "bottom": null,
      "display": null,
      "flex": null,
      "flex_flow": null,
      "grid_area": null,
      "grid_auto_columns": null,
      "grid_auto_flow": null,
      "grid_auto_rows": null,
      "grid_column": null,
      "grid_gap": null,
      "grid_row": null,
      "grid_template_areas": null,
      "grid_template_columns": null,
      "grid_template_rows": null,
      "height": null,
      "justify_content": null,
      "justify_items": null,
      "left": null,
      "margin": null,
      "max_height": null,
      "max_width": null,
      "min_height": null,
      "min_width": null,
      "object_fit": null,
      "object_position": null,
      "order": null,
      "overflow": null,
      "overflow_x": null,
      "overflow_y": null,
      "padding": null,
      "right": null,
      "top": null,
      "visibility": null,
      "width": null
     }
    },
    "1d1a24077fae4fb5893049d84f7ddba6": {
     "model_module": "@jupyter-widgets/base",
     "model_module_version": "1.2.0",
     "model_name": "LayoutModel",
     "state": {
      "_model_module": "@jupyter-widgets/base",
      "_model_module_version": "1.2.0",
      "_model_name": "LayoutModel",
      "_view_count": null,
      "_view_module": "@jupyter-widgets/base",
      "_view_module_version": "1.2.0",
      "_view_name": "LayoutView",
      "align_content": null,
      "align_items": null,
      "align_self": null,
      "border": null,
      "bottom": null,
      "display": null,
      "flex": null,
      "flex_flow": null,
      "grid_area": null,
      "grid_auto_columns": null,
      "grid_auto_flow": null,
      "grid_auto_rows": null,
      "grid_column": null,
      "grid_gap": null,
      "grid_row": null,
      "grid_template_areas": null,
      "grid_template_columns": null,
      "grid_template_rows": null,
      "height": null,
      "justify_content": null,
      "justify_items": null,
      "left": null,
      "margin": null,
      "max_height": null,
      "max_width": null,
      "min_height": null,
      "min_width": null,
      "object_fit": null,
      "object_position": null,
      "order": null,
      "overflow": null,
      "overflow_x": null,
      "overflow_y": null,
      "padding": null,
      "right": null,
      "top": null,
      "visibility": null,
      "width": null
     }
    },
    "20149ea0cc3840258b866615e18943f7": {
     "model_module": "@jupyter-widgets/controls",
     "model_module_version": "1.5.0",
     "model_name": "DescriptionStyleModel",
     "state": {
      "_model_module": "@jupyter-widgets/controls",
      "_model_module_version": "1.5.0",
      "_model_name": "DescriptionStyleModel",
      "_view_count": null,
      "_view_module": "@jupyter-widgets/base",
      "_view_module_version": "1.2.0",
      "_view_name": "StyleView",
      "description_width": ""
     }
    },
    "253576b09d244556af3efe2259877567": {
     "model_module": "@jupyter-widgets/controls",
     "model_module_version": "1.5.0",
     "model_name": "HTMLModel",
     "state": {
      "_dom_classes": [],
      "_model_module": "@jupyter-widgets/controls",
      "_model_module_version": "1.5.0",
      "_model_name": "HTMLModel",
      "_view_count": null,
      "_view_module": "@jupyter-widgets/controls",
      "_view_module_version": "1.5.0",
      "_view_name": "HTMLView",
      "description": "",
      "description_tooltip": null,
      "layout": "IPY_MODEL_e07fa3a430a140be8d00e417865762ef",
      "placeholder": "​",
      "style": "IPY_MODEL_34ba0f319262408abd2f20986762deb2",
      "value": " 742k/742k [00:00&lt;00:00, 1.58MB/s]"
     }
    },
    "3349bd85b7c54dd694a657a491aa538c": {
     "model_module": "@jupyter-widgets/controls",
     "model_module_version": "1.5.0",
     "model_name": "HBoxModel",
     "state": {
      "_dom_classes": [],
      "_model_module": "@jupyter-widgets/controls",
      "_model_module_version": "1.5.0",
      "_model_name": "HBoxModel",
      "_view_count": null,
      "_view_module": "@jupyter-widgets/controls",
      "_view_module_version": "1.5.0",
      "_view_name": "HBoxView",
      "box_style": "",
      "children": [
       "IPY_MODEL_a8efe78c4ad54c3bb03e1ec75e910ef2",
       "IPY_MODEL_8958b087e2da46b390095ce9a19a876a",
       "IPY_MODEL_6febc21ab3874135aad25b6ce2a7c5b4"
      ],
      "layout": "IPY_MODEL_c296c48070d04bfdadecf4017bb94596"
     }
    },
    "34ba0f319262408abd2f20986762deb2": {
     "model_module": "@jupyter-widgets/controls",
     "model_module_version": "1.5.0",
     "model_name": "DescriptionStyleModel",
     "state": {
      "_model_module": "@jupyter-widgets/controls",
      "_model_module_version": "1.5.0",
      "_model_name": "DescriptionStyleModel",
      "_view_count": null,
      "_view_module": "@jupyter-widgets/base",
      "_view_module_version": "1.2.0",
      "_view_name": "StyleView",
      "description_width": ""
     }
    },
    "393727f33f0b40cda3e0e6056784f247": {
     "model_module": "@jupyter-widgets/base",
     "model_module_version": "1.2.0",
     "model_name": "LayoutModel",
     "state": {
      "_model_module": "@jupyter-widgets/base",
      "_model_module_version": "1.2.0",
      "_model_name": "LayoutModel",
      "_view_count": null,
      "_view_module": "@jupyter-widgets/base",
      "_view_module_version": "1.2.0",
      "_view_name": "LayoutView",
      "align_content": null,
      "align_items": null,
      "align_self": null,
      "border": null,
      "bottom": null,
      "display": null,
      "flex": null,
      "flex_flow": null,
      "grid_area": null,
      "grid_auto_columns": null,
      "grid_auto_flow": null,
      "grid_auto_rows": null,
      "grid_column": null,
      "grid_gap": null,
      "grid_row": null,
      "grid_template_areas": null,
      "grid_template_columns": null,
      "grid_template_rows": null,
      "height": null,
      "justify_content": null,
      "justify_items": null,
      "left": null,
      "margin": null,
      "max_height": null,
      "max_width": null,
      "min_height": null,
      "min_width": null,
      "object_fit": null,
      "object_position": null,
      "order": null,
      "overflow": null,
      "overflow_x": null,
      "overflow_y": null,
      "padding": null,
      "right": null,
      "top": null,
      "visibility": null,
      "width": null
     }
    },
    "42fe94b181674779a44a7e0c7e8cfdcc": {
     "model_module": "@jupyter-widgets/base",
     "model_module_version": "1.2.0",
     "model_name": "LayoutModel",
     "state": {
      "_model_module": "@jupyter-widgets/base",
      "_model_module_version": "1.2.0",
      "_model_name": "LayoutModel",
      "_view_count": null,
      "_view_module": "@jupyter-widgets/base",
      "_view_module_version": "1.2.0",
      "_view_name": "LayoutView",
      "align_content": null,
      "align_items": null,
      "align_self": null,
      "border": null,
      "bottom": null,
      "display": null,
      "flex": null,
      "flex_flow": null,
      "grid_area": null,
      "grid_auto_columns": null,
      "grid_auto_flow": null,
      "grid_auto_rows": null,
      "grid_column": null,
      "grid_gap": null,
      "grid_row": null,
      "grid_template_areas": null,
      "grid_template_columns": null,
      "grid_template_rows": null,
      "height": null,
      "justify_content": null,
      "justify_items": null,
      "left": null,
      "margin": null,
      "max_height": null,
      "max_width": null,
      "min_height": null,
      "min_width": null,
      "object_fit": null,
      "object_position": null,
      "order": null,
      "overflow": null,
      "overflow_x": null,
      "overflow_y": null,
      "padding": null,
      "right": null,
      "top": null,
      "visibility": null,
      "width": null
     }
    },
    "4641d748e691425fb5eb78c4f1713d9b": {
     "model_module": "@jupyter-widgets/controls",
     "model_module_version": "1.5.0",
     "model_name": "ProgressStyleModel",
     "state": {
      "_model_module": "@jupyter-widgets/controls",
      "_model_module_version": "1.5.0",
      "_model_name": "ProgressStyleModel",
      "_view_count": null,
      "_view_module": "@jupyter-widgets/base",
      "_view_module_version": "1.2.0",
      "_view_name": "StyleView",
      "bar_color": null,
      "description_width": ""
     }
    },
    "541e9e8403b24463892b0273dea95efa": {
     "model_module": "@jupyter-widgets/controls",
     "model_module_version": "1.5.0",
     "model_name": "DescriptionStyleModel",
     "state": {
      "_model_module": "@jupyter-widgets/controls",
      "_model_module_version": "1.5.0",
      "_model_name": "DescriptionStyleModel",
      "_view_count": null,
      "_view_module": "@jupyter-widgets/base",
      "_view_module_version": "1.2.0",
      "_view_name": "StyleView",
      "description_width": ""
     }
    },
    "54e1e565aeb646ce876b8e5138ad80a3": {
     "model_module": "@jupyter-widgets/controls",
     "model_module_version": "1.5.0",
     "model_name": "DescriptionStyleModel",
     "state": {
      "_model_module": "@jupyter-widgets/controls",
      "_model_module_version": "1.5.0",
      "_model_name": "DescriptionStyleModel",
      "_view_count": null,
      "_view_module": "@jupyter-widgets/base",
      "_view_module_version": "1.2.0",
      "_view_name": "StyleView",
      "description_width": ""
     }
    },
    "5a1f5d8e900d4c0c9eeedcc43076cdb1": {
     "model_module": "@jupyter-widgets/controls",
     "model_module_version": "1.5.0",
     "model_name": "HTMLModel",
     "state": {
      "_dom_classes": [],
      "_model_module": "@jupyter-widgets/controls",
      "_model_module_version": "1.5.0",
      "_model_name": "HTMLModel",
      "_view_count": null,
      "_view_module": "@jupyter-widgets/controls",
      "_view_module_version": "1.5.0",
      "_view_name": "HTMLView",
      "description": "",
      "description_tooltip": null,
      "layout": "IPY_MODEL_7ee25f3985a541c0a8a16f7d7af85d71",
      "placeholder": "​",
      "style": "IPY_MODEL_54e1e565aeb646ce876b8e5138ad80a3",
      "value": "Downloading: 100%"
     }
    },
    "5c8cf300612c40df80d66c2b39658634": {
     "model_module": "@jupyter-widgets/base",
     "model_module_version": "1.2.0",
     "model_name": "LayoutModel",
     "state": {
      "_model_module": "@jupyter-widgets/base",
      "_model_module_version": "1.2.0",
      "_model_name": "LayoutModel",
      "_view_count": null,
      "_view_module": "@jupyter-widgets/base",
      "_view_module_version": "1.2.0",
      "_view_name": "LayoutView",
      "align_content": null,
      "align_items": null,
      "align_self": null,
      "border": null,
      "bottom": null,
      "display": null,
      "flex": null,
      "flex_flow": null,
      "grid_area": null,
      "grid_auto_columns": null,
      "grid_auto_flow": null,
      "grid_auto_rows": null,
      "grid_column": null,
      "grid_gap": null,
      "grid_row": null,
      "grid_template_areas": null,
      "grid_template_columns": null,
      "grid_template_rows": null,
      "height": null,
      "justify_content": null,
      "justify_items": null,
      "left": null,
      "margin": null,
      "max_height": null,
      "max_width": null,
      "min_height": null,
      "min_width": null,
      "object_fit": null,
      "object_position": null,
      "order": null,
      "overflow": null,
      "overflow_x": null,
      "overflow_y": null,
      "padding": null,
      "right": null,
      "top": null,
      "visibility": null,
      "width": null
     }
    },
    "5ce472516a3441828494ba17253b17b1": {
     "model_module": "@jupyter-widgets/controls",
     "model_module_version": "1.5.0",
     "model_name": "HBoxModel",
     "state": {
      "_dom_classes": [],
      "_model_module": "@jupyter-widgets/controls",
      "_model_module_version": "1.5.0",
      "_model_name": "HBoxModel",
      "_view_count": null,
      "_view_module": "@jupyter-widgets/controls",
      "_view_module_version": "1.5.0",
      "_view_name": "HBoxView",
      "box_style": "",
      "children": [
       "IPY_MODEL_5a1f5d8e900d4c0c9eeedcc43076cdb1",
       "IPY_MODEL_d881dab0fa0a4b20b890ac69f53e397b",
       "IPY_MODEL_a1923bb9c6b040569e39a14f8d6657fc"
      ],
      "layout": "IPY_MODEL_393727f33f0b40cda3e0e6056784f247"
     }
    },
    "5ce7b4e23fed438499bbcbb0146b3b9d": {
     "model_module": "@jupyter-widgets/base",
     "model_module_version": "1.2.0",
     "model_name": "LayoutModel",
     "state": {
      "_model_module": "@jupyter-widgets/base",
      "_model_module_version": "1.2.0",
      "_model_name": "LayoutModel",
      "_view_count": null,
      "_view_module": "@jupyter-widgets/base",
      "_view_module_version": "1.2.0",
      "_view_name": "LayoutView",
      "align_content": null,
      "align_items": null,
      "align_self": null,
      "border": null,
      "bottom": null,
      "display": null,
      "flex": null,
      "flex_flow": null,
      "grid_area": null,
      "grid_auto_columns": null,
      "grid_auto_flow": null,
      "grid_auto_rows": null,
      "grid_column": null,
      "grid_gap": null,
      "grid_row": null,
      "grid_template_areas": null,
      "grid_template_columns": null,
      "grid_template_rows": null,
      "height": null,
      "justify_content": null,
      "justify_items": null,
      "left": null,
      "margin": null,
      "max_height": null,
      "max_width": null,
      "min_height": null,
      "min_width": null,
      "object_fit": null,
      "object_position": null,
      "order": null,
      "overflow": null,
      "overflow_x": null,
      "overflow_y": null,
      "padding": null,
      "right": null,
      "top": null,
      "visibility": null,
      "width": null
     }
    },
    "5f1c7f28fcfe43fda9ca79ca8a79850b": {
     "model_module": "@jupyter-widgets/controls",
     "model_module_version": "1.5.0",
     "model_name": "ProgressStyleModel",
     "state": {
      "_model_module": "@jupyter-widgets/controls",
      "_model_module_version": "1.5.0",
      "_model_name": "ProgressStyleModel",
      "_view_count": null,
      "_view_module": "@jupyter-widgets/base",
      "_view_module_version": "1.2.0",
      "_view_name": "StyleView",
      "bar_color": null,
      "description_width": ""
     }
    },
    "603547483f7745e2bca948e81e2064d7": {
     "model_module": "@jupyter-widgets/base",
     "model_module_version": "1.2.0",
     "model_name": "LayoutModel",
     "state": {
      "_model_module": "@jupyter-widgets/base",
      "_model_module_version": "1.2.0",
      "_model_name": "LayoutModel",
      "_view_count": null,
      "_view_module": "@jupyter-widgets/base",
      "_view_module_version": "1.2.0",
      "_view_name": "LayoutView",
      "align_content": null,
      "align_items": null,
      "align_self": null,
      "border": null,
      "bottom": null,
      "display": null,
      "flex": null,
      "flex_flow": null,
      "grid_area": null,
      "grid_auto_columns": null,
      "grid_auto_flow": null,
      "grid_auto_rows": null,
      "grid_column": null,
      "grid_gap": null,
      "grid_row": null,
      "grid_template_areas": null,
      "grid_template_columns": null,
      "grid_template_rows": null,
      "height": null,
      "justify_content": null,
      "justify_items": null,
      "left": null,
      "margin": null,
      "max_height": null,
      "max_width": null,
      "min_height": null,
      "min_width": null,
      "object_fit": null,
      "object_position": null,
      "order": null,
      "overflow": null,
      "overflow_x": null,
      "overflow_y": null,
      "padding": null,
      "right": null,
      "top": null,
      "visibility": null,
      "width": null
     }
    },
    "61cc56c73fcd4fa3a855ff0f35b296c5": {
     "model_module": "@jupyter-widgets/controls",
     "model_module_version": "1.5.0",
     "model_name": "DescriptionStyleModel",
     "state": {
      "_model_module": "@jupyter-widgets/controls",
      "_model_module_version": "1.5.0",
      "_model_name": "DescriptionStyleModel",
      "_view_count": null,
      "_view_module": "@jupyter-widgets/base",
      "_view_module_version": "1.2.0",
      "_view_name": "StyleView",
      "description_width": ""
     }
    },
    "652f03b5fda5450a8f2f1987618463fc": {
     "model_module": "@jupyter-widgets/controls",
     "model_module_version": "1.5.0",
     "model_name": "DescriptionStyleModel",
     "state": {
      "_model_module": "@jupyter-widgets/controls",
      "_model_module_version": "1.5.0",
      "_model_name": "DescriptionStyleModel",
      "_view_count": null,
      "_view_module": "@jupyter-widgets/base",
      "_view_module_version": "1.2.0",
      "_view_name": "StyleView",
      "description_width": ""
     }
    },
    "654f99120ba54a98b8c393d4acfbfc9d": {
     "model_module": "@jupyter-widgets/base",
     "model_module_version": "1.2.0",
     "model_name": "LayoutModel",
     "state": {
      "_model_module": "@jupyter-widgets/base",
      "_model_module_version": "1.2.0",
      "_model_name": "LayoutModel",
      "_view_count": null,
      "_view_module": "@jupyter-widgets/base",
      "_view_module_version": "1.2.0",
      "_view_name": "LayoutView",
      "align_content": null,
      "align_items": null,
      "align_self": null,
      "border": null,
      "bottom": null,
      "display": null,
      "flex": null,
      "flex_flow": null,
      "grid_area": null,
      "grid_auto_columns": null,
      "grid_auto_flow": null,
      "grid_auto_rows": null,
      "grid_column": null,
      "grid_gap": null,
      "grid_row": null,
      "grid_template_areas": null,
      "grid_template_columns": null,
      "grid_template_rows": null,
      "height": null,
      "justify_content": null,
      "justify_items": null,
      "left": null,
      "margin": null,
      "max_height": null,
      "max_width": null,
      "min_height": null,
      "min_width": null,
      "object_fit": null,
      "object_position": null,
      "order": null,
      "overflow": null,
      "overflow_x": null,
      "overflow_y": null,
      "padding": null,
      "right": null,
      "top": null,
      "visibility": null,
      "width": null
     }
    },
    "6c76765ebb714e399c64fcacc1830fc3": {
     "model_module": "@jupyter-widgets/controls",
     "model_module_version": "1.5.0",
     "model_name": "HBoxModel",
     "state": {
      "_dom_classes": [],
      "_model_module": "@jupyter-widgets/controls",
      "_model_module_version": "1.5.0",
      "_model_name": "HBoxModel",
      "_view_count": null,
      "_view_module": "@jupyter-widgets/controls",
      "_view_module_version": "1.5.0",
      "_view_name": "HBoxView",
      "box_style": "",
      "children": [
       "IPY_MODEL_83069c0c1b734199b97abe7ed8fc1a65",
       "IPY_MODEL_b4a4e8f8e77d4221abd33defa6aee3a1",
       "IPY_MODEL_253576b09d244556af3efe2259877567"
      ],
      "layout": "IPY_MODEL_82fb9010b87443559b08b9c270e2c3df"
     }
    },
    "6febc21ab3874135aad25b6ce2a7c5b4": {
     "model_module": "@jupyter-widgets/controls",
     "model_module_version": "1.5.0",
     "model_name": "HTMLModel",
     "state": {
      "_dom_classes": [],
      "_model_module": "@jupyter-widgets/controls",
      "_model_module_version": "1.5.0",
      "_model_name": "HTMLModel",
      "_view_count": null,
      "_view_module": "@jupyter-widgets/controls",
      "_view_module_version": "1.5.0",
      "_view_name": "HTMLView",
      "description": "",
      "description_tooltip": null,
      "layout": "IPY_MODEL_5ce7b4e23fed438499bbcbb0146b3b9d",
      "placeholder": "​",
      "style": "IPY_MODEL_541e9e8403b24463892b0273dea95efa",
      "value": " 1.25M/1.25M [00:00&lt;00:00, 3.40MB/s]"
     }
    },
    "7487f9c68d46459c8b3248a493a6f11a": {
     "model_module": "@jupyter-widgets/controls",
     "model_module_version": "1.5.0",
     "model_name": "FloatProgressModel",
     "state": {
      "_dom_classes": [],
      "_model_module": "@jupyter-widgets/controls",
      "_model_module_version": "1.5.0",
      "_model_name": "FloatProgressModel",
      "_view_count": null,
      "_view_module": "@jupyter-widgets/controls",
      "_view_module_version": "1.5.0",
      "_view_name": "ProgressView",
      "bar_style": "success",
      "description": "",
      "description_tooltip": null,
      "layout": "IPY_MODEL_767b3022bc604b59ac7881775dae4c73",
      "max": 684,
      "min": 0,
      "orientation": "horizontal",
      "style": "IPY_MODEL_4641d748e691425fb5eb78c4f1713d9b",
      "value": 684
     }
    },
    "767b3022bc604b59ac7881775dae4c73": {
     "model_module": "@jupyter-widgets/base",
     "model_module_version": "1.2.0",
     "model_name": "LayoutModel",
     "state": {
      "_model_module": "@jupyter-widgets/base",
      "_model_module_version": "1.2.0",
      "_model_name": "LayoutModel",
      "_view_count": null,
      "_view_module": "@jupyter-widgets/base",
      "_view_module_version": "1.2.0",
      "_view_name": "LayoutView",
      "align_content": null,
      "align_items": null,
      "align_self": null,
      "border": null,
      "bottom": null,
      "display": null,
      "flex": null,
      "flex_flow": null,
      "grid_area": null,
      "grid_auto_columns": null,
      "grid_auto_flow": null,
      "grid_auto_rows": null,
      "grid_column": null,
      "grid_gap": null,
      "grid_row": null,
      "grid_template_areas": null,
      "grid_template_columns": null,
      "grid_template_rows": null,
      "height": null,
      "justify_content": null,
      "justify_items": null,
      "left": null,
      "margin": null,
      "max_height": null,
      "max_width": null,
      "min_height": null,
      "min_width": null,
      "object_fit": null,
      "object_position": null,
      "order": null,
      "overflow": null,
      "overflow_x": null,
      "overflow_y": null,
      "padding": null,
      "right": null,
      "top": null,
      "visibility": null,
      "width": null
     }
    },
    "7ee25f3985a541c0a8a16f7d7af85d71": {
     "model_module": "@jupyter-widgets/base",
     "model_module_version": "1.2.0",
     "model_name": "LayoutModel",
     "state": {
      "_model_module": "@jupyter-widgets/base",
      "_model_module_version": "1.2.0",
      "_model_name": "LayoutModel",
      "_view_count": null,
      "_view_module": "@jupyter-widgets/base",
      "_view_module_version": "1.2.0",
      "_view_name": "LayoutView",
      "align_content": null,
      "align_items": null,
      "align_self": null,
      "border": null,
      "bottom": null,
      "display": null,
      "flex": null,
      "flex_flow": null,
      "grid_area": null,
      "grid_auto_columns": null,
      "grid_auto_flow": null,
      "grid_auto_rows": null,
      "grid_column": null,
      "grid_gap": null,
      "grid_row": null,
      "grid_template_areas": null,
      "grid_template_columns": null,
      "grid_template_rows": null,
      "height": null,
      "justify_content": null,
      "justify_items": null,
      "left": null,
      "margin": null,
      "max_height": null,
      "max_width": null,
      "min_height": null,
      "min_width": null,
      "object_fit": null,
      "object_position": null,
      "order": null,
      "overflow": null,
      "overflow_x": null,
      "overflow_y": null,
      "padding": null,
      "right": null,
      "top": null,
      "visibility": null,
      "width": null
     }
    },
    "7fad4796a9b34a7fae88b9fa031cf1f9": {
     "model_module": "@jupyter-widgets/controls",
     "model_module_version": "1.5.0",
     "model_name": "DescriptionStyleModel",
     "state": {
      "_model_module": "@jupyter-widgets/controls",
      "_model_module_version": "1.5.0",
      "_model_name": "DescriptionStyleModel",
      "_view_count": null,
      "_view_module": "@jupyter-widgets/base",
      "_view_module_version": "1.2.0",
      "_view_name": "StyleView",
      "description_width": ""
     }
    },
    "816406336bd04024bb530d1c5d152072": {
     "model_module": "@jupyter-widgets/base",
     "model_module_version": "1.2.0",
     "model_name": "LayoutModel",
     "state": {
      "_model_module": "@jupyter-widgets/base",
      "_model_module_version": "1.2.0",
      "_model_name": "LayoutModel",
      "_view_count": null,
      "_view_module": "@jupyter-widgets/base",
      "_view_module_version": "1.2.0",
      "_view_name": "LayoutView",
      "align_content": null,
      "align_items": null,
      "align_self": null,
      "border": null,
      "bottom": null,
      "display": null,
      "flex": null,
      "flex_flow": null,
      "grid_area": null,
      "grid_auto_columns": null,
      "grid_auto_flow": null,
      "grid_auto_rows": null,
      "grid_column": null,
      "grid_gap": null,
      "grid_row": null,
      "grid_template_areas": null,
      "grid_template_columns": null,
      "grid_template_rows": null,
      "height": null,
      "justify_content": null,
      "justify_items": null,
      "left": null,
      "margin": null,
      "max_height": null,
      "max_width": null,
      "min_height": null,
      "min_width": null,
      "object_fit": null,
      "object_position": null,
      "order": null,
      "overflow": null,
      "overflow_x": null,
      "overflow_y": null,
      "padding": null,
      "right": null,
      "top": null,
      "visibility": null,
      "width": null
     }
    },
    "82fb9010b87443559b08b9c270e2c3df": {
     "model_module": "@jupyter-widgets/base",
     "model_module_version": "1.2.0",
     "model_name": "LayoutModel",
     "state": {
      "_model_module": "@jupyter-widgets/base",
      "_model_module_version": "1.2.0",
      "_model_name": "LayoutModel",
      "_view_count": null,
      "_view_module": "@jupyter-widgets/base",
      "_view_module_version": "1.2.0",
      "_view_name": "LayoutView",
      "align_content": null,
      "align_items": null,
      "align_self": null,
      "border": null,
      "bottom": null,
      "display": null,
      "flex": null,
      "flex_flow": null,
      "grid_area": null,
      "grid_auto_columns": null,
      "grid_auto_flow": null,
      "grid_auto_rows": null,
      "grid_column": null,
      "grid_gap": null,
      "grid_row": null,
      "grid_template_areas": null,
      "grid_template_columns": null,
      "grid_template_rows": null,
      "height": null,
      "justify_content": null,
      "justify_items": null,
      "left": null,
      "margin": null,
      "max_height": null,
      "max_width": null,
      "min_height": null,
      "min_width": null,
      "object_fit": null,
      "object_position": null,
      "order": null,
      "overflow": null,
      "overflow_x": null,
      "overflow_y": null,
      "padding": null,
      "right": null,
      "top": null,
      "visibility": null,
      "width": null
     }
    },
    "83069c0c1b734199b97abe7ed8fc1a65": {
     "model_module": "@jupyter-widgets/controls",
     "model_module_version": "1.5.0",
     "model_name": "HTMLModel",
     "state": {
      "_dom_classes": [],
      "_model_module": "@jupyter-widgets/controls",
      "_model_module_version": "1.5.0",
      "_model_name": "HTMLModel",
      "_view_count": null,
      "_view_module": "@jupyter-widgets/controls",
      "_view_module_version": "1.5.0",
      "_view_name": "HTMLView",
      "description": "",
      "description_tooltip": null,
      "layout": "IPY_MODEL_935d5a77e34641eab6c4b69a3d8e40e8",
      "placeholder": "​",
      "style": "IPY_MODEL_20149ea0cc3840258b866615e18943f7",
      "value": "Downloading: 100%"
     }
    },
    "8958b087e2da46b390095ce9a19a876a": {
     "model_module": "@jupyter-widgets/controls",
     "model_module_version": "1.5.0",
     "model_name": "FloatProgressModel",
     "state": {
      "_dom_classes": [],
      "_model_module": "@jupyter-widgets/controls",
      "_model_module_version": "1.5.0",
      "_model_name": "FloatProgressModel",
      "_view_count": null,
      "_view_module": "@jupyter-widgets/controls",
      "_view_module_version": "1.5.0",
      "_view_name": "ProgressView",
      "bar_style": "success",
      "description": "",
      "description_tooltip": null,
      "layout": "IPY_MODEL_f1917cd19aa84f4c83159567c3c05b45",
      "max": 1312669,
      "min": 0,
      "orientation": "horizontal",
      "style": "IPY_MODEL_a4355acb75184573ba0a95e4cdac0fd5",
      "value": 1312669
     }
    },
    "89ef8666ee764d6b9269b63dc01512c4": {
     "model_module": "@jupyter-widgets/controls",
     "model_module_version": "1.5.0",
     "model_name": "DescriptionStyleModel",
     "state": {
      "_model_module": "@jupyter-widgets/controls",
      "_model_module_version": "1.5.0",
      "_model_name": "DescriptionStyleModel",
      "_view_count": null,
      "_view_module": "@jupyter-widgets/base",
      "_view_module_version": "1.2.0",
      "_view_name": "StyleView",
      "description_width": ""
     }
    },
    "935d5a77e34641eab6c4b69a3d8e40e8": {
     "model_module": "@jupyter-widgets/base",
     "model_module_version": "1.2.0",
     "model_name": "LayoutModel",
     "state": {
      "_model_module": "@jupyter-widgets/base",
      "_model_module_version": "1.2.0",
      "_model_name": "LayoutModel",
      "_view_count": null,
      "_view_module": "@jupyter-widgets/base",
      "_view_module_version": "1.2.0",
      "_view_name": "LayoutView",
      "align_content": null,
      "align_items": null,
      "align_self": null,
      "border": null,
      "bottom": null,
      "display": null,
      "flex": null,
      "flex_flow": null,
      "grid_area": null,
      "grid_auto_columns": null,
      "grid_auto_flow": null,
      "grid_auto_rows": null,
      "grid_column": null,
      "grid_gap": null,
      "grid_row": null,
      "grid_template_areas": null,
      "grid_template_columns": null,
      "grid_template_rows": null,
      "height": null,
      "justify_content": null,
      "justify_items": null,
      "left": null,
      "margin": null,
      "max_height": null,
      "max_width": null,
      "min_height": null,
      "min_width": null,
      "object_fit": null,
      "object_position": null,
      "order": null,
      "overflow": null,
      "overflow_x": null,
      "overflow_y": null,
      "padding": null,
      "right": null,
      "top": null,
      "visibility": null,
      "width": null
     }
    },
    "9eb1e44811f444959632a7145f47c091": {
     "model_module": "@jupyter-widgets/controls",
     "model_module_version": "1.5.0",
     "model_name": "HBoxModel",
     "state": {
      "_dom_classes": [],
      "_model_module": "@jupyter-widgets/controls",
      "_model_module_version": "1.5.0",
      "_model_name": "HBoxModel",
      "_view_count": null,
      "_view_module": "@jupyter-widgets/controls",
      "_view_module_version": "1.5.0",
      "_view_name": "HBoxView",
      "box_style": "",
      "children": [
       "IPY_MODEL_aeb01c49bce240029462df11813b915a",
       "IPY_MODEL_7487f9c68d46459c8b3248a493a6f11a",
       "IPY_MODEL_d4785d62bf8e47c6a81217a5a59d1a82"
      ],
      "layout": "IPY_MODEL_603547483f7745e2bca948e81e2064d7"
     }
    },
    "a1923bb9c6b040569e39a14f8d6657fc": {
     "model_module": "@jupyter-widgets/controls",
     "model_module_version": "1.5.0",
     "model_name": "HTMLModel",
     "state": {
      "_dom_classes": [],
      "_model_module": "@jupyter-widgets/controls",
      "_model_module_version": "1.5.0",
      "_model_name": "HTMLModel",
      "_view_count": null,
      "_view_module": "@jupyter-widgets/controls",
      "_view_module_version": "1.5.0",
      "_view_name": "HTMLView",
      "description": "",
      "description_tooltip": null,
      "layout": "IPY_MODEL_654f99120ba54a98b8c393d4acfbfc9d",
      "placeholder": "​",
      "style": "IPY_MODEL_89ef8666ee764d6b9269b63dc01512c4",
      "value": " 45.2M/45.2M [00:01&lt;00:00, 32.7MB/s]"
     }
    },
    "a4355acb75184573ba0a95e4cdac0fd5": {
     "model_module": "@jupyter-widgets/controls",
     "model_module_version": "1.5.0",
     "model_name": "ProgressStyleModel",
     "state": {
      "_model_module": "@jupyter-widgets/controls",
      "_model_module_version": "1.5.0",
      "_model_name": "ProgressStyleModel",
      "_view_count": null,
      "_view_module": "@jupyter-widgets/base",
      "_view_module_version": "1.2.0",
      "_view_name": "StyleView",
      "bar_color": null,
      "description_width": ""
     }
    },
    "a8efe78c4ad54c3bb03e1ec75e910ef2": {
     "model_module": "@jupyter-widgets/controls",
     "model_module_version": "1.5.0",
     "model_name": "HTMLModel",
     "state": {
      "_dom_classes": [],
      "_model_module": "@jupyter-widgets/controls",
      "_model_module_version": "1.5.0",
      "_model_name": "HTMLModel",
      "_view_count": null,
      "_view_module": "@jupyter-widgets/controls",
      "_view_module_version": "1.5.0",
      "_view_name": "HTMLView",
      "description": "",
      "description_tooltip": null,
      "layout": "IPY_MODEL_5c8cf300612c40df80d66c2b39658634",
      "placeholder": "​",
      "style": "IPY_MODEL_7fad4796a9b34a7fae88b9fa031cf1f9",
      "value": "Downloading: 100%"
     }
    },
    "aeb01c49bce240029462df11813b915a": {
     "model_module": "@jupyter-widgets/controls",
     "model_module_version": "1.5.0",
     "model_name": "HTMLModel",
     "state": {
      "_dom_classes": [],
      "_model_module": "@jupyter-widgets/controls",
      "_model_module_version": "1.5.0",
      "_model_name": "HTMLModel",
      "_view_count": null,
      "_view_module": "@jupyter-widgets/controls",
      "_view_module_version": "1.5.0",
      "_view_name": "HTMLView",
      "description": "",
      "description_tooltip": null,
      "layout": "IPY_MODEL_816406336bd04024bb530d1c5d152072",
      "placeholder": "​",
      "style": "IPY_MODEL_652f03b5fda5450a8f2f1987618463fc",
      "value": "Downloading: 100%"
     }
    },
    "b4a4e8f8e77d4221abd33defa6aee3a1": {
     "model_module": "@jupyter-widgets/controls",
     "model_module_version": "1.5.0",
     "model_name": "FloatProgressModel",
     "state": {
      "_dom_classes": [],
      "_model_module": "@jupyter-widgets/controls",
      "_model_module_version": "1.5.0",
      "_model_name": "FloatProgressModel",
      "_view_count": null,
      "_view_module": "@jupyter-widgets/controls",
      "_view_module_version": "1.5.0",
      "_view_name": "ProgressView",
      "bar_style": "success",
      "description": "",
      "description_tooltip": null,
      "layout": "IPY_MODEL_1d1a24077fae4fb5893049d84f7ddba6",
      "max": 760289,
      "min": 0,
      "orientation": "horizontal",
      "style": "IPY_MODEL_c7822a7eb66845dca3453450bc1876b9",
      "value": 760289
     }
    },
    "c296c48070d04bfdadecf4017bb94596": {
     "model_module": "@jupyter-widgets/base",
     "model_module_version": "1.2.0",
     "model_name": "LayoutModel",
     "state": {
      "_model_module": "@jupyter-widgets/base",
      "_model_module_version": "1.2.0",
      "_model_name": "LayoutModel",
      "_view_count": null,
      "_view_module": "@jupyter-widgets/base",
      "_view_module_version": "1.2.0",
      "_view_name": "LayoutView",
      "align_content": null,
      "align_items": null,
      "align_self": null,
      "border": null,
      "bottom": null,
      "display": null,
      "flex": null,
      "flex_flow": null,
      "grid_area": null,
      "grid_auto_columns": null,
      "grid_auto_flow": null,
      "grid_auto_rows": null,
      "grid_column": null,
      "grid_gap": null,
      "grid_row": null,
      "grid_template_areas": null,
      "grid_template_columns": null,
      "grid_template_rows": null,
      "height": null,
      "justify_content": null,
      "justify_items": null,
      "left": null,
      "margin": null,
      "max_height": null,
      "max_width": null,
      "min_height": null,
      "min_width": null,
      "object_fit": null,
      "object_position": null,
      "order": null,
      "overflow": null,
      "overflow_x": null,
      "overflow_y": null,
      "padding": null,
      "right": null,
      "top": null,
      "visibility": null,
      "width": null
     }
    },
    "c7822a7eb66845dca3453450bc1876b9": {
     "model_module": "@jupyter-widgets/controls",
     "model_module_version": "1.5.0",
     "model_name": "ProgressStyleModel",
     "state": {
      "_model_module": "@jupyter-widgets/controls",
      "_model_module_version": "1.5.0",
      "_model_name": "ProgressStyleModel",
      "_view_count": null,
      "_view_module": "@jupyter-widgets/base",
      "_view_module_version": "1.2.0",
      "_view_name": "StyleView",
      "bar_color": null,
      "description_width": ""
     }
    },
    "d4785d62bf8e47c6a81217a5a59d1a82": {
     "model_module": "@jupyter-widgets/controls",
     "model_module_version": "1.5.0",
     "model_name": "HTMLModel",
     "state": {
      "_dom_classes": [],
      "_model_module": "@jupyter-widgets/controls",
      "_model_module_version": "1.5.0",
      "_model_name": "HTMLModel",
      "_view_count": null,
      "_view_module": "@jupyter-widgets/controls",
      "_view_module_version": "1.5.0",
      "_view_name": "HTMLView",
      "description": "",
      "description_tooltip": null,
      "layout": "IPY_MODEL_42fe94b181674779a44a7e0c7e8cfdcc",
      "placeholder": "​",
      "style": "IPY_MODEL_61cc56c73fcd4fa3a855ff0f35b296c5",
      "value": " 684/684 [00:00&lt;00:00, 7.10kB/s]"
     }
    },
    "d881dab0fa0a4b20b890ac69f53e397b": {
     "model_module": "@jupyter-widgets/controls",
     "model_module_version": "1.5.0",
     "model_name": "FloatProgressModel",
     "state": {
      "_dom_classes": [],
      "_model_module": "@jupyter-widgets/controls",
      "_model_module_version": "1.5.0",
      "_model_name": "FloatProgressModel",
      "_view_count": null,
      "_view_module": "@jupyter-widgets/controls",
      "_view_module_version": "1.5.0",
      "_view_name": "ProgressView",
      "bar_style": "success",
      "description": "",
      "description_tooltip": null,
      "layout": "IPY_MODEL_03045c0e1c5c49d5befd38f221960d5b",
      "max": 47376696,
      "min": 0,
      "orientation": "horizontal",
      "style": "IPY_MODEL_5f1c7f28fcfe43fda9ca79ca8a79850b",
      "value": 47376696
     }
    },
    "e07fa3a430a140be8d00e417865762ef": {
     "model_module": "@jupyter-widgets/base",
     "model_module_version": "1.2.0",
     "model_name": "LayoutModel",
     "state": {
      "_model_module": "@jupyter-widgets/base",
      "_model_module_version": "1.2.0",
      "_model_name": "LayoutModel",
      "_view_count": null,
      "_view_module": "@jupyter-widgets/base",
      "_view_module_version": "1.2.0",
      "_view_name": "LayoutView",
      "align_content": null,
      "align_items": null,
      "align_self": null,
      "border": null,
      "bottom": null,
      "display": null,
      "flex": null,
      "flex_flow": null,
      "grid_area": null,
      "grid_auto_columns": null,
      "grid_auto_flow": null,
      "grid_auto_rows": null,
      "grid_column": null,
      "grid_gap": null,
      "grid_row": null,
      "grid_template_areas": null,
      "grid_template_columns": null,
      "grid_template_rows": null,
      "height": null,
      "justify_content": null,
      "justify_items": null,
      "left": null,
      "margin": null,
      "max_height": null,
      "max_width": null,
      "min_height": null,
      "min_width": null,
      "object_fit": null,
      "object_position": null,
      "order": null,
      "overflow": null,
      "overflow_x": null,
      "overflow_y": null,
      "padding": null,
      "right": null,
      "top": null,
      "visibility": null,
      "width": null
     }
    },
    "f1917cd19aa84f4c83159567c3c05b45": {
     "model_module": "@jupyter-widgets/base",
     "model_module_version": "1.2.0",
     "model_name": "LayoutModel",
     "state": {
      "_model_module": "@jupyter-widgets/base",
      "_model_module_version": "1.2.0",
      "_model_name": "LayoutModel",
      "_view_count": null,
      "_view_module": "@jupyter-widgets/base",
      "_view_module_version": "1.2.0",
      "_view_name": "LayoutView",
      "align_content": null,
      "align_items": null,
      "align_self": null,
      "border": null,
      "bottom": null,
      "display": null,
      "flex": null,
      "flex_flow": null,
      "grid_area": null,
      "grid_auto_columns": null,
      "grid_auto_flow": null,
      "grid_auto_rows": null,
      "grid_column": null,
      "grid_gap": null,
      "grid_row": null,
      "grid_template_areas": null,
      "grid_template_columns": null,
      "grid_template_rows": null,
      "height": null,
      "justify_content": null,
      "justify_items": null,
      "left": null,
      "margin": null,
      "max_height": null,
      "max_width": null,
      "min_height": null,
      "min_width": null,
      "object_fit": null,
      "object_position": null,
      "order": null,
      "overflow": null,
      "overflow_x": null,
      "overflow_y": null,
      "padding": null,
      "right": null,
      "top": null,
      "visibility": null,
      "width": null
     }
    }
   }
  }
 },
 "nbformat": 4,
 "nbformat_minor": 1
}
