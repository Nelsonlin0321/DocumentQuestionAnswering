{
 "cells": [
  {
   "cell_type": "code",
   "execution_count": 1,
   "metadata": {
    "colab": {
     "base_uri": "https://localhost:8080/",
     "height": 17
    },
    "executionInfo": {
     "elapsed": 8,
     "status": "ok",
     "timestamp": 1643881542858,
     "user": {
      "displayName": "Nelson L.",
      "photoUrl": "https://lh3.googleusercontent.com/a-/AOh14GipnVJXi8Vo7o6qBMpdgcfZB2j9TYnsly5vDf6nig=s64",
      "userId": "03694478629413699942"
     },
     "user_tz": -480
    },
    "id": "NcSfcGFBcd4V",
    "outputId": "82c0b273-ef2c-4184-a3c6-864bfe1284b7"
   },
   "outputs": [
    {
     "data": {
      "text/html": [
       "<style type='text/css'>\n",
       ".CodeMirror{\n",
       "    font-size: 16px;\n",
       "    font-family: Monaco;\n",
       "}\n",
       "\n",
       "div.output_area pre {\n",
       "    font-size: 12px;\n",
       "}\n",
       "</style>\n"
      ],
      "text/plain": [
       "<IPython.core.display.HTML object>"
      ]
     },
     "metadata": {},
     "output_type": "display_data"
    }
   ],
   "source": [
    "%%html\n",
    "<style type='text/css'>\n",
    ".CodeMirror{\n",
    "    font-size: 16px;\n",
    "    font-family: Monaco;\n",
    "}\n",
    "\n",
    "div.output_area pre {\n",
    "    font-size: 12px;\n",
    "}\n",
    "</style>"
   ]
  },
  {
   "cell_type": "code",
   "execution_count": 2,
   "metadata": {
    "executionInfo": {
     "elapsed": 7,
     "status": "ok",
     "timestamp": 1643881542859,
     "user": {
      "displayName": "Nelson L.",
      "photoUrl": "https://lh3.googleusercontent.com/a-/AOh14GipnVJXi8Vo7o6qBMpdgcfZB2j9TYnsly5vDf6nig=s64",
      "userId": "03694478629413699942"
     },
     "user_tz": -480
    },
    "id": "Njmo2zJTcd4a"
   },
   "outputs": [],
   "source": [
    "import os\n",
    "os.chdir(os.getcwd()+\"./..\")"
   ]
  },
  {
   "cell_type": "code",
   "execution_count": 3,
   "metadata": {},
   "outputs": [
    {
     "data": {
      "text/html": [
       "<div>\n",
       "<style scoped>\n",
       "    .dataframe tbody tr th:only-of-type {\n",
       "        vertical-align: middle;\n",
       "    }\n",
       "\n",
       "    .dataframe tbody tr th {\n",
       "        vertical-align: top;\n",
       "    }\n",
       "\n",
       "    .dataframe thead th {\n",
       "        text-align: right;\n",
       "    }\n",
       "</style>\n",
       "<table border=\"1\" class=\"dataframe\">\n",
       "  <thead>\n",
       "    <tr style=\"text-align: right;\">\n",
       "      <th></th>\n",
       "      <th>id</th>\n",
       "      <th>title</th>\n",
       "      <th>context</th>\n",
       "      <th>question</th>\n",
       "      <th>answer_text</th>\n",
       "      <th>answer_start</th>\n",
       "      <th>is_impossible</th>\n",
       "    </tr>\n",
       "  </thead>\n",
       "  <tbody>\n",
       "    <tr>\n",
       "      <th>111315</th>\n",
       "      <td>5733e3164776f4190066142c</td>\n",
       "      <td>Premier_League</td>\n",
       "      <td>However, by the turn of the 1990s the downward...</td>\n",
       "      <td>In which year was the Taylor Report published?</td>\n",
       "      <td>1990</td>\n",
       "      <td>280</td>\n",
       "      <td>False</td>\n",
       "    </tr>\n",
       "    <tr>\n",
       "      <th>65020</th>\n",
       "      <td>5726c22c5951b619008f7d6b</td>\n",
       "      <td>Cubism</td>\n",
       "      <td>The term Cubism did not come into general usag...</td>\n",
       "      <td>What year did the term Cubism become used more?</td>\n",
       "      <td>1911</td>\n",
       "      <td>54</td>\n",
       "      <td>False</td>\n",
       "    </tr>\n",
       "    <tr>\n",
       "      <th>5398</th>\n",
       "      <td>56d1e3efe7d4791d00902343</td>\n",
       "      <td>Buddhism</td>\n",
       "      <td>Suffering (Pāli: दुक्ख dukkha; Sanskrit दुःख d...</td>\n",
       "      <td>Suffering is a central concept in what?</td>\n",
       "      <td>Buddhism</td>\n",
       "      <td>82</td>\n",
       "      <td>False</td>\n",
       "    </tr>\n",
       "    <tr>\n",
       "      <th>90700</th>\n",
       "      <td>5729125daf94a219006aa028</td>\n",
       "      <td>Insect</td>\n",
       "      <td>Humans regard certain insects as pests, and at...</td>\n",
       "      <td>Humans can control insects using what?</td>\n",
       "      <td>insecticides</td>\n",
       "      <td>74</td>\n",
       "      <td>False</td>\n",
       "    </tr>\n",
       "    <tr>\n",
       "      <th>5050</th>\n",
       "      <td>56d12aa917492d1400aabb24</td>\n",
       "      <td>Kanye_West</td>\n",
       "      <td>Music fans have turned to Change.org around th...</td>\n",
       "      <td>How many signatures were gathered for Kanye's ...</td>\n",
       "      <td>50,000</td>\n",
       "      <td>435</td>\n",
       "      <td>False</td>\n",
       "    </tr>\n",
       "  </tbody>\n",
       "</table>\n",
       "</div>"
      ],
      "text/plain": [
       "                              id           title  \\\n",
       "111315  5733e3164776f4190066142c  Premier_League   \n",
       "65020   5726c22c5951b619008f7d6b          Cubism   \n",
       "5398    56d1e3efe7d4791d00902343        Buddhism   \n",
       "90700   5729125daf94a219006aa028          Insect   \n",
       "5050    56d12aa917492d1400aabb24      Kanye_West   \n",
       "\n",
       "                                                  context  \\\n",
       "111315  However, by the turn of the 1990s the downward...   \n",
       "65020   The term Cubism did not come into general usag...   \n",
       "5398    Suffering (Pāli: दुक्ख dukkha; Sanskrit दुःख d...   \n",
       "90700   Humans regard certain insects as pests, and at...   \n",
       "5050    Music fans have turned to Change.org around th...   \n",
       "\n",
       "                                                 question   answer_text  \\\n",
       "111315     In which year was the Taylor Report published?          1990   \n",
       "65020     What year did the term Cubism become used more?          1911   \n",
       "5398              Suffering is a central concept in what?      Buddhism   \n",
       "90700              Humans can control insects using what?  insecticides   \n",
       "5050    How many signatures were gathered for Kanye's ...        50,000   \n",
       "\n",
       "        answer_start  is_impossible  \n",
       "111315           280          False  \n",
       "65020             54          False  \n",
       "5398              82          False  \n",
       "90700             74          False  \n",
       "5050             435          False  "
      ]
     },
     "execution_count": 3,
     "metadata": {},
     "output_type": "execute_result"
    }
   ],
   "source": [
    "from project_modules.utils import get_squad_v2_pandas_dataframe\n",
    "\n",
    "squad_train_df, squad_dev_df = get_squad_v2_pandas_dataframe()\n",
    "\n",
    "from sklearn.utils import shuffle\n",
    "\n",
    "squad_train_df = shuffle(squad_train_df)\n",
    "\n",
    "squad_train_df.head()\n",
    "\n",
    "question = squad_train_df['question'].iloc[0]\n",
    "context_list = squad_train_df.head(10)['context'].to_list()"
   ]
  },
  {
   "cell_type": "code",
   "execution_count": 4,
   "metadata": {},
   "outputs": [],
   "source": [
    "from project_modules.config import document_selection_model_config"
   ]
  },
  {
   "cell_type": "code",
   "execution_count": 5,
   "metadata": {},
   "outputs": [],
   "source": [
    "from project_modules.models import DocumentSelectionModelLoader,TwinAlBerts"
   ]
  },
  {
   "cell_type": "code",
   "execution_count": 6,
   "metadata": {},
   "outputs": [],
   "source": [
    "model  = DocumentSelectionModelLoader(document_selection_model_config)"
   ]
  },
  {
   "cell_type": "code",
   "execution_count": 7,
   "metadata": {},
   "outputs": [
    {
     "data": {
      "text/plain": [
       "{'pred': [1, 0, 0, 0, 0, 0, 0, 0, 0, 0],\n",
       " 'prob': [0.95924914,\n",
       "  0.103765585,\n",
       "  0.076216474,\n",
       "  0.037969753,\n",
       "  0.039975353,\n",
       "  0.04691883,\n",
       "  0.037099537,\n",
       "  0.08816648,\n",
       "  0.050162114,\n",
       "  0.03922937]}"
      ]
     },
     "execution_count": 7,
     "metadata": {},
     "output_type": "execute_result"
    }
   ],
   "source": [
    "model.predict(question,context_list)"
   ]
  },
  {
   "cell_type": "code",
   "execution_count": 8,
   "metadata": {},
   "outputs": [],
   "source": [
    "from project_modules.utils import read_document_dict"
   ]
  },
  {
   "cell_type": "code",
   "execution_count": 9,
   "metadata": {},
   "outputs": [],
   "source": [
    "from project_modules.config import flask_config, project_config"
   ]
  },
  {
   "cell_type": "code",
   "execution_count": 10,
   "metadata": {},
   "outputs": [],
   "source": [
    "UPLOAD_FOLDER = project_config.upload_folder"
   ]
  },
  {
   "cell_type": "code",
   "execution_count": 11,
   "metadata": {},
   "outputs": [],
   "source": [
    "document_dict = read_document_dict(UPLOAD_FOLDER)"
   ]
  },
  {
   "cell_type": "code",
   "execution_count": 12,
   "metadata": {},
   "outputs": [],
   "source": [
    "title_document_list = [(title,\"\\n\".join(sentence_list)) for title, sentence_list in document_dict.items()]"
   ]
  },
  {
   "cell_type": "code",
   "execution_count": 13,
   "metadata": {},
   "outputs": [
    {
     "data": {
      "text/plain": [
       "[('Apple Reports First Quarter Results',\n",
       "  'CUPERTINO, CALIFORNIA JANUARY 27, 2022 Apple today announced financial results for its fiscal 2022 first quarter ended December 25, 2021. The Company posted an all-time revenue record of $123.9 billion, up 11 percent year over year, and quarterly earnings per diluted share of $2.10.\\n“This quarter’s record results were made possible by our most innovative lineup of products and services ever,” said Tim Cook, Apple’s CEO. “We are gratified to see the response from customers around the world at a time when staying connected has never been more important. We are doing all we can to help build a better world — making progress toward our goal of becoming carbon neutral across our supply chain and products by 2030, and pushing forward with our work in education and racial equity and justice.”\\n“The very strong customer response to our recent launch of new products and services drove double-digit growth in revenue and earnings, and helped set an all-time high for our installed base of active devices,” said Luca Maestri, Apple’s CFO. “These record operating results allowed us to return nearly $27 billion to our shareholders during the quarter, as we maintain our target of reaching a net cash neutral position over time.”\\nApple’s board of directors has declared a cash dividend of $0.22 per share of the Company’s common stock. The dividend is payable on February 10, 2022 to shareholders of record as of the close of business on February 7, 2022.\\nApple will provide live streaming of its Q1 2022 financial results conference call beginning at 2:00 p.m. PT on January 27, 2022 at apple.com/investor/earnings-call. This webcast will also be available for replay for approximately two weeks thereafter.'),\n",
       " ('Gerson Lehrman Group',\n",
       "  'GLG (Gerson Lehrman Group, Inc.) is a financial and global information services company headquartered in New York City. The company provides financial information and advises investors and consultants with business clients seeking expert advice.[2] It is the world\\'s largest expert network, with over 900,000 freelance consultants.[3] GLG\\'s experts include asset managers, investors, consultants, physicians, scientists, engineers, lawyers, senior current and former c-level executives, and former government members.[4][5] GLG\\'s clients include strategy consulting corporations, hedge funds, private equity firms, professional service firms, and non-profit organizations.[6][7][8][9]\\nThe firm was founded in 1998 and has been backed by private equity firms Silver Lake Partners,[10] Bessemer Venture Partners,[11] and SFW Capital Partners.[12][9] GLG is headquartered in New York City, with offices in 22 cities in 12 countries. [9]\\nHistory\\nGerson Lehrman Group was founded by Yale Law School graduates Mark Gerson and Thomas Lehrman in 1998. Alexander Saint-Amand, a former Bloomberg reporter, joined GLG shortly after, and served as CEO until 2018.[13][14]\\nGLG, initially funded by friends and family, was formed as a publishing house to produce industry guidebooks for institutional investors. However, the founders discovered that their clients wanted to talk directly to experts in casual conversations, rather than reading formal written reports. Accordingly, in 1999, GLG abandoned its publishing business and began offering subscriptions to its network of experts.[15]\\nGLG\\'s first customers were investors, and most of their growth from 1999 to 2005 was within the investment community. In 2006, they began working with big strategy consultancies and with companies in life sciences, chemicals and industrials, and technology. By 2010, The Wall Street Journal had described GLG as \"dominating the U.S. expert networking industry\".[16]\\nThe expert network business model has drawn scrutiny for concerns relating to adherence to disclosure rules and insider trading within the investment industry.[17] GLG\\'s policies include prohibitions against consultants sharing any nonpublic information about their employer or any public company, violating any ethical or legal restrictions relevant to consultants, or violating any laws.[2]\\nIn 2018, GLG named Paul Todd as its new CEO. Todd was previously the head of eBay\\'s EMEA business.[3][18]\\nGLG operates a Social Impact Fellowship that provides learning resources and expertise to certain nonprofits at no cost.[19]\\nIn October 2021 GLG filed for an Initial Public Offering (IPO).[20]')]"
      ]
     },
     "execution_count": 13,
     "metadata": {},
     "output_type": "execute_result"
    }
   ],
   "source": [
    "title_document_list"
   ]
  },
  {
   "cell_type": "code",
   "execution_count": 14,
   "metadata": {},
   "outputs": [],
   "source": [
    "context_list = [ item[1] for item in title_document_list]"
   ]
  },
  {
   "cell_type": "code",
   "execution_count": 15,
   "metadata": {},
   "outputs": [],
   "source": [
    "question = \"How much will the cash dividend be paid to  shareholders ?\""
   ]
  },
  {
   "cell_type": "code",
   "execution_count": 16,
   "metadata": {},
   "outputs": [
    {
     "name": "stderr",
     "output_type": "stream",
     "text": [
      "Token indices sequence length is longer than the specified maximum sequence length for this model (594 > 512). Running this sequence through the model will result in indexing errors\n"
     ]
    }
   ],
   "source": [
    "document_selection_dict = model.predict(question,context_list)"
   ]
  },
  {
   "cell_type": "code",
   "execution_count": 17,
   "metadata": {},
   "outputs": [],
   "source": [
    "import numpy as np"
   ]
  },
  {
   "cell_type": "code",
   "execution_count": 18,
   "metadata": {},
   "outputs": [],
   "source": [
    "doc_index = np.argmax(document_selection_dict['prob'])"
   ]
  },
  {
   "cell_type": "code",
   "execution_count": 19,
   "metadata": {},
   "outputs": [],
   "source": [
    "pred_result = document_selection_dict['pred'][doc_index]"
   ]
  },
  {
   "cell_type": "code",
   "execution_count": 20,
   "metadata": {},
   "outputs": [],
   "source": [
    "def predict_document(question, document_dict, document_selection_model):\n",
    "    title_document_list = [(title, \"\\n\".join(sentence_list))\n",
    "                           for title, sentence_list in document_dict.items()]\n",
    "    context_list = [item[1] for item in title_document_list]\n",
    "\n",
    "    document_selection_dict = document_selection_model.predict(\n",
    "        question, context_list)\n",
    "    probs = document_selection_dict['prob']\n",
    "    preds = document_selection_dict['pred']\n",
    "\n",
    "    doc_index = np.argmax(probs)\n",
    "    pred  = preds[doc_index]\n",
    "    prob  = probs[doc_index]\n",
    "    \n",
    "    pred_document = None\n",
    "\n",
    "    print(\"INFO: Maximum Document probablity:\",prob)\n",
    "    if pred==1:\n",
    "        pred_document = title_document_list[doc_index][0]\n",
    "\n",
    "        print(\"INFO: Predicted document:\",pred_document)\n",
    "    else:\n",
    "        print(\"INFO: No any document to this questionn!\")\n",
    "    \n",
    "    return pred_document"
   ]
  },
  {
   "cell_type": "code",
   "execution_count": 123,
   "metadata": {},
   "outputs": [
    {
     "name": "stdout",
     "output_type": "stream",
     "text": [
      "INFO: Maximum Document probablity: 0.96036536\n",
      "INFO: Predicted document: Apple Reports First Quarter Results\n"
     ]
    },
    {
     "data": {
      "text/plain": [
       "'Apple Reports First Quarter Results'"
      ]
     },
     "execution_count": 123,
     "metadata": {},
     "output_type": "execute_result"
    }
   ],
   "source": [
    "predict_document(question, document_dict,model)"
   ]
  },
  {
   "cell_type": "code",
   "execution_count": 149,
   "metadata": {},
   "outputs": [],
   "source": [
    "context_list = [item[1] for item in title_document_list]"
   ]
  },
  {
   "cell_type": "code",
   "execution_count": 150,
   "metadata": {},
   "outputs": [],
   "source": [
    "sentence_list = list(document_dict.items())[0][1]"
   ]
  },
  {
   "cell_type": "code",
   "execution_count": 155,
   "metadata": {},
   "outputs": [],
   "source": [
    "from textblob import TextBlob"
   ]
  },
  {
   "cell_type": "code",
   "execution_count": 156,
   "metadata": {},
   "outputs": [],
   "source": [
    "context  = \" \".join(sentence_list)"
   ]
  },
  {
   "cell_type": "code",
   "execution_count": 157,
   "metadata": {},
   "outputs": [
    {
     "data": {
      "text/plain": [
       "'CUPERTINO, CALIFORNIA JANUARY 27, 2022 Apple today announced financial results for its fiscal 2022 first quarter ended December 25, 2021. The Company posted an all-time revenue record of $123.9 billion, up 11 percent year over year, and quarterly earnings per diluted share of $2.10. “This quarter’s record results were made possible by our most innovative lineup of products and services ever,” said Tim Cook, Apple’s CEO. “We are gratified to see the response from customers around the world at a time when staying connected has never been more important. We are doing all we can to help build a better world — making progress toward our goal of becoming carbon neutral across our supply chain and products by 2030, and pushing forward with our work in education and racial equity and justice.” “The very strong customer response to our recent launch of new products and services drove double-digit growth in revenue and earnings, and helped set an all-time high for our installed base of active devices,” said Luca Maestri, Apple’s CFO. “These record operating results allowed us to return nearly $27 billion to our shareholders during the quarter, as we maintain our target of reaching a net cash neutral position over time.” Apple’s board of directors has declared a cash dividend of $0.22 per share of the Company’s common stock. The dividend is payable on February 10, 2022 to shareholders of record as of the close of business on February 7, 2022. Apple will provide live streaming of its Q1 2022 financial results conference call beginning at 2:00 p.m. PT on January 27, 2022 at apple.com/investor/earnings-call. This webcast will also be available for replay for approximately two weeks thereafter.'"
      ]
     },
     "execution_count": 157,
     "metadata": {},
     "output_type": "execute_result"
    }
   ],
   "source": [
    "context"
   ]
  },
  {
   "cell_type": "code",
   "execution_count": 166,
   "metadata": {},
   "outputs": [],
   "source": [
    "raw_sentence_list = [\"sdfsdf\",'asdfsaf.']"
   ]
  },
  {
   "cell_type": "code",
   "execution_count": 167,
   "metadata": {},
   "outputs": [],
   "source": [
    "raw_sentence_list = [line+\".\" if not line.endswith(\".\") else line for line in raw_sentence_list]"
   ]
  },
  {
   "cell_type": "code",
   "execution_count": 168,
   "metadata": {},
   "outputs": [
    {
     "data": {
      "text/plain": [
       "['sdfsdf.', 'asdfsaf.']"
      ]
     },
     "execution_count": 168,
     "metadata": {},
     "output_type": "execute_result"
    }
   ],
   "source": [
    "raw_sentence_list "
   ]
  },
  {
   "cell_type": "code",
   "execution_count": 164,
   "metadata": {},
   "outputs": [],
   "source": [
    "def split_context_to_list(context, sentence_len=60):\n",
    "\n",
    "    blob = TextBlob(context)a\n",
    "    final_sentence_list = []\n",
    "    accumulate_len = 0\n",
    "    windows_sentences = []\n",
    "    for sentence in blob.sentences:\n",
    "\n",
    "        word_len = len(sentence.words)\n",
    "        if accumulate_len+word_len <= sentence_len:\n",
    "            if not sentence.endswith(\".\"):\n",
    "                windows_sentences.append(str(sentence)+\". \")\n",
    "            else:\n",
    "                windows_sentences.append(str(sentence))\n",
    "            accumulate_len += word_len\n",
    "        else:\n",
    "            windows_sentence = \" \".join(windows_sentences)\n",
    "            final_sentence_list.append(windows_sentence)\n",
    "            windows_sentences = [str(sentence)]\n",
    "            accumulate_len = word_len\n",
    "\n",
    "    if len(windows_sentences) > 0:\n",
    "        windows_sentence = \" \".join(windows_sentences)\n",
    "        final_sentence_list.append(windows_sentence)\n",
    "\n",
    "    return final_sentence_list"
   ]
  },
  {
   "cell_type": "code",
   "execution_count": 165,
   "metadata": {},
   "outputs": [
    {
     "data": {
      "text/plain": [
       "['CUPERTINO, CALIFORNIA JANUARY 27, 2022 Apple today announced financial results for its fiscal 2022 first quarter ended December 25, 2021. The Company posted an all-time revenue record of $123.9 billion, up 11 percent year over year, and quarterly earnings per diluted share of $2.10.',\n",
       " '“This quarter’s record results were made possible by our most innovative lineup of products and services ever,” said Tim Cook, Apple’s CEO. “We are gratified to see the response from customers around the world at a time when staying connected has never been more important.',\n",
       " 'We are doing all we can to help build a better world — making progress toward our goal of becoming carbon neutral across our supply chain and products by 2030, and pushing forward with our work in education and racial equity and justice.” “The very strong customer response to our recent launch of new products and services drove double-digit growth in revenue and earnings, and helped set an all-time high for our installed base of active devices,” said Luca Maestri, Apple’s CFO.',\n",
       " '“These record operating results allowed us to return nearly $27 billion to our shareholders during the quarter, as we maintain our target of reaching a net cash neutral position over time.” Apple’s board of directors has declared a cash dividend of $0.22 per share of the Company’s common stock.',\n",
       " 'The dividend is payable on February 10, 2022 to shareholders of record as of the close of business on February 7, 2022. Apple will provide live streaming of its Q1 2022 financial results conference call beginning at 2:00 p.m. PT on January 27, 2022 at apple.com/investor/earnings-call. This webcast will also be available for replay for approximately two weeks thereafter.']"
      ]
     },
     "execution_count": 165,
     "metadata": {},
     "output_type": "execute_result"
    }
   ],
   "source": [
    "split_context_to_list(context, sentence_len=60)"
   ]
  },
  {
   "cell_type": "code",
   "execution_count": null,
   "metadata": {},
   "outputs": [],
   "source": []
  },
  {
   "cell_type": "code",
   "execution_count": 158,
   "metadata": {},
   "outputs": [],
   "source": [
    "blob = TextBlob(context )"
   ]
  },
  {
   "cell_type": "code",
   "execution_count": 159,
   "metadata": {},
   "outputs": [],
   "source": [
    "sentence_list = []"
   ]
  },
  {
   "cell_type": "code",
   "execution_count": 160,
   "metadata": {},
   "outputs": [],
   "source": [
    "final_sentence_list = []"
   ]
  },
  {
   "cell_type": "code",
   "execution_count": 146,
   "metadata": {},
   "outputs": [],
   "source": [
    "max_sentence_len = 60"
   ]
  },
  {
   "cell_type": "code",
   "execution_count": 147,
   "metadata": {},
   "outputs": [],
   "source": [
    "accumulate_len = 0\n",
    "windows_sentences =[]\n",
    "for sentence in  blob.sentences:\n",
    "    \n",
    "    word_len = len(sentence.words)\n",
    "    if accumulate_len+word_len <=max_sentence_len:\n",
    "        windows_sentences.append(str(sentence))\n",
    "        accumulate_len +=word_len\n",
    "    else:\n",
    "        windows_sentence = \". \".join(windows_sentences)\n",
    "        final_sentence_list.append(windows_sentence)\n",
    "        windows_sentences = [str(sentence)]\n",
    "        accumulate_len = word_len\n",
    "\n",
    "if len(windows_sentences)>0:\n",
    "    windows_sentence = \". \".join(windows_sentences)\n",
    "    final_sentence_list.append(windows_sentence)\n"
   ]
  },
  {
   "cell_type": "code",
   "execution_count": 148,
   "metadata": {},
   "outputs": [
    {
     "data": {
      "text/plain": [
       "['CUPERTINO, CALIFORNIA JANUARY 27, 2022 Apple today announced financial results for its fiscal 2022 first quarter ended December 25, 2021.',\n",
       " 'The Company posted an all-time revenue record of $123.9 billion, up 11 percent year over year, and quarterly earnings per diluted share of $2.10..“This quarter’s record results were made possible by our most innovative lineup of products and services ever,” said Tim Cook, Apple’s CEO.',\n",
       " '“We are gratified to see the response from customers around the world at a time when staying connected has never been more important.',\n",
       " 'We are doing all we can to help build a better world — making progress toward our goal of becoming carbon neutral across our supply chain and products by 2030, and pushing forward with our work in education and racial equity and justice.”.“The very strong customer response to our recent launch of new products and services drove double-digit growth in revenue and earnings, and helped set an all-time high for our installed base of active devices,” said Luca Maestri, Apple’s CFO.',\n",
       " '“These record operating results allowed us to return nearly $27 billion to our shareholders during the quarter, as we maintain our target of reaching a net cash neutral position over time.”.Apple’s board of directors has declared a cash dividend of $0.22 per share of the Company’s common stock.',\n",
       " 'The dividend is payable on February 10, 2022 to shareholders of record as of the close of business on February 7, 2022..Apple will provide live streaming of its Q1 2022 financial results conference call beginning at 2:00 p.m. PT on January 27, 2022 at apple.com/investor/earnings-call.. This webcast will also be available for replay for approximately two weeks thereafter.']"
      ]
     },
     "execution_count": 148,
     "metadata": {},
     "output_type": "execute_result"
    }
   ],
   "source": [
    "final_sentence_list"
   ]
  },
  {
   "cell_type": "code",
   "execution_count": 135,
   "metadata": {},
   "outputs": [
    {
     "data": {
      "text/plain": [
       "'GLG (Gerson Lehrman Group, Inc.) is a financial and global information services company headquartered in New York City. The company provides financial information and advises investors and consultants with business clients seeking expert advice.[2] It is the world\\'s largest expert network, with over 900,000 freelance consultants.[3] GLG\\'s experts include asset managers, investors, consultants, physicians, scientists, engineers, lawyers, senior current and former c-level executives, and former government members.[4][5] GLG\\'s clients include strategy consulting corporations, hedge funds, private equity firms, professional service firms, and non-profit organizations.[6][7][8][9].The firm was founded in 1998 and has been backed by private equity firms Silver Lake Partners,[10] Bessemer Venture Partners,[11] and SFW Capital Partners.[12][9] GLG is headquartered in New York City, with offices in 22 cities in 12 countries. [9].History.Gerson Lehrman Group was founded by Yale Law School graduates Mark Gerson and Thomas Lehrman in 1998. Alexander Saint-Amand, a former Bloomberg reporter, joined GLG shortly after, and served as CEO until 2018.[13][14].GLG, initially funded by friends and family, was formed as a publishing house to produce industry guidebooks for institutional investors. However, the founders discovered that their clients wanted to talk directly to experts in casual conversations, rather than reading formal written reports. Accordingly, in 1999, GLG abandoned its publishing business and began offering subscriptions to its network of experts.[15].GLG\\'s first customers were investors, and most of their growth from 1999 to 2005 was within the investment community. In 2006, they began working with big strategy consultancies and with companies in life sciences, chemicals and industrials, and technology. By 2010, The Wall Street Journal had described GLG as \"dominating the U.S. expert networking industry\".[16].The expert network business model has drawn scrutiny for concerns relating to adherence to disclosure rules and insider trading within the investment industry.[17] GLG\\'s policies include prohibitions against consultants sharing any nonpublic information about their employer or any public company, violating any ethical or legal restrictions relevant to consultants, or violating any laws.[2].In 2018, GLG named Paul Todd as its new CEO. Todd was previously the head of eBay\\'s EMEA business.[3][18].GLG operates a Social Impact Fellowship that provides learning resources and expertise to certain nonprofits at no cost.[19].In October 2021 GLG filed for an Initial Public Offering (IPO).[20]'"
      ]
     },
     "execution_count": 135,
     "metadata": {},
     "output_type": "execute_result"
    }
   ],
   "source": [
    "context"
   ]
  },
  {
   "cell_type": "code",
   "execution_count": null,
   "metadata": {},
   "outputs": [],
   "source": [
    "final_sentence_list"
   ]
  },
  {
   "cell_type": "code",
   "execution_count": 71,
   "metadata": {},
   "outputs": [],
   "source": [
    "document_path  = r\"static\\uploaded_documents\\Gerson_Lehrman_Group.txt\""
   ]
  },
  {
   "cell_type": "code",
   "execution_count": 72,
   "metadata": {},
   "outputs": [],
   "source": [
    "with open(document_path, encoding='utf-8-sig') as f:\n",
    "    document = f.readlines()\n",
    "    raw_sentence_list = [line.strip()\n",
    "                     for line in document if len(line.strip()) != 0]"
   ]
  },
  {
   "cell_type": "code",
   "execution_count": 75,
   "metadata": {},
   "outputs": [],
   "source": [
    "context = \"\\n\".join(raw_sentence_list)"
   ]
  },
  {
   "cell_type": "code",
   "execution_count": 77,
   "metadata": {},
   "outputs": [],
   "source": [
    "def split_context_to_list(context,max_sentence_len = 60):\n",
    "    \n",
    "    blob = TextBlob(context )\n",
    "    final_sentence_list = []\n",
    "    accumulate_len = 0\n",
    "    windows_sentences =[]\n",
    "    for sentence in  blob.sentences:\n",
    "\n",
    "        word_len = len(sentence.words)\n",
    "        if accumulate_len+word_len <=max_sentence_len:\n",
    "            windows_sentences.append(str(sentence))\n",
    "            accumulate_len +=word_len\n",
    "        else:\n",
    "            windows_sentence = \" \".join(windows_sentences)\n",
    "            final_sentence_list.append(windows_sentence)\n",
    "            windows_sentences = [str(sentence)]\n",
    "            accumulate_len = word_len\n",
    "            \n",
    "    return final_sentence_list"
   ]
  },
  {
   "cell_type": "code",
   "execution_count": 82,
   "metadata": {},
   "outputs": [
    {
     "data": {
      "text/plain": [
       "[\"GLG (Gerson Lehrman Group, Inc.) is a financial and global information services company headquartered in New York City.. The company provides financial information and advises investors and consultants with business clients seeking expert advice.. [2] It is the world's largest expert network, with over 900,000 freelance consultants.. [3] GLG's experts include asset managers, investors, consultants, physicians, scientists, engineers, lawyers, senior current and former c-level executives, and former government members.. [4][5] GLG's clients include strategy consulting corporations, hedge funds, private equity firms, professional service firms, and non-profit organizations.\",\n",
       " '[6][7][8][9]\\nThe firm was founded in 1998 and has been backed by private equity firms Silver Lake Partners,[10] Bessemer Venture Partners,[11] and SFW Capital Partners.. [12][9] GLG is headquartered in New York City, with offices in 22 cities in 12 countries.. [9]\\nHistory\\nGerson Lehrman Group was founded by Yale Law School graduates Mark Gerson and Thomas Lehrman in 1998.. Alexander Saint-Amand, a former Bloomberg reporter, joined GLG shortly after, and served as CEO until 2018.',\n",
       " \"[13][14]\\nGLG, initially funded by friends and family, was formed as a publishing house to produce industry guidebooks for institutional investors.. However, the founders discovered that their clients wanted to talk directly to experts in casual conversations, rather than reading formal written reports.. Accordingly, in 1999, GLG abandoned its publishing business and began offering subscriptions to its network of experts.. [15]\\nGLG's first customers were investors, and most of their growth from 1999 to 2005 was within the investment community.\",\n",
       " 'In 2006, they began working with big strategy consultancies and with companies in life sciences, chemicals and industrials, and technology.. By 2010, The Wall Street Journal had described GLG as \"dominating the U.S. expert networking industry\".. [16]\\nThe expert network business model has drawn scrutiny for concerns relating to adherence to disclosure rules and insider trading within the investment industry.. [17] GLG\\'s policies include prohibitions against consultants sharing any nonpublic information about their employer or any public company, violating any ethical or legal restrictions relevant to consultants, or violating any laws.']"
      ]
     },
     "execution_count": 82,
     "metadata": {},
     "output_type": "execute_result"
    }
   ],
   "source": [
    "split_context_to_list(context,max_sentence_len = 100)"
   ]
  },
  {
   "cell_type": "code",
   "execution_count": null,
   "metadata": {},
   "outputs": [],
   "source": [
    "clearn"
   ]
  },
  {
   "cell_type": "code",
   "execution_count": null,
   "metadata": {},
   "outputs": [],
   "source": []
  },
  {
   "cell_type": "code",
   "execution_count": null,
   "metadata": {},
   "outputs": [],
   "source": [
    "140"
   ]
  },
  {
   "cell_type": "code",
   "execution_count": 44,
   "metadata": {},
   "outputs": [
    {
     "data": {
      "text/plain": [
       "18"
      ]
     },
     "execution_count": 44,
     "metadata": {},
     "output_type": "execute_result"
    }
   ],
   "source": [
    "len(str(blob.sentences[0]).split(\" \"))"
   ]
  },
  {
   "cell_type": "code",
   "execution_count": 41,
   "metadata": {},
   "outputs": [
    {
     "name": "stdout",
     "output_type": "stream",
     "text": [
      "Help on Sentence in module textblob.blob object:\n",
      "\n",
      "class Sentence(BaseBlob)\n",
      " |  Sentence(sentence, start_index=0, end_index=None, *args, **kwargs)\n",
      " |  \n",
      " |  A sentence within a TextBlob. Inherits from :class:`BaseBlob <BaseBlob>`.\n",
      " |  \n",
      " |  :param sentence: A string, the raw sentence.\n",
      " |  :param start_index: An int, the index where this sentence begins\n",
      " |                      in a TextBlob. If not given, defaults to 0.\n",
      " |  :param end_index: An int, the index where this sentence ends in\n",
      " |                      a TextBlob. If not given, defaults to the\n",
      " |                      length of the sentence - 1.\n",
      " |  \n",
      " |  Method resolution order:\n",
      " |      Sentence\n",
      " |      BaseBlob\n",
      " |      textblob.mixins.StringlikeMixin\n",
      " |      textblob.mixins.BlobComparableMixin\n",
      " |      textblob.mixins.ComparableMixin\n",
      " |      builtins.object\n",
      " |  \n",
      " |  Methods defined here:\n",
      " |  \n",
      " |  __init__(self, sentence, start_index=0, end_index=None, *args, **kwargs)\n",
      " |      Initialize self.  See help(type(self)) for accurate signature.\n",
      " |  \n",
      " |  ----------------------------------------------------------------------\n",
      " |  Readonly properties defined here:\n",
      " |  \n",
      " |  dict\n",
      " |      The dict representation of this sentence.\n",
      " |  \n",
      " |  ----------------------------------------------------------------------\n",
      " |  Methods inherited from BaseBlob:\n",
      " |  \n",
      " |  __add__(self, other)\n",
      " |      Concatenates two text objects the same way Python strings are\n",
      " |      concatenated.\n",
      " |      \n",
      " |      Arguments:\n",
      " |      - `other`: a string or a text object\n",
      " |  \n",
      " |  __hash__(self)\n",
      " |      Return hash(self).\n",
      " |  \n",
      " |  classify(self)\n",
      " |      Classify the blob using the blob's ``classifier``.\n",
      " |  \n",
      " |  correct(self)\n",
      " |      Attempt to correct the spelling of a blob.\n",
      " |      \n",
      " |      .. versionadded:: 0.6.0\n",
      " |      \n",
      " |      :rtype: :class:`BaseBlob <BaseBlob>`\n",
      " |  \n",
      " |  detect_language(self)\n",
      " |      Detect the blob's language using the Google Translate API.\n",
      " |      \n",
      " |      Requires an internet connection.\n",
      " |      \n",
      " |      Usage:\n",
      " |      ::\n",
      " |      \n",
      " |          >>> b = TextBlob(\"bonjour\")\n",
      " |          >>> b.detect_language()\n",
      " |          u'fr'\n",
      " |      \n",
      " |      Language code reference:\n",
      " |          https://developers.google.com/translate/v2/using_rest#language-params\n",
      " |      \n",
      " |      .. deprecated:: 0.16.0\n",
      " |          Use the official Google Translate API instead.\n",
      " |      .. versionadded:: 0.5.0\n",
      " |      \n",
      " |      :rtype: str\n",
      " |  \n",
      " |  ngrams(self, n=3)\n",
      " |      Return a list of n-grams (tuples of n successive words) for this\n",
      " |      blob.\n",
      " |      \n",
      " |      :rtype: List of :class:`WordLists <WordList>`\n",
      " |  \n",
      " |  noun_phrases = <textblob.decorators.cached_property object>\n",
      " |  np_counts = <textblob.decorators.cached_property object>\n",
      " |  parse(self, parser=None)\n",
      " |      Parse the text.\n",
      " |      \n",
      " |      :param parser: (optional) A parser instance. If ``None``, defaults to\n",
      " |          this blob's default parser.\n",
      " |      \n",
      " |      .. versionadded:: 0.6.0\n",
      " |  \n",
      " |  polarity = <textblob.decorators.cached_property object>\n",
      " |  pos_tags = <textblob.decorators.cached_property object>\n",
      " |  sentiment = <textblob.decorators.cached_property object>\n",
      " |  sentiment_assessments = <textblob.decorators.cached_property object>\n",
      " |  split(self, sep=None, maxsplit=9223372036854775807)\n",
      " |      Behaves like the built-in str.split() except returns a\n",
      " |      WordList.\n",
      " |      \n",
      " |      :rtype: :class:`WordList <WordList>`\n",
      " |  \n",
      " |  subjectivity = <textblob.decorators.cached_property object>\n",
      " |  tags = <textblob.decorators.cached_property object>\n",
      " |  tokenize(self, tokenizer=None)\n",
      " |      Return a list of tokens, using ``tokenizer``.\n",
      " |      \n",
      " |      :param tokenizer: (optional) A tokenizer object. If None, defaults to\n",
      " |          this blob's default tokenizer.\n",
      " |  \n",
      " |  tokens = <textblob.decorators.cached_property object>\n",
      " |  translate(self, from_lang='auto', to='en')\n",
      " |      Translate the blob to another language.\n",
      " |      Uses the Google Translate API. Returns a new TextBlob.\n",
      " |      \n",
      " |      Requires an internet connection.\n",
      " |      \n",
      " |      Usage:\n",
      " |      ::\n",
      " |      \n",
      " |          >>> b = TextBlob(\"Simple is better than complex\")\n",
      " |          >>> b.translate(to=\"es\")\n",
      " |          TextBlob('Lo simple es mejor que complejo')\n",
      " |      \n",
      " |      Language code reference:\n",
      " |          https://developers.google.com/translate/v2/using_rest#language-params\n",
      " |      \n",
      " |      .. deprecated:: 0.16.0\n",
      " |          Use the official Google Translate API instead.\n",
      " |      .. versionadded:: 0.5.0.\n",
      " |      \n",
      " |      :param str from_lang: Language to translate from. If ``None``, will attempt\n",
      " |          to detect the language.\n",
      " |      :param str to: Language to translate to.\n",
      " |      :rtype: :class:`BaseBlob <BaseBlob>`\n",
      " |  \n",
      " |  word_counts = <textblob.decorators.cached_property object>\n",
      " |  words = <textblob.decorators.cached_property object>\n",
      " |  ----------------------------------------------------------------------\n",
      " |  Data and other attributes inherited from BaseBlob:\n",
      " |  \n",
      " |  analyzer = <textblob.en.sentiments.PatternAnalyzer object>\n",
      " |  \n",
      " |  np_extractor = <textblob.en.np_extractors.FastNPExtractor object>\n",
      " |  \n",
      " |  parser = <textblob.en.parsers.PatternParser object>\n",
      " |  \n",
      " |  pos_tagger = <textblob.en.taggers.NLTKTagger object>\n",
      " |  \n",
      " |  tokenizer = <textblob.tokenizers.WordTokenizer object>\n",
      " |  \n",
      " |  translator = <textblob.translate.Translator object>\n",
      " |  \n",
      " |  ----------------------------------------------------------------------\n",
      " |  Methods inherited from textblob.mixins.StringlikeMixin:\n",
      " |  \n",
      " |  __contains__(self, sub)\n",
      " |      Implements the `in` keyword like a Python string.\n",
      " |  \n",
      " |  __getitem__(self, index)\n",
      " |      Returns a  substring. If index is an integer, returns a Python\n",
      " |      string of a single character. If a range is given, e.g. `blob[3:5]`,\n",
      " |      a new instance of the class is returned.\n",
      " |  \n",
      " |  __iter__(self)\n",
      " |      Makes the object iterable as if it were a string,\n",
      " |      iterating through the raw string's characters.\n",
      " |  \n",
      " |  __len__(self)\n",
      " |      Returns the length of the raw text.\n",
      " |  \n",
      " |  __repr__(self)\n",
      " |      Returns a string representation for debugging.\n",
      " |  \n",
      " |  __str__(self)\n",
      " |      Returns a string representation used in print statements\n",
      " |      or str(my_blob).\n",
      " |  \n",
      " |  ends_with = endswith(self, suffix, start=0, end=9223372036854775807)\n",
      " |  \n",
      " |  endswith(self, suffix, start=0, end=9223372036854775807)\n",
      " |      Returns True if the blob ends with the given suffix.\n",
      " |  \n",
      " |  find(self, sub, start=0, end=9223372036854775807)\n",
      " |      Behaves like the built-in str.find() method. Returns an integer,\n",
      " |      the index of the first occurrence of the substring argument sub in the\n",
      " |      sub-string given by [start:end].\n",
      " |  \n",
      " |  format(self, *args, **kwargs)\n",
      " |      Perform a string formatting operation, like the built-in\n",
      " |      `str.format(*args, **kwargs)`. Returns a blob object.\n",
      " |  \n",
      " |  index(self, sub, start=0, end=9223372036854775807)\n",
      " |      Like blob.find() but raise ValueError when the substring\n",
      " |      is not found.\n",
      " |  \n",
      " |  join(self, iterable)\n",
      " |      Behaves like the built-in `str.join(iterable)` method, except\n",
      " |      returns a blob object.\n",
      " |      \n",
      " |      Returns a blob which is the concatenation of the strings or blobs\n",
      " |      in the iterable.\n",
      " |  \n",
      " |  lower(self)\n",
      " |      Like str.lower(), returns new object with all lower-cased characters.\n",
      " |  \n",
      " |  replace(self, old, new, count=9223372036854775807)\n",
      " |      Return a new blob object with all the occurence of `old` replaced\n",
      " |      by `new`.\n",
      " |  \n",
      " |  rfind(self, sub, start=0, end=9223372036854775807)\n",
      " |      Behaves like the built-in str.rfind() method. Returns an integer,\n",
      " |      the index of he last (right-most) occurence of the substring argument\n",
      " |      sub in the sub-sequence given by [start:end].\n",
      " |  \n",
      " |  rindex(self, sub, start=0, end=9223372036854775807)\n",
      " |      Like blob.rfind() but raise ValueError when substring is not\n",
      " |      found.\n",
      " |  \n",
      " |  starts_with = startswith(self, prefix, start=0, end=9223372036854775807)\n",
      " |  \n",
      " |  startswith(self, prefix, start=0, end=9223372036854775807)\n",
      " |      Returns True if the blob starts with the given prefix.\n",
      " |  \n",
      " |  strip(self, chars=None)\n",
      " |      Behaves like the built-in str.strip([chars]) method. Returns\n",
      " |      an object with leading and trailing whitespace removed.\n",
      " |  \n",
      " |  title(self)\n",
      " |      Returns a blob object with the text in title-case.\n",
      " |  \n",
      " |  upper(self)\n",
      " |      Like str.upper(), returns new object with all upper-cased characters.\n",
      " |  \n",
      " |  ----------------------------------------------------------------------\n",
      " |  Data descriptors inherited from textblob.mixins.StringlikeMixin:\n",
      " |  \n",
      " |  __dict__\n",
      " |      dictionary for instance variables (if defined)\n",
      " |  \n",
      " |  __weakref__\n",
      " |      list of weak references to the object (if defined)\n",
      " |  \n",
      " |  ----------------------------------------------------------------------\n",
      " |  Methods inherited from textblob.mixins.ComparableMixin:\n",
      " |  \n",
      " |  __eq__(self, other)\n",
      " |      Return self==value.\n",
      " |  \n",
      " |  __ge__(self, other)\n",
      " |      Return self>=value.\n",
      " |  \n",
      " |  __gt__(self, other)\n",
      " |      Return self>value.\n",
      " |  \n",
      " |  __le__(self, other)\n",
      " |      Return self<=value.\n",
      " |  \n",
      " |  __lt__(self, other)\n",
      " |      Return self<value.\n",
      " |  \n",
      " |  __ne__(self, other)\n",
      " |      Return self!=value.\n",
      "\n"
     ]
    }
   ],
   "source": [
    "help(blob.sentences[0])"
   ]
  },
  {
   "cell_type": "code",
   "execution_count": null,
   "metadata": {},
   "outputs": [],
   "source": [
    "\n"
   ]
  },
  {
   "cell_type": "code",
   "execution_count": 32,
   "metadata": {},
   "outputs": [
    {
     "data": {
      "text/plain": [
       "[\"GLG (Gerson Lehrman Group, Inc.) is a financial and global information services company headquartered in New York City. The company provides financial information and advises investors and consultants with business clients seeking expert advice.[2] It is the world's largest expert network, with over 900,000 freelance consultants.[3] GLG's experts include asset managers, investors, consultants, physicians, scientists, engineers, lawyers, senior current and former c-level executives, and former government members.[4][5] GLG's clients include strategy consulting corporations, hedge funds, private equity firms, professional service firms, and non-profit organizations.[6][7][8][9]\",\n",
       " 'The firm was founded in 1998 and has been backed by private equity firms Silver Lake Partners,[10] Bessemer Venture Partners,[11] and SFW Capital Partners.[12][9] GLG is headquartered in New York City, with offices in 22 cities in 12 countries. [9]',\n",
       " 'History',\n",
       " 'Gerson Lehrman Group was founded by Yale Law School graduates Mark Gerson and Thomas Lehrman in 1998. Alexander Saint-Amand, a former Bloomberg reporter, joined GLG shortly after, and served as CEO until 2018.[13][14]',\n",
       " 'GLG, initially funded by friends and family, was formed as a publishing house to produce industry guidebooks for institutional investors. However, the founders discovered that their clients wanted to talk directly to experts in casual conversations, rather than reading formal written reports. Accordingly, in 1999, GLG abandoned its publishing business and began offering subscriptions to its network of experts.[15]',\n",
       " 'GLG\\'s first customers were investors, and most of their growth from 1999 to 2005 was within the investment community. In 2006, they began working with big strategy consultancies and with companies in life sciences, chemicals and industrials, and technology. By 2010, The Wall Street Journal had described GLG as \"dominating the U.S. expert networking industry\".[16]',\n",
       " \"The expert network business model has drawn scrutiny for concerns relating to adherence to disclosure rules and insider trading within the investment industry.[17] GLG's policies include prohibitions against consultants sharing any nonpublic information about their employer or any public company, violating any ethical or legal restrictions relevant to consultants, or violating any laws.[2]\",\n",
       " \"In 2018, GLG named Paul Todd as its new CEO. Todd was previously the head of eBay's EMEA business.[3][18]\",\n",
       " 'GLG operates a Social Impact Fellowship that provides learning resources and expertise to certain nonprofits at no cost.[19]',\n",
       " 'In October 2021 GLG filed for an Initial Public Offering (IPO).[20]']"
      ]
     },
     "execution_count": 32,
     "metadata": {},
     "output_type": "execute_result"
    }
   ],
   "source": [
    "sentence_list"
   ]
  },
  {
   "cell_type": "code",
   "execution_count": null,
   "metadata": {},
   "outputs": [],
   "source": []
  },
  {
   "cell_type": "code",
   "execution_count": null,
   "metadata": {},
   "outputs": [],
   "source": []
  },
  {
   "cell_type": "code",
   "execution_count": 23,
   "metadata": {},
   "outputs": [
    {
     "data": {
      "text/plain": [
       "'GLG (Gerson Lehrman Group, Inc.) is a financial and global information services company headquartered in New York City. The company provides financial information and advises investors and consultants with business clients seeking expert advice.[2] It is the world\\'s largest expert network, with over 900,000 freelance consultants.[3] GLG\\'s experts include asset managers, investors, consultants, physicians, scientists, engineers, lawyers, senior current and former c-level executives, and former government members.[4][5] GLG\\'s clients include strategy consulting corporations, hedge funds, private equity firms, professional service firms, and non-profit organizations.[6][7][8][9]\\nThe firm was founded in 1998 and has been backed by private equity firms Silver Lake Partners,[10] Bessemer Venture Partners,[11] and SFW Capital Partners.[12][9] GLG is headquartered in New York City, with offices in 22 cities in 12 countries. [9]\\nHistory\\nGerson Lehrman Group was founded by Yale Law School graduates Mark Gerson and Thomas Lehrman in 1998. Alexander Saint-Amand, a former Bloomberg reporter, joined GLG shortly after, and served as CEO until 2018.[13][14]\\nGLG, initially funded by friends and family, was formed as a publishing house to produce industry guidebooks for institutional investors. However, the founders discovered that their clients wanted to talk directly to experts in casual conversations, rather than reading formal written reports. Accordingly, in 1999, GLG abandoned its publishing business and began offering subscriptions to its network of experts.[15]\\nGLG\\'s first customers were investors, and most of their growth from 1999 to 2005 was within the investment community. In 2006, they began working with big strategy consultancies and with companies in life sciences, chemicals and industrials, and technology. By 2010, The Wall Street Journal had described GLG as \"dominating the U.S. expert networking industry\".[16]\\nThe expert network business model has drawn scrutiny for concerns relating to adherence to disclosure rules and insider trading within the investment industry.[17] GLG\\'s policies include prohibitions against consultants sharing any nonpublic information about their employer or any public company, violating any ethical or legal restrictions relevant to consultants, or violating any laws.[2]\\nIn 2018, GLG named Paul Todd as its new CEO. Todd was previously the head of eBay\\'s EMEA business.[3][18]\\nGLG operates a Social Impact Fellowship that provides learning resources and expertise to certain nonprofits at no cost.[19]\\nIn October 2021 GLG filed for an Initial Public Offering (IPO).[20]'"
      ]
     },
     "execution_count": 23,
     "metadata": {},
     "output_type": "execute_result"
    }
   ],
   "source": [
    "context_list[1]"
   ]
  },
  {
   "cell_type": "code",
   "execution_count": null,
   "metadata": {},
   "outputs": [],
   "source": [
    "\n",
    "\n"
   ]
  }
 ],
 "metadata": {
  "accelerator": "GPU",
  "colab": {
   "collapsed_sections": [],
   "name": "SQUAD - Fine Tuned Twin-AlBerts For Long Text Pair Classification.ipynb",
   "provenance": [
    {
     "file_id": "https://github.com/huggingface/notebooks/blob/master/examples/question_answering.ipynb",
     "timestamp": 1640747938302
    }
   ],
   "toc_visible": true
  },
  "kernelspec": {
   "display_name": "Python 3",
   "language": "python",
   "name": "python3"
  },
  "language_info": {
   "codemirror_mode": {
    "name": "ipython",
    "version": 3
   },
   "file_extension": ".py",
   "mimetype": "text/x-python",
   "name": "python",
   "nbconvert_exporter": "python",
   "pygments_lexer": "ipython3",
   "version": "3.8.3"
  }
 },
 "nbformat": 4,
 "nbformat_minor": 4
}
