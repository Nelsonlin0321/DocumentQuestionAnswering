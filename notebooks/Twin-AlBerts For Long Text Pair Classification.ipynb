{
 "cells": [
  {
   "cell_type": "code",
   "execution_count": 1,
   "metadata": {
    "colab": {
     "base_uri": "https://localhost:8080/",
     "height": 17
    },
    "executionInfo": {
     "elapsed": 8,
     "status": "ok",
     "timestamp": 1643881542858,
     "user": {
      "displayName": "Nelson L.",
      "photoUrl": "https://lh3.googleusercontent.com/a-/AOh14GipnVJXi8Vo7o6qBMpdgcfZB2j9TYnsly5vDf6nig=s64",
      "userId": "03694478629413699942"
     },
     "user_tz": -480
    },
    "id": "NcSfcGFBcd4V",
    "outputId": "82c0b273-ef2c-4184-a3c6-864bfe1284b7"
   },
   "outputs": [
    {
     "data": {
      "text/html": [
       "<style type='text/css'>\n",
       ".CodeMirror{\n",
       "    font-size: 16px;\n",
       "    font-family: Monaco;\n",
       "}\n",
       "\n",
       "div.output_area pre {\n",
       "    font-size: 12px;\n",
       "}\n",
       "</style>\n"
      ],
      "text/plain": [
       "<IPython.core.display.HTML object>"
      ]
     },
     "metadata": {},
     "output_type": "display_data"
    }
   ],
   "source": [
    "%%html\n",
    "<style type='text/css'>\n",
    ".CodeMirror{\n",
    "    font-size: 16px;\n",
    "    font-family: Monaco;\n",
    "}\n",
    "\n",
    "div.output_area pre {\n",
    "    font-size: 12px;\n",
    "}\n",
    "</style>"
   ]
  },
  {
   "cell_type": "code",
   "execution_count": 2,
   "metadata": {
    "executionInfo": {
     "elapsed": 7,
     "status": "ok",
     "timestamp": 1643881542859,
     "user": {
      "displayName": "Nelson L.",
      "photoUrl": "https://lh3.googleusercontent.com/a-/AOh14GipnVJXi8Vo7o6qBMpdgcfZB2j9TYnsly5vDf6nig=s64",
      "userId": "03694478629413699942"
     },
     "user_tz": -480
    },
    "id": "Njmo2zJTcd4a"
   },
   "outputs": [],
   "source": [
    "# import os\n",
    "# os.chdir(os.getcwd()+\"./..\")"
   ]
  },
  {
   "cell_type": "code",
   "execution_count": 3,
   "metadata": {
    "executionInfo": {
     "elapsed": 6215,
     "status": "ok",
     "timestamp": 1643881549067,
     "user": {
      "displayName": "Nelson L.",
      "photoUrl": "https://lh3.googleusercontent.com/a-/AOh14GipnVJXi8Vo7o6qBMpdgcfZB2j9TYnsly5vDf6nig=s64",
      "userId": "03694478629413699942"
     },
     "user_tz": -480
    },
    "id": "drMVKL8eN5oS"
   },
   "outputs": [],
   "source": [
    "# import libaries\n",
    "import torch\n",
    "from torch import cuda\n",
    "from torch.utils.data import Dataset,DataLoader"
   ]
  },
  {
   "cell_type": "code",
   "execution_count": 4,
   "metadata": {
    "colab": {
     "base_uri": "https://localhost:8080/"
    },
    "executionInfo": {
     "elapsed": 15,
     "status": "ok",
     "timestamp": 1643881549069,
     "user": {
      "displayName": "Nelson L.",
      "photoUrl": "https://lh3.googleusercontent.com/a-/AOh14GipnVJXi8Vo7o6qBMpdgcfZB2j9TYnsly5vDf6nig=s64",
      "userId": "03694478629413699942"
     },
     "user_tz": -480
    },
    "id": "Ve9awrmKby41",
    "outputId": "3b601fac-11f3-41b6-c604-2fb5e5c4bd4f"
   },
   "outputs": [
    {
     "name": "stdout",
     "output_type": "stream",
     "text": [
      "1.9.0a0+gitd69c22d\n"
     ]
    }
   ],
   "source": [
    "print(torch.__version__)"
   ]
  },
  {
   "cell_type": "code",
   "execution_count": 5,
   "metadata": {
    "executionInfo": {
     "elapsed": 630,
     "status": "ok",
     "timestamp": 1643881550140,
     "user": {
      "displayName": "Nelson L.",
      "photoUrl": "https://lh3.googleusercontent.com/a-/AOh14GipnVJXi8Vo7o6qBMpdgcfZB2j9TYnsly5vDf6nig=s64",
      "userId": "03694478629413699942"
     },
     "user_tz": -480
    },
    "id": "fTq-NCOvOFFD"
   },
   "outputs": [],
   "source": [
    "import os\n",
    "import json\n",
    "import random\n",
    "import pandas as pd\n",
    "import numpy as np\n",
    "from sklearn.utils import shuffle\n",
    "from sklearn import metrics\n",
    "from collections import Counter"
   ]
  },
  {
   "cell_type": "code",
   "execution_count": 6,
   "metadata": {
    "executionInfo": {
     "elapsed": 5,
     "status": "ok",
     "timestamp": 1643881550141,
     "user": {
      "displayName": "Nelson L.",
      "photoUrl": "https://lh3.googleusercontent.com/a-/AOh14GipnVJXi8Vo7o6qBMpdgcfZB2j9TYnsly5vDf6nig=s64",
      "userId": "03694478629413699942"
     },
     "user_tz": -480
    },
    "id": "jxcKIim7lZjn"
   },
   "outputs": [],
   "source": [
    "# !pip install transformers"
   ]
  },
  {
   "cell_type": "code",
   "execution_count": 7,
   "metadata": {
    "executionInfo": {
     "elapsed": 6,
     "status": "ok",
     "timestamp": 1643881550142,
     "user": {
      "displayName": "Nelson L.",
      "photoUrl": "https://lh3.googleusercontent.com/a-/AOh14GipnVJXi8Vo7o6qBMpdgcfZB2j9TYnsly5vDf6nig=s64",
      "userId": "03694478629413699942"
     },
     "user_tz": -480
    },
    "id": "R6OEU6x72SiD"
   },
   "outputs": [],
   "source": [
    "import torch"
   ]
  },
  {
   "cell_type": "code",
   "execution_count": 8,
   "metadata": {
    "colab": {
     "base_uri": "https://localhost:8080/",
     "height": 307
    },
    "executionInfo": {
     "elapsed": 1648,
     "status": "error",
     "timestamp": 1643881551785,
     "user": {
      "displayName": "Nelson L.",
      "photoUrl": "https://lh3.googleusercontent.com/a-/AOh14GipnVJXi8Vo7o6qBMpdgcfZB2j9TYnsly5vDf6nig=s64",
      "userId": "03694478629413699942"
     },
     "user_tz": -480
    },
    "id": "qiBbyLVoON3Y",
    "outputId": "ee83ce0f-1633-4432-a54c-1c595c036932"
   },
   "outputs": [],
   "source": [
    "from transformers import AutoTokenizer"
   ]
  },
  {
   "cell_type": "markdown",
   "metadata": {
    "id": "Bqo3p8rdddzn"
   },
   "source": [
    "# 1) Import Data"
   ]
  },
  {
   "cell_type": "code",
   "execution_count": 9,
   "metadata": {
    "executionInfo": {
     "elapsed": 411,
     "status": "aborted",
     "timestamp": 1643881551361,
     "user": {
      "displayName": "Nelson L.",
      "photoUrl": "https://lh3.googleusercontent.com/a-/AOh14GipnVJXi8Vo7o6qBMpdgcfZB2j9TYnsly5vDf6nig=s64",
      "userId": "03694478629413699942"
     },
     "user_tz": -480
    },
    "id": "sLsMP0EodKoZ"
   },
   "outputs": [],
   "source": [
    "def read_qnli_data(file_name, data_dir):\n",
    "    path = os.path.join(data_dir, file_name)\n",
    "    with open(path, encoding='utf-8-sig') as f:\n",
    "        text = f.readlines()\n",
    "\n",
    "    header = text[0].strip().split(\"\\t\")\n",
    "    lines = [line.strip().split(\"\\t\") for line in text[1:]]\n",
    "\n",
    "    df = pd.DataFrame(lines, columns=header)\n",
    "    return df\n",
    "\n",
    "\n",
    "def get_qnli_pandas_dataframe(data_dir):\n",
    "    qnli_train_df = read_qnli_data(\"train.tsv\",data_dir)\n",
    "    qnli_dev_df = read_qnli_data(\"dev.tsv\",data_dir)\n",
    "    qnli_train_df['label'] = np.where(\n",
    "        qnli_train_df['label'] == 'entailment', 1, 0)\n",
    "    qnli_dev_df['label'] = np.where(qnli_dev_df['label'] == 'entailment', 1, 0)\n",
    "\n",
    "    qnli_dev_df['question'] = qnli_dev_df['question'].apply(lambda x: x.strip())\n",
    "    qnli_dev_df['sentence'] = qnli_dev_df['sentence'].apply(lambda x: x.strip()) \n",
    "\n",
    "    qnli_train_df['question'] = qnli_train_df['question'].apply(lambda x: x.strip())\n",
    "    qnli_train_df['sentence'] = qnli_train_df['sentence'].apply(lambda x: x.strip()) \n",
    "\n",
    "    return qnli_dev_df, qnli_train_df\n",
    "\n",
    "\n",
    "def read_document_to_list(document_path):\n",
    "    with open(document_path, encoding='utf-8-sig') as f:\n",
    "        document = f.readlines()\n",
    "        sentence_list = [line.strip()\n",
    "                         for line in document if len(line.strip()) != 0]\n",
    "        return sentence_list\n",
    "\n",
    "\n",
    "def read_document_dict(document_dir):\n",
    "\n",
    "    document_dict = {}\n",
    "\n",
    "    for document_file_name in os.listdir(document_dir):\n",
    "        if document_file_name.endswith(\".txt\"):\n",
    "            document_name = document_file_name.replace(\n",
    "                \".txt\", \"\").replace(\"_\", \" \")\n",
    "            document_path = os.path.join(document_dir, document_file_name)\n",
    "            document_dict[document_name] = read_document_to_list(document_path)\n",
    "\n",
    "    return document_dict\n",
    "\n",
    "\n",
    "def read_json(file_path):\n",
    "    with open(file_path) as f:\n",
    "        json_f = json.load(f)\n",
    "    data = json_f['data']\n",
    "    return data\n",
    "\n",
    "\n",
    "def get_random_index(List):\n",
    "    return random.sample(range(len(List)), 1)[0]\n",
    "\n",
    "\n",
    "def load_data(data_path, load_impossible_answer=False):\n",
    "\n",
    "    data = read_json(data_path)\n",
    "\n",
    "    data_dict = {}\n",
    "    title_list = []\n",
    "    context_list = []\n",
    "    question_list = []\n",
    "    id_list = []\n",
    "    answer_text_list = []\n",
    "    answer_start_list = []\n",
    "    is_impossible_list = []\n",
    "\n",
    "    for paragraphs in data:\n",
    "        title = paragraphs['title']\n",
    "        context_qas_list = paragraphs['paragraphs']\n",
    "\n",
    "        for context_qas in context_qas_list:\n",
    "            context = context_qas['context']\n",
    "            qas_list = context_qas['qas']\n",
    "\n",
    "            for qas in qas_list:\n",
    "                title_list.append(title)\n",
    "                context_list.append(context)\n",
    "\n",
    "                is_impossible = qas['is_impossible']\n",
    "                is_impossible_list.append(is_impossible)\n",
    "\n",
    "                id_ = qas['id']\n",
    "                id_list.append(id_)\n",
    "                question = qas['question']\n",
    "                question_list.append(question)\n",
    "\n",
    "                if not is_impossible:\n",
    "                    answer_list = qas['answers']\n",
    "                    idx = get_random_index(answer_list)\n",
    "                    answer_text = answer_list[idx]['text']\n",
    "                    answer_start = answer_list[idx]['answer_start']\n",
    "\n",
    "                    answer_text_list.append(answer_text)\n",
    "                    answer_start_list.append(answer_start)\n",
    "                else:\n",
    "                    if load_impossible_answer:\n",
    "                        answer_list = qas['plausible_answers']\n",
    "                        idx = get_random_index(answer_list)\n",
    "                        answer_text = answer_list[idx]['text']\n",
    "                        answer_start = answer_list[idx]['answer_start']\n",
    "                        answer_text_list.append(answer_text)\n",
    "                        answer_start_list.append(answer_start)\n",
    "                    else:\n",
    "                        answer_text_list.append(\"\")\n",
    "                        answer_start_list.append(-1)\n",
    "\n",
    "    data_dict['id'] = id_list\n",
    "    data_dict['title'] = title_list\n",
    "    data_dict['context'] = context_list\n",
    "    data_dict['question'] = question_list\n",
    "    data_dict['answer_text'] = answer_text_list\n",
    "    data_dict['answer_start'] = answer_start_list\n",
    "    data_dict['is_impossible'] = is_impossible_list\n",
    "\n",
    "    return data_dict\n",
    "\n",
    "\n",
    "def get_squad_v2_pandas_dataframe(squad_v2_dir,include_impossible=False, load_impossible_answer=False):\n",
    "    # download from https://rajpurkar.github.io/SQuAD-explorer/\n",
    "    train_data_path = os.path.join(squad_v2_dir, \"train-v2.0.json\")\n",
    "    dev_data_path = os.path.join(squad_v2_dir, 'dev-v2.0.json')\n",
    "\n",
    "    train_data_dict = load_data(train_data_path, load_impossible_answer)\n",
    "    dev_data_dict = load_data(dev_data_path, load_impossible_answer)\n",
    "\n",
    "    train_data_df = pd.DataFrame(train_data_dict)\n",
    "    dev_data_df = pd.DataFrame(dev_data_dict)\n",
    "\n",
    "    if not include_impossible:\n",
    "        train_data_df = train_data_df[train_data_df['is_impossible'] == False]\n",
    "        dev_data_df = dev_data_df[dev_data_df['is_impossible'] == False]\n",
    "\n",
    "    train_data_df['question'] = train_data_df['question'].apply(lambda x: x.strip())\n",
    "    train_data_df['context'] = train_data_df['context'].apply(lambda x: x.strip()) \n",
    "\n",
    "    dev_data_df['question'] = dev_data_df['question'].apply(lambda x: x.strip())\n",
    "    dev_data_df['context'] = dev_data_df['context'].apply(lambda x: x.strip()) \n",
    "\n",
    "    return train_data_df, dev_data_df\n"
   ]
  },
  {
   "cell_type": "code",
   "execution_count": 10,
   "metadata": {
    "executionInfo": {
     "elapsed": 413,
     "status": "aborted",
     "timestamp": 1643881551363,
     "user": {
      "displayName": "Nelson L.",
      "photoUrl": "https://lh3.googleusercontent.com/a-/AOh14GipnVJXi8Vo7o6qBMpdgcfZB2j9TYnsly5vDf6nig=s64",
      "userId": "03694478629413699942"
     },
     "user_tz": -480
    },
    "id": "G4uhX374OVlZ"
   },
   "outputs": [],
   "source": [
    "device = \"cuda\" if cuda.is_available() else \"cpu\""
   ]
  },
  {
   "cell_type": "code",
   "execution_count": 11,
   "metadata": {
    "executionInfo": {
     "elapsed": 414,
     "status": "aborted",
     "timestamp": 1643881551364,
     "user": {
      "displayName": "Nelson L.",
      "photoUrl": "https://lh3.googleusercontent.com/a-/AOh14GipnVJXi8Vo7o6qBMpdgcfZB2j9TYnsly5vDf6nig=s64",
      "userId": "03694478629413699942"
     },
     "user_tz": -480
    },
    "id": "kfXjwuzfQToR"
   },
   "outputs": [
    {
     "data": {
      "text/plain": [
       "'cuda'"
      ]
     },
     "execution_count": 11,
     "metadata": {},
     "output_type": "execute_result"
    }
   ],
   "source": [
    "device"
   ]
  },
  {
   "cell_type": "code",
   "execution_count": 12,
   "metadata": {
    "executionInfo": {
     "elapsed": 414,
     "status": "aborted",
     "timestamp": 1643881551365,
     "user": {
      "displayName": "Nelson L.",
      "photoUrl": "https://lh3.googleusercontent.com/a-/AOh14GipnVJXi8Vo7o6qBMpdgcfZB2j9TYnsly5vDf6nig=s64",
      "userId": "03694478629413699942"
     },
     "user_tz": -480
    },
    "id": "6V0arb4xkvG-"
   },
   "outputs": [],
   "source": [
    "model_name =\"albert-base-v2\""
   ]
  },
  {
   "cell_type": "code",
   "execution_count": 13,
   "metadata": {
    "executionInfo": {
     "elapsed": 416,
     "status": "aborted",
     "timestamp": 1643881551367,
     "user": {
      "displayName": "Nelson L.",
      "photoUrl": "https://lh3.googleusercontent.com/a-/AOh14GipnVJXi8Vo7o6qBMpdgcfZB2j9TYnsly5vDf6nig=s64",
      "userId": "03694478629413699942"
     },
     "user_tz": -480
    },
    "id": "DWnJoBL5cd4i"
   },
   "outputs": [],
   "source": [
    "# qnli_dev_df, qnli_train_df = get_qnli_pandas_dataframe()"
   ]
  },
  {
   "cell_type": "code",
   "execution_count": 14,
   "metadata": {
    "executionInfo": {
     "elapsed": 417,
     "status": "aborted",
     "timestamp": 1643881551368,
     "user": {
      "displayName": "Nelson L.",
      "photoUrl": "https://lh3.googleusercontent.com/a-/AOh14GipnVJXi8Vo7o6qBMpdgcfZB2j9TYnsly5vDf6nig=s64",
      "userId": "03694478629413699942"
     },
     "user_tz": -480
    },
    "id": "aLRlf8p8cd4j"
   },
   "outputs": [],
   "source": [
    "# qnli_train_df.head()"
   ]
  },
  {
   "cell_type": "code",
   "execution_count": 15,
   "metadata": {
    "executionInfo": {
     "elapsed": 417,
     "status": "aborted",
     "timestamp": 1643881551368,
     "user": {
      "displayName": "Nelson L.",
      "photoUrl": "https://lh3.googleusercontent.com/a-/AOh14GipnVJXi8Vo7o6qBMpdgcfZB2j9TYnsly5vDf6nig=s64",
      "userId": "03694478629413699942"
     },
     "user_tz": -480
    },
    "id": "V04RYgTkcd4j"
   },
   "outputs": [],
   "source": [
    "# qnli_train_df['question_sentence'] = qnli_train_df.apply(lambda x:  \" \".join([x['question'],x['sentence']]),axis = 1)\n",
    "\n",
    "# qnli_train_df['question_sentence_length'] = qnli_train_df['question_sentence'].apply(lambda x: len(x.split(\" \")))\n",
    "\n",
    "# max(qnli_train_df['question_sentence_length'])"
   ]
  },
  {
   "cell_type": "code",
   "execution_count": 16,
   "metadata": {},
   "outputs": [
    {
     "data": {
      "text/plain": [
       "['__pycache__', 'dev-v2.0.json', 'evaluate.py', 'train-v2.0.json']"
      ]
     },
     "execution_count": 16,
     "metadata": {},
     "output_type": "execute_result"
    }
   ],
   "source": [
    "os.listdir(\"/data/SQUAD2\")"
   ]
  },
  {
   "cell_type": "code",
   "execution_count": 17,
   "metadata": {
    "executionInfo": {
     "elapsed": 418,
     "status": "aborted",
     "timestamp": 1643881551369,
     "user": {
      "displayName": "Nelson L.",
      "photoUrl": "https://lh3.googleusercontent.com/a-/AOh14GipnVJXi8Vo7o6qBMpdgcfZB2j9TYnsly5vDf6nig=s64",
      "userId": "03694478629413699942"
     },
     "user_tz": -480
    },
    "id": "HLU5xq9idsxo"
   },
   "outputs": [],
   "source": [
    "# from google.colab import drive\n",
    "# drive.mount('/content/drive')\n",
    "squad_v2_dir = \"/data/SQUAD2\" # data folder"
   ]
  },
  {
   "cell_type": "code",
   "execution_count": 18,
   "metadata": {
    "executionInfo": {
     "elapsed": 420,
     "status": "aborted",
     "timestamp": 1643881551372,
     "user": {
      "displayName": "Nelson L.",
      "photoUrl": "https://lh3.googleusercontent.com/a-/AOh14GipnVJXi8Vo7o6qBMpdgcfZB2j9TYnsly5vDf6nig=s64",
      "userId": "03694478629413699942"
     },
     "user_tz": -480
    },
    "id": "q3-g1Xaocd4k"
   },
   "outputs": [],
   "source": [
    "train_df, dev_df = get_squad_v2_pandas_dataframe(squad_v2_dir,include_impossible=False,load_impossible_answer=False)"
   ]
  },
  {
   "cell_type": "code",
   "execution_count": 19,
   "metadata": {
    "executionInfo": {
     "elapsed": 421,
     "status": "aborted",
     "timestamp": 1643881551373,
     "user": {
      "displayName": "Nelson L.",
      "photoUrl": "https://lh3.googleusercontent.com/a-/AOh14GipnVJXi8Vo7o6qBMpdgcfZB2j9TYnsly5vDf6nig=s64",
      "userId": "03694478629413699942"
     },
     "user_tz": -480
    },
    "id": "phWY0761cd4l"
   },
   "outputs": [],
   "source": [
    "train_df['question_context'] = train_df.apply(lambda x:  \" \".join([x['question'].strip(),x['context'].strip()]),axis = 1)"
   ]
  },
  {
   "cell_type": "code",
   "execution_count": 20,
   "metadata": {
    "executionInfo": {
     "elapsed": 422,
     "status": "aborted",
     "timestamp": 1643881551374,
     "user": {
      "displayName": "Nelson L.",
      "photoUrl": "https://lh3.googleusercontent.com/a-/AOh14GipnVJXi8Vo7o6qBMpdgcfZB2j9TYnsly5vDf6nig=s64",
      "userId": "03694478629413699942"
     },
     "user_tz": -480
    },
    "id": "3XEG8ye0cd4l"
   },
   "outputs": [],
   "source": [
    "train_df['question_context_length'] = train_df['question_context'].apply(lambda x: len(x.split(\" \")))"
   ]
  },
  {
   "cell_type": "code",
   "execution_count": 21,
   "metadata": {
    "executionInfo": {
     "elapsed": 423,
     "status": "aborted",
     "timestamp": 1643881551375,
     "user": {
      "displayName": "Nelson L.",
      "photoUrl": "https://lh3.googleusercontent.com/a-/AOh14GipnVJXi8Vo7o6qBMpdgcfZB2j9TYnsly5vDf6nig=s64",
      "userId": "03694478629413699942"
     },
     "user_tz": -480
    },
    "id": "w9gh8Vnacd4m"
   },
   "outputs": [
    {
     "data": {
      "text/plain": [
       "668"
      ]
     },
     "execution_count": 21,
     "metadata": {},
     "output_type": "execute_result"
    }
   ],
   "source": [
    "max(train_df['question_context_length'])"
   ]
  },
  {
   "cell_type": "code",
   "execution_count": 22,
   "metadata": {},
   "outputs": [],
   "source": [
    "long_train_df = train_df[train_df['question_context_length']>=480]"
   ]
  },
  {
   "cell_type": "code",
   "execution_count": 23,
   "metadata": {},
   "outputs": [
    {
     "data": {
      "text/plain": [
       "29"
      ]
     },
     "execution_count": 23,
     "metadata": {},
     "output_type": "execute_result"
    }
   ],
   "source": [
    "len(long_train_df)"
   ]
  },
  {
   "cell_type": "code",
   "execution_count": 24,
   "metadata": {},
   "outputs": [],
   "source": [
    "short_train_df = train_df[~train_df['id'].isin(long_train_df['id'])]"
   ]
  },
  {
   "cell_type": "code",
   "execution_count": 25,
   "metadata": {},
   "outputs": [
    {
     "data": {
      "text/plain": [
       "460"
      ]
     },
     "execution_count": 25,
     "metadata": {},
     "output_type": "execute_result"
    }
   ],
   "source": [
    "max(short_train_df['question_context_length'])"
   ]
  },
  {
   "cell_type": "code",
   "execution_count": 26,
   "metadata": {},
   "outputs": [],
   "source": [
    "short_train_df = shuffle(short_train_df)"
   ]
  },
  {
   "cell_type": "code",
   "execution_count": 27,
   "metadata": {},
   "outputs": [],
   "source": [
    "train_size  = 80000"
   ]
  },
  {
   "cell_type": "code",
   "execution_count": 28,
   "metadata": {},
   "outputs": [],
   "source": [
    "short_train_df = short_train_df.head(train_size)"
   ]
  },
  {
   "cell_type": "code",
   "execution_count": 29,
   "metadata": {},
   "outputs": [],
   "source": [
    "positive_long_text_dataset_df = pd.concat([long_train_df,short_train_df]) "
   ]
  },
  {
   "cell_type": "code",
   "execution_count": 30,
   "metadata": {},
   "outputs": [],
   "source": [
    "# positive_long_text_dataset_df = shuffle(positive_long_text_dataset_df)"
   ]
  },
  {
   "cell_type": "code",
   "execution_count": 31,
   "metadata": {},
   "outputs": [],
   "source": [
    "# 5000*5000"
   ]
  },
  {
   "cell_type": "code",
   "execution_count": 32,
   "metadata": {},
   "outputs": [],
   "source": [
    "sample_df = positive_long_text_dataset_df.head(2200)"
   ]
  },
  {
   "cell_type": "code",
   "execution_count": 33,
   "metadata": {},
   "outputs": [
    {
     "name": "stderr",
     "output_type": "stream",
     "text": [
      "/usr/local/lib/python3.6/dist-packages/ipykernel_launcher.py:1: SettingWithCopyWarning: \n",
      "A value is trying to be set on a copy of a slice from a DataFrame.\n",
      "Try using .loc[row_indexer,col_indexer] = value instead\n",
      "\n",
      "See the caveats in the documentation: https://pandas.pydata.org/pandas-docs/stable/user_guide/indexing.html#returning-a-view-versus-a-copy\n",
      "  \"\"\"Entry point for launching an IPython kernel.\n"
     ]
    }
   ],
   "source": [
    "sample_df['key'] = 1"
   ]
  },
  {
   "cell_type": "code",
   "execution_count": 34,
   "metadata": {},
   "outputs": [],
   "source": [
    "negative_long_text_dataset_df = sample_df.merge(sample_df,on = 'key')"
   ]
  },
  {
   "cell_type": "code",
   "execution_count": 35,
   "metadata": {},
   "outputs": [
    {
     "data": {
      "text/html": [
       "<div>\n",
       "<style scoped>\n",
       "    .dataframe tbody tr th:only-of-type {\n",
       "        vertical-align: middle;\n",
       "    }\n",
       "\n",
       "    .dataframe tbody tr th {\n",
       "        vertical-align: top;\n",
       "    }\n",
       "\n",
       "    .dataframe thead th {\n",
       "        text-align: right;\n",
       "    }\n",
       "</style>\n",
       "<table border=\"1\" class=\"dataframe\">\n",
       "  <thead>\n",
       "    <tr style=\"text-align: right;\">\n",
       "      <th></th>\n",
       "      <th>id_x</th>\n",
       "      <th>title_x</th>\n",
       "      <th>context_x</th>\n",
       "      <th>question_x</th>\n",
       "      <th>answer_text_x</th>\n",
       "      <th>answer_start_x</th>\n",
       "      <th>is_impossible_x</th>\n",
       "      <th>question_context_x</th>\n",
       "      <th>question_context_length_x</th>\n",
       "      <th>key</th>\n",
       "      <th>id_y</th>\n",
       "      <th>title_y</th>\n",
       "      <th>context_y</th>\n",
       "      <th>question_y</th>\n",
       "      <th>answer_text_y</th>\n",
       "      <th>answer_start_y</th>\n",
       "      <th>is_impossible_y</th>\n",
       "      <th>question_context_y</th>\n",
       "      <th>question_context_length_y</th>\n",
       "    </tr>\n",
       "  </thead>\n",
       "  <tbody>\n",
       "    <tr>\n",
       "      <th>0</th>\n",
       "      <td>56cef51daab44d1400b88d11</td>\n",
       "      <td>Spectre_(2015_film)</td>\n",
       "      <td>Critical appraisal of the film was mixed in th...</td>\n",
       "      <td>Which journalist considered Spectre the worst ...</td>\n",
       "      <td>Scott Mendelson</td>\n",
       "      <td>515</td>\n",
       "      <td>False</td>\n",
       "      <td>Which journalist considered Spectre the worst ...</td>\n",
       "      <td>511</td>\n",
       "      <td>1</td>\n",
       "      <td>56cef51daab44d1400b88d11</td>\n",
       "      <td>Spectre_(2015_film)</td>\n",
       "      <td>Critical appraisal of the film was mixed in th...</td>\n",
       "      <td>Which journalist considered Spectre the worst ...</td>\n",
       "      <td>Scott Mendelson</td>\n",
       "      <td>515</td>\n",
       "      <td>False</td>\n",
       "      <td>Which journalist considered Spectre the worst ...</td>\n",
       "      <td>511</td>\n",
       "    </tr>\n",
       "    <tr>\n",
       "      <th>1</th>\n",
       "      <td>56cef51daab44d1400b88d11</td>\n",
       "      <td>Spectre_(2015_film)</td>\n",
       "      <td>Critical appraisal of the film was mixed in th...</td>\n",
       "      <td>Which journalist considered Spectre the worst ...</td>\n",
       "      <td>Scott Mendelson</td>\n",
       "      <td>515</td>\n",
       "      <td>False</td>\n",
       "      <td>Which journalist considered Spectre the worst ...</td>\n",
       "      <td>511</td>\n",
       "      <td>1</td>\n",
       "      <td>56cef51daab44d1400b88d12</td>\n",
       "      <td>Spectre_(2015_film)</td>\n",
       "      <td>Critical appraisal of the film was mixed in th...</td>\n",
       "      <td>Which writer for the San Francisco Chronicle a...</td>\n",
       "      <td>Mick LaSalle</td>\n",
       "      <td>1373</td>\n",
       "      <td>False</td>\n",
       "      <td>Which writer for the San Francisco Chronicle a...</td>\n",
       "      <td>512</td>\n",
       "    </tr>\n",
       "    <tr>\n",
       "      <th>2</th>\n",
       "      <td>56cef51daab44d1400b88d11</td>\n",
       "      <td>Spectre_(2015_film)</td>\n",
       "      <td>Critical appraisal of the film was mixed in th...</td>\n",
       "      <td>Which journalist considered Spectre the worst ...</td>\n",
       "      <td>Scott Mendelson</td>\n",
       "      <td>515</td>\n",
       "      <td>False</td>\n",
       "      <td>Which journalist considered Spectre the worst ...</td>\n",
       "      <td>511</td>\n",
       "      <td>1</td>\n",
       "      <td>56cef51daab44d1400b88d13</td>\n",
       "      <td>Spectre_(2015_film)</td>\n",
       "      <td>Critical appraisal of the film was mixed in th...</td>\n",
       "      <td>What score did the writer from the Chicago Tri...</td>\n",
       "      <td>75</td>\n",
       "      <td>2118</td>\n",
       "      <td>False</td>\n",
       "      <td>What score did the writer from the Chicago Tri...</td>\n",
       "      <td>511</td>\n",
       "    </tr>\n",
       "    <tr>\n",
       "      <th>3</th>\n",
       "      <td>56cef51daab44d1400b88d11</td>\n",
       "      <td>Spectre_(2015_film)</td>\n",
       "      <td>Critical appraisal of the film was mixed in th...</td>\n",
       "      <td>Which journalist considered Spectre the worst ...</td>\n",
       "      <td>Scott Mendelson</td>\n",
       "      <td>515</td>\n",
       "      <td>False</td>\n",
       "      <td>Which journalist considered Spectre the worst ...</td>\n",
       "      <td>511</td>\n",
       "      <td>1</td>\n",
       "      <td>56cef51daab44d1400b88d14</td>\n",
       "      <td>Spectre_(2015_film)</td>\n",
       "      <td>Critical appraisal of the film was mixed in th...</td>\n",
       "      <td>The reviewer from Variety compares Spectre to ...</td>\n",
       "      <td>Skyfall</td>\n",
       "      <td>2982</td>\n",
       "      <td>False</td>\n",
       "      <td>The reviewer from Variety compares Spectre to ...</td>\n",
       "      <td>510</td>\n",
       "    </tr>\n",
       "    <tr>\n",
       "      <th>4</th>\n",
       "      <td>56cef51daab44d1400b88d11</td>\n",
       "      <td>Spectre_(2015_film)</td>\n",
       "      <td>Critical appraisal of the film was mixed in th...</td>\n",
       "      <td>Which journalist considered Spectre the worst ...</td>\n",
       "      <td>Scott Mendelson</td>\n",
       "      <td>515</td>\n",
       "      <td>False</td>\n",
       "      <td>Which journalist considered Spectre the worst ...</td>\n",
       "      <td>511</td>\n",
       "      <td>1</td>\n",
       "      <td>572a2c616aef051400155338</td>\n",
       "      <td>Digimon</td>\n",
       "      <td>After a three-year hiatus, a fifth Digimon ser...</td>\n",
       "      <td>How long did Digimon stay off the air before r...</td>\n",
       "      <td>three-year hiatus</td>\n",
       "      <td>8</td>\n",
       "      <td>False</td>\n",
       "      <td>How long did Digimon stay off the air before r...</td>\n",
       "      <td>496</td>\n",
       "    </tr>\n",
       "  </tbody>\n",
       "</table>\n",
       "</div>"
      ],
      "text/plain": [
       "                       id_x              title_x  \\\n",
       "0  56cef51daab44d1400b88d11  Spectre_(2015_film)   \n",
       "1  56cef51daab44d1400b88d11  Spectre_(2015_film)   \n",
       "2  56cef51daab44d1400b88d11  Spectre_(2015_film)   \n",
       "3  56cef51daab44d1400b88d11  Spectre_(2015_film)   \n",
       "4  56cef51daab44d1400b88d11  Spectre_(2015_film)   \n",
       "\n",
       "                                           context_x  \\\n",
       "0  Critical appraisal of the film was mixed in th...   \n",
       "1  Critical appraisal of the film was mixed in th...   \n",
       "2  Critical appraisal of the film was mixed in th...   \n",
       "3  Critical appraisal of the film was mixed in th...   \n",
       "4  Critical appraisal of the film was mixed in th...   \n",
       "\n",
       "                                          question_x    answer_text_x  \\\n",
       "0  Which journalist considered Spectre the worst ...  Scott Mendelson   \n",
       "1  Which journalist considered Spectre the worst ...  Scott Mendelson   \n",
       "2  Which journalist considered Spectre the worst ...  Scott Mendelson   \n",
       "3  Which journalist considered Spectre the worst ...  Scott Mendelson   \n",
       "4  Which journalist considered Spectre the worst ...  Scott Mendelson   \n",
       "\n",
       "   answer_start_x  is_impossible_x  \\\n",
       "0             515            False   \n",
       "1             515            False   \n",
       "2             515            False   \n",
       "3             515            False   \n",
       "4             515            False   \n",
       "\n",
       "                                  question_context_x  \\\n",
       "0  Which journalist considered Spectre the worst ...   \n",
       "1  Which journalist considered Spectre the worst ...   \n",
       "2  Which journalist considered Spectre the worst ...   \n",
       "3  Which journalist considered Spectre the worst ...   \n",
       "4  Which journalist considered Spectre the worst ...   \n",
       "\n",
       "   question_context_length_x  key                      id_y  \\\n",
       "0                        511    1  56cef51daab44d1400b88d11   \n",
       "1                        511    1  56cef51daab44d1400b88d12   \n",
       "2                        511    1  56cef51daab44d1400b88d13   \n",
       "3                        511    1  56cef51daab44d1400b88d14   \n",
       "4                        511    1  572a2c616aef051400155338   \n",
       "\n",
       "               title_y                                          context_y  \\\n",
       "0  Spectre_(2015_film)  Critical appraisal of the film was mixed in th...   \n",
       "1  Spectre_(2015_film)  Critical appraisal of the film was mixed in th...   \n",
       "2  Spectre_(2015_film)  Critical appraisal of the film was mixed in th...   \n",
       "3  Spectre_(2015_film)  Critical appraisal of the film was mixed in th...   \n",
       "4              Digimon  After a three-year hiatus, a fifth Digimon ser...   \n",
       "\n",
       "                                          question_y      answer_text_y  \\\n",
       "0  Which journalist considered Spectre the worst ...    Scott Mendelson   \n",
       "1  Which writer for the San Francisco Chronicle a...       Mick LaSalle   \n",
       "2  What score did the writer from the Chicago Tri...                 75   \n",
       "3  The reviewer from Variety compares Spectre to ...            Skyfall   \n",
       "4  How long did Digimon stay off the air before r...  three-year hiatus   \n",
       "\n",
       "   answer_start_y  is_impossible_y  \\\n",
       "0             515            False   \n",
       "1            1373            False   \n",
       "2            2118            False   \n",
       "3            2982            False   \n",
       "4               8            False   \n",
       "\n",
       "                                  question_context_y  \\\n",
       "0  Which journalist considered Spectre the worst ...   \n",
       "1  Which writer for the San Francisco Chronicle a...   \n",
       "2  What score did the writer from the Chicago Tri...   \n",
       "3  The reviewer from Variety compares Spectre to ...   \n",
       "4  How long did Digimon stay off the air before r...   \n",
       "\n",
       "   question_context_length_y  \n",
       "0                        511  \n",
       "1                        512  \n",
       "2                        511  \n",
       "3                        510  \n",
       "4                        496  "
      ]
     },
     "execution_count": 35,
     "metadata": {},
     "output_type": "execute_result"
    }
   ],
   "source": [
    "negative_long_text_dataset_df.head()"
   ]
  },
  {
   "cell_type": "code",
   "execution_count": 36,
   "metadata": {},
   "outputs": [],
   "source": [
    "negative_long_text_dataset_df = negative_long_text_dataset_df[negative_long_text_dataset_df['title_x']!=negative_long_text_dataset_df['title_y']]"
   ]
  },
  {
   "cell_type": "code",
   "execution_count": 37,
   "metadata": {},
   "outputs": [],
   "source": [
    "negative_long_text_dataset_df = shuffle(negative_long_text_dataset_df)"
   ]
  },
  {
   "cell_type": "code",
   "execution_count": 38,
   "metadata": {},
   "outputs": [],
   "source": [
    "negative_long_text_dataset_df = negative_long_text_dataset_df.head(train_size)"
   ]
  },
  {
   "cell_type": "code",
   "execution_count": 39,
   "metadata": {},
   "outputs": [],
   "source": [
    "cols  = \"id_x\ttitle_x\tcontext_x\tquestion_y\tanswer_text_x\tanswer_start_x\tis_impossible_x\tquestion_context_x\tquestion_context_length_x\".split(\"\\t\")"
   ]
  },
  {
   "cell_type": "code",
   "execution_count": 40,
   "metadata": {},
   "outputs": [],
   "source": [
    "# negative_long_text_dataset_df.head()"
   ]
  },
  {
   "cell_type": "code",
   "execution_count": 41,
   "metadata": {},
   "outputs": [],
   "source": [
    "negative_long_text_dataset_df = negative_long_text_dataset_df[cols]"
   ]
  },
  {
   "cell_type": "code",
   "execution_count": 42,
   "metadata": {},
   "outputs": [],
   "source": [
    "negative_long_text_dataset_df.columns = positive_long_text_dataset_df.columns"
   ]
  },
  {
   "cell_type": "code",
   "execution_count": 43,
   "metadata": {},
   "outputs": [
    {
     "data": {
      "text/html": [
       "<div>\n",
       "<style scoped>\n",
       "    .dataframe tbody tr th:only-of-type {\n",
       "        vertical-align: middle;\n",
       "    }\n",
       "\n",
       "    .dataframe tbody tr th {\n",
       "        vertical-align: top;\n",
       "    }\n",
       "\n",
       "    .dataframe thead th {\n",
       "        text-align: right;\n",
       "    }\n",
       "</style>\n",
       "<table border=\"1\" class=\"dataframe\">\n",
       "  <thead>\n",
       "    <tr style=\"text-align: right;\">\n",
       "      <th></th>\n",
       "      <th>id</th>\n",
       "      <th>title</th>\n",
       "      <th>context</th>\n",
       "      <th>question</th>\n",
       "      <th>answer_text</th>\n",
       "      <th>answer_start</th>\n",
       "      <th>is_impossible</th>\n",
       "      <th>question_context</th>\n",
       "      <th>question_context_length</th>\n",
       "    </tr>\n",
       "  </thead>\n",
       "  <tbody>\n",
       "    <tr>\n",
       "      <th>23815</th>\n",
       "      <td>5727e311ff5b5019007d9799</td>\n",
       "      <td>Gramophone_record</td>\n",
       "      <td>Original master discs are created by lathe-cut...</td>\n",
       "      <td>What type of cameras see infrared radiation?</td>\n",
       "      <td>limited to a few hundred vinyl pressings</td>\n",
       "      <td>2963</td>\n",
       "      <td>False</td>\n",
       "      <td>What is the limitation of the two step process...</td>\n",
       "      <td>542</td>\n",
       "    </tr>\n",
       "    <tr>\n",
       "      <th>30237</th>\n",
       "      <td>5727e311ff5b5019007d979c</td>\n",
       "      <td>Gramophone_record</td>\n",
       "      <td>Original master discs are created by lathe-cut...</td>\n",
       "      <td>How can additional points be earned?</td>\n",
       "      <td>quality of the vinyl is high</td>\n",
       "      <td>3070</td>\n",
       "      <td>False</td>\n",
       "      <td>What can increase the output of a stamper mold...</td>\n",
       "      <td>542</td>\n",
       "    </tr>\n",
       "    <tr>\n",
       "      <th>2898388</th>\n",
       "      <td>572fdc43947a6a140053cd76</td>\n",
       "      <td>Greeks</td>\n",
       "      <td>In Homer's Iliad, the names Danaans (or Danaoi...</td>\n",
       "      <td>Her first appearance performing since giving b...</td>\n",
       "      <td>A country Danaja with a city Mukana (propaply:...</td>\n",
       "      <td>1601</td>\n",
       "      <td>False</td>\n",
       "      <td>What country is spoken of in the inscriptions ...</td>\n",
       "      <td>312</td>\n",
       "    </tr>\n",
       "    <tr>\n",
       "      <th>4528532</th>\n",
       "      <td>5727eb304b864d190016401a</td>\n",
       "      <td>London</td>\n",
       "      <td>Following his victory in the Battle of Hasting...</td>\n",
       "      <td>What does Nanjing mean?</td>\n",
       "      <td>southeastern corner</td>\n",
       "      <td>287</td>\n",
       "      <td>False</td>\n",
       "      <td>In what area of London was the Tower of London...</td>\n",
       "      <td>99</td>\n",
       "    </tr>\n",
       "    <tr>\n",
       "      <th>378066</th>\n",
       "      <td>56e7990237bdd419002c41eb</td>\n",
       "      <td>University_of_Kansas</td>\n",
       "      <td>The school's sports teams, wearing crimson and...</td>\n",
       "      <td>What is the literal meaning of tariqah?</td>\n",
       "      <td>Rim Rock Farm</td>\n",
       "      <td>489</td>\n",
       "      <td>False</td>\n",
       "      <td>Where does KU's cross country team run? The sc...</td>\n",
       "      <td>127</td>\n",
       "    </tr>\n",
       "  </tbody>\n",
       "</table>\n",
       "</div>"
      ],
      "text/plain": [
       "                               id                 title  \\\n",
       "23815    5727e311ff5b5019007d9799     Gramophone_record   \n",
       "30237    5727e311ff5b5019007d979c     Gramophone_record   \n",
       "2898388  572fdc43947a6a140053cd76                Greeks   \n",
       "4528532  5727eb304b864d190016401a                London   \n",
       "378066   56e7990237bdd419002c41eb  University_of_Kansas   \n",
       "\n",
       "                                                   context  \\\n",
       "23815    Original master discs are created by lathe-cut...   \n",
       "30237    Original master discs are created by lathe-cut...   \n",
       "2898388  In Homer's Iliad, the names Danaans (or Danaoi...   \n",
       "4528532  Following his victory in the Battle of Hasting...   \n",
       "378066   The school's sports teams, wearing crimson and...   \n",
       "\n",
       "                                                  question  \\\n",
       "23815         What type of cameras see infrared radiation?   \n",
       "30237                 How can additional points be earned?   \n",
       "2898388  Her first appearance performing since giving b...   \n",
       "4528532                            What does Nanjing mean?   \n",
       "378066             What is the literal meaning of tariqah?   \n",
       "\n",
       "                                               answer_text  answer_start  \\\n",
       "23815             limited to a few hundred vinyl pressings          2963   \n",
       "30237                         quality of the vinyl is high          3070   \n",
       "2898388  A country Danaja with a city Mukana (propaply:...          1601   \n",
       "4528532                                southeastern corner           287   \n",
       "378066                                       Rim Rock Farm           489   \n",
       "\n",
       "         is_impossible                                   question_context  \\\n",
       "23815            False  What is the limitation of the two step process...   \n",
       "30237            False  What can increase the output of a stamper mold...   \n",
       "2898388          False  What country is spoken of in the inscriptions ...   \n",
       "4528532          False  In what area of London was the Tower of London...   \n",
       "378066           False  Where does KU's cross country team run? The sc...   \n",
       "\n",
       "         question_context_length  \n",
       "23815                        542  \n",
       "30237                        542  \n",
       "2898388                      312  \n",
       "4528532                       99  \n",
       "378066                       127  "
      ]
     },
     "execution_count": 43,
     "metadata": {},
     "output_type": "execute_result"
    }
   ],
   "source": [
    "negative_long_text_dataset_df.head()"
   ]
  },
  {
   "cell_type": "code",
   "execution_count": 44,
   "metadata": {},
   "outputs": [],
   "source": [
    "negative_long_text_dataset_df['label'] = 0\n",
    "positive_long_text_dataset_df['label'] = 1"
   ]
  },
  {
   "cell_type": "code",
   "execution_count": 45,
   "metadata": {},
   "outputs": [],
   "source": [
    "all_data_dataset = pd.concat([negative_long_text_dataset_df,positive_long_text_dataset_df])"
   ]
  },
  {
   "cell_type": "code",
   "execution_count": 46,
   "metadata": {},
   "outputs": [],
   "source": [
    "all_data_dataset = shuffle(all_data_dataset)"
   ]
  },
  {
   "cell_type": "code",
   "execution_count": 47,
   "metadata": {},
   "outputs": [],
   "source": [
    "size = len(all_data_dataset)//2"
   ]
  },
  {
   "cell_type": "code",
   "execution_count": 48,
   "metadata": {
    "executionInfo": {
     "elapsed": 428,
     "status": "aborted",
     "timestamp": 1643881551381,
     "user": {
      "displayName": "Nelson L.",
      "photoUrl": "https://lh3.googleusercontent.com/a-/AOh14GipnVJXi8Vo7o6qBMpdgcfZB2j9TYnsly5vDf6nig=s64",
      "userId": "03694478629413699942"
     },
     "user_tz": -480
    },
    "id": "kjQ9bLt2cd4t"
   },
   "outputs": [],
   "source": [
    "train_df = all_data_dataset.head(size)"
   ]
  },
  {
   "cell_type": "code",
   "execution_count": 49,
   "metadata": {},
   "outputs": [],
   "source": [
    "dev_df = all_data_dataset.tail(size)"
   ]
  },
  {
   "cell_type": "code",
   "execution_count": 50,
   "metadata": {
    "executionInfo": {
     "elapsed": 429,
     "status": "aborted",
     "timestamp": 1643881551382,
     "user": {
      "displayName": "Nelson L.",
      "photoUrl": "https://lh3.googleusercontent.com/a-/AOh14GipnVJXi8Vo7o6qBMpdgcfZB2j9TYnsly5vDf6nig=s64",
      "userId": "03694478629413699942"
     },
     "user_tz": -480
    },
    "id": "hop_mte5cd4u"
   },
   "outputs": [],
   "source": [
    "from collections import Counter"
   ]
  },
  {
   "cell_type": "code",
   "execution_count": 51,
   "metadata": {
    "executionInfo": {
     "elapsed": 430,
     "status": "aborted",
     "timestamp": 1643881551384,
     "user": {
      "displayName": "Nelson L.",
      "photoUrl": "https://lh3.googleusercontent.com/a-/AOh14GipnVJXi8Vo7o6qBMpdgcfZB2j9TYnsly5vDf6nig=s64",
      "userId": "03694478629413699942"
     },
     "user_tz": -480
    },
    "id": "Xoh0wjNCcd4u"
   },
   "outputs": [
    {
     "data": {
      "text/plain": [
       "Counter({0: 39810, 1: 40204})"
      ]
     },
     "execution_count": 51,
     "metadata": {},
     "output_type": "execute_result"
    }
   ],
   "source": [
    "Counter(train_df['label'])"
   ]
  },
  {
   "cell_type": "markdown",
   "metadata": {
    "id": "xazR7eZpXcZs"
   },
   "source": [
    "# 2) Tokenization Features Engineering"
   ]
  },
  {
   "cell_type": "code",
   "execution_count": 52,
   "metadata": {
    "executionInfo": {
     "elapsed": 431,
     "status": "aborted",
     "timestamp": 1643881551385,
     "user": {
      "displayName": "Nelson L.",
      "photoUrl": "https://lh3.googleusercontent.com/a-/AOh14GipnVJXi8Vo7o6qBMpdgcfZB2j9TYnsly5vDf6nig=s64",
      "userId": "03694478629413699942"
     },
     "user_tz": -480
    },
    "id": "N61l98MhbURZ"
   },
   "outputs": [],
   "source": [
    "max_length = 512"
   ]
  },
  {
   "cell_type": "code",
   "execution_count": 53,
   "metadata": {
    "executionInfo": {
     "elapsed": 433,
     "status": "aborted",
     "timestamp": 1643881551387,
     "user": {
      "displayName": "Nelson L.",
      "photoUrl": "https://lh3.googleusercontent.com/a-/AOh14GipnVJXi8Vo7o6qBMpdgcfZB2j9TYnsly5vDf6nig=s64",
      "userId": "03694478629413699942"
     },
     "user_tz": -480
    },
    "id": "o7wO6Lt2cd4z"
   },
   "outputs": [],
   "source": [
    "doc_overlap_length = 32"
   ]
  },
  {
   "cell_type": "code",
   "execution_count": 54,
   "metadata": {
    "executionInfo": {
     "elapsed": 61,
     "status": "aborted",
     "timestamp": 1643881551388,
     "user": {
      "displayName": "Nelson L.",
      "photoUrl": "https://lh3.googleusercontent.com/a-/AOh14GipnVJXi8Vo7o6qBMpdgcfZB2j9TYnsly5vDf6nig=s64",
      "userId": "03694478629413699942"
     },
     "user_tz": -480
    },
    "id": "e5DLd3b3aqde"
   },
   "outputs": [],
   "source": [
    "tokenizer = AutoTokenizer.from_pretrained(model_name)"
   ]
  },
  {
   "cell_type": "code",
   "execution_count": 55,
   "metadata": {
    "executionInfo": {
     "elapsed": 63,
     "status": "aborted",
     "timestamp": 1643881551390,
     "user": {
      "displayName": "Nelson L.",
      "photoUrl": "https://lh3.googleusercontent.com/a-/AOh14GipnVJXi8Vo7o6qBMpdgcfZB2j9TYnsly5vDf6nig=s64",
      "userId": "03694478629413699942"
     },
     "user_tz": -480
    },
    "id": "-etjdTo9Rnm_"
   },
   "outputs": [
    {
     "data": {
      "text/plain": [
       "143"
      ]
     },
     "execution_count": 55,
     "metadata": {},
     "output_type": "execute_result"
    }
   ],
   "source": [
    "question = train_df['question'].iloc[0]\n",
    "context = train_df['context'].iloc[0]\n",
    "\n",
    "train_df['question_context_length'].iloc[0]"
   ]
  },
  {
   "cell_type": "code",
   "execution_count": 56,
   "metadata": {
    "executionInfo": {
     "elapsed": 63,
     "status": "aborted",
     "timestamp": 1643881551391,
     "user": {
      "displayName": "Nelson L.",
      "photoUrl": "https://lh3.googleusercontent.com/a-/AOh14GipnVJXi8Vo7o6qBMpdgcfZB2j9TYnsly5vDf6nig=s64",
      "userId": "03694478629413699942"
     },
     "user_tz": -480
    },
    "id": "7T988ifpcd42"
   },
   "outputs": [],
   "source": [
    "def get_token(question,context):\n",
    "    \n",
    "    inputs = tokenizer(\n",
    "            text = question,\n",
    "            text_pair = context,\n",
    "            add_special_tokens = True,\n",
    "            max_length = 512,\n",
    "            padding = \"max_length\",\n",
    "            return_token_type_ids = True,\n",
    "            truncation = \"only_second\",\n",
    "#             return_tensors=   'pt'\n",
    "            )\n",
    "    \n",
    "    return inputs"
   ]
  },
  {
   "cell_type": "code",
   "execution_count": 57,
   "metadata": {
    "executionInfo": {
     "elapsed": 64,
     "status": "aborted",
     "timestamp": 1643881551392,
     "user": {
      "displayName": "Nelson L.",
      "photoUrl": "https://lh3.googleusercontent.com/a-/AOh14GipnVJXi8Vo7o6qBMpdgcfZB2j9TYnsly5vDf6nig=s64",
      "userId": "03694478629413699942"
     },
     "user_tz": -480
    },
    "id": "vA0pyJb9cd43"
   },
   "outputs": [],
   "source": [
    "def get_raw_token(question,context):\n",
    "    \n",
    "    inputs = tokenizer(\n",
    "        text = question,\n",
    "        text_pair = context,\n",
    "        add_special_tokens = True,\n",
    "        max_length = None,\n",
    "        padding = False,\n",
    "        return_token_type_ids = True,\n",
    "        truncation = False,\n",
    "        return_offsets_mapping = True\n",
    "        )\n",
    "    \n",
    "    return inputs"
   ]
  },
  {
   "cell_type": "code",
   "execution_count": 58,
   "metadata": {
    "executionInfo": {
     "elapsed": 65,
     "status": "aborted",
     "timestamp": 1643881551393,
     "user": {
      "displayName": "Nelson L.",
      "photoUrl": "https://lh3.googleusercontent.com/a-/AOh14GipnVJXi8Vo7o6qBMpdgcfZB2j9TYnsly5vDf6nig=s64",
      "userId": "03694478629413699942"
     },
     "user_tz": -480
    },
    "id": "--k7pY6scd44"
   },
   "outputs": [],
   "source": [
    "raw_token  = get_raw_token(question,context)"
   ]
  },
  {
   "cell_type": "code",
   "execution_count": 59,
   "metadata": {
    "executionInfo": {
     "elapsed": 66,
     "status": "aborted",
     "timestamp": 1643881551394,
     "user": {
      "displayName": "Nelson L.",
      "photoUrl": "https://lh3.googleusercontent.com/a-/AOh14GipnVJXi8Vo7o6qBMpdgcfZB2j9TYnsly5vDf6nig=s64",
      "userId": "03694478629413699942"
     },
     "user_tz": -480
    },
    "id": "Wz2MInsJzgp-"
   },
   "outputs": [
    {
     "data": {
      "text/plain": [
       "dict_keys(['input_ids', 'token_type_ids', 'attention_mask', 'offset_mapping'])"
      ]
     },
     "execution_count": 59,
     "metadata": {},
     "output_type": "execute_result"
    }
   ],
   "source": [
    "raw_token.keys()"
   ]
  },
  {
   "cell_type": "code",
   "execution_count": 60,
   "metadata": {
    "executionInfo": {
     "elapsed": 67,
     "status": "aborted",
     "timestamp": 1643881551395,
     "user": {
      "displayName": "Nelson L.",
      "photoUrl": "https://lh3.googleusercontent.com/a-/AOh14GipnVJXi8Vo7o6qBMpdgcfZB2j9TYnsly5vDf6nig=s64",
      "userId": "03694478629413699942"
     },
     "user_tz": -480
    },
    "id": "4mcCL3M2cd45"
   },
   "outputs": [],
   "source": [
    "def duplicate_token(question,context):\n",
    "    \n",
    "    inputs = get_token(question,context)\n",
    "    \n",
    "    return inputs,inputs"
   ]
  },
  {
   "cell_type": "code",
   "execution_count": 61,
   "metadata": {
    "executionInfo": {
     "elapsed": 69,
     "status": "aborted",
     "timestamp": 1643881551397,
     "user": {
      "displayName": "Nelson L.",
      "photoUrl": "https://lh3.googleusercontent.com/a-/AOh14GipnVJXi8Vo7o6qBMpdgcfZB2j9TYnsly5vDf6nig=s64",
      "userId": "03694478629413699942"
     },
     "user_tz": -480
    },
    "id": "ymC4Lq32cd45"
   },
   "outputs": [],
   "source": [
    "token_inputs_1,token_inputs_2 = duplicate_token(question,context)"
   ]
  },
  {
   "cell_type": "code",
   "execution_count": 62,
   "metadata": {},
   "outputs": [
    {
     "data": {
      "text/plain": [
       "'[CLS] english freemasonry almost came to a halt in what year?[SEP] yale seniors at graduation smash clay pipes underfoot to symbolize passage from their \"bright college years,\" though in recent history the pipes have been replaced with \"bubble pipes\". (\"bright college years,\" the university\\'s alma mater, was penned in 1881 by henry durand, class of 1881, to the tune of die wacht am rhein.) yale\\'s student tour guides tell visitors that students consider it good luck to rub the toe of the statue of theodore dwight woolsey on old campus. actual students rarely do so. in the second half of the 20th century bladderball, a campus-wide game played with a large inflatable ball, became a popular tradition but was banned by administration due to safety concerns. in spite of administration opposition, students revived the game in 2009, 2011, and 2014, but its future remains uncertain.[SEP]<pad><pad><pad><pad><pad><pad><pad><pad><pad><pad><pad><pad><pad><pad><pad><pad><pad><pad><pad><pad><pad><pad><pad><pad><pad><pad><pad><pad><pad><pad><pad><pad><pad><pad><pad><pad><pad><pad><pad><pad><pad><pad><pad><pad><pad><pad><pad><pad><pad><pad><pad><pad><pad><pad><pad><pad><pad><pad><pad><pad><pad><pad><pad><pad><pad><pad><pad><pad><pad><pad><pad><pad><pad><pad><pad><pad><pad><pad><pad><pad><pad><pad><pad><pad><pad><pad><pad><pad><pad><pad><pad><pad><pad><pad><pad><pad><pad><pad><pad><pad><pad><pad><pad><pad><pad><pad><pad><pad><pad><pad><pad><pad><pad><pad><pad><pad><pad><pad><pad><pad><pad><pad><pad><pad><pad><pad><pad><pad><pad><pad><pad><pad><pad><pad><pad><pad><pad><pad><pad><pad><pad><pad><pad><pad><pad><pad><pad><pad><pad><pad><pad><pad><pad><pad><pad><pad><pad><pad><pad><pad><pad><pad><pad><pad><pad><pad><pad><pad><pad><pad><pad><pad><pad><pad><pad><pad><pad><pad><pad><pad><pad><pad><pad><pad><pad><pad><pad><pad><pad><pad><pad><pad><pad><pad><pad><pad><pad><pad><pad><pad><pad><pad><pad><pad><pad><pad><pad><pad><pad><pad><pad><pad><pad><pad><pad><pad><pad><pad><pad><pad><pad><pad><pad><pad><pad><pad><pad><pad><pad><pad><pad><pad><pad><pad><pad><pad><pad><pad><pad><pad><pad><pad><pad><pad><pad><pad><pad><pad><pad><pad><pad><pad><pad><pad><pad><pad><pad><pad><pad><pad><pad><pad><pad><pad><pad><pad><pad><pad><pad><pad><pad><pad><pad><pad><pad><pad><pad><pad><pad><pad><pad><pad><pad><pad><pad><pad><pad><pad><pad><pad><pad><pad><pad><pad><pad><pad><pad><pad><pad><pad><pad><pad><pad><pad><pad><pad><pad><pad><pad><pad><pad><pad><pad><pad><pad>'"
      ]
     },
     "execution_count": 62,
     "metadata": {},
     "output_type": "execute_result"
    }
   ],
   "source": [
    "tokenizer.decode(token_inputs_1['input_ids'])"
   ]
  },
  {
   "cell_type": "code",
   "execution_count": 63,
   "metadata": {},
   "outputs": [
    {
     "data": {
      "text/plain": [
       "'[CLS] english freemasonry almost came to a halt in what year?[SEP] yale seniors at graduation smash clay pipes underfoot to symbolize passage from their \"bright college years,\" though in recent history the pipes have been replaced with \"bubble pipes\". (\"bright college years,\" the university\\'s alma mater, was penned in 1881 by henry durand, class of 1881, to the tune of die wacht am rhein.) yale\\'s student tour guides tell visitors that students consider it good luck to rub the toe of the statue of theodore dwight woolsey on old campus. actual students rarely do so. in the second half of the 20th century bladderball, a campus-wide game played with a large inflatable ball, became a popular tradition but was banned by administration due to safety concerns. in spite of administration opposition, students revived the game in 2009, 2011, and 2014, but its future remains uncertain.[SEP]<pad><pad><pad><pad><pad><pad><pad><pad><pad><pad><pad><pad><pad><pad><pad><pad><pad><pad><pad><pad><pad><pad><pad><pad><pad><pad><pad><pad><pad><pad><pad><pad><pad><pad><pad><pad><pad><pad><pad><pad><pad><pad><pad><pad><pad><pad><pad><pad><pad><pad><pad><pad><pad><pad><pad><pad><pad><pad><pad><pad><pad><pad><pad><pad><pad><pad><pad><pad><pad><pad><pad><pad><pad><pad><pad><pad><pad><pad><pad><pad><pad><pad><pad><pad><pad><pad><pad><pad><pad><pad><pad><pad><pad><pad><pad><pad><pad><pad><pad><pad><pad><pad><pad><pad><pad><pad><pad><pad><pad><pad><pad><pad><pad><pad><pad><pad><pad><pad><pad><pad><pad><pad><pad><pad><pad><pad><pad><pad><pad><pad><pad><pad><pad><pad><pad><pad><pad><pad><pad><pad><pad><pad><pad><pad><pad><pad><pad><pad><pad><pad><pad><pad><pad><pad><pad><pad><pad><pad><pad><pad><pad><pad><pad><pad><pad><pad><pad><pad><pad><pad><pad><pad><pad><pad><pad><pad><pad><pad><pad><pad><pad><pad><pad><pad><pad><pad><pad><pad><pad><pad><pad><pad><pad><pad><pad><pad><pad><pad><pad><pad><pad><pad><pad><pad><pad><pad><pad><pad><pad><pad><pad><pad><pad><pad><pad><pad><pad><pad><pad><pad><pad><pad><pad><pad><pad><pad><pad><pad><pad><pad><pad><pad><pad><pad><pad><pad><pad><pad><pad><pad><pad><pad><pad><pad><pad><pad><pad><pad><pad><pad><pad><pad><pad><pad><pad><pad><pad><pad><pad><pad><pad><pad><pad><pad><pad><pad><pad><pad><pad><pad><pad><pad><pad><pad><pad><pad><pad><pad><pad><pad><pad><pad><pad><pad><pad><pad><pad><pad><pad><pad><pad><pad><pad><pad><pad><pad><pad><pad><pad><pad><pad><pad><pad><pad><pad><pad><pad><pad><pad><pad><pad><pad><pad><pad><pad>'"
      ]
     },
     "execution_count": 63,
     "metadata": {},
     "output_type": "execute_result"
    }
   ],
   "source": [
    "tokenizer.decode(token_inputs_2['input_ids'])"
   ]
  },
  {
   "cell_type": "code",
   "execution_count": 64,
   "metadata": {
    "executionInfo": {
     "elapsed": 69,
     "status": "aborted",
     "timestamp": 1643881551398,
     "user": {
      "displayName": "Nelson L.",
      "photoUrl": "https://lh3.googleusercontent.com/a-/AOh14GipnVJXi8Vo7o6qBMpdgcfZB2j9TYnsly5vDf6nig=s64",
      "userId": "03694478629413699942"
     },
     "user_tz": -480
    },
    "id": "ddh1jrY6cd46"
   },
   "outputs": [],
   "source": [
    "index = train_df[train_df['question_context_length']>512].head(3).index[0]"
   ]
  },
  {
   "cell_type": "code",
   "execution_count": 65,
   "metadata": {
    "executionInfo": {
     "elapsed": 70,
     "status": "aborted",
     "timestamp": 1643881551399,
     "user": {
      "displayName": "Nelson L.",
      "photoUrl": "https://lh3.googleusercontent.com/a-/AOh14GipnVJXi8Vo7o6qBMpdgcfZB2j9TYnsly5vDf6nig=s64",
      "userId": "03694478629413699942"
     },
     "user_tz": -480
    },
    "id": "gu_CH5-Pcd46"
   },
   "outputs": [],
   "source": [
    "question = train_df['question'].loc[index]\n",
    "context = train_df['context'].loc[index]"
   ]
  },
  {
   "cell_type": "code",
   "execution_count": 66,
   "metadata": {
    "executionInfo": {
     "elapsed": 71,
     "status": "aborted",
     "timestamp": 1643881551400,
     "user": {
      "displayName": "Nelson L.",
      "photoUrl": "https://lh3.googleusercontent.com/a-/AOh14GipnVJXi8Vo7o6qBMpdgcfZB2j9TYnsly5vDf6nig=s64",
      "userId": "03694478629413699942"
     },
     "user_tz": -480
    },
    "id": "f1KXmpjYcd46"
   },
   "outputs": [
    {
     "data": {
      "text/plain": [
       "568"
      ]
     },
     "execution_count": 66,
     "metadata": {},
     "output_type": "execute_result"
    }
   ],
   "source": [
    "train_df['question_context_length'].loc[index]"
   ]
  },
  {
   "cell_type": "code",
   "execution_count": 67,
   "metadata": {
    "executionInfo": {
     "elapsed": 71,
     "status": "aborted",
     "timestamp": 1643881551400,
     "user": {
      "displayName": "Nelson L.",
      "photoUrl": "https://lh3.googleusercontent.com/a-/AOh14GipnVJXi8Vo7o6qBMpdgcfZB2j9TYnsly5vDf6nig=s64",
      "userId": "03694478629413699942"
     },
     "user_tz": -480
    },
    "id": "C_cgmTSzcd47"
   },
   "outputs": [
    {
     "name": "stderr",
     "output_type": "stream",
     "text": [
      "Token indices sequence length is longer than the specified maximum sequence length for this model (717 > 512). Running this sequence through the model will result in indexing errors\n"
     ]
    }
   ],
   "source": [
    "raw_token  = get_raw_token(question,context)"
   ]
  },
  {
   "cell_type": "code",
   "execution_count": 68,
   "metadata": {
    "executionInfo": {
     "elapsed": 72,
     "status": "aborted",
     "timestamp": 1643881551401,
     "user": {
      "displayName": "Nelson L.",
      "photoUrl": "https://lh3.googleusercontent.com/a-/AOh14GipnVJXi8Vo7o6qBMpdgcfZB2j9TYnsly5vDf6nig=s64",
      "userId": "03694478629413699942"
     },
     "user_tz": -480
    },
    "id": "POEZ0GyEcd47"
   },
   "outputs": [
    {
     "data": {
      "text/plain": [
       "dict_keys(['input_ids', 'token_type_ids', 'attention_mask', 'offset_mapping'])"
      ]
     },
     "execution_count": 68,
     "metadata": {},
     "output_type": "execute_result"
    }
   ],
   "source": [
    "raw_token.keys()"
   ]
  },
  {
   "cell_type": "code",
   "execution_count": 69,
   "metadata": {
    "executionInfo": {
     "elapsed": 73,
     "status": "aborted",
     "timestamp": 1643881551402,
     "user": {
      "displayName": "Nelson L.",
      "photoUrl": "https://lh3.googleusercontent.com/a-/AOh14GipnVJXi8Vo7o6qBMpdgcfZB2j9TYnsly5vDf6nig=s64",
      "userId": "03694478629413699942"
     },
     "user_tz": -480
    },
    "id": "awXxnfQGcd47"
   },
   "outputs": [],
   "source": [
    "def split_long_token(question,context,raw_token,doc_overlap_length = 32):\n",
    "    \n",
    "    first_context_end_pos = raw_token['offset_mapping'][511][1]-1# because of specical token\n",
    "    context_1 = context[:first_context_end_pos]\n",
    "    \n",
    "    sencond_char_start_pos = raw_token['offset_mapping'][511-doc_overlap_length][0]-1\n",
    "    \n",
    "    context_2 = context[sencond_char_start_pos:]\n",
    "    \n",
    "    \n",
    "    inputs_1 = get_token(question,context_1)\n",
    "    \n",
    "    inputs_2 = get_token(question,context_2)\n",
    "\n",
    "        \n",
    "    return inputs_1,inputs_2"
   ]
  },
  {
   "cell_type": "code",
   "execution_count": 70,
   "metadata": {
    "executionInfo": {
     "elapsed": 75,
     "status": "aborted",
     "timestamp": 1643881551403,
     "user": {
      "displayName": "Nelson L.",
      "photoUrl": "https://lh3.googleusercontent.com/a-/AOh14GipnVJXi8Vo7o6qBMpdgcfZB2j9TYnsly5vDf6nig=s64",
      "userId": "03694478629413699942"
     },
     "user_tz": -480
    },
    "id": "S9WFKLFzcd48"
   },
   "outputs": [],
   "source": [
    "token_inputs_1,token_inputs_2 = split_long_token(question,context,raw_token,doc_overlap_length = 32)"
   ]
  },
  {
   "cell_type": "code",
   "execution_count": 71,
   "metadata": {},
   "outputs": [
    {
     "data": {
      "text/plain": [
       "'[CLS] where was wrestling later showcased in north america?[SEP] the mandolin has been used extensively in the traditional music of england and scotland for generations. simon mayor is a prominent british player who has produced six solo albums, instructional books and dvds, as well as recordings with his mandolin quartet the mandolinquents. the instrument has also found its way into british rock music. the mandolin was played by mike oldfield (and introduced by vivian stanshall) on oldfield\\'s album tubular bells, as well as on a number of his subsequent albums (particularly prominently on hergest ridge (1974) and ommadawn (1975)). it was used extensively by the british folk-rock band lindisfarne, who featured two members on the instrument, ray jackson and simon cowe, and whose \"fog on the tyne\" was the biggest selling uk album of 1971-1972. the instrument was also used extensively in the uk folk revival of the 1960s and 1970s with bands such as fairport convention and steeleye span taking it on as the lead instrument in many of their songs. maggie may by rod stewart, which hit no. 1 on both the british charts and the billboard hot 100, also featured jackson\\'s playing. it has also been used by other british rock musicians. led zeppelin\\'s bassist john paul jones is an accomplished mandolin player and has recorded numerous songs on mandolin including going to california and that\\'s the way; the mandolin part on the battle of evermore is played by jimmy page, who composed the song. other led zeppelin songs featuring mandolin are hey hey what can i do, and black country woman. pete townshend of the who played mandolin on the track mike post theme, along with many other tracks on endless wire. mcguinness flint, for whom graham lyle played the mandolin on their most successful single, when i\\'m dead and gone, is another example. lyle was also briefly a member of ronnie lane\\'s slim chance, and played mandolin on their hit how come. one of the more prominent early mandolin players in popular music was robin williamson in the incredible string band. ian anderson of jethro tull is a highly accomplished mandolin player (beautiful track pussy willow), as is his guitarist martin barre. the popular song please please please let me get what i want by the smiths featured a mandolin solo played by johnny marr. more recently, the glasgow-based band sons and daughters featured the mandolin, played by ailidh lennon, on tracks such[SEP]'"
      ]
     },
     "execution_count": 71,
     "metadata": {},
     "output_type": "execute_result"
    }
   ],
   "source": [
    "tokenizer.decode(token_inputs_1['input_ids'])"
   ]
  },
  {
   "cell_type": "code",
   "execution_count": 72,
   "metadata": {},
   "outputs": [
    {
     "data": {
      "text/plain": [
       "'[CLS] where was wrestling later showcased in north america?[SEP] mandolin solo played by johnny marr. more recently, the glasgow-based band sons and daughters featured the mandolin, played by ailidh lennon, on tracks such as fight, start to end, and medicine. british folk-punk icons the levellers also regularly use the mandolin in their songs. current bands are also beginning to use the mandolin and its unique sound - such as south london\\'s indigo moss who use it throughout their recordings and live gigs. the mandolin has also featured in the playing of matthew bellamy in the rock band muse. it also forms the basis of paul mccartney\\'s 2007 hit \"dance tonight.\" that was not the first time a beatle played a mandolin, however; that distinction goes to george harrison on gone troppo, the title cut from the 1982 album of the same name. the mandolin is taught in lanarkshire by the lanarkshire guitar and mandolin association to over 100 people. also more recently hard rock supergroup them crooked vultures have been playing a song based primarily using a mandolin. this song was left off their debut album, and features former led zeppelin bassist john paul jones.[citation needed][SEP]<pad><pad><pad><pad><pad><pad><pad><pad><pad><pad><pad><pad><pad><pad><pad><pad><pad><pad><pad><pad><pad><pad><pad><pad><pad><pad><pad><pad><pad><pad><pad><pad><pad><pad><pad><pad><pad><pad><pad><pad><pad><pad><pad><pad><pad><pad><pad><pad><pad><pad><pad><pad><pad><pad><pad><pad><pad><pad><pad><pad><pad><pad><pad><pad><pad><pad><pad><pad><pad><pad><pad><pad><pad><pad><pad><pad><pad><pad><pad><pad><pad><pad><pad><pad><pad><pad><pad><pad><pad><pad><pad><pad><pad><pad><pad><pad><pad><pad><pad><pad><pad><pad><pad><pad><pad><pad><pad><pad><pad><pad><pad><pad><pad><pad><pad><pad><pad><pad><pad><pad><pad><pad><pad><pad><pad><pad><pad><pad><pad><pad><pad><pad><pad><pad><pad><pad><pad><pad><pad><pad><pad><pad><pad><pad><pad><pad><pad><pad><pad><pad><pad><pad><pad><pad><pad><pad><pad><pad><pad><pad><pad><pad><pad><pad><pad><pad><pad><pad><pad><pad><pad><pad><pad><pad><pad><pad><pad><pad><pad><pad><pad><pad><pad><pad><pad><pad><pad><pad><pad><pad><pad><pad><pad><pad><pad><pad><pad><pad><pad><pad><pad><pad><pad><pad><pad><pad><pad><pad><pad><pad><pad><pad><pad><pad><pad><pad><pad><pad><pad><pad><pad><pad><pad><pad><pad><pad><pad><pad><pad><pad><pad><pad><pad><pad><pad><pad><pad><pad><pad><pad><pad><pad><pad><pad><pad><pad><pad><pad><pad><pad><pad><pad><pad><pad><pad><pad><pad><pad><pad><pad><pad><pad><pad>'"
      ]
     },
     "execution_count": 72,
     "metadata": {},
     "output_type": "execute_result"
    }
   ],
   "source": [
    "tokenizer.decode(token_inputs_2['input_ids'])"
   ]
  },
  {
   "cell_type": "code",
   "execution_count": 73,
   "metadata": {
    "executionInfo": {
     "elapsed": 83,
     "status": "aborted",
     "timestamp": 1643881551412,
     "user": {
      "displayName": "Nelson L.",
      "photoUrl": "https://lh3.googleusercontent.com/a-/AOh14GipnVJXi8Vo7o6qBMpdgcfZB2j9TYnsly5vDf6nig=s64",
      "userId": "03694478629413699942"
     },
     "user_tz": -480
    },
    "id": "lQwAsVgIcd48"
   },
   "outputs": [],
   "source": [
    "def prepare_feature(example):\n",
    "    \n",
    "    context = example['context']\n",
    "    question = example['question']\n",
    "    \n",
    "    # get raw token\n",
    "    raw_token  = get_raw_token(question,context)\n",
    "    \n",
    "    if len(raw_token['input_ids'])<=512:\n",
    "        \n",
    "        token_inputs_1,token_inputs_2 = duplicate_token(question,context)\n",
    "        \n",
    "    else:\n",
    "        token_inputs_1,token_inputs_2 = split_long_token(question,context,raw_token,doc_overlap_length = 32)\n",
    "        \n",
    "    return token_inputs_1,token_inputs_2"
   ]
  },
  {
   "cell_type": "code",
   "execution_count": 74,
   "metadata": {
    "executionInfo": {
     "elapsed": 393,
     "status": "aborted",
     "timestamp": 1643881551726,
     "user": {
      "displayName": "Nelson L.",
      "photoUrl": "https://lh3.googleusercontent.com/a-/AOh14GipnVJXi8Vo7o6qBMpdgcfZB2j9TYnsly5vDf6nig=s64",
      "userId": "03694478629413699942"
     },
     "user_tz": -480
    },
    "id": "xfi3jWxUcd4-"
   },
   "outputs": [],
   "source": [
    "# train_token_pairs_list = train_df.apply(lambda x:prepare_feature(x),axis = 1)\n",
    "\n",
    "# dev_token_pairs_list = dev_df.apply(lambda x:prepare_feature(x),axis = 1)\n",
    "\n",
    "# train_token_pairs_1 = [pair[0] for pair in train_token_pairs_list]\n",
    "# train_token_pairs_1_df  = pd.DataFrame(train_token_pairs_1)\n",
    "\n",
    "# train_token_pairs_2 = [pair[1] for pair in train_token_pairs_list]\n",
    "# train_token_pairs_2_df  = pd.DataFrame(train_token_pairs_2)\n",
    "\n",
    "# dev_token_pairs_1 = [pair[0] for pair in dev_token_pairs_list]\n",
    "# dev_token_pairs_1_df  = pd.DataFrame(dev_token_pairs_1)\n",
    "\n",
    "# dev_token_pairs_2 = [pair[1] for pair in dev_token_pairs_list]\n",
    "# dev_token_pairs_2_df  = pd.DataFrame(dev_token_pairs_2)\n",
    "\n",
    "# train_labels  = train_df['label'].to_list()\n",
    "\n",
    "# dev_labels  = dev_df['label'].to_list()"
   ]
  },
  {
   "cell_type": "code",
   "execution_count": 75,
   "metadata": {
    "executionInfo": {
     "elapsed": 393,
     "status": "aborted",
     "timestamp": 1643881551727,
     "user": {
      "displayName": "Nelson L.",
      "photoUrl": "https://lh3.googleusercontent.com/a-/AOh14GipnVJXi8Vo7o6qBMpdgcfZB2j9TYnsly5vDf6nig=s64",
      "userId": "03694478629413699942"
     },
     "user_tz": -480
    },
    "id": "s93i4cpLcd4_"
   },
   "outputs": [],
   "source": [
    "class LongTextPairDataSet(Dataset):\n",
    "    \n",
    "    def __init__(self,df_pair_1,df_pair_2, label_list,device = \"cpu\"):\n",
    "        self.len = len(df_pair_1)\n",
    "        self.df_pair_1 = df_pair_1\n",
    "        self.df_pair_2 = df_pair_2\n",
    "        self.label_list = label_list\n",
    "        self.device = device\n",
    "    \n",
    "    def __getitem__(self,index):\n",
    "        df_1 = self.df_pair_1.iloc[index]\n",
    "        df_2 = self.df_pair_2.iloc[index]\n",
    "        labels = self.label_list[index]\n",
    "        \n",
    "        if isinstance(df_1,pd.core.series.Series):\n",
    "            pair_dict_1 = df_1.to_dict()\n",
    "            pair_dict_2 = df_2.to_dict()\n",
    "        else:\n",
    "            pair_dict_1 = df_1.to_dict(orient = \"list\")\n",
    "            pair_dict_2 = df_2.to_dict(orient = \"list\")\n",
    "        \n",
    "        inputs_1 = {k:torch.tensor(v).to(self.device) for k,v in pair_dict_1.items()}\n",
    "        \n",
    "        inputs_2 = {k:torch.tensor(v).to(self.device) for k,v in pair_dict_2.items()}\n",
    "\n",
    "        return {\"token_inputs_1\":inputs_1,\"token_inputs_2\":inputs_2,\"labels\":torch.tensor(labels).to(self.device)}\n",
    "\n",
    "    def __len__(self):\n",
    "        return self.len"
   ]
  },
  {
   "cell_type": "code",
   "execution_count": 76,
   "metadata": {},
   "outputs": [],
   "source": [
    "import pickle\n",
    "def save_object(obj,save_path):\n",
    "    with open(save_path,mode='wb') as f:\n",
    "        pickle.dump(obj,f,protocol = pickle.HIGHEST_PROTOCOL)\n",
    "        \n",
    "        \n",
    "def open_object(file_name):\n",
    "    with open(file_name,mode = 'rb') as f:\n",
    "        return pickle.load(f)"
   ]
  },
  {
   "cell_type": "code",
   "execution_count": 77,
   "metadata": {},
   "outputs": [],
   "source": [
    "# train_long_text_pair_dataset = LongTextPairDataSet(train_token_pairs_1_df,train_token_pairs_2_df,train_labels,'cuda')\n",
    "\n",
    "# save_object(train_long_text_pair_dataset,\"./data/train_long_text_pair_dataset.pkl\")"
   ]
  },
  {
   "cell_type": "code",
   "execution_count": 78,
   "metadata": {},
   "outputs": [],
   "source": [
    "train_long_text_pair_dataset = open_object(\"./data/train_long_text_pair_dataset.pkl\")"
   ]
  },
  {
   "cell_type": "code",
   "execution_count": 79,
   "metadata": {},
   "outputs": [],
   "source": [
    "# train_long_text_pair_dataset_test[:10]"
   ]
  },
  {
   "cell_type": "code",
   "execution_count": 80,
   "metadata": {},
   "outputs": [],
   "source": [
    "# dev_long_text_pair_dataset = LongTextPairDataSet(dev_token_pairs_1_df,dev_token_pairs_2_df,dev_labels,'cuda')\n",
    "\n",
    "# save_object(dev_long_text_pair_dataset,\"./data/dev_long_text_pair_dataset.pkl\")"
   ]
  },
  {
   "cell_type": "code",
   "execution_count": 81,
   "metadata": {},
   "outputs": [],
   "source": [
    "dev_long_text_pair_dataset = open_object(\"./data/dev_long_text_pair_dataset.pkl\")"
   ]
  },
  {
   "cell_type": "code",
   "execution_count": 82,
   "metadata": {
    "executionInfo": {
     "elapsed": 395,
     "status": "aborted",
     "timestamp": 1643881551730,
     "user": {
      "displayName": "Nelson L.",
      "photoUrl": "https://lh3.googleusercontent.com/a-/AOh14GipnVJXi8Vo7o6qBMpdgcfZB2j9TYnsly5vDf6nig=s64",
      "userId": "03694478629413699942"
     },
     "user_tz": -480
    },
    "id": "8HaptSX3iBMp"
   },
   "outputs": [],
   "source": [
    "batch_size = 8"
   ]
  },
  {
   "cell_type": "code",
   "execution_count": 83,
   "metadata": {},
   "outputs": [
    {
     "data": {
      "text/plain": [
       "1251"
      ]
     },
     "execution_count": 83,
     "metadata": {},
     "output_type": "execute_result"
    }
   ],
   "source": [
    "len(train_long_text_pair_dataset)//batch_size"
   ]
  },
  {
   "cell_type": "code",
   "execution_count": 84,
   "metadata": {
    "executionInfo": {
     "elapsed": 395,
     "status": "aborted",
     "timestamp": 1643881551731,
     "user": {
      "displayName": "Nelson L.",
      "photoUrl": "https://lh3.googleusercontent.com/a-/AOh14GipnVJXi8Vo7o6qBMpdgcfZB2j9TYnsly5vDf6nig=s64",
      "userId": "03694478629413699942"
     },
     "user_tz": -480
    },
    "id": "i5hJECQzgSgI"
   },
   "outputs": [],
   "source": [
    "train_loader = DataLoader(train_long_text_pair_dataset,batch_size)\n",
    "dev_loader = DataLoader(dev_long_text_pair_dataset,batch_size)"
   ]
  },
  {
   "cell_type": "code",
   "execution_count": 85,
   "metadata": {
    "executionInfo": {
     "elapsed": 396,
     "status": "aborted",
     "timestamp": 1643881551732,
     "user": {
      "displayName": "Nelson L.",
      "photoUrl": "https://lh3.googleusercontent.com/a-/AOh14GipnVJXi8Vo7o6qBMpdgcfZB2j9TYnsly5vDf6nig=s64",
      "userId": "03694478629413699942"
     },
     "user_tz": -480
    },
    "id": "6wypVnpTiG3R"
   },
   "outputs": [
    {
     "data": {
      "text/plain": [
       "1251"
      ]
     },
     "execution_count": 85,
     "metadata": {},
     "output_type": "execute_result"
    }
   ],
   "source": [
    "len(train_long_text_pair_dataset)//batch_size"
   ]
  },
  {
   "cell_type": "markdown",
   "metadata": {
    "id": "0tN-yCsvezSL"
   },
   "source": [
    "# 3) Fine Tune Twin-Albert for long text pair classification"
   ]
  },
  {
   "cell_type": "code",
   "execution_count": 86,
   "metadata": {
    "executionInfo": {
     "elapsed": 397,
     "status": "aborted",
     "timestamp": 1643881551733,
     "user": {
      "displayName": "Nelson L.",
      "photoUrl": "https://lh3.googleusercontent.com/a-/AOh14GipnVJXi8Vo7o6qBMpdgcfZB2j9TYnsly5vDf6nig=s64",
      "userId": "03694478629413699942"
     },
     "user_tz": -480
    },
    "id": "7EJDNBDIcd5A"
   },
   "outputs": [],
   "source": [
    "from transformers import AlbertModel"
   ]
  },
  {
   "cell_type": "code",
   "execution_count": 87,
   "metadata": {
    "executionInfo": {
     "elapsed": 398,
     "status": "aborted",
     "timestamp": 1643881551734,
     "user": {
      "displayName": "Nelson L.",
      "photoUrl": "https://lh3.googleusercontent.com/a-/AOh14GipnVJXi8Vo7o6qBMpdgcfZB2j9TYnsly5vDf6nig=s64",
      "userId": "03694478629413699942"
     },
     "user_tz": -480
    },
    "id": "OVySIN5csC5i"
   },
   "outputs": [],
   "source": [
    "from transformers.modeling_outputs import SequenceClassifierOutput"
   ]
  },
  {
   "cell_type": "code",
   "execution_count": 88,
   "metadata": {
    "executionInfo": {
     "elapsed": 398,
     "status": "aborted",
     "timestamp": 1643881551735,
     "user": {
      "displayName": "Nelson L.",
      "photoUrl": "https://lh3.googleusercontent.com/a-/AOh14GipnVJXi8Vo7o6qBMpdgcfZB2j9TYnsly5vDf6nig=s64",
      "userId": "03694478629413699942"
     },
     "user_tz": -480
    },
    "id": "G-ZjNF8bcd5A"
   },
   "outputs": [],
   "source": [
    "class TwinAlBerts(torch.nn.Module):\n",
    "    def __init__(self,model_config):\n",
    "        \n",
    "        super(TwinAlBerts,self).__init__()\n",
    "        \n",
    "        self.albert_layer_1 = AlbertModel.from_pretrained(model_config.model_name)\n",
    "        self.albert_layer_2 = AlbertModel.from_pretrained(model_config.model_name)\n",
    "        \n",
    "        self.pre_classifier = torch.nn.Linear(768*2,768)\n",
    "        \n",
    "        self.dropout = torch.nn.Dropout(0.3)\n",
    "        \n",
    "        self.classifer = torch.nn.Linear(768,model_config.num_class)\n",
    "\n",
    "        self.loss_fct = torch.nn.CrossEntropyLoss()\n",
    "\n",
    "    def forward(self,token_inputs_1,token_inputs_2,labels=None):\n",
    "\n",
    "        albert_outputs_1 = self.albert_layer_1(**token_inputs_1)\n",
    "        albert_outputs_2 = self.albert_layer_2(**token_inputs_2)\n",
    "        \n",
    "        pooler_output_1 = albert_outputs_1.pooler_output\n",
    "\n",
    "        pooler_output_2 = albert_outputs_2.pooler_output\n",
    "        \n",
    "        \n",
    "        concat_pooler = torch.cat([pooler_output_1,pooler_output_2],axis = 1)\n",
    "        \n",
    "        concat_pooler = self.pre_classifier(concat_pooler)\n",
    "        \n",
    "        concat_pooler = self.dropout(concat_pooler)\n",
    "        \n",
    "        logits = self.classifer(concat_pooler)\n",
    "        \n",
    "        loss = None\n",
    "        if labels is not None:\n",
    "            loss = self.loss_fct(logits,labels)\n",
    "                    \n",
    "        return SequenceClassifierOutput(\n",
    "            loss=loss,\n",
    "            logits=logits,\n",
    "            hidden_states=None,\n",
    "            attentions=None,\n",
    "        )"
   ]
  },
  {
   "cell_type": "code",
   "execution_count": 89,
   "metadata": {
    "executionInfo": {
     "elapsed": 399,
     "status": "aborted",
     "timestamp": 1643881551736,
     "user": {
      "displayName": "Nelson L.",
      "photoUrl": "https://lh3.googleusercontent.com/a-/AOh14GipnVJXi8Vo7o6qBMpdgcfZB2j9TYnsly5vDf6nig=s64",
      "userId": "03694478629413699942"
     },
     "user_tz": -480
    },
    "id": "4mrbeCFbcd5B"
   },
   "outputs": [],
   "source": [
    "class model_config():\n",
    "    model_name = 'albert-base-v2'\n",
    "    num_class = 2"
   ]
  },
  {
   "cell_type": "code",
   "execution_count": 90,
   "metadata": {
    "executionInfo": {
     "elapsed": 400,
     "status": "aborted",
     "timestamp": 1643881551737,
     "user": {
      "displayName": "Nelson L.",
      "photoUrl": "https://lh3.googleusercontent.com/a-/AOh14GipnVJXi8Vo7o6qBMpdgcfZB2j9TYnsly5vDf6nig=s64",
      "userId": "03694478629413699942"
     },
     "user_tz": -480
    },
    "id": "HIdVuMCBcd5B"
   },
   "outputs": [
    {
     "name": "stderr",
     "output_type": "stream",
     "text": [
      "Some weights of the model checkpoint at albert-base-v2 were not used when initializing AlbertModel: ['predictions.dense.weight', 'predictions.dense.bias', 'predictions.decoder.weight', 'predictions.decoder.bias', 'predictions.LayerNorm.bias', 'predictions.bias', 'predictions.LayerNorm.weight']\n",
      "- This IS expected if you are initializing AlbertModel from the checkpoint of a model trained on another task or with another architecture (e.g. initializing a BertForSequenceClassification model from a BertForPreTraining model).\n",
      "- This IS NOT expected if you are initializing AlbertModel from the checkpoint of a model that you expect to be exactly identical (initializing a BertForSequenceClassification model from a BertForSequenceClassification model).\n",
      "Some weights of the model checkpoint at albert-base-v2 were not used when initializing AlbertModel: ['predictions.dense.weight', 'predictions.dense.bias', 'predictions.decoder.weight', 'predictions.decoder.bias', 'predictions.LayerNorm.bias', 'predictions.bias', 'predictions.LayerNorm.weight']\n",
      "- This IS expected if you are initializing AlbertModel from the checkpoint of a model trained on another task or with another architecture (e.g. initializing a BertForSequenceClassification model from a BertForPreTraining model).\n",
      "- This IS NOT expected if you are initializing AlbertModel from the checkpoint of a model that you expect to be exactly identical (initializing a BertForSequenceClassification model from a BertForSequenceClassification model).\n"
     ]
    }
   ],
   "source": [
    "model = TwinAlBerts(model_config)"
   ]
  },
  {
   "cell_type": "code",
   "execution_count": 91,
   "metadata": {
    "executionInfo": {
     "elapsed": 400,
     "status": "aborted",
     "timestamp": 1643881551738,
     "user": {
      "displayName": "Nelson L.",
      "photoUrl": "https://lh3.googleusercontent.com/a-/AOh14GipnVJXi8Vo7o6qBMpdgcfZB2j9TYnsly5vDf6nig=s64",
      "userId": "03694478629413699942"
     },
     "user_tz": -480
    },
    "id": "kjDqiSBxoZa5"
   },
   "outputs": [],
   "source": [
    "_ =  model.to(device)"
   ]
  },
  {
   "cell_type": "code",
   "execution_count": 92,
   "metadata": {},
   "outputs": [
    {
     "data": {
      "text/plain": [
       "1251"
      ]
     },
     "execution_count": 92,
     "metadata": {},
     "output_type": "execute_result"
    }
   ],
   "source": [
    "len(train_long_text_pair_dataset)//batch_size"
   ]
  },
  {
   "cell_type": "code",
   "execution_count": 110,
   "metadata": {
    "executionInfo": {
     "elapsed": 401,
     "status": "aborted",
     "timestamp": 1643881551739,
     "user": {
      "displayName": "Nelson L.",
      "photoUrl": "https://lh3.googleusercontent.com/a-/AOh14GipnVJXi8Vo7o6qBMpdgcfZB2j9TYnsly5vDf6nig=s64",
      "userId": "03694478629413699942"
     },
     "user_tz": -480
    },
    "id": "ToYWSCpscd5C"
   },
   "outputs": [],
   "source": [
    "learning_rate = 2e-05\n",
    "epoches = 2\n",
    "train_evaluate_step = 500\n",
    "dev_evaluate_step = 500"
   ]
  },
  {
   "cell_type": "code",
   "execution_count": 111,
   "metadata": {
    "executionInfo": {
     "elapsed": 401,
     "status": "aborted",
     "timestamp": 1643881551740,
     "user": {
      "displayName": "Nelson L.",
      "photoUrl": "https://lh3.googleusercontent.com/a-/AOh14GipnVJXi8Vo7o6qBMpdgcfZB2j9TYnsly5vDf6nig=s64",
      "userId": "03694478629413699942"
     },
     "user_tz": -480
    },
    "id": "3QiRT3wBcd5C"
   },
   "outputs": [],
   "source": [
    "loss_function = torch.nn.CrossEntropyLoss()\n",
    "optimizer = torch.optim.AdamW(params = model.parameters(),lr = learning_rate )"
   ]
  },
  {
   "cell_type": "code",
   "execution_count": 112,
   "metadata": {},
   "outputs": [
    {
     "data": {
      "text/plain": [
       "'test'"
      ]
     },
     "execution_count": 112,
     "metadata": {},
     "output_type": "execute_result"
    }
   ],
   "source": [
    "\"\"\"test\"\"\""
   ]
  },
  {
   "cell_type": "code",
   "execution_count": 113,
   "metadata": {
    "executionInfo": {
     "elapsed": 403,
     "status": "aborted",
     "timestamp": 1643881551742,
     "user": {
      "displayName": "Nelson L.",
      "photoUrl": "https://lh3.googleusercontent.com/a-/AOh14GipnVJXi8Vo7o6qBMpdgcfZB2j9TYnsly5vDf6nig=s64",
      "userId": "03694478629413699942"
     },
     "user_tz": -480
    },
    "id": "s30_5DEXs3PC"
   },
   "outputs": [],
   "source": [
    "for inputs in train_loader:\n",
    "    with torch.no_grad():\n",
    "        outputs = model(**inputs)\n",
    "    break"
   ]
  },
  {
   "cell_type": "code",
   "execution_count": 114,
   "metadata": {
    "executionInfo": {
     "elapsed": 404,
     "status": "aborted",
     "timestamp": 1643881551743,
     "user": {
      "displayName": "Nelson L.",
      "photoUrl": "https://lh3.googleusercontent.com/a-/AOh14GipnVJXi8Vo7o6qBMpdgcfZB2j9TYnsly5vDf6nig=s64",
      "userId": "03694478629413699942"
     },
     "user_tz": -480
    },
    "id": "JbIhqETAx6wq"
   },
   "outputs": [
    {
     "data": {
      "text/plain": [
       "array([0, 1, 0, 1, 1, 0, 0, 1])"
      ]
     },
     "execution_count": 114,
     "metadata": {},
     "output_type": "execute_result"
    }
   ],
   "source": [
    "inputs['labels'].detach().cpu().numpy()"
   ]
  },
  {
   "cell_type": "code",
   "execution_count": 115,
   "metadata": {
    "executionInfo": {
     "elapsed": 44,
     "status": "aborted",
     "timestamp": 1643881551747,
     "user": {
      "displayName": "Nelson L.",
      "photoUrl": "https://lh3.googleusercontent.com/a-/AOh14GipnVJXi8Vo7o6qBMpdgcfZB2j9TYnsly5vDf6nig=s64",
      "userId": "03694478629413699942"
     },
     "user_tz": -480
    },
    "id": "dUFNZMtywzRa"
   },
   "outputs": [
    {
     "data": {
      "text/plain": [
       "tensor([[ 2.7387, -2.0829],\n",
       "        [-2.6721,  2.1786],\n",
       "        [ 2.6080, -2.5522],\n",
       "        [-2.7392,  3.1546],\n",
       "        [-2.8947,  3.0523],\n",
       "        [ 2.5939, -1.8248],\n",
       "        [ 2.2283, -2.2588],\n",
       "        [-3.1693,  3.7005]], device='cuda:0')"
      ]
     },
     "execution_count": 115,
     "metadata": {},
     "output_type": "execute_result"
    }
   ],
   "source": [
    "outputs.logits"
   ]
  },
  {
   "cell_type": "code",
   "execution_count": 116,
   "metadata": {
    "executionInfo": {
     "elapsed": 45,
     "status": "aborted",
     "timestamp": 1643881551748,
     "user": {
      "displayName": "Nelson L.",
      "photoUrl": "https://lh3.googleusercontent.com/a-/AOh14GipnVJXi8Vo7o6qBMpdgcfZB2j9TYnsly5vDf6nig=s64",
      "userId": "03694478629413699942"
     },
     "user_tz": -480
    },
    "id": "EIG0Mypkxpfx"
   },
   "outputs": [
    {
     "data": {
      "text/plain": [
       "0.00638848589733243"
      ]
     },
     "execution_count": 116,
     "metadata": {},
     "output_type": "execute_result"
    }
   ],
   "source": [
    "outputs.loss.item()"
   ]
  },
  {
   "cell_type": "code",
   "execution_count": 117,
   "metadata": {
    "executionInfo": {
     "elapsed": 61,
     "status": "aborted",
     "timestamp": 1643881551765,
     "user": {
      "displayName": "Nelson L.",
      "photoUrl": "https://lh3.googleusercontent.com/a-/AOh14GipnVJXi8Vo7o6qBMpdgcfZB2j9TYnsly5vDf6nig=s64",
      "userId": "03694478629413699942"
     },
     "user_tz": -480
    },
    "id": "n3VzsayoyQPD"
   },
   "outputs": [
    {
     "data": {
      "text/plain": [
       "array([0, 1, 0, 1, 1, 0, 0, 1])"
      ]
     },
     "execution_count": 117,
     "metadata": {},
     "output_type": "execute_result"
    }
   ],
   "source": [
    "torch.argmax(outputs.logits,1).detach().cpu().numpy()"
   ]
  },
  {
   "cell_type": "code",
   "execution_count": 118,
   "metadata": {
    "executionInfo": {
     "elapsed": 62,
     "status": "aborted",
     "timestamp": 1643881551766,
     "user": {
      "displayName": "Nelson L.",
      "photoUrl": "https://lh3.googleusercontent.com/a-/AOh14GipnVJXi8Vo7o6qBMpdgcfZB2j9TYnsly5vDf6nig=s64",
      "userId": "03694478629413699942"
     },
     "user_tz": -480
    },
    "id": "3O3GTcFpyM8i"
   },
   "outputs": [
    {
     "data": {
      "text/plain": [
       "tensor([0, 1, 0, 1, 1, 0, 0, 1])"
      ]
     },
     "execution_count": 118,
     "metadata": {},
     "output_type": "execute_result"
    }
   ],
   "source": [
    "torch.max(outputs.logits,1)[1].cpu()"
   ]
  },
  {
   "cell_type": "code",
   "execution_count": 119,
   "metadata": {
    "executionInfo": {
     "elapsed": 63,
     "status": "aborted",
     "timestamp": 1643881551767,
     "user": {
      "displayName": "Nelson L.",
      "photoUrl": "https://lh3.googleusercontent.com/a-/AOh14GipnVJXi8Vo7o6qBMpdgcfZB2j9TYnsly5vDf6nig=s64",
      "userId": "03694478629413699942"
     },
     "user_tz": -480
    },
    "id": "NmqirZwKtM5q"
   },
   "outputs": [],
   "source": [
    "model_save_dir = \"./twin-albert-base/\" # data folder"
   ]
  },
  {
   "cell_type": "code",
   "execution_count": 120,
   "metadata": {
    "executionInfo": {
     "elapsed": 63,
     "status": "aborted",
     "timestamp": 1643881551768,
     "user": {
      "displayName": "Nelson L.",
      "photoUrl": "https://lh3.googleusercontent.com/a-/AOh14GipnVJXi8Vo7o6qBMpdgcfZB2j9TYnsly5vDf6nig=s64",
      "userId": "03694478629413699942"
     },
     "user_tz": -480
    },
    "id": "Pw5lVy1qt0Sq"
   },
   "outputs": [
    {
     "data": {
      "text/plain": [
       "['checkpoint-800',\n",
       " 'checkpoint-2400',\n",
       " 'checkpoint-400',\n",
       " 'checkpoint-1600',\n",
       " 'checkpoint-1200',\n",
       " 'checkpoint-2000']"
      ]
     },
     "execution_count": 120,
     "metadata": {},
     "output_type": "execute_result"
    }
   ],
   "source": [
    "os.listdir(model_save_dir)"
   ]
  },
  {
   "cell_type": "code",
   "execution_count": 121,
   "metadata": {
    "executionInfo": {
     "elapsed": 69,
     "status": "aborted",
     "timestamp": 1643881551776,
     "user": {
      "displayName": "Nelson L.",
      "photoUrl": "https://lh3.googleusercontent.com/a-/AOh14GipnVJXi8Vo7o6qBMpdgcfZB2j9TYnsly5vDf6nig=s64",
      "userId": "03694478629413699942"
     },
     "user_tz": -480
    },
    "id": "HQp2DUy4xJ0b"
   },
   "outputs": [],
   "source": [
    "from tqdm import tqdm"
   ]
  },
  {
   "cell_type": "code",
   "execution_count": 122,
   "metadata": {},
   "outputs": [],
   "source": [
    "def save_model(model,tokenizer, model_save_dir,step,train_state):\n",
    "    model_save_dir = os.path.join(model_save_dir,f\"checkpoint-{step}\")\n",
    "    model_name = \"pytorch_model.bin\"\n",
    "    train_state_name = \"train_state.txt\"\n",
    "    try:\n",
    "        os.mkdir(model_save_dir)\n",
    "    except FileExistsError:\n",
    "        pass\n",
    "    \n",
    "    model_path = os.path.join(model_save_dir,model_name)\n",
    "    train_state_path = os.path.join(model_save_dir,train_state_name)\n",
    "\n",
    "    torch.save(model,model_path)\n",
    "    tokenizer.save_pretrained(model_save_dir)\n",
    "    \n",
    "    if train_state is not None:\n",
    "        with open(train_state_path,mode = 'w',encoding = 'utf-8-sig') as f:\n",
    "            f.write(train_state)\n",
    "    \n",
    "    "
   ]
  },
  {
   "cell_type": "code",
   "execution_count": 123,
   "metadata": {},
   "outputs": [],
   "source": [
    "def evaluate_full_metrics(model,dataset_loader):\n",
    "\n",
    "    model.eval()\n",
    "\n",
    "    loss_list = []\n",
    "    labels_list = []\n",
    "    pred_list = []\n",
    "    prob_list = []\n",
    "\n",
    "    pbar = tqdm(total = len(dataset_loader),desc = \"Model Evaluate\",position=0, leave=True)\n",
    "\n",
    "\n",
    "    for inputs in dataset_loader:\n",
    "\n",
    "        with torch.no_grad():\n",
    "            outputs = model(**inputs)\n",
    "        \n",
    "            loss = outputs.loss.item()\n",
    "            loss_list.append(loss)\n",
    "            \n",
    "            labels  = inputs['labels'].detach().cpu().numpy()\n",
    "            labels_list.extend(labels)\n",
    "\n",
    "            pred = torch.argmax(outputs.logits,1).detach().cpu().numpy()\n",
    "            pred_list.extend(pred)\n",
    "            \n",
    "            probs = torch.sigmoid(outputs.logits)\n",
    "            prob = probs[:,1]\n",
    "            prob = prob.detach().cpu().numpy()\n",
    "            prob_list.extend(prob)\n",
    "\n",
    "            pbar.update(1)\n",
    "\n",
    "    pbar.close()\n",
    "\n",
    "\n",
    "    accuracy = metrics.accuracy_score(labels_list,pred_list)\n",
    "    recall = metrics.recall_score(labels_list,pred_list)\n",
    "    precision = metrics.precision_score(labels_list,pred_list)\n",
    "    f1 = metrics.f1_score(labels_list,pred_list)\n",
    "    fpr,tpr, threshold = metrics.roc_curve(labels_list,prob_list,pos_label=1)\n",
    "\n",
    "    auc = metrics.auc(fpr,tpr)\n",
    "    loss = np.mean(loss_list)\n",
    "    \n",
    "    result = {\"accuracy\":accuracy, \"recall\":recall, \"precision\":precision, \"recall\":recall, \"f1\":f1,'auc':auc,'loss':loss} \n",
    "\n",
    "    return result"
   ]
  },
  {
   "cell_type": "code",
   "execution_count": 124,
   "metadata": {
    "executionInfo": {
     "elapsed": 74,
     "status": "aborted",
     "timestamp": 1643881551783,
     "user": {
      "displayName": "Nelson L.",
      "photoUrl": "https://lh3.googleusercontent.com/a-/AOh14GipnVJXi8Vo7o6qBMpdgcfZB2j9TYnsly5vDf6nig=s64",
      "userId": "03694478629413699942"
     },
     "user_tz": -480
    },
    "id": "PMh5VJd2qv4S",
    "tags": []
   },
   "outputs": [],
   "source": [
    "def train():\n",
    "    total_batch = 0\n",
    "    model.train()\n",
    "    \n",
    "    total_pbar = tqdm(total = len(train_loader)*epoches,desc = \"Model Training\",position=0, leave=True)\n",
    "    \n",
    "    for epoch in range(epoches):\n",
    "\n",
    "        for inputs in train_loader:\n",
    "            outputs = model(**inputs)\n",
    "            optimizer.zero_grad()\n",
    "            loss = outputs.loss\n",
    "            loss.backward()\n",
    "            optimizer.step()\n",
    "\n",
    "            if (total_batch+1) % dev_evaluate_step ==0:\n",
    "                metrics = evaluate_full_metrics(model,dev_loader)\n",
    "                train_state = str(metrics)\n",
    "                print(train_state) \n",
    "                save_model(model,tokenizer,model_save_dir,total_batch+1,train_state)\n",
    "                model.train()\n",
    "            \n",
    "            total_batch +=1\n",
    "            total_pbar.update(1)\n",
    "        \n",
    "    total_pbar.close()"
   ]
  },
  {
   "cell_type": "code",
   "execution_count": 125,
   "metadata": {
    "executionInfo": {
     "elapsed": 75,
     "status": "aborted",
     "timestamp": 1643881551784,
     "user": {
      "displayName": "Nelson L.",
      "photoUrl": "https://lh3.googleusercontent.com/a-/AOh14GipnVJXi8Vo7o6qBMpdgcfZB2j9TYnsly5vDf6nig=s64",
      "userId": "03694478629413699942"
     },
     "user_tz": -480
    },
    "id": "FDclf2X766VM"
   },
   "outputs": [
    {
     "name": "stderr",
     "output_type": "stream",
     "text": [
      "Model Evaluate: 100%|██████████| 1252/1252 [02:47<00:00,  7.47it/s]\n"
     ]
    },
    {
     "name": "stdout",
     "output_type": "stream",
     "text": [
      "{'accuracy': 0.9494707409626523, 'recall': 0.9030193961207759, 'precision': 0.9953713907868635, 'f1': 0.9469490459215768, 'auc': 0.988254174419455, 'loss': 0.16381210512511385}\n"
     ]
    },
    {
     "name": "stderr",
     "output_type": "stream",
     "text": [
      "Model Evaluate: 100%|██████████| 1252/1252 [02:47<00:00,  7.46it/s]  \n"
     ]
    },
    {
     "name": "stdout",
     "output_type": "stream",
     "text": [
      "{'accuracy': 0.981925304573597, 'recall': 0.993001399720056, 'precision': 0.9714397496087637, 'f1': 0.9821022446356176, 'auc': 0.9980118079715397, 'loss': 0.0739072480662235}\n"
     ]
    },
    {
     "name": "stderr",
     "output_type": "stream",
     "text": [
      "Model Evaluate: 100%|██████████| 1252/1252 [02:47<00:00,  7.46it/s]   \n"
     ]
    },
    {
     "name": "stdout",
     "output_type": "stream",
     "text": [
      "{'accuracy': 0.9833233473137607, 'recall': 0.9938012397520496, 'precision': 0.9733646690168429, 'f1': 0.9834767982586325, 'auc': 0.9989856407334133, 'loss': 0.05458383240324918}\n"
     ]
    },
    {
     "name": "stderr",
     "output_type": "stream",
     "text": [
      "Model Evaluate: 100%|██████████| 1252/1252 [02:47<00:00,  7.46it/s]   \n"
     ]
    },
    {
     "name": "stdout",
     "output_type": "stream",
     "text": [
      "{'accuracy': 0.9914120231675654, 'recall': 0.9902019596080783, 'precision': 0.9925836841050311, 'f1': 0.9913913913913914, 'auc': 0.9995031514343452, 'loss': 0.02775414964522067}\n"
     ]
    },
    {
     "name": "stderr",
     "output_type": "stream",
     "text": [
      "Model Evaluate: 100%|██████████| 1252/1252 [02:47<00:00,  7.46it/s]  \n"
     ]
    },
    {
     "name": "stdout",
     "output_type": "stream",
     "text": [
      "{'accuracy': 0.9899141202316757, 'recall': 0.9932013597280543, 'precision': 0.9866905045689313, 'f1': 0.9899352267065271, 'auc': 0.9992751499570423, 'loss': 0.034879945902131164}\n"
     ]
    },
    {
     "name": "stderr",
     "output_type": "stream",
     "text": [
      "Model Training: 100%|██████████| 2504/2504 [28:31<00:00,  1.46it/s]\n"
     ]
    }
   ],
   "source": [
    "train()"
   ]
  },
  {
   "cell_type": "code",
   "execution_count": null,
   "metadata": {},
   "outputs": [],
   "source": [
    "\n",
    "\n",
    "\n"
   ]
  },
  {
   "cell_type": "code",
   "execution_count": null,
   "metadata": {},
   "outputs": [],
   "source": []
  }
 ],
 "metadata": {
  "accelerator": "GPU",
  "colab": {
   "collapsed_sections": [],
   "name": "SQUAD - Fine Tuned Twin-AlBerts For Long Text Pair Classification.ipynb",
   "provenance": [
    {
     "file_id": "https://github.com/huggingface/notebooks/blob/master/examples/question_answering.ipynb",
     "timestamp": 1640747938302
    }
   ],
   "toc_visible": true
  },
  "kernelspec": {
   "display_name": "Python 3",
   "language": "python",
   "name": "python3"
  },
  "language_info": {
   "codemirror_mode": {
    "name": "ipython",
    "version": 3
   },
   "file_extension": ".py",
   "mimetype": "text/x-python",
   "name": "python",
   "nbconvert_exporter": "python",
   "pygments_lexer": "ipython3",
   "version": "3.6.9"
  }
 },
 "nbformat": 4,
 "nbformat_minor": 4
}
